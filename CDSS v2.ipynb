{
 "cells": [
  {
   "cell_type": "markdown",
   "metadata": {},
   "source": [
    "Please press the *Restart kernel* (fast forward sign) button until the user interface shows up at the bottom. "
   ]
  },
  {
   "cell_type": "code",
   "execution_count": 1,
   "metadata": {},
   "outputs": [
    {
     "data": {
      "text/html": [
       "<style>\n",
       "div.input {\n",
       "    display:none;\n",
       "}\n",
       "</style>"
      ],
      "text/plain": [
       "<IPython.core.display.HTML object>"
      ]
     },
     "metadata": {},
     "output_type": "display_data"
    }
   ],
   "source": [
    "%%html\n",
    "<style>\n",
    "div.input {\n",
    "    display:none;\n",
    "}\n",
    "</style>"
   ]
  },
  {
   "cell_type": "code",
   "execution_count": 2,
   "metadata": {
    "extensions": {
     "jupyter_dashboards": {
      "version": 1,
      "views": {
       "grid_default": {},
       "report_default": {}
      }
     }
    }
   },
   "outputs": [],
   "source": [
    "import math\n",
    "import numpy as np\n",
    "def knowledge_base(parameters, procedure):\n",
    "    \"\"\"\n",
    "    Contains all cutoff values, compares the patient's values to the cut-off \n",
    "    values and then uses Boolean statements to indicate whether a patient has a\n",
    "    certain pathology or not. \n",
    "    \"\"\"\n",
    "    # {key: [co_val, '>', [LB,UB]]} # LB/UB in fractions\n",
    "    bnd = [1/1.1,1/0.9] #standard boundaries\n",
    "    pathologies=[] #master dictionary, contains all cutoff values, is adjusted based on which procedure is followed\n",
    "    pathologies.append({'Rotem_CT_Intem'  : [240,'>=',bnd], #Deficiencies in plasmatic coagulation factors\n",
    "                      'Rotem_CT_Extem'  : [90,'>=',bnd],\n",
    "                      'APTT'            : [50,'>=',bnd],\t\n",
    "                      'APTT_Heparinase' : [50,'>=',bnd],\n",
    "                      'PT'              : [22,'>=',bnd],\n",
    "                      'PT_Heparinase'   : [22,'>=',bnd],\t\n",
    "                      'Rotem_CT_Heptem' : [280,'>=',bnd]\n",
    "                      })\n",
    "    pathologies.append({'Fibrinogen'  : [1.5, '<=',bnd], #Lowered fibrinogen levels\n",
    "                      ('Rotem_A10_Extem','Rotem_A10_Fibtem')  : [40, '<=',bnd,8, '<=',bnd]\n",
    "                      })\n",
    "    pathologies.append({('Rotem_CT_Intem','Rotem_CT_Heptem') : [240,'>=',bnd,240,'<=',bnd],  #Patient is heparinased\n",
    "                      'CThep/CTin'      : [0.8, '<=',bnd]\n",
    "                      })\n",
    "    pathologies.append({'Thrombocytes' : [100, '<=',bnd], #Thrombocyte disorder\n",
    "                      ('Rotem_A10_Heptem','Rotem_A10_Fibtem') : [30, '<=',bnd, 9,'>=',bnd],\n",
    "                      'MEA_TRAP'    : [50, '<=',[1/1.2,1/0.8]],\n",
    "                      'MEA_ADP'     : [40, '<=',[1/1.2,1/0.8]],\n",
    "                      ('Rotem_A10_Extem','Rotem_A10_Fibtem')  : [40, '<=',bnd, 10, '>=',bnd],\n",
    "                      })\n",
    "    \n",
    "    consult = {1 : 'Consider 1x5E platelet concentrate',\n",
    "               2 : '1x5E platelet concentrate',\n",
    "               3 : 'Consider fibrinogen',\n",
    "               4 : '2-4 g fibrinogen',\n",
    "               5 : '2-4 g fibrinogen or 10-15 ml/kg plasma',\n",
    "               6 : '2 g fibrinogen',\n",
    "               7 : '4 g fibrinogen',\n",
    "               8 : '50 mg protamine',\n",
    "               9 : '25 mg protamine',\n",
    "               10: '0.3 mg/kg protamine',\n",
    "               11: 'Consider plasma or Beriplex',\n",
    "               12: '10-15 ml/kg plasma or 20-30 u/kg Beriplex' \n",
    "               }\n",
    "    \n",
    "    #Make adjustments to the master dictionary\n",
    "    if procedure[0] == 'CTC/IORT':\n",
    "        del pathologies[0]['Rotem_CT_Intem']\n",
    "        if procedure[1] == 'intra':\n",
    "            pathologies[0] = {}\n",
    "            pathologies[1] = {'Fibrinogen'  : [0.8, '<=',bnd],\n",
    "                              'Rotem_A10_Fibtem'     : [5, '<=',bnd]}\n",
    "            pathologies[2] = {}    \n",
    "            #del pathologies[3]['MEA_ADP']\n",
    "            del pathologies[3][('Rotem_A10_Extem','Rotem_A10_Fibtem') ]\n",
    "        elif procedure[1] == 'post' or procedure[1] == 'IC':\n",
    "            del pathologies[3][('Rotem_A10_Heptem','Rotem_A10_Fibtem')]\n",
    "        elif procedure[1] == 'IORT':\n",
    "            pathologies[2] = {}\n",
    "            del pathologies[3][('Rotem_A10_Heptem','Rotem_A10_Fibtem')]\n",
    "            \n",
    "            \n",
    "    if procedure[0] == 'Excessive blood loss':\n",
    "        pathologies[0]['APTT'][0] = 75\n",
    "        pathologies[0]['APTT_Heparinase'][0] = 75\n",
    "        pathologies[0]['PT'][0] = 33\n",
    "        pathologies[0]['PT_Heparinase'][0] = 33\n",
    "        pathologies[0]['Rotem_CT_Extem'][0] = 80\n",
    "        pathologies[1] = {('Rotem_A10_Extem','Rotem_A10_Fibtem')  : [40, '<=', bnd,10, '>=',bnd]}\n",
    "        del pathologies[3][('Rotem_A10_Heptem','Rotem_A10_Fibtem')]\n",
    "        pathologies[3]['Thrombocytes'][0] = 50\n",
    "    \n",
    "    #Use inference engine\n",
    "    state = ['Plasma defects', 'Low fibrinogen', 'Patient is heparinized','Thrombocyte disorder']\n",
    "    curr_state = [{},{},{},{}]\n",
    "    sev = [{},{},{},{}] #severity\n",
    "    for i in range(len(pathologies)):\n",
    "        for j in pathologies[i]:\n",
    "            if i == 3:\n",
    "                if True in curr_state[0].itervalues():\n",
    "                    pathologies[3]['MEA_ADP'] = [35, '<=',[1/1.2,1/0.8]]\n",
    "            tmp = compare_values(j,pathologies[i][j],parameters)\n",
    "            curr_state[i][j] = tmp[0]\n",
    "            sev[i][j] = tmp[1]\n",
    "            \n",
    "    #Consult\n",
    "    consult_nr = []\n",
    "    if procedure[0] == 'CTC/IORT':\n",
    "        if procedure[1] == 'pre':\n",
    "            if True in curr_state[3].itervalues():\n",
    "                consult_nr.append(1)\n",
    "            if True in curr_state[1].itervalues():\n",
    "                consult_nr.append(3)\n",
    "            if True in curr_state[0].itervalues():\n",
    "                consult_nr.append(11)\n",
    "        if procedure[1] == 'intra':\n",
    "            if True in curr_state[3].itervalues():\n",
    "                consult_nr.append(1)\n",
    "            if True in curr_state[1].itervalues():\n",
    "                consult_nr.append(4)            \n",
    "        if procedure[1] == 'post' or procedure[1] == 'IC' or procedure[1] == 'IORT':\n",
    "            if True in curr_state[3].itervalues():\n",
    "                consult_nr.append(2)\n",
    "            if True in curr_state[1].itervalues():\n",
    "                consult_nr.append(5)\n",
    "            if (procedure[1] == 'post' or procedure[1] == 'IC') and True in curr_state[2].itervalues():\n",
    "                if procedure[1] == 'post':\n",
    "                    consult_nr.append(8)\n",
    "                if procedure[1] == 'IC':\n",
    "                    consult_nr.append(9)\n",
    "            if True in curr_state[0].itervalues():\n",
    "                consult_nr.append(12)\n",
    "    \n",
    "    if procedure[0] == 'Excessive blood loss':\n",
    "        if True in curr_state[3].itervalues():\n",
    "            consult_nr.append(2)\n",
    "        if True in curr_state[1].itervalues():\n",
    "            if procedure[1] == 'HD stable':\n",
    "                consult_nr.append(6)\n",
    "            if procedure[1] == 'HD unstable':\n",
    "                if parameters['Rotem_A10_Fibtem'] <= 7 or parameters['Fibrinogen'] <= 1:\n",
    "                    consult_nr.append(7)\n",
    "                else:\n",
    "                    consult_nr.append(6)\n",
    "        if True in curr_state[2].itervalues():\n",
    "            consult_nr.append(10)            \n",
    "        if True in curr_state[0].itervalues():\n",
    "            consult_nr.append(12)\n",
    "            \n",
    "    print('Advice:')       \n",
    "    for i in consult_nr:\n",
    "        print(consult[i])\n",
    "    print('\\n')\n",
    "    return curr_state, sev, pathologies \n",
    "    \n",
    "def compare_values(key,value,parameters): #patient = {key: pat_val} cutoff = {key:[co_val, comp]}\n",
    "    \"\"\"\n",
    "    Compares the patient's values with the cutoff values of a given\n",
    "    parameter. Inference engine. \n",
    "    \"\"\"\n",
    "    # 0) none exceeded -> green\n",
    "    # 1) LB exceeded, co/UB not -> requires attention -> orange\n",
    "    # 2) LB & co exceeded, UB not -> pathologic state but within error ranges -> red\n",
    "    # 3) LB, co & UB, definitely pathologic state -> dred\n",
    "    \n",
    "    \n",
    "    runs = int(len(value)/3) #number of parameters that need to be evaluated, in the case of ands\n",
    "    l = [] #stores whether a cutoff value has been exceeded or not, e.g. l=[[True,True,False]]\n",
    "    for i in range(runs):\n",
    "        if runs == 2:\n",
    "            pat_val = parameters[key[i]]\n",
    "        else:\n",
    "            pat_val = parameters[key]\n",
    "        co = value[3*i]\n",
    "        comp = value[1+3*i]\n",
    "        LB = value[2+3*i][0]\n",
    "        UB = value[2+3*i][1]\n",
    "        \n",
    "        co_val = [LB*co,co,UB*co] #afronden?\n",
    "        x = [] #stores whether the values in co_val have been exceeded or not, e.g. x=[True,True,False]\n",
    "    \n",
    "        for j in range(len(co_val)):        \n",
    "            if math.isnan(pat_val):\n",
    "                return ['N/A', 'N/A']\n",
    "            if runs == 2 and (math.isnan(parameters[key[0]]) or math.isnan(parameters[key[1]])):\n",
    "                return ['N/A', 'N/A']\n",
    "            \n",
    "            if comp == '>':\n",
    "                if pat_val > co_val[j]:\n",
    "                    x.append(True)\n",
    "                else: \n",
    "                    x.append(False)\n",
    "            if comp == '<':\n",
    "                if pat_val < co_val[j]:\n",
    "                    x.append(True)\n",
    "                else: \n",
    "                    x.append(False)\n",
    "            if comp == '<=':\n",
    "                if pat_val <= co_val[j]:\n",
    "                    x.append(True)\n",
    "                else: \n",
    "                    x.append(False)\n",
    "            if comp == '>=':\n",
    "                if pat_val >= co_val[j]:\n",
    "                    x.append(True)\n",
    "                else: \n",
    "                    x.append(False)\n",
    "     \n",
    "        l.append(x) \n",
    "    p = []\n",
    "    \n",
    "    for k in range(len(l)):\n",
    "        if l[k] == [False,False,False]:\n",
    "            val = 0\n",
    "        elif l[k] == [True,False,False] or l[k] == [False,False,True]:\n",
    "            val = 1\n",
    "        elif l[k] == [True,True,False] or l[k] == [False,True,True] or l[k] == [False,True,False]:\n",
    "            val = 2\n",
    "        elif l[k] == [True,True,True]:\n",
    "            val = 3\n",
    "        p.append(val)\n",
    "\n",
    "    if 0 in p or 1 in p:\n",
    "        return [False, p]\n",
    "    else:\n",
    "        return [True, p]    "
   ]
  },
  {
   "cell_type": "code",
   "execution_count": 3,
   "metadata": {
    "extensions": {
     "jupyter_dashboards": {
      "version": 1,
      "views": {
       "grid_default": {},
       "report_default": {}
      }
     }
    }
   },
   "outputs": [],
   "source": [
    "import ipywidgets as w\n",
    "\n",
    "proc = w.ToggleButtons(\n",
    "    options=['CTC/IORT', 'Excessive blood loss'],\n",
    "    description='Procedure:',\n",
    "    disabled=False,\n",
    "    button_style='', # 'success', 'info', 'warning', 'danger' or ''\n",
    ")\n",
    "\n",
    "\n",
    "if proc.value == 'CTC/IORT':\n",
    "    opt = ['pre', 'intra', 'post', 'IC', 'IORT']\n",
    "\n",
    "elif proc.value == 'Excessive blood loss':\n",
    "    opt = ['HD unstable', 'HD stable']\n",
    "\n",
    "phase = w.ToggleButtons(\n",
    "     options=opt,\n",
    "     description='Type:',\n",
    "     disabled=False,\n",
    "     button_style='', # 'success', 'info', 'warning', 'danger' or ''\n",
    ")   "
   ]
  },
  {
   "cell_type": "code",
   "execution_count": 4,
   "metadata": {
    "extensions": {
     "jupyter_dashboards": {
      "version": 1,
      "views": {
       "grid_default": {},
       "report_default": {}
      }
     }
    }
   },
   "outputs": [],
   "source": [
    "procedure = w.Text\n",
    "def update_prod(change):\n",
    "    if proc.value == 'CTC/IORT':\n",
    "        opt = ['pre', 'intra', 'post', 'IC', 'IORT']\n",
    "\n",
    "    elif proc.value == 'Excessive blood loss':\n",
    "        opt = ['HD unstable', 'HD stable']\n",
    "    phase.options = opt \n",
    "    \n",
    "\n",
    "def update_procedure(proc, phase):    \n",
    "    procedure.value = [proc,phase] \n",
    "    \n",
    "\n",
    "def update_parameters(Thrombocytes,MEA_ADP,MEA_TRAP,APTT,APTT_Heparinase,PT,PT_Heparinase,Fibrinogen,Rotem_A10_Extem,Rotem_A10_Fibtem,Rotem_A10_Heptem,Rotem_CT_Intem,Rotem_CT_Extem,Rotem_CT_Heptem,CThep_CTin):\n",
    "    return Thrombocytes,MEA_ADP,MEA_TRAP,APTT,APTT_Heparinase,PT,PT_Heparinase,Fibrinogen,Rotem_A10_Extem,Rotem_A10_Fibtem,Rotem_A10_Heptem,Rotem_CT_Intem,Rotem_CT_Extem,Rotem_CT_Heptem,CThep_CTin\n",
    "\n",
    "\n",
    "proc.observe(update_prod,'value')"
   ]
  },
  {
   "cell_type": "code",
   "execution_count": 5,
   "metadata": {
    "extensions": {
     "jupyter_dashboards": {
      "version": 1,
      "views": {
       "grid_default": {},
       "report_default": {}
      }
     }
    }
   },
   "outputs": [],
   "source": [
    "val = ['MEA_ADP','MEA_TRAP','APTT','APTT_Heparinase','PT','PT_Heparinase','Fibrinogen','Rotem_A10_Extem','Rotem_A10_Fibtem','Rotem_A10_Heptem','Rotem_CT_Intem','Rotem_CT_Extem','Rotem_CT_Heptem','CThep/CTin', 'Thrombocytes']\n",
    "\n",
    "style = {'description_width': 'initial'}\n",
    "\n",
    "Thrombocytes = w.FloatText(\n",
    "    value=float('nan'),\n",
    "    description='$Thrombocytes (nl)$',\n",
    "    style=style,\n",
    "    disabled=False\n",
    ")\n",
    "\n",
    "MEA_ADP = w.FloatText(\n",
    "    value=float('nan'),\n",
    "    description='$MEA_{ADP} (U)$',\n",
    "    style=style,\n",
    "    disabled=False\n",
    ")\n",
    "\n",
    "MEA_TRAP = w.FloatText(\n",
    "    value=float('nan'),\n",
    "    description='$MEA_{TRAP} (U)$',\n",
    "    style=style,\n",
    "    disabled=False\n",
    ")\n",
    "\n",
    "APTT = w.FloatText(\n",
    "    value=float('nan'),\n",
    "    description='$APTT (s)$',\n",
    "    style=style,\n",
    "    disabled=False\n",
    ")\n",
    "\n",
    "\n",
    "APTT_Heparinase= w.FloatText(\n",
    "    value=float('nan'),\n",
    "    description='$APTT_{Heparinase} (s)$',\n",
    "    style=style,\n",
    "    disabled=False\n",
    ")\n",
    "\n",
    "PT = w.FloatText(\n",
    "    value=float('nan'),\n",
    "    description='$PT (s)$',\n",
    "    style=style,\n",
    "    disabled=False\n",
    ")\n",
    "\n",
    "PT_Heparinase= w.FloatText(\n",
    "    value=float('nan'),\n",
    "    description='$PT_{Heparinase} (s)$',\n",
    "    style=style,\n",
    "    disabled=False\n",
    ")\n",
    "\n",
    "Fibrinogen = w.FloatText(\n",
    "    value=float('nan'),\n",
    "    description='$Fibrinogen (g/L)$',\n",
    "    style=style,\n",
    "    disabled=False\n",
    ")\n",
    "\n",
    "Rotem_A10_Extem= w.FloatText(\n",
    "    value=float('nan'),\n",
    "    description='$A10_{Extem} (mm)$',\n",
    "    style=style,\n",
    "    disabled=False\n",
    ")\n",
    "\n",
    "Rotem_A10_Fibtem= w.FloatText(\n",
    "    value=float('nan'),\n",
    "    description='$A10_{Fibtem} (mm)$',\n",
    "    style=style,\n",
    "    disabled=False\n",
    ")\n",
    "\n",
    "Rotem_A10_Heptem= w.FloatText(\n",
    "    value=float('nan'),\n",
    "    description='$A10_{Heptem} (mm)$',\n",
    "    style=style,\n",
    "    disabled=False\n",
    ")\n",
    "\n",
    "\n",
    "Rotem_CT_Intem= w.FloatText(\n",
    "    value=float('nan'),\n",
    "    description='$CT_{Intem} (s)$',\n",
    "    style=style,\n",
    "    disabled=False\n",
    ")\n",
    "\n",
    "Rotem_CT_Extem= w.FloatText(\n",
    "    value=float('nan'),\n",
    "    description='$CT_{Extem} (s)$',\n",
    "    style=style,\n",
    "    disabled=False\n",
    ")\n",
    "\n",
    "Rotem_CT_Heptem= w.FloatText(\n",
    "    value=float('nan'),\n",
    "    description='$CT_{Heptem} (s)$',\n",
    "    style=style,\n",
    "    disabled=False\n",
    ")\n",
    "\n",
    "CThep_CTin= w.FloatText(\n",
    "    value=float('nan'),\n",
    "    description='$CT_{Heptem}/CT_{Intem}$',\n",
    "    style=style,\n",
    "    disabled=False\n",
    ")\n",
    "\n",
    "\n",
    "\n",
    "#display(Thrombocytes,MEA_ADP,MEA_TRAP,APTT,APTT_Heparinase,PT,PT_Heparinase,Fibrinogen,Rotem_A10_Extem,Rotem_A10_Fibtem,Rotem_A10_Heptem,Rotem_CT_Intem,Rotem_CT_Extem,Rotem_CT_Heptem,CThep_CTin)"
   ]
  },
  {
   "cell_type": "code",
   "execution_count": 6,
   "metadata": {
    "extensions": {
     "jupyter_dashboards": {
      "version": 1,
      "views": {
       "grid_default": {},
       "report_default": {}
      }
     }
    },
    "scrolled": false
   },
   "outputs": [],
   "source": [
    "import pandas as pd\n",
    "\n",
    "\n",
    "def row_style(row,sev):\n",
    "    # 0) none exceeded -> green\n",
    "    # 1) LB exceeded, co/UB not -> requires attention -> orange\n",
    "    # 2) LB & co exceeded, UB not -> pathologic state but within error ranges -> red\n",
    "    # 3) LB, co & UB, definitely pathologic state -> dred\n",
    "    \n",
    "    if len(sev[row[0]]) == 2:\n",
    "        ind = min(sev[row[0]])\n",
    "    else:\n",
    "        ind = sev[row[0]][0]\n",
    "    if ind == 0:\n",
    "        return pd.Series('background-color: lightgreen', row.index)\n",
    "    elif ind == 1:\n",
    "        return pd.Series('background-color: orange', row.index)\n",
    "    elif ind == 2:\n",
    "        return pd.Series('background-color: red', row.index)\n",
    "    elif ind == 3:\n",
    "        return pd.Series('background-color: darkred', row.index)\n",
    "    else:\n",
    "        return pd.Series('',row.index)\n",
    "        \n",
    "\n",
    "def clicked(b):\n",
    "    state = ['Plasma defects:', 'Low fibrinogen:', 'Patient is heparinized:','Thrombocyte disfunction:']\n",
    "    parameters=p.kwargs\n",
    "    parameters['CThep/CTin'] = parameters['CThep_CTin']\n",
    "    del parameters['CThep_CTin']\n",
    "    curr_state, sev, pathologies = knowledge_base(procedure=procedure.value,parameters=parameters)\n",
    "    tables = []\n",
    "    for i in range(len(state)):\n",
    "        keys = [] #parameter names\n",
    "        cut_off = [] #cut-off values, taken from pathologies\n",
    "        values = [] #patient values, taken from 'parameters'\n",
    "        for j in curr_state[i]:\n",
    "            keys.append(j)\n",
    "            if len(pathologies[i][j]) == 3:\n",
    "                cut_off.append(pathologies[i][j][1] + ' ' + str(pathologies[i][j][0]))\n",
    "                values.append(parameters[j])\n",
    "            elif len(pathologies[i][j]) == 6:\n",
    "                cut_off.append(pathologies[i][j][1] + ' ' + str(pathologies[i][j][0]) + ' & ' + pathologies[i][j][4] + ' ' + str(pathologies[i][j][3]))\n",
    "                values.append([parameters[j[0]],parameters[j[1]]])\n",
    "        #order the data for the DataFrame \n",
    "        data = []\n",
    "        for k in range(len(keys)):\n",
    "            array = [keys[k], values[k], cut_off[k]]\n",
    "            data.append(array)\n",
    "        df = pd.DataFrame(data, columns = ['Parameter','Value','Cut-off value'])\n",
    "        tables.append(df)\n",
    "    if procedure.value == ['CTC/IORT', 'intra']:\n",
    "        for i in [1,3]:\n",
    "            print(state[i])\n",
    "            display(tables[i].style.apply(row_style, sev=sev[i],axis=1))\n",
    "            print('\\n')            \n",
    "    else:\n",
    "        for i in range(len(tables)):\n",
    "            print(state[i])\n",
    "            display(tables[i].style.apply(row_style, sev=sev[i],axis=1))\n",
    "            print('\\n')\n",
    "    \n",
    "\n",
    "button = w.Button(description=\"Run algorithm\")\n",
    "acc_1 = w.VBox([proc,phase])\n",
    "l_acc_2 = w.VBox([Fibrinogen,Rotem_A10_Extem,Rotem_A10_Fibtem,Rotem_A10_Heptem,Rotem_CT_Intem,Rotem_CT_Extem,Rotem_CT_Heptem,CThep_CTin])\n",
    "r_acc_2 = w.VBox([Thrombocytes,MEA_ADP,MEA_TRAP,APTT,APTT_Heparinase,PT,PT_Heparinase])\n",
    "acc_2 = w.HBox([l_acc_2,r_acc_2])\n",
    "\n",
    "p = w.interactive(update_parameters, MEA_ADP = MEA_ADP,MEA_TRAP = MEA_TRAP,PT = PT,PT_Heparinase = PT_Heparinase,APTT = APTT,APTT_Heparinase = APTT_Heparinase,Fibrinogen = Fibrinogen,Rotem_A10_Extem = Rotem_A10_Extem,Rotem_A10_Fibtem = Rotem_A10_Fibtem,Rotem_A10_Heptem = Rotem_A10_Heptem,Rotem_CT_Extem = Rotem_CT_Extem,Rotem_CT_Heptem = Rotem_CT_Heptem,Rotem_CT_Intem = Rotem_CT_Intem,CThep_CTin = CThep_CTin,Thrombocytes = Thrombocytes)\n",
    "s = w.interactive(update_procedure, proc=proc,phase=phase)\n",
    "button.on_click(clicked)\n",
    "\n",
    "accordion = w.Accordion(children = [acc_1,acc_2])\n",
    "accordion.set_title(0,'Procedure')\n",
    "accordion.set_title(1,'Parameters')\n",
    "\n",
    "CDSS = w.VBox([accordion,button])"
   ]
  },
  {
   "cell_type": "markdown",
   "metadata": {},
   "source": [
    "***\n",
    "# Clinical decision support system for the administration of hemostatics\n",
    "## 1. Using the CDSS\n",
    "\n",
    "- Select the relevant procedure (divided between *CTC/IORT* and *Excessive blood loss*) and the subprocedure.\n",
    "- Fill in the results of the perioperative coagulation tests as the patient's parameters.\n",
    "    - It is possible to leave a cell empty. The corresponding parameter will then not be included in the evaluation.\n",
    "- Press **Run Algorithm** to start the CDSS.\n",
    "    - If one would like to run the CDSS a second time with the same values, please reinsert a single value within the **Parameters** section, as this will cause errors otherwise.\n",
    "    - To clear the output, press the *Restart kernel* button again. \n",
    "\n",
    "## 2. Interpreting the results\n",
    "\n",
    "- The parameters are divided into four categories or *coagulopathies*:\n",
    "    - *Plasma defects*\n",
    "    - *Low fibrinogen*\n",
    "    - *Patient is heparinized*\n",
    "    - *Thrombocyte dysfunction*\n",
    "- Each category will then show the relevant parameters in a table according to the procedure that was chosen before. \n",
    "\n",
    "\n",
    "- Parameters that are highlighted:\n",
    "    - <font color=green> **green** </font> has a value that is well outside of its cut-off value and its error bounds.\n",
    "    - <font color=orange> **orange** </font> has a value that is dangerously nearing its cut-off value, such that the error of the value overlaps with the cut-off value itself.\n",
    "    - <font color=red> **red** </font> has a value that has exceeded its cut-off value, however, it is still within the error of a value outside of the cut-off value.\n",
    "    - <font color=darkred> **dark red** </font> has a value that has well passed its cut-off value. \n",
    "- The error for all methods is assumed to be 10%, except for the MEA, which has an error of 20%.\n",
    "- Alternatively, the color coding can also be interpreted as a measure of the severity of which the patient's value differs from a normal state.\n",
    "- Parameters that have been highlighted as <font color=red> **red** </font> and <font color=darkred> **dark red** </font> indicate that the patient suffers from the respective coagulopathy.\n",
    "\n",
    "- Based on these results and the guidelines of the Catharina hospital, the CDSS will also give an advice under the header *Advice*. Multiple advices are possible, while it is also possible it will display nothing when no pathological state has been found.  \n",
    "\n",
    "***"
   ]
  },
  {
   "cell_type": "code",
   "execution_count": 7,
   "metadata": {
    "scrolled": false
   },
   "outputs": [
    {
     "data": {
      "application/vnd.jupyter.widget-view+json": {
       "model_id": "f66f1b8179404796ae518a3fc5b0e323",
       "version_major": 2,
       "version_minor": 0
      },
      "text/plain": [
       "VkJveChjaGlsZHJlbj0oQWNjb3JkaW9uKGNoaWxkcmVuPShWQm94KGNoaWxkcmVuPShUb2dnbGVCdXR0b25zKGRlc2NyaXB0aW9uPXUnUHJvY2VkdXJlOicsIG9wdGlvbnM9KCdDVEMvSU9SVCfigKY=\n"
      ]
     },
     "metadata": {},
     "output_type": "display_data"
    }
   ],
   "source": [
    "display(CDSS)\n"
   ]
  }
 ],
 "metadata": {
  "extensions": {
   "jupyter_dashboards": {
    "activeView": "grid_default",
    "version": 1,
    "views": {
     "grid_default": {
      "cellMargin": 10,
      "defaultCellHeight": 20,
      "maxColumns": 12,
      "name": "grid",
      "type": "grid"
     },
     "report_default": {
      "name": "report",
      "type": "report"
     }
    }
   }
  },
  "kernelspec": {
   "display_name": "Python 2",
   "language": "python",
   "name": "python2"
  },
  "language_info": {
   "codemirror_mode": {
    "name": "ipython",
    "version": 2
   },
   "file_extension": ".py",
   "mimetype": "text/x-python",
   "name": "python",
   "nbconvert_exporter": "python",
   "pygments_lexer": "ipython2",
   "version": "2.7.15"
  },
  "widgets": {
   "application/vnd.jupyter.widget-state+json": {
    "state": {
     "0007bcd40fd3441e9e2d9952721ad2bb": {
      "model_module": "@jupyter-widgets/base",
      "model_module_version": "1.1.0",
      "model_name": "LayoutModel",
      "state": {}
     },
     "003efd3cd93c410b906697440b8d1e4c": {
      "model_module": "@jupyter-widgets/base",
      "model_module_version": "1.1.0",
      "model_name": "LayoutModel",
      "state": {}
     },
     "003f8510695d49f9b779467c88d677e0": {
      "model_module": "@jupyter-widgets/base",
      "model_module_version": "1.1.0",
      "model_name": "LayoutModel",
      "state": {}
     },
     "00ab8707df8c4c149ea926159ef53089": {
      "model_module": "@jupyter-widgets/controls",
      "model_module_version": "1.4.0",
      "model_name": "VBoxModel",
      "state": {
       "children": [
        "IPY_MODEL_c1578d17cde34390a10ea30c137e9f27",
        "IPY_MODEL_583c9e86be7d49f3b6ac4cb767e1e688",
        "IPY_MODEL_aa07063666e443dc97ea0bba6dfee03b",
        "IPY_MODEL_d64ebb419a7d4757b8a3499a0e4c07ab",
        "IPY_MODEL_88ba9983c9f2410d9513f064b2bd0a4e",
        "IPY_MODEL_4732a9d1bbf74747993edc5f3be4b325",
        "IPY_MODEL_6a94faccf3c34e84820a75d4ac624fa2",
        "IPY_MODEL_dc8b693a0380475a9521504abae7880f"
       ],
       "layout": "IPY_MODEL_19a251a8064d4f2780d3849d4e6c8dc4"
      }
     },
     "00c6d0d7cfd34bf2a8b1a51660a1956a": {
      "model_module": "@jupyter-widgets/base",
      "model_module_version": "1.1.0",
      "model_name": "LayoutModel",
      "state": {}
     },
     "00d5febda9de43a081e68e74ae5215b9": {
      "model_module": "@jupyter-widgets/controls",
      "model_module_version": "1.4.0",
      "model_name": "DescriptionStyleModel",
      "state": {
       "description_width": "initial"
      }
     },
     "00e995ba336940bd81f5864b88eb7232": {
      "model_module": "@jupyter-widgets/controls",
      "model_module_version": "1.4.0",
      "model_name": "VBoxModel",
      "state": {
       "children": [
        "IPY_MODEL_c1578d17cde34390a10ea30c137e9f27",
        "IPY_MODEL_583c9e86be7d49f3b6ac4cb767e1e688",
        "IPY_MODEL_aa07063666e443dc97ea0bba6dfee03b",
        "IPY_MODEL_d64ebb419a7d4757b8a3499a0e4c07ab",
        "IPY_MODEL_88ba9983c9f2410d9513f064b2bd0a4e",
        "IPY_MODEL_4732a9d1bbf74747993edc5f3be4b325",
        "IPY_MODEL_6a94faccf3c34e84820a75d4ac624fa2",
        "IPY_MODEL_dc8b693a0380475a9521504abae7880f"
       ],
       "layout": "IPY_MODEL_13f5b705503d4dd192202025059e1a21"
      }
     },
     "011925891d86441187f7850ee314ccb7": {
      "model_module": "@jupyter-widgets/base",
      "model_module_version": "1.1.0",
      "model_name": "LayoutModel",
      "state": {}
     },
     "0146635d698e47e89c8e61c42ef01b3d": {
      "model_module": "@jupyter-widgets/controls",
      "model_module_version": "1.4.0",
      "model_name": "VBoxModel",
      "state": {
       "children": [
        "IPY_MODEL_467abf0c84b746629cc02d043f510b3b",
        "IPY_MODEL_f03c702063304900a21b86a1cfc1bc6a",
        "IPY_MODEL_ff2acae77452485ab84e18b41091ce82",
        "IPY_MODEL_85f59b8ac04841dfaa02b062d28f402e",
        "IPY_MODEL_3dc6b39299cb45bd85928756dfe5f459",
        "IPY_MODEL_68d6a562e1904abab58ed04cfe99b19c",
        "IPY_MODEL_8fff40f93750435aa3ec486f0250c736"
       ],
       "layout": "IPY_MODEL_5efc1efde5cd427db7556f3e643e7a7e"
      }
     },
     "016cf397d8b64233921fd11c8c529d7a": {
      "model_module": "@jupyter-widgets/controls",
      "model_module_version": "1.4.0",
      "model_name": "HBoxModel",
      "state": {
       "children": [
        "IPY_MODEL_b7bc99c8a12a4571b9d2e870c9068312",
        "IPY_MODEL_a3cbcc85b1e34e499570aba8786e97b3"
       ],
       "layout": "IPY_MODEL_6a26313d57374490bc73ba573f421663"
      }
     },
     "0195580288ae43419e8bf12b3d6ab230": {
      "model_module": "@jupyter-widgets/base",
      "model_module_version": "1.1.0",
      "model_name": "LayoutModel",
      "state": {}
     },
     "019b1dfd25c1456197f9bd0962aed9be": {
      "model_module": "@jupyter-widgets/base",
      "model_module_version": "1.1.0",
      "model_name": "LayoutModel",
      "state": {}
     },
     "01b9e1c144b14ea29c30c6a91e1c7bfe": {
      "model_module": "@jupyter-widgets/controls",
      "model_module_version": "1.4.0",
      "model_name": "FloatTextModel",
      "state": {
       "description": "$CT_{Intem} (s)$",
       "layout": "IPY_MODEL_8da2309cc1f5436c9624518c2776be47",
       "step": null,
       "style": "IPY_MODEL_622321595e8b47798e7efa1b4a40b428",
       "value": "nan"
      }
     },
     "01fa6c3d5d514365b91eab77afcb69a2": {
      "model_module": "@jupyter-widgets/controls",
      "model_module_version": "1.4.0",
      "model_name": "HBoxModel",
      "state": {
       "children": [
        "IPY_MODEL_b95613491a884615ba25e583d8f0230b",
        "IPY_MODEL_d86d6617d9374497952147d494cf5597"
       ],
       "layout": "IPY_MODEL_fb00747bf58d4c319e4dcec438519f30"
      }
     },
     "01fa9727183f4476afdc4cb22a3fc802": {
      "model_module": "@jupyter-widgets/base",
      "model_module_version": "1.1.0",
      "model_name": "LayoutModel",
      "state": {}
     },
     "0229e16116f3426b84f292fd48df5dbb": {
      "model_module": "@jupyter-widgets/output",
      "model_module_version": "1.0.0",
      "model_name": "OutputModel",
      "state": {
       "layout": "IPY_MODEL_9c98b8a8af924b598792636026aa3e23"
      }
     },
     "02cb68a5703845ffbf3ab85122df7a6c": {
      "model_module": "@jupyter-widgets/controls",
      "model_module_version": "1.4.0",
      "model_name": "AccordionModel",
      "state": {
       "_titles": {
        "0": "Procedure",
        "1": "Parameters"
       },
       "children": [
        "IPY_MODEL_a9df83a9f18f4502a40796c6a108cdce",
        "IPY_MODEL_1f73b00a20f240b685a93b79bf2badb0"
       ],
       "layout": "IPY_MODEL_41691307b7ad46e99307fda1995e38a7",
       "selected_index": 1
      }
     },
     "02d7f0f9bdf343d2bc35c49548871137": {
      "model_module": "@jupyter-widgets/base",
      "model_module_version": "1.1.0",
      "model_name": "LayoutModel",
      "state": {}
     },
     "0371c85e617048059910eceb37255cf1": {
      "model_module": "@jupyter-widgets/controls",
      "model_module_version": "1.4.0",
      "model_name": "VBoxModel",
      "state": {
       "_dom_classes": [
        "widget-interact"
       ],
       "children": [
        "IPY_MODEL_7cdaba6e204f4851840686529a909bcb",
        "IPY_MODEL_7ef3128732c740489c12676a641771b5",
        "IPY_MODEL_8c8f325492ff4bc581d636aa495eba5e"
       ],
       "layout": "IPY_MODEL_5a8d598dfda348de9a348ad42268ae57"
      }
     },
     "0387f7cfde5c4e919d058a4fe9823b1a": {
      "model_module": "@jupyter-widgets/base",
      "model_module_version": "1.1.0",
      "model_name": "LayoutModel",
      "state": {}
     },
     "0388f14c18d64bb494d5ca03cdbdfd89": {
      "model_module": "@jupyter-widgets/controls",
      "model_module_version": "1.4.0",
      "model_name": "VBoxModel",
      "state": {
       "children": [
        "IPY_MODEL_c1578d17cde34390a10ea30c137e9f27",
        "IPY_MODEL_583c9e86be7d49f3b6ac4cb767e1e688",
        "IPY_MODEL_aa07063666e443dc97ea0bba6dfee03b",
        "IPY_MODEL_d64ebb419a7d4757b8a3499a0e4c07ab",
        "IPY_MODEL_88ba9983c9f2410d9513f064b2bd0a4e",
        "IPY_MODEL_4732a9d1bbf74747993edc5f3be4b325",
        "IPY_MODEL_6a94faccf3c34e84820a75d4ac624fa2",
        "IPY_MODEL_dc8b693a0380475a9521504abae7880f"
       ],
       "layout": "IPY_MODEL_4b338a3af16342c19aa00e0e0c0db736"
      }
     },
     "039b6725230d49dc9793a67af65d27ad": {
      "model_module": "@jupyter-widgets/base",
      "model_module_version": "1.1.0",
      "model_name": "LayoutModel",
      "state": {}
     },
     "03ad106be3c94174bd11bd9d5505feaf": {
      "model_module": "@jupyter-widgets/base",
      "model_module_version": "1.1.0",
      "model_name": "LayoutModel",
      "state": {}
     },
     "03e7a6660d4640fca82b3115ff8e6adf": {
      "model_module": "@jupyter-widgets/output",
      "model_module_version": "1.0.0",
      "model_name": "OutputModel",
      "state": {
       "layout": "IPY_MODEL_92ba5193b849481bbe1d2b93473bc1cd"
      }
     },
     "04299125dd394e178bc3a896eeb64380": {
      "model_module": "@jupyter-widgets/base",
      "model_module_version": "1.1.0",
      "model_name": "LayoutModel",
      "state": {}
     },
     "0440407737774f2192553d7ca93485db": {
      "model_module": "@jupyter-widgets/output",
      "model_module_version": "1.0.0",
      "model_name": "OutputModel",
      "state": {
       "layout": "IPY_MODEL_25c2e3fd15274494837cc9312fc77111"
      }
     },
     "0445cb8f2a93489da1b6b3d52711092a": {
      "model_module": "@jupyter-widgets/base",
      "model_module_version": "1.1.0",
      "model_name": "LayoutModel",
      "state": {}
     },
     "0483421836b74344b018b41d2f83f86e": {
      "model_module": "@jupyter-widgets/controls",
      "model_module_version": "1.4.0",
      "model_name": "VBoxModel",
      "state": {
       "children": [
        "IPY_MODEL_7cdaba6e204f4851840686529a909bcb",
        "IPY_MODEL_7ef3128732c740489c12676a641771b5"
       ],
       "layout": "IPY_MODEL_77e23a34584b4fa08c6e302eae1d7d79"
      }
     },
     "04b8acb32209415485492deb5f0cdba7": {
      "model_module": "@jupyter-widgets/base",
      "model_module_version": "1.1.0",
      "model_name": "LayoutModel",
      "state": {}
     },
     "050fd0be31954a5486dc22e3fcc6d091": {
      "model_module": "@jupyter-widgets/controls",
      "model_module_version": "1.4.0",
      "model_name": "VBoxModel",
      "state": {
       "children": [
        "IPY_MODEL_ec11201021b448e89397b7c267c30334",
        "IPY_MODEL_254be8d28c244ce8bdf375bf8968fb53"
       ],
       "layout": "IPY_MODEL_b90cbdbcedc54b6fa6bdbd581a06b690"
      }
     },
     "052b328c43854a08817a60045a483a22": {
      "model_module": "@jupyter-widgets/base",
      "model_module_version": "1.1.0",
      "model_name": "LayoutModel",
      "state": {}
     },
     "0568653251f249bfa7c6aa919a12ba2a": {
      "model_module": "@jupyter-widgets/base",
      "model_module_version": "1.1.0",
      "model_name": "LayoutModel",
      "state": {}
     },
     "059c4f1c0ae24ea186cb7741b542ed20": {
      "model_module": "@jupyter-widgets/base",
      "model_module_version": "1.1.0",
      "model_name": "LayoutModel",
      "state": {}
     },
     "05e27ae232f6487fb0794de0d6c74979": {
      "model_module": "@jupyter-widgets/controls",
      "model_module_version": "1.4.0",
      "model_name": "VBoxModel",
      "state": {
       "children": [
        "IPY_MODEL_323f2cffa8674fc2ae309f0d1ad66ad9",
        "IPY_MODEL_a4724ceee9c04a1ca2926654d3b11e31"
       ],
       "layout": "IPY_MODEL_682feb2a935a4eb598d02728fa73e34d"
      }
     },
     "05ed5abeee5c46869bb8af44e999cd5c": {
      "model_module": "@jupyter-widgets/controls",
      "model_module_version": "1.4.0",
      "model_name": "VBoxModel",
      "state": {
       "children": [
        "IPY_MODEL_02cb68a5703845ffbf3ab85122df7a6c",
        "IPY_MODEL_d169312eaf094f49b1e1400e726a7827"
       ],
       "layout": "IPY_MODEL_0bb4d78345244d37a9a659e8c09ffba1"
      }
     },
     "06235876c3a24493887d9d0718008dac": {
      "model_module": "@jupyter-widgets/base",
      "model_module_version": "1.1.0",
      "model_name": "LayoutModel",
      "state": {}
     },
     "0674fcad5e4d432281043402b67b6e6b": {
      "model_module": "@jupyter-widgets/controls",
      "model_module_version": "1.4.0",
      "model_name": "ButtonModel",
      "state": {
       "description": "Run algorithm",
       "layout": "IPY_MODEL_945b29660dae4829a1f2ab8682381865",
       "style": "IPY_MODEL_9a7581c68cac4fd1b8f41777bfca7e80"
      }
     },
     "06b93b20cb3d4aa9ad7b43c8349a4876": {
      "model_module": "@jupyter-widgets/controls",
      "model_module_version": "1.4.0",
      "model_name": "VBoxModel",
      "state": {
       "_dom_classes": [
        "widget-interact"
       ],
       "children": [
        "IPY_MODEL_467abf0c84b746629cc02d043f510b3b",
        "IPY_MODEL_f03c702063304900a21b86a1cfc1bc6a",
        "IPY_MODEL_ff2acae77452485ab84e18b41091ce82",
        "IPY_MODEL_85f59b8ac04841dfaa02b062d28f402e",
        "IPY_MODEL_3dc6b39299cb45bd85928756dfe5f459",
        "IPY_MODEL_68d6a562e1904abab58ed04cfe99b19c",
        "IPY_MODEL_8fff40f93750435aa3ec486f0250c736",
        "IPY_MODEL_c1578d17cde34390a10ea30c137e9f27",
        "IPY_MODEL_583c9e86be7d49f3b6ac4cb767e1e688",
        "IPY_MODEL_aa07063666e443dc97ea0bba6dfee03b",
        "IPY_MODEL_d64ebb419a7d4757b8a3499a0e4c07ab",
        "IPY_MODEL_88ba9983c9f2410d9513f064b2bd0a4e",
        "IPY_MODEL_4732a9d1bbf74747993edc5f3be4b325",
        "IPY_MODEL_6a94faccf3c34e84820a75d4ac624fa2",
        "IPY_MODEL_dc8b693a0380475a9521504abae7880f",
        "IPY_MODEL_4cd4f47784df4f9a807b65c95e580f41"
       ],
       "layout": "IPY_MODEL_8c17ad5eb51a4a3aad962b53f04c1e32"
      }
     },
     "07224a68cba54976b47f03d46bc5fe4f": {
      "model_module": "@jupyter-widgets/controls",
      "model_module_version": "1.4.0",
      "model_name": "ButtonStyleModel",
      "state": {}
     },
     "073e64f3c99e4d53aa2f49c5c9469505": {
      "model_module": "@jupyter-widgets/controls",
      "model_module_version": "1.4.0",
      "model_name": "VBoxModel",
      "state": {
       "children": [
        "IPY_MODEL_467abf0c84b746629cc02d043f510b3b",
        "IPY_MODEL_f03c702063304900a21b86a1cfc1bc6a",
        "IPY_MODEL_ff2acae77452485ab84e18b41091ce82",
        "IPY_MODEL_85f59b8ac04841dfaa02b062d28f402e",
        "IPY_MODEL_3dc6b39299cb45bd85928756dfe5f459",
        "IPY_MODEL_68d6a562e1904abab58ed04cfe99b19c",
        "IPY_MODEL_8fff40f93750435aa3ec486f0250c736"
       ],
       "layout": "IPY_MODEL_5c60cf0e124543f98ee07d43971a726d"
      }
     },
     "074b83c8549742ef9b6902fccc5b9d37": {
      "model_module": "@jupyter-widgets/controls",
      "model_module_version": "1.4.0",
      "model_name": "ButtonModel",
      "state": {
       "description": "Run algorithm",
       "layout": "IPY_MODEL_a1f84e2e4e1c4894b554f1c2c4edf275",
       "style": "IPY_MODEL_ec0543fa4e58439abc4b5c45a1c03e7c"
      }
     },
     "074b9488368c4ba090735579df08f2d6": {
      "model_module": "@jupyter-widgets/controls",
      "model_module_version": "1.4.0",
      "model_name": "VBoxModel",
      "state": {
       "children": [
        "IPY_MODEL_467abf0c84b746629cc02d043f510b3b",
        "IPY_MODEL_f03c702063304900a21b86a1cfc1bc6a",
        "IPY_MODEL_ff2acae77452485ab84e18b41091ce82",
        "IPY_MODEL_85f59b8ac04841dfaa02b062d28f402e",
        "IPY_MODEL_3dc6b39299cb45bd85928756dfe5f459",
        "IPY_MODEL_68d6a562e1904abab58ed04cfe99b19c",
        "IPY_MODEL_8fff40f93750435aa3ec486f0250c736"
       ],
       "layout": "IPY_MODEL_0def062cc5a84a448e6c9b0f5327e9d6"
      }
     },
     "0754d972bd99466291481bc2e346a86f": {
      "model_module": "@jupyter-widgets/base",
      "model_module_version": "1.1.0",
      "model_name": "LayoutModel",
      "state": {}
     },
     "076e593c91b343d8b5536922f9af45d8": {
      "model_module": "@jupyter-widgets/controls",
      "model_module_version": "1.4.0",
      "model_name": "FloatTextModel",
      "state": {
       "description": "$CT_{Heptem}/CT_{Intem}$",
       "layout": "IPY_MODEL_5b0d858ea7104368b4e2b4aff4f70e21",
       "step": null,
       "style": "IPY_MODEL_6825503488f2431691681392103db0d7",
       "value": "nan"
      }
     },
     "078198ac14bb4d43a03dd92dafef9185": {
      "model_module": "@jupyter-widgets/controls",
      "model_module_version": "1.4.0",
      "model_name": "HBoxModel",
      "state": {
       "children": [
        "IPY_MODEL_42851500b4324b16be859a4b2ca316bc"
       ],
       "layout": "IPY_MODEL_2e82af043bd44dc0a9c1b04afec0dc07"
      }
     },
     "07bba8a6c74845d4a1db6934608c0eb5": {
      "model_module": "@jupyter-widgets/controls",
      "model_module_version": "1.4.0",
      "model_name": "VBoxModel",
      "state": {
       "_dom_classes": [
        "widget-interact"
       ],
       "children": [
        "IPY_MODEL_467abf0c84b746629cc02d043f510b3b",
        "IPY_MODEL_f03c702063304900a21b86a1cfc1bc6a",
        "IPY_MODEL_ff2acae77452485ab84e18b41091ce82",
        "IPY_MODEL_85f59b8ac04841dfaa02b062d28f402e",
        "IPY_MODEL_3dc6b39299cb45bd85928756dfe5f459",
        "IPY_MODEL_68d6a562e1904abab58ed04cfe99b19c",
        "IPY_MODEL_8fff40f93750435aa3ec486f0250c736",
        "IPY_MODEL_c1578d17cde34390a10ea30c137e9f27",
        "IPY_MODEL_583c9e86be7d49f3b6ac4cb767e1e688",
        "IPY_MODEL_aa07063666e443dc97ea0bba6dfee03b",
        "IPY_MODEL_d64ebb419a7d4757b8a3499a0e4c07ab",
        "IPY_MODEL_88ba9983c9f2410d9513f064b2bd0a4e",
        "IPY_MODEL_4732a9d1bbf74747993edc5f3be4b325",
        "IPY_MODEL_6a94faccf3c34e84820a75d4ac624fa2",
        "IPY_MODEL_dc8b693a0380475a9521504abae7880f",
        "IPY_MODEL_d4e8e14425e34652b99c3ebae27b43c6"
       ],
       "layout": "IPY_MODEL_fd8b15012f9b482aa256d3c9464c3b4a"
      }
     },
     "07da2d5af43a4d72aa62067079925b84": {
      "model_module": "@jupyter-widgets/base",
      "model_module_version": "1.1.0",
      "model_name": "LayoutModel",
      "state": {}
     },
     "07ed0b07582d4de2be87cd86136d17af": {
      "model_module": "@jupyter-widgets/controls",
      "model_module_version": "1.4.0",
      "model_name": "VBoxModel",
      "state": {
       "children": [
        "IPY_MODEL_467abf0c84b746629cc02d043f510b3b",
        "IPY_MODEL_f03c702063304900a21b86a1cfc1bc6a",
        "IPY_MODEL_ff2acae77452485ab84e18b41091ce82",
        "IPY_MODEL_85f59b8ac04841dfaa02b062d28f402e",
        "IPY_MODEL_3dc6b39299cb45bd85928756dfe5f459",
        "IPY_MODEL_68d6a562e1904abab58ed04cfe99b19c",
        "IPY_MODEL_8fff40f93750435aa3ec486f0250c736"
       ],
       "layout": "IPY_MODEL_3691fc7f114a4a27bbe34fd58944064b"
      }
     },
     "07ef923de47c4cdf820de7231d405d16": {
      "model_module": "@jupyter-widgets/controls",
      "model_module_version": "1.4.0",
      "model_name": "VBoxModel",
      "state": {
       "children": [
        "IPY_MODEL_7cdaba6e204f4851840686529a909bcb",
        "IPY_MODEL_7ef3128732c740489c12676a641771b5"
       ],
       "layout": "IPY_MODEL_aed8084948a34d8da71f980d8d58ae5d"
      }
     },
     "07fbea43b86240bdb874c8a3196a2d3b": {
      "model_module": "@jupyter-widgets/base",
      "model_module_version": "1.1.0",
      "model_name": "LayoutModel",
      "state": {}
     },
     "083d06bc70344e00bb0dcde97b3d4927": {
      "model_module": "@jupyter-widgets/base",
      "model_module_version": "1.1.0",
      "model_name": "LayoutModel",
      "state": {}
     },
     "083f2573543b4211bc9e0a5066119327": {
      "model_module": "@jupyter-widgets/base",
      "model_module_version": "1.1.0",
      "model_name": "LayoutModel",
      "state": {}
     },
     "084f9728dc364d22898a7f7e059e6ca4": {
      "model_module": "@jupyter-widgets/base",
      "model_module_version": "1.1.0",
      "model_name": "LayoutModel",
      "state": {}
     },
     "087572f3cf35413ebe3b7dff3ccb792f": {
      "model_module": "@jupyter-widgets/base",
      "model_module_version": "1.1.0",
      "model_name": "LayoutModel",
      "state": {}
     },
     "08b206fdc0434f21bb6888b247c240a2": {
      "model_module": "@jupyter-widgets/base",
      "model_module_version": "1.1.0",
      "model_name": "LayoutModel",
      "state": {}
     },
     "08cc52dd5cab44a0943882170a6fefa4": {
      "model_module": "@jupyter-widgets/output",
      "model_module_version": "1.0.0",
      "model_name": "OutputModel",
      "state": {
       "layout": "IPY_MODEL_a9233e65026049269dc7bb6ac9288e49"
      }
     },
     "08d6590890634d9ebb7efa596fe3f8b4": {
      "model_module": "@jupyter-widgets/controls",
      "model_module_version": "1.4.0",
      "model_name": "AccordionModel",
      "state": {
       "_titles": {
        "0": "Procedure",
        "1": "Parameters"
       },
       "children": [
        "IPY_MODEL_d4db148080c74bd7aed6f02aa4e11392",
        "IPY_MODEL_455085f225f54f7b9eb7cb1102ce6a7f"
       ],
       "layout": "IPY_MODEL_4267819d64ff4db5b23f92e0713729b0",
       "selected_index": null
      }
     },
     "08ebb121a04748ffa47749c2f63a66b9": {
      "model_module": "@jupyter-widgets/base",
      "model_module_version": "1.1.0",
      "model_name": "LayoutModel",
      "state": {}
     },
     "0995624b9d6a46c2832c01c25143c355": {
      "model_module": "@jupyter-widgets/base",
      "model_module_version": "1.1.0",
      "model_name": "LayoutModel",
      "state": {}
     },
     "09add89073594959a6496ce911cbee7b": {
      "model_module": "@jupyter-widgets/controls",
      "model_module_version": "1.4.0",
      "model_name": "VBoxModel",
      "state": {
       "_dom_classes": [
        "widget-interact"
       ],
       "children": [
        "IPY_MODEL_7cdaba6e204f4851840686529a909bcb",
        "IPY_MODEL_7ef3128732c740489c12676a641771b5",
        "IPY_MODEL_7d2e608c84d0443b9d497bcac8d1fb28"
       ],
       "layout": "IPY_MODEL_274242b9da9f4deaba7a9647dee02f69"
      }
     },
     "09d70485eebb427aa7d6a77a50bab9a8": {
      "model_module": "@jupyter-widgets/base",
      "model_module_version": "1.1.0",
      "model_name": "LayoutModel",
      "state": {}
     },
     "09f3fb5a76ea4a1e9da3712c787f178b": {
      "model_module": "@jupyter-widgets/base",
      "model_module_version": "1.1.0",
      "model_name": "LayoutModel",
      "state": {}
     },
     "0a2cb8e6b2154d6c8684a31b873b6466": {
      "model_module": "@jupyter-widgets/controls",
      "model_module_version": "1.4.0",
      "model_name": "VBoxModel",
      "state": {
       "children": [
        "IPY_MODEL_467abf0c84b746629cc02d043f510b3b",
        "IPY_MODEL_f03c702063304900a21b86a1cfc1bc6a",
        "IPY_MODEL_ff2acae77452485ab84e18b41091ce82",
        "IPY_MODEL_85f59b8ac04841dfaa02b062d28f402e",
        "IPY_MODEL_3dc6b39299cb45bd85928756dfe5f459",
        "IPY_MODEL_68d6a562e1904abab58ed04cfe99b19c",
        "IPY_MODEL_8fff40f93750435aa3ec486f0250c736"
       ],
       "layout": "IPY_MODEL_f94d12995bbc4e83b0c782501dee4eb9"
      }
     },
     "0a3c783bb661453e8872d116cb5c6e9a": {
      "model_module": "@jupyter-widgets/controls",
      "model_module_version": "1.4.0",
      "model_name": "ButtonStyleModel",
      "state": {}
     },
     "0aa61640bd834c45bfb58caf99c1c965": {
      "model_module": "@jupyter-widgets/base",
      "model_module_version": "1.1.0",
      "model_name": "LayoutModel",
      "state": {}
     },
     "0b3f762c364b4882b9901aac4ac4e6c4": {
      "model_module": "@jupyter-widgets/controls",
      "model_module_version": "1.4.0",
      "model_name": "FloatTextModel",
      "state": {
       "description": "$Thrombocytes (nl)$",
       "layout": "IPY_MODEL_a1e8865c937746c59e1573e4acc1aa0f",
       "step": null,
       "style": "IPY_MODEL_94ab25d688fc4a889d84a13802b619f1",
       "value": 123
      }
     },
     "0b450072b6554426ad0ca21004970adf": {
      "model_module": "@jupyter-widgets/base",
      "model_module_version": "1.1.0",
      "model_name": "LayoutModel",
      "state": {}
     },
     "0b8d93ee0b4943069b37122db68388f4": {
      "model_module": "@jupyter-widgets/controls",
      "model_module_version": "1.4.0",
      "model_name": "VBoxModel",
      "state": {
       "children": [
        "IPY_MODEL_467abf0c84b746629cc02d043f510b3b",
        "IPY_MODEL_f03c702063304900a21b86a1cfc1bc6a",
        "IPY_MODEL_ff2acae77452485ab84e18b41091ce82",
        "IPY_MODEL_85f59b8ac04841dfaa02b062d28f402e",
        "IPY_MODEL_3dc6b39299cb45bd85928756dfe5f459",
        "IPY_MODEL_68d6a562e1904abab58ed04cfe99b19c",
        "IPY_MODEL_8fff40f93750435aa3ec486f0250c736"
       ],
       "layout": "IPY_MODEL_fccb27892aef4e56a1fa78e779c73547"
      }
     },
     "0bb4d78345244d37a9a659e8c09ffba1": {
      "model_module": "@jupyter-widgets/base",
      "model_module_version": "1.1.0",
      "model_name": "LayoutModel",
      "state": {}
     },
     "0bc4ae9adc6a4a1bb1ac93657219c97c": {
      "model_module": "@jupyter-widgets/controls",
      "model_module_version": "1.4.0",
      "model_name": "VBoxModel",
      "state": {
       "children": [
        "IPY_MODEL_65271b2d6ba04225a86e7fb54c5038e8",
        "IPY_MODEL_f8dfe639e0124489982ce356a2d1a933",
        "IPY_MODEL_5d4a11eb84db4cb5998d8cc77a5aef14",
        "IPY_MODEL_ff95d2463b3e4bb2aff668c03dd0007b",
        "IPY_MODEL_01b9e1c144b14ea29c30c6a91e1c7bfe",
        "IPY_MODEL_4806d09bc54c4ed0989cc4889a2c29e9",
        "IPY_MODEL_1cb4ae54a5eb4305a3d970508ccbc400",
        "IPY_MODEL_076e593c91b343d8b5536922f9af45d8"
       ],
       "layout": "IPY_MODEL_f5098ffd3b2246979c226cd9109c0920"
      }
     },
     "0c04770e48fb44068aa46328e14b646a": {
      "model_module": "@jupyter-widgets/base",
      "model_module_version": "1.1.0",
      "model_name": "LayoutModel",
      "state": {}
     },
     "0c85bee6538e41158e6504bf724c8fc1": {
      "model_module": "@jupyter-widgets/controls",
      "model_module_version": "1.4.0",
      "model_name": "ButtonModel",
      "state": {
       "description": "Run algorithm",
       "layout": "IPY_MODEL_f681395b5d494aeb9fe0a567b1b8a479",
       "style": "IPY_MODEL_459b2b44bcb74656bbea36311317a10a"
      }
     },
     "0c9123add74846109f3ac26f861371ab": {
      "model_module": "@jupyter-widgets/base",
      "model_module_version": "1.1.0",
      "model_name": "LayoutModel",
      "state": {}
     },
     "0cb8ab7505414052bdb0fec82faaa32d": {
      "model_module": "@jupyter-widgets/controls",
      "model_module_version": "1.4.0",
      "model_name": "VBoxModel",
      "state": {
       "children": [
        "IPY_MODEL_eb6c778fff724575a4a42d479ad787b2",
        "IPY_MODEL_e9759c40c67c485cb885dd83d2aedded"
       ],
       "layout": "IPY_MODEL_91c7de4ef6034085bc51592037258e4b"
      }
     },
     "0cd2da172354472cb2dabfd033c3cf32": {
      "model_module": "@jupyter-widgets/base",
      "model_module_version": "1.1.0",
      "model_name": "LayoutModel",
      "state": {}
     },
     "0ce1773351c045d38d34646b44d8c071": {
      "model_module": "@jupyter-widgets/base",
      "model_module_version": "1.1.0",
      "model_name": "LayoutModel",
      "state": {}
     },
     "0ceb14a6b716464bb8e7d001692923b6": {
      "model_module": "@jupyter-widgets/base",
      "model_module_version": "1.1.0",
      "model_name": "LayoutModel",
      "state": {}
     },
     "0cfb78d9bf32409282cb1876cd07b389": {
      "model_module": "@jupyter-widgets/base",
      "model_module_version": "1.1.0",
      "model_name": "LayoutModel",
      "state": {}
     },
     "0d4a5a60c28e4b3c9dbbbdf82b04e614": {
      "model_module": "@jupyter-widgets/base",
      "model_module_version": "1.1.0",
      "model_name": "LayoutModel",
      "state": {}
     },
     "0d576c8112674a6ab9f8910d7645e04e": {
      "model_module": "@jupyter-widgets/output",
      "model_module_version": "1.0.0",
      "model_name": "OutputModel",
      "state": {
       "layout": "IPY_MODEL_28185d97e9304b4889023abf4409402a"
      }
     },
     "0d58ba0321fe40afa6d55f10b482468a": {
      "model_module": "@jupyter-widgets/base",
      "model_module_version": "1.1.0",
      "model_name": "LayoutModel",
      "state": {}
     },
     "0def062cc5a84a448e6c9b0f5327e9d6": {
      "model_module": "@jupyter-widgets/base",
      "model_module_version": "1.1.0",
      "model_name": "LayoutModel",
      "state": {}
     },
     "0e4126ccd286467a883a982be06bb917": {
      "model_module": "@jupyter-widgets/base",
      "model_module_version": "1.1.0",
      "model_name": "LayoutModel",
      "state": {}
     },
     "0ef7f23adad441d7b8996749d12ba178": {
      "model_module": "@jupyter-widgets/base",
      "model_module_version": "1.1.0",
      "model_name": "LayoutModel",
      "state": {}
     },
     "0f02522df09541e985ef959284e25624": {
      "model_module": "@jupyter-widgets/base",
      "model_module_version": "1.1.0",
      "model_name": "LayoutModel",
      "state": {}
     },
     "0f19bc919c2d4d3dadb48fb13608e2f0": {
      "model_module": "@jupyter-widgets/controls",
      "model_module_version": "1.4.0",
      "model_name": "VBoxModel",
      "state": {
       "children": [
        "IPY_MODEL_c1578d17cde34390a10ea30c137e9f27",
        "IPY_MODEL_583c9e86be7d49f3b6ac4cb767e1e688",
        "IPY_MODEL_aa07063666e443dc97ea0bba6dfee03b",
        "IPY_MODEL_d64ebb419a7d4757b8a3499a0e4c07ab",
        "IPY_MODEL_88ba9983c9f2410d9513f064b2bd0a4e",
        "IPY_MODEL_4732a9d1bbf74747993edc5f3be4b325",
        "IPY_MODEL_6a94faccf3c34e84820a75d4ac624fa2",
        "IPY_MODEL_dc8b693a0380475a9521504abae7880f"
       ],
       "layout": "IPY_MODEL_dd4079efea914fc09b9bdeef06d02791"
      }
     },
     "0f1a10b8a9c340ceb5b68b149196c0cb": {
      "model_module": "@jupyter-widgets/base",
      "model_module_version": "1.1.0",
      "model_name": "LayoutModel",
      "state": {}
     },
     "0f3ebabcfc22479a9bee3715d7bfb6e4": {
      "model_module": "@jupyter-widgets/output",
      "model_module_version": "1.0.0",
      "model_name": "OutputModel",
      "state": {
       "layout": "IPY_MODEL_72afaea95441414697c6b18fae4f9ab1"
      }
     },
     "0fc5c9c1a389466ba564386f3ed45ee0": {
      "model_module": "@jupyter-widgets/base",
      "model_module_version": "1.1.0",
      "model_name": "LayoutModel",
      "state": {}
     },
     "0ffc3ffed04a4b03ad3d101fdd27afe4": {
      "model_module": "@jupyter-widgets/output",
      "model_module_version": "1.0.0",
      "model_name": "OutputModel",
      "state": {
       "layout": "IPY_MODEL_57f65d25983b4aa1a7b8ebd95c1c0491"
      }
     },
     "100ca0eb7d914381bc9639dc141ae757": {
      "model_module": "@jupyter-widgets/controls",
      "model_module_version": "1.4.0",
      "model_name": "VBoxModel",
      "state": {
       "_dom_classes": [
        "widget-interact"
       ],
       "children": [
        "IPY_MODEL_467abf0c84b746629cc02d043f510b3b",
        "IPY_MODEL_f03c702063304900a21b86a1cfc1bc6a",
        "IPY_MODEL_ff2acae77452485ab84e18b41091ce82",
        "IPY_MODEL_85f59b8ac04841dfaa02b062d28f402e",
        "IPY_MODEL_3dc6b39299cb45bd85928756dfe5f459",
        "IPY_MODEL_68d6a562e1904abab58ed04cfe99b19c",
        "IPY_MODEL_8fff40f93750435aa3ec486f0250c736",
        "IPY_MODEL_c1578d17cde34390a10ea30c137e9f27",
        "IPY_MODEL_583c9e86be7d49f3b6ac4cb767e1e688",
        "IPY_MODEL_aa07063666e443dc97ea0bba6dfee03b",
        "IPY_MODEL_d64ebb419a7d4757b8a3499a0e4c07ab",
        "IPY_MODEL_88ba9983c9f2410d9513f064b2bd0a4e",
        "IPY_MODEL_4732a9d1bbf74747993edc5f3be4b325",
        "IPY_MODEL_6a94faccf3c34e84820a75d4ac624fa2",
        "IPY_MODEL_dc8b693a0380475a9521504abae7880f",
        "IPY_MODEL_55a9975ae1734e85adb5daa4974cb707"
       ],
       "layout": "IPY_MODEL_12e1b329481344b3b1f0d7083f80ef82"
      }
     },
     "1011e78aac7947f784c7cf3e8c141384": {
      "model_module": "@jupyter-widgets/base",
      "model_module_version": "1.1.0",
      "model_name": "LayoutModel",
      "state": {}
     },
     "1020ccba73ea4458af314d43a5cefa66": {
      "model_module": "@jupyter-widgets/controls",
      "model_module_version": "1.4.0",
      "model_name": "HBoxModel",
      "state": {
       "children": [
        "IPY_MODEL_b3c2f37c254c40e7bc004129def64312"
       ],
       "layout": "IPY_MODEL_da004d749a3247f9abe5040c247e6dbd"
      }
     },
     "1030513b62a548d4a9bafb581f524d84": {
      "model_module": "@jupyter-widgets/base",
      "model_module_version": "1.1.0",
      "model_name": "LayoutModel",
      "state": {}
     },
     "1059fa5b0e5a43288723bc3b29dc57aa": {
      "model_module": "@jupyter-widgets/controls",
      "model_module_version": "1.4.0",
      "model_name": "VBoxModel",
      "state": {
       "_dom_classes": [
        "widget-interact"
       ],
       "children": [
        "IPY_MODEL_7cdaba6e204f4851840686529a909bcb",
        "IPY_MODEL_7ef3128732c740489c12676a641771b5",
        "IPY_MODEL_2c863ec37ccf472ab557d4b1b65caf10"
       ],
       "layout": "IPY_MODEL_46cdd9a4d62b4b2fb321181baaab8131"
      }
     },
     "10657d91656e410a9af486d9c292c429": {
      "model_module": "@jupyter-widgets/base",
      "model_module_version": "1.1.0",
      "model_name": "LayoutModel",
      "state": {}
     },
     "106c3b9e2f804fe88709e5ea1a01db1c": {
      "model_module": "@jupyter-widgets/base",
      "model_module_version": "1.1.0",
      "model_name": "LayoutModel",
      "state": {}
     },
     "10a505e992f1444d8ba4c815288a72fb": {
      "model_module": "@jupyter-widgets/base",
      "model_module_version": "1.1.0",
      "model_name": "LayoutModel",
      "state": {}
     },
     "10e0fe37c4d4490ba3d504827e343e71": {
      "model_module": "@jupyter-widgets/output",
      "model_module_version": "1.0.0",
      "model_name": "OutputModel",
      "state": {
       "layout": "IPY_MODEL_d110f0502aca4f79a3ad994bbc4631c4"
      }
     },
     "11030600831048c4a908694c1c9dfc1f": {
      "model_module": "@jupyter-widgets/base",
      "model_module_version": "1.1.0",
      "model_name": "LayoutModel",
      "state": {}
     },
     "1103f81083fc4289b0ccf79c73a96165": {
      "model_module": "@jupyter-widgets/controls",
      "model_module_version": "1.4.0",
      "model_name": "AccordionModel",
      "state": {
       "_titles": {
        "0": "Procedure",
        "1": "Parameters"
       },
       "children": [
        "IPY_MODEL_60487325874c4f75b382ef84e02483c7",
        "IPY_MODEL_62560f2fb6ef40e9a22f71e31aef70e7"
       ],
       "layout": "IPY_MODEL_e0a8719058114af3b2a2aa0054f0423e",
       "selected_index": 1
      }
     },
     "11665ca80fd143e9b2a2f77bac60da9b": {
      "model_module": "@jupyter-widgets/controls",
      "model_module_version": "1.4.0",
      "model_name": "AccordionModel",
      "state": {
       "_titles": {
        "0": "Procedure",
        "1": "Parameters"
       },
       "children": [
        "IPY_MODEL_7f0eed62bbb2492fab98e9b934562472",
        "IPY_MODEL_1df992359a504f528c4ceaceba037645"
       ],
       "layout": "IPY_MODEL_a4051002e494411dabf558e924004cd9",
       "selected_index": 1
      }
     },
     "11aa372ec91a4d0586a8f23e8b7fe85e": {
      "model_module": "@jupyter-widgets/controls",
      "model_module_version": "1.4.0",
      "model_name": "ButtonStyleModel",
      "state": {}
     },
     "12840763a6e54e40b646a97eec827e4f": {
      "model_module": "@jupyter-widgets/output",
      "model_module_version": "1.0.0",
      "model_name": "OutputModel",
      "state": {
       "layout": "IPY_MODEL_6e416ba78fd94e98a5f25b579b30d49d"
      }
     },
     "1284837f86cf492bab0904ab94c0182a": {
      "model_module": "@jupyter-widgets/base",
      "model_module_version": "1.1.0",
      "model_name": "LayoutModel",
      "state": {}
     },
     "12b7e8577edb4171ab9c2df9f227a22d": {
      "model_module": "@jupyter-widgets/controls",
      "model_module_version": "1.4.0",
      "model_name": "VBoxModel",
      "state": {
       "children": [
        "IPY_MODEL_7cdaba6e204f4851840686529a909bcb",
        "IPY_MODEL_7ef3128732c740489c12676a641771b5"
       ],
       "layout": "IPY_MODEL_94d3d281083f43d29f848ff8d7333b8d"
      }
     },
     "12bfc887fd6f480e951ed6b535a087ef": {
      "model_module": "@jupyter-widgets/base",
      "model_module_version": "1.1.0",
      "model_name": "LayoutModel",
      "state": {}
     },
     "12e1b329481344b3b1f0d7083f80ef82": {
      "model_module": "@jupyter-widgets/base",
      "model_module_version": "1.1.0",
      "model_name": "LayoutModel",
      "state": {}
     },
     "130f0f266a6e49aabe303fc1fc303e2a": {
      "model_module": "@jupyter-widgets/output",
      "model_module_version": "1.0.0",
      "model_name": "OutputModel",
      "state": {
       "layout": "IPY_MODEL_9090879dd7004d1a86201b3262ec6775"
      }
     },
     "133ae1ec56d6429fb9e1cf2fcaa8a428": {
      "model_module": "@jupyter-widgets/controls",
      "model_module_version": "1.4.0",
      "model_name": "VBoxModel",
      "state": {
       "_dom_classes": [
        "widget-interact"
       ],
       "children": [
        "IPY_MODEL_7cdaba6e204f4851840686529a909bcb",
        "IPY_MODEL_7ef3128732c740489c12676a641771b5",
        "IPY_MODEL_24ad8b2d486146e28e4728fc0d663550"
       ],
       "layout": "IPY_MODEL_2deac5a200a54080948c976733473d7e"
      }
     },
     "1393063e9e354fcca89ec7317c4c25b9": {
      "model_module": "@jupyter-widgets/controls",
      "model_module_version": "1.4.0",
      "model_name": "AccordionModel",
      "state": {
       "_titles": {
        "0": "Procedure",
        "1": "Parameters"
       },
       "children": [
        "IPY_MODEL_ef0a474365574ebe9248b8df211de238",
        "IPY_MODEL_c01e2833eed84f02beba23e6e0cb5a26"
       ],
       "layout": "IPY_MODEL_e067fefc7c7b46d3a6b7413e73a6cf01"
      }
     },
     "13b022a7aa3b4313bc4c482f0453e2a9": {
      "model_module": "@jupyter-widgets/base",
      "model_module_version": "1.1.0",
      "model_name": "LayoutModel",
      "state": {}
     },
     "13dfdfbc58034fef879b0c373ca57d23": {
      "model_module": "@jupyter-widgets/controls",
      "model_module_version": "1.4.0",
      "model_name": "HBoxModel",
      "state": {
       "children": [
        "IPY_MODEL_80019e50e8f54adc85db68e11188f224",
        "IPY_MODEL_7c03224791704e5390be81b95d3def89"
       ],
       "layout": "IPY_MODEL_d2a011c4d6e04fb2aff8c9a2a37e13d1"
      }
     },
     "13ea7b3345cb485c9f648a46627c2393": {
      "model_module": "@jupyter-widgets/controls",
      "model_module_version": "1.4.0",
      "model_name": "ButtonModel",
      "state": {
       "description": "Run algorithm",
       "layout": "IPY_MODEL_63e34bdf3b9b48b6b595e140c1de60e2",
       "style": "IPY_MODEL_947b81e4d6f240eca1af3dac13654203"
      }
     },
     "13eb300774c045d9a678fd1d8508914c": {
      "model_module": "@jupyter-widgets/controls",
      "model_module_version": "1.4.0",
      "model_name": "AccordionModel",
      "state": {
       "_titles": {
        "0": "Procedure",
        "1": "Parameters"
       },
       "children": [
        "IPY_MODEL_c57ea126b74c4b94b3f7e7bccd4e4f1c",
        "IPY_MODEL_c018718cd4cd47fa94b2c553b00fcf50"
       ],
       "layout": "IPY_MODEL_6cd3c89fc7d2438bbabea9d94b09d8ff",
       "selected_index": 1
      }
     },
     "13f5b705503d4dd192202025059e1a21": {
      "model_module": "@jupyter-widgets/base",
      "model_module_version": "1.1.0",
      "model_name": "LayoutModel",
      "state": {}
     },
     "1411ce46744d485a94a215bb02bd87fb": {
      "model_module": "@jupyter-widgets/controls",
      "model_module_version": "1.4.0",
      "model_name": "ButtonStyleModel",
      "state": {}
     },
     "1413195a48f7403a82999bdc59d2dc23": {
      "model_module": "@jupyter-widgets/base",
      "model_module_version": "1.1.0",
      "model_name": "LayoutModel",
      "state": {}
     },
     "1479eeb31f0248bcabd8ee5b5dba196d": {
      "model_module": "@jupyter-widgets/base",
      "model_module_version": "1.1.0",
      "model_name": "LayoutModel",
      "state": {}
     },
     "14864b47fd3049ad9bbde4011accf75f": {
      "model_module": "@jupyter-widgets/base",
      "model_module_version": "1.1.0",
      "model_name": "LayoutModel",
      "state": {}
     },
     "14db9f920ddf48b0ba2e0197af9eb3b1": {
      "model_module": "@jupyter-widgets/base",
      "model_module_version": "1.1.0",
      "model_name": "LayoutModel",
      "state": {}
     },
     "14e909001f634c3896a9d6da18dcb267": {
      "model_module": "@jupyter-widgets/base",
      "model_module_version": "1.1.0",
      "model_name": "LayoutModel",
      "state": {}
     },
     "14fa0743109244ccbeed833de0791e2b": {
      "model_module": "@jupyter-widgets/base",
      "model_module_version": "1.1.0",
      "model_name": "LayoutModel",
      "state": {}
     },
     "15438d7091a6414b83ad91fb490d6e34": {
      "model_module": "@jupyter-widgets/base",
      "model_module_version": "1.1.0",
      "model_name": "LayoutModel",
      "state": {}
     },
     "158d989f5b3c4a4ab516b083b95efedf": {
      "model_module": "@jupyter-widgets/controls",
      "model_module_version": "1.4.0",
      "model_name": "VBoxModel",
      "state": {
       "children": [
        "IPY_MODEL_467abf0c84b746629cc02d043f510b3b",
        "IPY_MODEL_f03c702063304900a21b86a1cfc1bc6a",
        "IPY_MODEL_ff2acae77452485ab84e18b41091ce82",
        "IPY_MODEL_85f59b8ac04841dfaa02b062d28f402e",
        "IPY_MODEL_3dc6b39299cb45bd85928756dfe5f459",
        "IPY_MODEL_68d6a562e1904abab58ed04cfe99b19c",
        "IPY_MODEL_8fff40f93750435aa3ec486f0250c736"
       ],
       "layout": "IPY_MODEL_aaec859cb4a64734957929930d986599"
      }
     },
     "15fd1d7d509c4184bf915369d065eb7e": {
      "model_module": "@jupyter-widgets/controls",
      "model_module_version": "1.4.0",
      "model_name": "ButtonStyleModel",
      "state": {}
     },
     "15fe6e5dbbb44f6a90bf5409c70ffc92": {
      "model_module": "@jupyter-widgets/base",
      "model_module_version": "1.1.0",
      "model_name": "LayoutModel",
      "state": {}
     },
     "165028a1dd584f96bb98b039e9b33ff8": {
      "model_module": "@jupyter-widgets/controls",
      "model_module_version": "1.4.0",
      "model_name": "ButtonStyleModel",
      "state": {}
     },
     "16525fe1680c4d47be80f484148d0c31": {
      "model_module": "@jupyter-widgets/controls",
      "model_module_version": "1.4.0",
      "model_name": "VBoxModel",
      "state": {
       "children": [
        "IPY_MODEL_7cdaba6e204f4851840686529a909bcb",
        "IPY_MODEL_7ef3128732c740489c12676a641771b5"
       ],
       "layout": "IPY_MODEL_4ce2a114a73a4d329bd74076f702e59d"
      }
     },
     "16a23a723c604641af0fca657e920532": {
      "model_module": "@jupyter-widgets/output",
      "model_module_version": "1.0.0",
      "model_name": "OutputModel",
      "state": {
       "layout": "IPY_MODEL_0ef7f23adad441d7b8996749d12ba178"
      }
     },
     "16b1bb1f02204350be66ae9d13b06373": {
      "model_module": "@jupyter-widgets/base",
      "model_module_version": "1.1.0",
      "model_name": "LayoutModel",
      "state": {}
     },
     "16b1ee55b1254fca8a73de4aa139bb25": {
      "model_module": "@jupyter-widgets/base",
      "model_module_version": "1.1.0",
      "model_name": "LayoutModel",
      "state": {}
     },
     "16b3184266a041a985ba4de6f857ba41": {
      "model_module": "@jupyter-widgets/base",
      "model_module_version": "1.1.0",
      "model_name": "LayoutModel",
      "state": {}
     },
     "16e119f97c374fc1bca8e93b8869aa37": {
      "model_module": "@jupyter-widgets/base",
      "model_module_version": "1.1.0",
      "model_name": "LayoutModel",
      "state": {}
     },
     "16e50acdf4bb4cf8a0007f158b84a9aa": {
      "model_module": "@jupyter-widgets/output",
      "model_module_version": "1.0.0",
      "model_name": "OutputModel",
      "state": {
       "layout": "IPY_MODEL_9809b47bdfe845b08e9ef4d8d9f9b4cb"
      }
     },
     "16f6a0a0996e430a9c7a44769d19f0fa": {
      "model_module": "@jupyter-widgets/controls",
      "model_module_version": "1.4.0",
      "model_name": "HBoxModel",
      "state": {
       "children": [
        "IPY_MODEL_d2c9467874964cd4b63127aa3a15f82a",
        "IPY_MODEL_9b6c62b166494e02acb16aed90f1c98e"
       ],
       "layout": "IPY_MODEL_c4024b8dc33744a2b20bf6fd78ae9feb"
      }
     },
     "17f01de42e0b462aa98669fcf846c2d5": {
      "model_module": "@jupyter-widgets/controls",
      "model_module_version": "1.4.0",
      "model_name": "AccordionModel",
      "state": {
       "_titles": {
        "0": "Procedure",
        "1": "Parameters"
       },
       "children": [
        "IPY_MODEL_66f69d8f00d946a39962b9a285ecb2ec",
        "IPY_MODEL_dca27b7ffe1e4955bec8a291f779c1e1"
       ],
       "layout": "IPY_MODEL_ac752aff239045ef9b86283ae5d484a5",
       "selected_index": 1
      }
     },
     "17fb2820b5d943969620ed9c55701d89": {
      "model_module": "@jupyter-widgets/base",
      "model_module_version": "1.1.0",
      "model_name": "LayoutModel",
      "state": {}
     },
     "1816028f836b4592b595d2f97971cca1": {
      "model_module": "@jupyter-widgets/base",
      "model_module_version": "1.1.0",
      "model_name": "LayoutModel",
      "state": {}
     },
     "186272862a5f41be8a0d764fca749a70": {
      "model_module": "@jupyter-widgets/controls",
      "model_module_version": "1.4.0",
      "model_name": "ButtonStyleModel",
      "state": {}
     },
     "18aa49cb8080400c94bdaf7bf2be2308": {
      "model_module": "@jupyter-widgets/base",
      "model_module_version": "1.1.0",
      "model_name": "LayoutModel",
      "state": {}
     },
     "18bdccb9b35e4d988b189eaba03c6dd4": {
      "model_module": "@jupyter-widgets/controls",
      "model_module_version": "1.4.0",
      "model_name": "ButtonStyleModel",
      "state": {}
     },
     "18fa32deede1422eba2a79ea8841561c": {
      "model_module": "@jupyter-widgets/controls",
      "model_module_version": "1.4.0",
      "model_name": "AccordionModel",
      "state": {
       "_titles": {
        "0": "Procedure",
        "1": "Parameters"
       },
       "children": [
        "IPY_MODEL_e9f727e0504c4e629eaa9b867231ee7a",
        "IPY_MODEL_faea179e3ddf49128a5791f0c0e3b741"
       ],
       "layout": "IPY_MODEL_4c89c4dc64564d7a842d4bc4c60f92ea",
       "selected_index": 1
      }
     },
     "18fa3341a97940ea99226419d632b96b": {
      "model_module": "@jupyter-widgets/base",
      "model_module_version": "1.1.0",
      "model_name": "LayoutModel",
      "state": {}
     },
     "18fb9da68e6d4114b47a6bd4e5329157": {
      "model_module": "@jupyter-widgets/controls",
      "model_module_version": "1.4.0",
      "model_name": "VBoxModel",
      "state": {
       "children": [
        "IPY_MODEL_26607050539d4501a93c60ff68432068",
        "IPY_MODEL_ba8ac0399e84486593826ea2cbf0eeb7"
       ],
       "layout": "IPY_MODEL_41c3a2ffc92e4451935cc02871eb5b0c"
      }
     },
     "192cb1329b524ca982e1df6349bbf84d": {
      "model_module": "@jupyter-widgets/base",
      "model_module_version": "1.1.0",
      "model_name": "LayoutModel",
      "state": {}
     },
     "192f9e9772ad42fc997926885e3ea642": {
      "model_module": "@jupyter-widgets/output",
      "model_module_version": "1.0.0",
      "model_name": "OutputModel",
      "state": {
       "layout": "IPY_MODEL_b88b27221d1e4929ad7020a761d1a120"
      }
     },
     "19313eb202c6494195d28c810f96c2f9": {
      "model_module": "@jupyter-widgets/base",
      "model_module_version": "1.1.0",
      "model_name": "LayoutModel",
      "state": {}
     },
     "193d27287b1b408b995d28862f03a772": {
      "model_module": "@jupyter-widgets/controls",
      "model_module_version": "1.4.0",
      "model_name": "VBoxModel",
      "state": {
       "_dom_classes": [
        "widget-interact"
       ],
       "children": [
        "IPY_MODEL_467abf0c84b746629cc02d043f510b3b",
        "IPY_MODEL_f03c702063304900a21b86a1cfc1bc6a",
        "IPY_MODEL_ff2acae77452485ab84e18b41091ce82",
        "IPY_MODEL_85f59b8ac04841dfaa02b062d28f402e",
        "IPY_MODEL_3dc6b39299cb45bd85928756dfe5f459",
        "IPY_MODEL_68d6a562e1904abab58ed04cfe99b19c",
        "IPY_MODEL_8fff40f93750435aa3ec486f0250c736",
        "IPY_MODEL_c1578d17cde34390a10ea30c137e9f27",
        "IPY_MODEL_583c9e86be7d49f3b6ac4cb767e1e688",
        "IPY_MODEL_aa07063666e443dc97ea0bba6dfee03b",
        "IPY_MODEL_d64ebb419a7d4757b8a3499a0e4c07ab",
        "IPY_MODEL_88ba9983c9f2410d9513f064b2bd0a4e",
        "IPY_MODEL_4732a9d1bbf74747993edc5f3be4b325",
        "IPY_MODEL_6a94faccf3c34e84820a75d4ac624fa2",
        "IPY_MODEL_dc8b693a0380475a9521504abae7880f",
        "IPY_MODEL_445e229f9b614f22b9311cf9b866df82"
       ],
       "layout": "IPY_MODEL_b2c069a1e7a94726b19b0cdc01222e38"
      }
     },
     "19422413f46c4380bb60e5574e865dbf": {
      "model_module": "@jupyter-widgets/controls",
      "model_module_version": "1.4.0",
      "model_name": "VBoxModel",
      "state": {
       "children": [
        "IPY_MODEL_c1578d17cde34390a10ea30c137e9f27",
        "IPY_MODEL_583c9e86be7d49f3b6ac4cb767e1e688",
        "IPY_MODEL_aa07063666e443dc97ea0bba6dfee03b",
        "IPY_MODEL_d64ebb419a7d4757b8a3499a0e4c07ab",
        "IPY_MODEL_88ba9983c9f2410d9513f064b2bd0a4e",
        "IPY_MODEL_4732a9d1bbf74747993edc5f3be4b325",
        "IPY_MODEL_6a94faccf3c34e84820a75d4ac624fa2",
        "IPY_MODEL_dc8b693a0380475a9521504abae7880f"
       ],
       "layout": "IPY_MODEL_9b156fba1ac24fc1b25d740d9ac72404"
      }
     },
     "19750573e98c4a2eb111b7fb86747c6a": {
      "model_module": "@jupyter-widgets/controls",
      "model_module_version": "1.4.0",
      "model_name": "ButtonModel",
      "state": {
       "description": "Run algorithm",
       "layout": "IPY_MODEL_8fb3b1f969bd41458e340bf03df34533",
       "style": "IPY_MODEL_51c0bd877cdc409da5b23cc92094d608"
      }
     },
     "198592abf9974315b91998b9ce958654": {
      "model_module": "@jupyter-widgets/base",
      "model_module_version": "1.1.0",
      "model_name": "LayoutModel",
      "state": {}
     },
     "1986bcd5c0f04c538552a027af7a41ec": {
      "model_module": "@jupyter-widgets/controls",
      "model_module_version": "1.4.0",
      "model_name": "VBoxModel",
      "state": {
       "children": [
        "IPY_MODEL_7cdaba6e204f4851840686529a909bcb",
        "IPY_MODEL_7ef3128732c740489c12676a641771b5"
       ],
       "layout": "IPY_MODEL_9548d98694af405ab993c3939c4a7518"
      }
     },
     "1992d7b07ecc4119855c1b4d810c3754": {
      "model_module": "@jupyter-widgets/base",
      "model_module_version": "1.1.0",
      "model_name": "LayoutModel",
      "state": {}
     },
     "19a251a8064d4f2780d3849d4e6c8dc4": {
      "model_module": "@jupyter-widgets/base",
      "model_module_version": "1.1.0",
      "model_name": "LayoutModel",
      "state": {}
     },
     "19e2c171fc18461d90d2d4d1c79d1a3c": {
      "model_module": "@jupyter-widgets/base",
      "model_module_version": "1.1.0",
      "model_name": "LayoutModel",
      "state": {}
     },
     "19f87e9e171c4d48a0926201c18b1e31": {
      "model_module": "@jupyter-widgets/controls",
      "model_module_version": "1.4.0",
      "model_name": "ButtonModel",
      "state": {
       "description": "Run algorithm",
       "layout": "IPY_MODEL_c1f1f88dc7d54b448690702b7bc1ccd1",
       "style": "IPY_MODEL_6f9315a7eb304bb68f7addac434e6fb7"
      }
     },
     "1a03e9857418490abc5187a499fee418": {
      "model_module": "@jupyter-widgets/base",
      "model_module_version": "1.1.0",
      "model_name": "LayoutModel",
      "state": {}
     },
     "1a044a1b842b4748ab9b4d806e674f39": {
      "model_module": "@jupyter-widgets/base",
      "model_module_version": "1.1.0",
      "model_name": "LayoutModel",
      "state": {}
     },
     "1a574812d4314fc0b8641a289584aecd": {
      "model_module": "@jupyter-widgets/base",
      "model_module_version": "1.1.0",
      "model_name": "LayoutModel",
      "state": {}
     },
     "1a5b1ce7151b4d818d25d071ae4738f7": {
      "model_module": "@jupyter-widgets/controls",
      "model_module_version": "1.4.0",
      "model_name": "HBoxModel",
      "state": {
       "children": [
        "IPY_MODEL_471b35033c4e4a738d19e24e87bfd085",
        "IPY_MODEL_314fa5936c79484c8a29d69dbbf96ff5"
       ],
       "layout": "IPY_MODEL_be24ccdd13544c27acfeb3bd4d89d1df"
      }
     },
     "1a6ecb004d0044fdb5d07bed9b71e4ca": {
      "model_module": "@jupyter-widgets/base",
      "model_module_version": "1.1.0",
      "model_name": "LayoutModel",
      "state": {}
     },
     "1a7da16ca47d49f5bd954f30322e9386": {
      "model_module": "@jupyter-widgets/controls",
      "model_module_version": "1.4.0",
      "model_name": "VBoxModel",
      "state": {
       "_dom_classes": [
        "widget-interact"
       ],
       "children": [
        "IPY_MODEL_0b3f762c364b4882b9901aac4ac4e6c4",
        "IPY_MODEL_dbdd580e126848b6967051d5339a309a",
        "IPY_MODEL_9ffe039643b445f19fad43330e0bbc9b",
        "IPY_MODEL_f3bb704c1b7d437784bcd24c9fc4328c",
        "IPY_MODEL_37bf47de8ebb46e7bbdaa6cb658a836b",
        "IPY_MODEL_9d64c2da1a454b0f99be8fc3a30ed8e4",
        "IPY_MODEL_78c1adf0a92940e397d9b6e635a164bf",
        "IPY_MODEL_adb1524dbc9446f88500930b1cbae126",
        "IPY_MODEL_e2f9b28d2b0044b0bbe579fcaf1539de",
        "IPY_MODEL_aacaa0400e6243419a526a1a81728ee1",
        "IPY_MODEL_da2283904ce54cae83eb251736dc789e",
        "IPY_MODEL_1d293bac518844ab98f80e608d5e1ac5",
        "IPY_MODEL_d299703f46714aab8fb53de70fddf595",
        "IPY_MODEL_2346e45bf6d246dca8bc952045fc3e37",
        "IPY_MODEL_279ca9eda5f24edd85429db6823040ba",
        "IPY_MODEL_0ffc3ffed04a4b03ad3d101fdd27afe4"
       ],
       "layout": "IPY_MODEL_bdb7ab12ffb64109ac86ca096385a086"
      }
     },
     "1a800ee22f1746d8ba120ac2b3ef2cc8": {
      "model_module": "@jupyter-widgets/controls",
      "model_module_version": "1.4.0",
      "model_name": "ButtonStyleModel",
      "state": {}
     },
     "1a8e304e5aa9425d9041e8e4807df764": {
      "model_module": "@jupyter-widgets/controls",
      "model_module_version": "1.4.0",
      "model_name": "VBoxModel",
      "state": {
       "children": [
        "IPY_MODEL_adb1524dbc9446f88500930b1cbae126",
        "IPY_MODEL_e2f9b28d2b0044b0bbe579fcaf1539de",
        "IPY_MODEL_aacaa0400e6243419a526a1a81728ee1",
        "IPY_MODEL_da2283904ce54cae83eb251736dc789e",
        "IPY_MODEL_1d293bac518844ab98f80e608d5e1ac5",
        "IPY_MODEL_d299703f46714aab8fb53de70fddf595",
        "IPY_MODEL_2346e45bf6d246dca8bc952045fc3e37",
        "IPY_MODEL_279ca9eda5f24edd85429db6823040ba"
       ],
       "layout": "IPY_MODEL_86a4db3c4c0b4dbb81ad8720b2533a55"
      }
     },
     "1a90c2b6a73441559bf1217734a54e09": {
      "model_module": "@jupyter-widgets/controls",
      "model_module_version": "1.4.0",
      "model_name": "HBoxModel",
      "state": {
       "children": [
        "IPY_MODEL_36a62eec19654329a159cfa356e15371",
        "IPY_MODEL_c03901949d5940e7b33ec733c6ebdfa3"
       ],
       "layout": "IPY_MODEL_32083f42d4e345fba785b86b0ffff0ba"
      }
     },
     "1aa3aeffd85b4b2fb4e2f77bb7b0468d": {
      "model_module": "@jupyter-widgets/controls",
      "model_module_version": "1.4.0",
      "model_name": "VBoxModel",
      "state": {
       "_dom_classes": [
        "widget-interact"
       ],
       "children": [
        "IPY_MODEL_467abf0c84b746629cc02d043f510b3b",
        "IPY_MODEL_f03c702063304900a21b86a1cfc1bc6a",
        "IPY_MODEL_ff2acae77452485ab84e18b41091ce82",
        "IPY_MODEL_85f59b8ac04841dfaa02b062d28f402e",
        "IPY_MODEL_3dc6b39299cb45bd85928756dfe5f459",
        "IPY_MODEL_68d6a562e1904abab58ed04cfe99b19c",
        "IPY_MODEL_8fff40f93750435aa3ec486f0250c736",
        "IPY_MODEL_c1578d17cde34390a10ea30c137e9f27",
        "IPY_MODEL_583c9e86be7d49f3b6ac4cb767e1e688",
        "IPY_MODEL_aa07063666e443dc97ea0bba6dfee03b",
        "IPY_MODEL_d64ebb419a7d4757b8a3499a0e4c07ab",
        "IPY_MODEL_88ba9983c9f2410d9513f064b2bd0a4e",
        "IPY_MODEL_4732a9d1bbf74747993edc5f3be4b325",
        "IPY_MODEL_6a94faccf3c34e84820a75d4ac624fa2",
        "IPY_MODEL_dc8b693a0380475a9521504abae7880f",
        "IPY_MODEL_03e7a6660d4640fca82b3115ff8e6adf"
       ],
       "layout": "IPY_MODEL_fdffbff461ad4a18bb5aecf58db72d9c"
      }
     },
     "1ae122ed6bdf49bba2fe14e8b523ed4b": {
      "model_module": "@jupyter-widgets/base",
      "model_module_version": "1.1.0",
      "model_name": "LayoutModel",
      "state": {}
     },
     "1af9207789114015ab0b2139bdf41a37": {
      "model_module": "@jupyter-widgets/base",
      "model_module_version": "1.1.0",
      "model_name": "LayoutModel",
      "state": {}
     },
     "1b17e50084884948945dffbdb228b1ab": {
      "model_module": "@jupyter-widgets/controls",
      "model_module_version": "1.4.0",
      "model_name": "VBoxModel",
      "state": {
       "children": [
        "IPY_MODEL_467abf0c84b746629cc02d043f510b3b",
        "IPY_MODEL_f03c702063304900a21b86a1cfc1bc6a",
        "IPY_MODEL_ff2acae77452485ab84e18b41091ce82",
        "IPY_MODEL_85f59b8ac04841dfaa02b062d28f402e",
        "IPY_MODEL_3dc6b39299cb45bd85928756dfe5f459",
        "IPY_MODEL_68d6a562e1904abab58ed04cfe99b19c",
        "IPY_MODEL_8fff40f93750435aa3ec486f0250c736"
       ],
       "layout": "IPY_MODEL_cd065c61a4cf44a6a1913d807228f88b"
      }
     },
     "1c4d07b841cd412faa39cbf465978dc1": {
      "model_module": "@jupyter-widgets/base",
      "model_module_version": "1.1.0",
      "model_name": "LayoutModel",
      "state": {}
     },
     "1c538124bd09428ab25313781dbcdd0c": {
      "model_module": "@jupyter-widgets/base",
      "model_module_version": "1.1.0",
      "model_name": "LayoutModel",
      "state": {}
     },
     "1c7a410e15f44f55b6527152f6540701": {
      "model_module": "@jupyter-widgets/controls",
      "model_module_version": "1.4.0",
      "model_name": "VBoxModel",
      "state": {
       "children": [
        "IPY_MODEL_467abf0c84b746629cc02d043f510b3b",
        "IPY_MODEL_f03c702063304900a21b86a1cfc1bc6a",
        "IPY_MODEL_ff2acae77452485ab84e18b41091ce82",
        "IPY_MODEL_85f59b8ac04841dfaa02b062d28f402e",
        "IPY_MODEL_3dc6b39299cb45bd85928756dfe5f459",
        "IPY_MODEL_68d6a562e1904abab58ed04cfe99b19c",
        "IPY_MODEL_8fff40f93750435aa3ec486f0250c736"
       ],
       "layout": "IPY_MODEL_7f893e4a6b4540168dcfd8085c666524"
      }
     },
     "1c9b68dc3288476998a35c872f2b5e83": {
      "model_module": "@jupyter-widgets/controls",
      "model_module_version": "1.4.0",
      "model_name": "VBoxModel",
      "state": {
       "_dom_classes": [
        "widget-interact"
       ],
       "children": [
        "IPY_MODEL_7cdaba6e204f4851840686529a909bcb",
        "IPY_MODEL_7ef3128732c740489c12676a641771b5",
        "IPY_MODEL_c618b190fa1a42d1bdca27bcdc1c1ac8"
       ],
       "layout": "IPY_MODEL_08ebb121a04748ffa47749c2f63a66b9"
      }
     },
     "1cb49e68a33e469dba369972ac927f30": {
      "model_module": "@jupyter-widgets/controls",
      "model_module_version": "1.4.0",
      "model_name": "HBoxModel",
      "state": {
       "children": [
        "IPY_MODEL_a6eaf0aab6484c71a7ba7addbaecafc6",
        "IPY_MODEL_0b8d93ee0b4943069b37122db68388f4"
       ],
       "layout": "IPY_MODEL_243cc0aaf466496db7dfa49a33a7c535"
      }
     },
     "1cb4ae54a5eb4305a3d970508ccbc400": {
      "model_module": "@jupyter-widgets/controls",
      "model_module_version": "1.4.0",
      "model_name": "FloatTextModel",
      "state": {
       "description": "$CT_{Heptem} (s)$",
       "layout": "IPY_MODEL_0d4a5a60c28e4b3c9dbbbdf82b04e614",
       "step": null,
       "style": "IPY_MODEL_dfe1bf72d84748d393d13f1ba295554d",
       "value": "nan"
      }
     },
     "1cc5b92074f44c34a8bb6e0876fc45a3": {
      "model_module": "@jupyter-widgets/controls",
      "model_module_version": "1.4.0",
      "model_name": "VBoxModel",
      "state": {
       "children": [
        "IPY_MODEL_7cdaba6e204f4851840686529a909bcb",
        "IPY_MODEL_7ef3128732c740489c12676a641771b5"
       ],
       "layout": "IPY_MODEL_288bbb17f7a34ef9b81295c2d395df03"
      }
     },
     "1d17bb86b1db4365981c7c71522e1814": {
      "model_module": "@jupyter-widgets/base",
      "model_module_version": "1.1.0",
      "model_name": "LayoutModel",
      "state": {}
     },
     "1d1d42fa315243f6a5e14ee8b49fed3a": {
      "model_module": "@jupyter-widgets/controls",
      "model_module_version": "1.4.0",
      "model_name": "ButtonModel",
      "state": {
       "description": "Run algorithm",
       "layout": "IPY_MODEL_b0aa3e1a07fd443fba3f0b5fa1337610",
       "style": "IPY_MODEL_165028a1dd584f96bb98b039e9b33ff8"
      }
     },
     "1d293bac518844ab98f80e608d5e1ac5": {
      "model_module": "@jupyter-widgets/controls",
      "model_module_version": "1.4.0",
      "model_name": "FloatTextModel",
      "state": {
       "description": "$CT_{Intem} (s)$",
       "layout": "IPY_MODEL_95dffe0850674db59b2d8a579cc0cb86",
       "step": null,
       "style": "IPY_MODEL_79d3997c64f042e08067d61122cbb0ce",
       "value": 241
      }
     },
     "1ddc0a09f9354989acacbc8bb7a661fe": {
      "model_module": "@jupyter-widgets/controls",
      "model_module_version": "1.4.0",
      "model_name": "VBoxModel",
      "state": {
       "children": [
        "IPY_MODEL_7cdaba6e204f4851840686529a909bcb",
        "IPY_MODEL_7ef3128732c740489c12676a641771b5"
       ],
       "layout": "IPY_MODEL_ac95a09f0b644c82856358fd5198d3c7"
      }
     },
     "1df992359a504f528c4ceaceba037645": {
      "model_module": "@jupyter-widgets/controls",
      "model_module_version": "1.4.0",
      "model_name": "HBoxModel",
      "state": {
       "children": [
        "IPY_MODEL_1a8e304e5aa9425d9041e8e4807df764",
        "IPY_MODEL_5601a5827da9418283633dd5c41b1fda"
       ],
       "layout": "IPY_MODEL_8bc2f5198cf34ffe87384d70cb497759"
      }
     },
     "1e645801b81b430895eb6efa849e6603": {
      "model_module": "@jupyter-widgets/base",
      "model_module_version": "1.1.0",
      "model_name": "LayoutModel",
      "state": {}
     },
     "1f1d469d36f94d25929b87e28207e0a3": {
      "model_module": "@jupyter-widgets/base",
      "model_module_version": "1.1.0",
      "model_name": "LayoutModel",
      "state": {}
     },
     "1f7227953a0a43cd824629f6fd720a39": {
      "model_module": "@jupyter-widgets/base",
      "model_module_version": "1.1.0",
      "model_name": "LayoutModel",
      "state": {}
     },
     "1f73b00a20f240b685a93b79bf2badb0": {
      "model_module": "@jupyter-widgets/controls",
      "model_module_version": "1.4.0",
      "model_name": "HBoxModel",
      "state": {
       "children": [
        "IPY_MODEL_24540a9dbde84b408b6d2e2ae78ec6b4",
        "IPY_MODEL_396312265ad04f1798d5863ece39eff5"
       ],
       "layout": "IPY_MODEL_de4152bc91a142e0964020c37df63442"
      }
     },
     "1f801cc400d04346b9e613921ff2b4ea": {
      "model_module": "@jupyter-widgets/output",
      "model_module_version": "1.0.0",
      "model_name": "OutputModel",
      "state": {
       "layout": "IPY_MODEL_fb8a7e94ab754a7eaefcb69955805cbb"
      }
     },
     "1ffdb287c2e14420ac3f9b17bb50656c": {
      "model_module": "@jupyter-widgets/controls",
      "model_module_version": "1.4.0",
      "model_name": "VBoxModel",
      "state": {
       "_dom_classes": [
        "widget-interact"
       ],
       "children": [
        "IPY_MODEL_467abf0c84b746629cc02d043f510b3b",
        "IPY_MODEL_f03c702063304900a21b86a1cfc1bc6a",
        "IPY_MODEL_ff2acae77452485ab84e18b41091ce82",
        "IPY_MODEL_85f59b8ac04841dfaa02b062d28f402e",
        "IPY_MODEL_3dc6b39299cb45bd85928756dfe5f459",
        "IPY_MODEL_68d6a562e1904abab58ed04cfe99b19c",
        "IPY_MODEL_8fff40f93750435aa3ec486f0250c736",
        "IPY_MODEL_c1578d17cde34390a10ea30c137e9f27",
        "IPY_MODEL_583c9e86be7d49f3b6ac4cb767e1e688",
        "IPY_MODEL_aa07063666e443dc97ea0bba6dfee03b",
        "IPY_MODEL_d64ebb419a7d4757b8a3499a0e4c07ab",
        "IPY_MODEL_88ba9983c9f2410d9513f064b2bd0a4e",
        "IPY_MODEL_4732a9d1bbf74747993edc5f3be4b325",
        "IPY_MODEL_6a94faccf3c34e84820a75d4ac624fa2",
        "IPY_MODEL_dc8b693a0380475a9521504abae7880f",
        "IPY_MODEL_567603df31d147da8b479ddb49337854"
       ],
       "layout": "IPY_MODEL_84a43052453a4deab609f89c887434c2"
      }
     },
     "20179be3f84c435297ed4956d7ad4e58": {
      "model_module": "@jupyter-widgets/controls",
      "model_module_version": "1.4.0",
      "model_name": "HBoxModel",
      "state": {
       "children": [
        "IPY_MODEL_d7adad291f42486dba461114d54d2b10",
        "IPY_MODEL_1c7a410e15f44f55b6527152f6540701"
       ],
       "layout": "IPY_MODEL_1284837f86cf492bab0904ab94c0182a"
      }
     },
     "20290f03a46946b99317d98056121ad5": {
      "model_module": "@jupyter-widgets/base",
      "model_module_version": "1.1.0",
      "model_name": "LayoutModel",
      "state": {}
     },
     "204086f213014ca9bbaf446f43d34da4": {
      "model_module": "@jupyter-widgets/controls",
      "model_module_version": "1.4.0",
      "model_name": "DescriptionStyleModel",
      "state": {
       "description_width": "initial"
      }
     },
     "2067c6f53e374542b8ba9b0c08f379f2": {
      "model_module": "@jupyter-widgets/base",
      "model_module_version": "1.1.0",
      "model_name": "LayoutModel",
      "state": {}
     },
     "20851488d14d4475923c1094ee0200b7": {
      "model_module": "@jupyter-widgets/controls",
      "model_module_version": "1.4.0",
      "model_name": "VBoxModel",
      "state": {
       "_dom_classes": [
        "widget-interact"
       ],
       "children": [
        "IPY_MODEL_7cdaba6e204f4851840686529a909bcb",
        "IPY_MODEL_7ef3128732c740489c12676a641771b5",
        "IPY_MODEL_e73985c2700045f7b854466a5c34969e"
       ],
       "layout": "IPY_MODEL_6a00bc125c354e0abfe30eb3552a31cd"
      }
     },
     "208a770059154a629dab481f7fb4c2f4": {
      "model_module": "@jupyter-widgets/controls",
      "model_module_version": "1.4.0",
      "model_name": "VBoxModel",
      "state": {
       "children": [
        "IPY_MODEL_467abf0c84b746629cc02d043f510b3b",
        "IPY_MODEL_f03c702063304900a21b86a1cfc1bc6a",
        "IPY_MODEL_ff2acae77452485ab84e18b41091ce82",
        "IPY_MODEL_85f59b8ac04841dfaa02b062d28f402e",
        "IPY_MODEL_3dc6b39299cb45bd85928756dfe5f459",
        "IPY_MODEL_68d6a562e1904abab58ed04cfe99b19c",
        "IPY_MODEL_8fff40f93750435aa3ec486f0250c736"
       ],
       "layout": "IPY_MODEL_a752dd807fbd437d9fca031aa95aaa38"
      }
     },
     "208e712acce140fea0d507622c909303": {
      "model_module": "@jupyter-widgets/controls",
      "model_module_version": "1.4.0",
      "model_name": "HBoxModel",
      "state": {
       "children": [
        "IPY_MODEL_71a829fd83ba4c5dacda78c1dbeb4554",
        "IPY_MODEL_a7703b5e06ba4d8c9e82cd5b1a6c3257"
       ],
       "layout": "IPY_MODEL_fbbcbe356e0e4bd0ac651b385c9fd0f1"
      }
     },
     "208f2d2c7e0c4b9ba0b215078c9b8eab": {
      "model_module": "@jupyter-widgets/base",
      "model_module_version": "1.1.0",
      "model_name": "LayoutModel",
      "state": {}
     },
     "20a6f3754b014d2894ecb4ecf91c5488": {
      "model_module": "@jupyter-widgets/controls",
      "model_module_version": "1.4.0",
      "model_name": "VBoxModel",
      "state": {
       "_dom_classes": [
        "widget-interact"
       ],
       "children": [
        "IPY_MODEL_467abf0c84b746629cc02d043f510b3b",
        "IPY_MODEL_f03c702063304900a21b86a1cfc1bc6a",
        "IPY_MODEL_ff2acae77452485ab84e18b41091ce82",
        "IPY_MODEL_85f59b8ac04841dfaa02b062d28f402e",
        "IPY_MODEL_3dc6b39299cb45bd85928756dfe5f459",
        "IPY_MODEL_68d6a562e1904abab58ed04cfe99b19c",
        "IPY_MODEL_8fff40f93750435aa3ec486f0250c736",
        "IPY_MODEL_c1578d17cde34390a10ea30c137e9f27",
        "IPY_MODEL_583c9e86be7d49f3b6ac4cb767e1e688",
        "IPY_MODEL_aa07063666e443dc97ea0bba6dfee03b",
        "IPY_MODEL_d64ebb419a7d4757b8a3499a0e4c07ab",
        "IPY_MODEL_88ba9983c9f2410d9513f064b2bd0a4e",
        "IPY_MODEL_4732a9d1bbf74747993edc5f3be4b325",
        "IPY_MODEL_6a94faccf3c34e84820a75d4ac624fa2",
        "IPY_MODEL_dc8b693a0380475a9521504abae7880f",
        "IPY_MODEL_a32cdf91ea2145dc83326d8e6b473319"
       ],
       "layout": "IPY_MODEL_a01b784b45874ba2a5539a9063527748"
      }
     },
     "20cfbe6e766c441bafa9e6a09bb54acf": {
      "model_module": "@jupyter-widgets/controls",
      "model_module_version": "1.4.0",
      "model_name": "VBoxModel",
      "state": {
       "children": [
        "IPY_MODEL_7cdaba6e204f4851840686529a909bcb",
        "IPY_MODEL_7ef3128732c740489c12676a641771b5"
       ],
       "layout": "IPY_MODEL_acad0169c45644ad9a56d4c420ad72be"
      }
     },
     "20dd8ab195574774b708b05347022e60": {
      "model_module": "@jupyter-widgets/base",
      "model_module_version": "1.1.0",
      "model_name": "LayoutModel",
      "state": {}
     },
     "2129fd99d2b04067a96585242a5572bc": {
      "model_module": "@jupyter-widgets/controls",
      "model_module_version": "1.4.0",
      "model_name": "VBoxModel",
      "state": {
       "children": [
        "IPY_MODEL_a2caa09163a641f39d690a9eb3e5dad0",
        "IPY_MODEL_6c12586b25e942cc99030d3dfec5d893"
       ],
       "layout": "IPY_MODEL_f1f448c7d9ee413cba6cf6b63994cfe5"
      }
     },
     "213509b6c9e048e4864226501230fb40": {
      "model_module": "@jupyter-widgets/base",
      "model_module_version": "1.1.0",
      "model_name": "LayoutModel",
      "state": {}
     },
     "215d8a4574e24c038b713af2fc877ad3": {
      "model_module": "@jupyter-widgets/base",
      "model_module_version": "1.1.0",
      "model_name": "LayoutModel",
      "state": {}
     },
     "216383c2b8d84318b57bffcc4a5aa6b2": {
      "model_module": "@jupyter-widgets/controls",
      "model_module_version": "1.4.0",
      "model_name": "ButtonStyleModel",
      "state": {}
     },
     "217e1a18c9c44c45bc43b35dbfd4bad3": {
      "model_module": "@jupyter-widgets/base",
      "model_module_version": "1.1.0",
      "model_name": "LayoutModel",
      "state": {}
     },
     "21aa4c3a5fe446e68155d608368dc1aa": {
      "model_module": "@jupyter-widgets/base",
      "model_module_version": "1.1.0",
      "model_name": "LayoutModel",
      "state": {}
     },
     "21ac48633dec43ed8a763daca0933dc9": {
      "model_module": "@jupyter-widgets/base",
      "model_module_version": "1.1.0",
      "model_name": "LayoutModel",
      "state": {}
     },
     "21b1a97fac524d638cac408d5ec4b55c": {
      "model_module": "@jupyter-widgets/controls",
      "model_module_version": "1.4.0",
      "model_name": "VBoxModel",
      "state": {
       "_dom_classes": [
        "widget-interact"
       ],
       "children": [
        "IPY_MODEL_7cdaba6e204f4851840686529a909bcb",
        "IPY_MODEL_7ef3128732c740489c12676a641771b5",
        "IPY_MODEL_da78df59e3754f088c80f94dc6cc18e2"
       ],
       "layout": "IPY_MODEL_a99c7097b5dc45669ee12581c5901214"
      }
     },
     "21ea7eea30844f98adee4a49f36e0618": {
      "model_module": "@jupyter-widgets/base",
      "model_module_version": "1.1.0",
      "model_name": "LayoutModel",
      "state": {}
     },
     "22073e973d1548e08704877ff81f4275": {
      "model_module": "@jupyter-widgets/output",
      "model_module_version": "1.0.0",
      "model_name": "OutputModel",
      "state": {
       "layout": "IPY_MODEL_32752e4c67544541960ca40ec7880c9c"
      }
     },
     "22179da151454ea093d14b4f4bc0041e": {
      "model_module": "@jupyter-widgets/base",
      "model_module_version": "1.1.0",
      "model_name": "LayoutModel",
      "state": {}
     },
     "223f511c275e477b9efb983ded6df0a3": {
      "model_module": "@jupyter-widgets/controls",
      "model_module_version": "1.4.0",
      "model_name": "VBoxModel",
      "state": {
       "_dom_classes": [
        "widget-interact"
       ],
       "children": [
        "IPY_MODEL_7cdaba6e204f4851840686529a909bcb",
        "IPY_MODEL_7ef3128732c740489c12676a641771b5",
        "IPY_MODEL_ed20d12839664c3caf74ab8fe231767a"
       ],
       "layout": "IPY_MODEL_d7a57eb886554d78ad42883def6d040e"
      }
     },
     "2244271e75ab48afa9946d2090a4a1ef": {
      "model_module": "@jupyter-widgets/base",
      "model_module_version": "1.1.0",
      "model_name": "LayoutModel",
      "state": {}
     },
     "2287f5249a3d4e5d8d2cc9f2ddd95192": {
      "model_module": "@jupyter-widgets/base",
      "model_module_version": "1.1.0",
      "model_name": "LayoutModel",
      "state": {}
     },
     "22a3b8a6b2914397a1fe129bec745e6b": {
      "model_module": "@jupyter-widgets/base",
      "model_module_version": "1.1.0",
      "model_name": "LayoutModel",
      "state": {}
     },
     "22dd8639938547edb259ba332f27ca9d": {
      "model_module": "@jupyter-widgets/base",
      "model_module_version": "1.1.0",
      "model_name": "LayoutModel",
      "state": {}
     },
     "22e1d5a721da44008ae2379db9c3bbbc": {
      "model_module": "@jupyter-widgets/base",
      "model_module_version": "1.1.0",
      "model_name": "LayoutModel",
      "state": {}
     },
     "22f9b950b9344d51b41fe532a709ccd7": {
      "model_module": "@jupyter-widgets/base",
      "model_module_version": "1.1.0",
      "model_name": "LayoutModel",
      "state": {}
     },
     "2306e734510f47f28be68cdb869e9a48": {
      "model_module": "@jupyter-widgets/controls",
      "model_module_version": "1.4.0",
      "model_name": "HBoxModel",
      "state": {
       "children": [
        "IPY_MODEL_4cd67815c3bf4f2abdfab1858ba8ef52"
       ],
       "layout": "IPY_MODEL_a412404b60294cbe9b80a59f6a3ef034"
      }
     },
     "2346e45bf6d246dca8bc952045fc3e37": {
      "model_module": "@jupyter-widgets/controls",
      "model_module_version": "1.4.0",
      "model_name": "FloatTextModel",
      "state": {
       "description": "$CT_{Heptem} (s)$",
       "layout": "IPY_MODEL_934caa59c347496f874629d52a790c64",
       "step": null,
       "style": "IPY_MODEL_feb58b58759a4580a9e678c9f7da5b1b",
       "value": 241
      }
     },
     "2367fbb80ec04aa7b4784d876ced3782": {
      "model_module": "@jupyter-widgets/base",
      "model_module_version": "1.1.0",
      "model_name": "LayoutModel",
      "state": {}
     },
     "237bee4845654917870b8c26d305b90d": {
      "model_module": "@jupyter-widgets/base",
      "model_module_version": "1.1.0",
      "model_name": "LayoutModel",
      "state": {}
     },
     "2383c1dfbe254022947b88da2d71182b": {
      "model_module": "@jupyter-widgets/base",
      "model_module_version": "1.1.0",
      "model_name": "LayoutModel",
      "state": {}
     },
     "238a443160cf48c8bc38258c1f3931b5": {
      "model_module": "@jupyter-widgets/controls",
      "model_module_version": "1.4.0",
      "model_name": "AccordionModel",
      "state": {
       "_titles": {
        "0": "Procedure",
        "1": "Parameters"
       },
       "children": [
        "IPY_MODEL_16525fe1680c4d47be80f484148d0c31",
        "IPY_MODEL_70163676491c4e8ca8c34d3630b33c81"
       ],
       "layout": "IPY_MODEL_1ae122ed6bdf49bba2fe14e8b523ed4b",
       "selected_index": 1
      }
     },
     "238c202e714b46a18bcc44c5e02480b7": {
      "model_module": "@jupyter-widgets/base",
      "model_module_version": "1.1.0",
      "model_name": "LayoutModel",
      "state": {}
     },
     "23b5b10a0bec440a8196e34fe17b9f48": {
      "model_module": "@jupyter-widgets/controls",
      "model_module_version": "1.4.0",
      "model_name": "ButtonStyleModel",
      "state": {}
     },
     "23df8ca0e4f24b439c75c68c503dee46": {
      "model_module": "@jupyter-widgets/output",
      "model_module_version": "1.0.0",
      "model_name": "OutputModel",
      "state": {
       "layout": "IPY_MODEL_b0f7a24049734f43a0e607adcc660124"
      }
     },
     "23e4befa80934800bb423ee6cb2e5fa3": {
      "model_module": "@jupyter-widgets/controls",
      "model_module_version": "1.4.0",
      "model_name": "VBoxModel",
      "state": {
       "_dom_classes": [
        "widget-interact"
       ],
       "children": [
        "IPY_MODEL_7cdaba6e204f4851840686529a909bcb",
        "IPY_MODEL_7ef3128732c740489c12676a641771b5",
        "IPY_MODEL_872ccf768db240e5bae492dead05992a"
       ],
       "layout": "IPY_MODEL_98a83a6b584343cf8869c7a4893e5eab"
      }
     },
     "24024b8f227b4428881ad9ca0b32daf8": {
      "model_module": "@jupyter-widgets/base",
      "model_module_version": "1.1.0",
      "model_name": "LayoutModel",
      "state": {}
     },
     "2422a302dc054616ba00142c2032d0b5": {
      "model_module": "@jupyter-widgets/controls",
      "model_module_version": "1.4.0",
      "model_name": "ButtonStyleModel",
      "state": {}
     },
     "243cc0aaf466496db7dfa49a33a7c535": {
      "model_module": "@jupyter-widgets/base",
      "model_module_version": "1.1.0",
      "model_name": "LayoutModel",
      "state": {}
     },
     "24540a9dbde84b408b6d2e2ae78ec6b4": {
      "model_module": "@jupyter-widgets/controls",
      "model_module_version": "1.4.0",
      "model_name": "VBoxModel",
      "state": {
       "children": [
        "IPY_MODEL_adb1524dbc9446f88500930b1cbae126",
        "IPY_MODEL_e2f9b28d2b0044b0bbe579fcaf1539de",
        "IPY_MODEL_aacaa0400e6243419a526a1a81728ee1",
        "IPY_MODEL_da2283904ce54cae83eb251736dc789e",
        "IPY_MODEL_1d293bac518844ab98f80e608d5e1ac5",
        "IPY_MODEL_d299703f46714aab8fb53de70fddf595",
        "IPY_MODEL_2346e45bf6d246dca8bc952045fc3e37",
        "IPY_MODEL_279ca9eda5f24edd85429db6823040ba"
       ],
       "layout": "IPY_MODEL_db803bb97c594c85986b691021a1a5cc"
      }
     },
     "2463e03aa5da4b57a77c322acaf20469": {
      "model_module": "@jupyter-widgets/controls",
      "model_module_version": "1.4.0",
      "model_name": "VBoxModel",
      "state": {
       "children": [
        "IPY_MODEL_d6918abba0934407a9f5dae6131a627d",
        "IPY_MODEL_9fa08c7538cf478f84bf312b30e90ad9",
        "IPY_MODEL_3a161dbbee8a4eee85039793aecdb9c6",
        "IPY_MODEL_c08b429d895d4cac92f575f482d83e0f",
        "IPY_MODEL_492c10acad9b4cca8e55dde83b35ef01",
        "IPY_MODEL_5d9ed63b45044c338dcb9fbb07e1266f",
        "IPY_MODEL_a2560e6054d64a32a6270f3ca1de09bf"
       ],
       "layout": "IPY_MODEL_57aa6d5a97764d58948fe786daf88027"
      }
     },
     "2488ec0fc7ab4c2291ce25269621f049": {
      "model_module": "@jupyter-widgets/output",
      "model_module_version": "1.0.0",
      "model_name": "OutputModel",
      "state": {
       "layout": "IPY_MODEL_f5016a36482c415d9910603defdce2cd"
      }
     },
     "24a71cedea9644448dce13f93ee2f39c": {
      "model_module": "@jupyter-widgets/base",
      "model_module_version": "1.1.0",
      "model_name": "LayoutModel",
      "state": {}
     },
     "24ad8b2d486146e28e4728fc0d663550": {
      "model_module": "@jupyter-widgets/output",
      "model_module_version": "1.0.0",
      "model_name": "OutputModel",
      "state": {
       "layout": "IPY_MODEL_2911d210e2ba4a1fab85e4e3fe059795"
      }
     },
     "24c2e189a9e44587bdd7e8c5410bb50e": {
      "model_module": "@jupyter-widgets/base",
      "model_module_version": "1.1.0",
      "model_name": "LayoutModel",
      "state": {}
     },
     "250d6942255d4b2e81568745fbc256d8": {
      "model_module": "@jupyter-widgets/controls",
      "model_module_version": "1.4.0",
      "model_name": "HBoxModel",
      "state": {
       "children": [
        "IPY_MODEL_c2cd408f5ef044a38c388f6652614c69",
        "IPY_MODEL_3624ec7dd5b24397bf8bebd6432793b4"
       ],
       "layout": "IPY_MODEL_cb1a1e71b4b84204a8ab46d125b4753a"
      }
     },
     "25439eba18c843d1b8296d829394e698": {
      "model_module": "@jupyter-widgets/controls",
      "model_module_version": "1.4.0",
      "model_name": "VBoxModel",
      "state": {
       "children": [
        "IPY_MODEL_8345b4ee1bcd451f8beb6a0402b224d6",
        "IPY_MODEL_97f63e2ed6744ed3a32fffbe8d366d2b"
       ],
       "layout": "IPY_MODEL_37d4c1c8df0a4dd29c090611d7d56f65"
      }
     },
     "254be8d28c244ce8bdf375bf8968fb53": {
      "model_module": "@jupyter-widgets/controls",
      "model_module_version": "1.4.0",
      "model_name": "ButtonModel",
      "state": {
       "description": "Run algorithm",
       "layout": "IPY_MODEL_99fce3ac97f14d078aa1e09be30c8d87",
       "style": "IPY_MODEL_11aa372ec91a4d0586a8f23e8b7fe85e"
      }
     },
     "25642096bd224ce8a9c112a9013f8927": {
      "model_module": "@jupyter-widgets/base",
      "model_module_version": "1.1.0",
      "model_name": "LayoutModel",
      "state": {}
     },
     "2572e3b99e0149b5ae8a7799e245a35c": {
      "model_module": "@jupyter-widgets/controls",
      "model_module_version": "1.4.0",
      "model_name": "VBoxModel",
      "state": {
       "children": [
        "IPY_MODEL_467abf0c84b746629cc02d043f510b3b",
        "IPY_MODEL_f03c702063304900a21b86a1cfc1bc6a",
        "IPY_MODEL_ff2acae77452485ab84e18b41091ce82",
        "IPY_MODEL_85f59b8ac04841dfaa02b062d28f402e",
        "IPY_MODEL_3dc6b39299cb45bd85928756dfe5f459",
        "IPY_MODEL_68d6a562e1904abab58ed04cfe99b19c",
        "IPY_MODEL_8fff40f93750435aa3ec486f0250c736"
       ],
       "layout": "IPY_MODEL_0c9123add74846109f3ac26f861371ab"
      }
     },
     "25c2e3fd15274494837cc9312fc77111": {
      "model_module": "@jupyter-widgets/base",
      "model_module_version": "1.1.0",
      "model_name": "LayoutModel",
      "state": {}
     },
     "25f2a32f62dc4a298e3d5127318f4fd7": {
      "model_module": "@jupyter-widgets/controls",
      "model_module_version": "1.4.0",
      "model_name": "HBoxModel",
      "state": {
       "children": [
        "IPY_MODEL_cd73c331c09149a3883199f22e471e89",
        "IPY_MODEL_0a2cb8e6b2154d6c8684a31b873b6466"
       ],
       "layout": "IPY_MODEL_4457cbdfc5a5455aa9abea394a35e350"
      }
     },
     "25f35b27a33c4b86b9d3aadd0aec31e2": {
      "model_module": "@jupyter-widgets/base",
      "model_module_version": "1.1.0",
      "model_name": "LayoutModel",
      "state": {}
     },
     "25f7159b74474fd29367092d709ed63e": {
      "model_module": "@jupyter-widgets/controls",
      "model_module_version": "1.4.0",
      "model_name": "ButtonStyleModel",
      "state": {}
     },
     "262bed09dae441e49fdc4ffe413158cf": {
      "model_module": "@jupyter-widgets/output",
      "model_module_version": "1.0.0",
      "model_name": "OutputModel",
      "state": {
       "layout": "IPY_MODEL_996e8d631f454a979879c51c4fb8f781"
      }
     },
     "26607050539d4501a93c60ff68432068": {
      "model_module": "@jupyter-widgets/controls",
      "model_module_version": "1.4.0",
      "model_name": "AccordionModel",
      "state": {
       "_titles": {
        "0": "Procedure",
        "1": "Parameters"
       },
       "children": [
        "IPY_MODEL_20cfbe6e766c441bafa9e6a09bb54acf",
        "IPY_MODEL_25f2a32f62dc4a298e3d5127318f4fd7"
       ],
       "layout": "IPY_MODEL_d5bcfc9bcd3d4055849d392ce6e6f721",
       "selected_index": 1
      }
     },
     "26cd7a8c62c143d3b81685f99ee51eeb": {
      "model_module": "@jupyter-widgets/base",
      "model_module_version": "1.1.0",
      "model_name": "LayoutModel",
      "state": {}
     },
     "26f2fbfb52bb44f8a7fd22f46d417d54": {
      "model_module": "@jupyter-widgets/controls",
      "model_module_version": "1.4.0",
      "model_name": "AccordionModel",
      "state": {
       "_titles": {
        "0": "Procedure",
        "1": "Parameters"
       },
       "children": [
        "IPY_MODEL_65c40d9701174a49b352245dc16fbb6e",
        "IPY_MODEL_9a9b66302b614be6b79228c0f3ea84a7"
       ],
       "layout": "IPY_MODEL_b9fe3abd103840239a81d75309f54eec",
       "selected_index": 1
      }
     },
     "272040845b5a4a599b171e632103541f": {
      "model_module": "@jupyter-widgets/base",
      "model_module_version": "1.1.0",
      "model_name": "LayoutModel",
      "state": {}
     },
     "2737c02034ac4b8688654fe5931747d5": {
      "model_module": "@jupyter-widgets/controls",
      "model_module_version": "1.4.0",
      "model_name": "ButtonModel",
      "state": {
       "description": "Run algorithm",
       "layout": "IPY_MODEL_93ceaab4779d468fb31db36ec564473a",
       "style": "IPY_MODEL_84204888fb5d4a538071e92caee71e04"
      }
     },
     "274242b9da9f4deaba7a9647dee02f69": {
      "model_module": "@jupyter-widgets/base",
      "model_module_version": "1.1.0",
      "model_name": "LayoutModel",
      "state": {}
     },
     "27901e12675440f6b9cdaec1bab1a7cb": {
      "model_module": "@jupyter-widgets/output",
      "model_module_version": "1.0.0",
      "model_name": "OutputModel",
      "state": {
       "layout": "IPY_MODEL_9a6ecbf107f849168d59a577d3723e79"
      }
     },
     "279510f71f8e44679f7c894a0568f1a6": {
      "model_module": "@jupyter-widgets/controls",
      "model_module_version": "1.4.0",
      "model_name": "AccordionModel",
      "state": {
       "_titles": {
        "0": "Procedure",
        "1": "Parameters"
       },
       "children": [
        "IPY_MODEL_e8afcbcd04454425bfbd03e825c02e41",
        "IPY_MODEL_1a5b1ce7151b4d818d25d071ae4738f7"
       ],
       "layout": "IPY_MODEL_529aecfd31bc46d396edb5e7eebc6710",
       "selected_index": 1
      }
     },
     "279ca9eda5f24edd85429db6823040ba": {
      "model_module": "@jupyter-widgets/controls",
      "model_module_version": "1.4.0",
      "model_name": "FloatTextModel",
      "state": {
       "description": "$CT_{Heptem}/CT_{Intem}$",
       "layout": "IPY_MODEL_94634567b9864c29a400131aa3f02e52",
       "step": null,
       "style": "IPY_MODEL_66f47862741d41c688b8419b9b2ea05c",
       "value": "nan"
      }
     },
     "27c598afff264783a656f06932225ca0": {
      "model_module": "@jupyter-widgets/base",
      "model_module_version": "1.1.0",
      "model_name": "LayoutModel",
      "state": {}
     },
     "27c602445c0f42099a474bb1689988a6": {
      "model_module": "@jupyter-widgets/controls",
      "model_module_version": "1.4.0",
      "model_name": "AccordionModel",
      "state": {
       "_titles": {
        "0": "Procedure",
        "1": "Parameters"
       },
       "children": [
        "IPY_MODEL_b071e5463e0f41aba93b0b38b147eb50",
        "IPY_MODEL_9b4333f8e1254b2cb689baea010ccf6e"
       ],
       "layout": "IPY_MODEL_fe3962db6788445c9108984b38fb62d7",
       "selected_index": 1
      }
     },
     "27dd66acb4e54556973e4fdb7c406410": {
      "model_module": "@jupyter-widgets/base",
      "model_module_version": "1.1.0",
      "model_name": "LayoutModel",
      "state": {}
     },
     "28185d97e9304b4889023abf4409402a": {
      "model_module": "@jupyter-widgets/base",
      "model_module_version": "1.1.0",
      "model_name": "LayoutModel",
      "state": {}
     },
     "282e537287644163a72901d624d795b8": {
      "model_module": "@jupyter-widgets/controls",
      "model_module_version": "1.4.0",
      "model_name": "AccordionModel",
      "state": {
       "_titles": {
        "0": "Procedure",
        "1": "Parameters"
       },
       "children": [
        "IPY_MODEL_30fb34ce0edf40a495dd9303324a6c26",
        "IPY_MODEL_20179be3f84c435297ed4956d7ad4e58"
       ],
       "layout": "IPY_MODEL_039b6725230d49dc9793a67af65d27ad",
       "selected_index": 1
      }
     },
     "283d47cf906345a7b519cc5704f36026": {
      "model_module": "@jupyter-widgets/controls",
      "model_module_version": "1.4.0",
      "model_name": "VBoxModel",
      "state": {
       "_dom_classes": [
        "widget-interact"
       ],
       "children": [
        "IPY_MODEL_467abf0c84b746629cc02d043f510b3b",
        "IPY_MODEL_f03c702063304900a21b86a1cfc1bc6a",
        "IPY_MODEL_ff2acae77452485ab84e18b41091ce82",
        "IPY_MODEL_85f59b8ac04841dfaa02b062d28f402e",
        "IPY_MODEL_3dc6b39299cb45bd85928756dfe5f459",
        "IPY_MODEL_68d6a562e1904abab58ed04cfe99b19c",
        "IPY_MODEL_8fff40f93750435aa3ec486f0250c736",
        "IPY_MODEL_c1578d17cde34390a10ea30c137e9f27",
        "IPY_MODEL_583c9e86be7d49f3b6ac4cb767e1e688",
        "IPY_MODEL_aa07063666e443dc97ea0bba6dfee03b",
        "IPY_MODEL_d64ebb419a7d4757b8a3499a0e4c07ab",
        "IPY_MODEL_88ba9983c9f2410d9513f064b2bd0a4e",
        "IPY_MODEL_4732a9d1bbf74747993edc5f3be4b325",
        "IPY_MODEL_6a94faccf3c34e84820a75d4ac624fa2",
        "IPY_MODEL_dc8b693a0380475a9521504abae7880f",
        "IPY_MODEL_f24a913ef6624e2a8b0856b0966738d5"
       ],
       "layout": "IPY_MODEL_9551d65981504baea8935313e3a22491"
      }
     },
     "288bbb17f7a34ef9b81295c2d395df03": {
      "model_module": "@jupyter-widgets/base",
      "model_module_version": "1.1.0",
      "model_name": "LayoutModel",
      "state": {}
     },
     "289373363dde41a1920efb2cd73a711f": {
      "model_module": "@jupyter-widgets/controls",
      "model_module_version": "1.4.0",
      "model_name": "VBoxModel",
      "state": {
       "children": [
        "IPY_MODEL_279510f71f8e44679f7c894a0568f1a6",
        "IPY_MODEL_362b3534f9c64bbc81000225cd7540a9"
       ],
       "layout": "IPY_MODEL_f9b8c8d7bf9a4d389019a2605830b007"
      }
     },
     "28c868e5f4dc4a2eb530df745088aa8e": {
      "model_module": "@jupyter-widgets/controls",
      "model_module_version": "1.4.0",
      "model_name": "DescriptionStyleModel",
      "state": {
       "description_width": "initial"
      }
     },
     "28f00bedfa074cec9fab9741087b7df4": {
      "model_module": "@jupyter-widgets/output",
      "model_module_version": "1.0.0",
      "model_name": "OutputModel",
      "state": {
       "layout": "IPY_MODEL_cbe762863a3d4c419b4b3558f7545e88"
      }
     },
     "2911d210e2ba4a1fab85e4e3fe059795": {
      "model_module": "@jupyter-widgets/base",
      "model_module_version": "1.1.0",
      "model_name": "LayoutModel",
      "state": {}
     },
     "2983c3e90e4f405dac62d163c910e369": {
      "model_module": "@jupyter-widgets/controls",
      "model_module_version": "1.4.0",
      "model_name": "VBoxModel",
      "state": {
       "children": [
        "IPY_MODEL_7cdaba6e204f4851840686529a909bcb",
        "IPY_MODEL_7ef3128732c740489c12676a641771b5"
       ],
       "layout": "IPY_MODEL_5d872b05dbe94825be9d4de83de35360"
      }
     },
     "29de74bfc1b145388517e48651bf9281": {
      "model_module": "@jupyter-widgets/controls",
      "model_module_version": "1.4.0",
      "model_name": "DescriptionStyleModel",
      "state": {
       "description_width": "initial"
      }
     },
     "29f535824d6c4253b8e85502d3b3c790": {
      "model_module": "@jupyter-widgets/base",
      "model_module_version": "1.1.0",
      "model_name": "LayoutModel",
      "state": {}
     },
     "2a18f34fc3124b69b273b48b04b2e080": {
      "model_module": "@jupyter-widgets/base",
      "model_module_version": "1.1.0",
      "model_name": "LayoutModel",
      "state": {}
     },
     "2a8305414b6b4283b7f1f568aa0579c0": {
      "model_module": "@jupyter-widgets/base",
      "model_module_version": "1.1.0",
      "model_name": "LayoutModel",
      "state": {}
     },
     "2ab3d5301d4141b8baf83dd1ac4b53ad": {
      "model_module": "@jupyter-widgets/controls",
      "model_module_version": "1.4.0",
      "model_name": "VBoxModel",
      "state": {
       "_dom_classes": [
        "widget-interact"
       ],
       "children": [
        "IPY_MODEL_7cdaba6e204f4851840686529a909bcb",
        "IPY_MODEL_7ef3128732c740489c12676a641771b5",
        "IPY_MODEL_4a399c8d124b4a7ea30b822f0969f4b8"
       ],
       "layout": "IPY_MODEL_e0654e57385a4c359fb22b1e2e393871"
      }
     },
     "2ac559c37de942d480973173d57fc47c": {
      "model_module": "@jupyter-widgets/output",
      "model_module_version": "1.0.0",
      "model_name": "OutputModel",
      "state": {
       "layout": "IPY_MODEL_616da2333f0b4b44a5f35deeceafba21"
      }
     },
     "2b11f2c8d3734227bb5ffdaf4e6d85d2": {
      "model_module": "@jupyter-widgets/base",
      "model_module_version": "1.1.0",
      "model_name": "LayoutModel",
      "state": {}
     },
     "2b9491565ba545de9ca537af0a48cb7d": {
      "model_module": "@jupyter-widgets/controls",
      "model_module_version": "1.4.0",
      "model_name": "VBoxModel",
      "state": {
       "children": [
        "IPY_MODEL_c1578d17cde34390a10ea30c137e9f27",
        "IPY_MODEL_583c9e86be7d49f3b6ac4cb767e1e688",
        "IPY_MODEL_aa07063666e443dc97ea0bba6dfee03b",
        "IPY_MODEL_d64ebb419a7d4757b8a3499a0e4c07ab",
        "IPY_MODEL_88ba9983c9f2410d9513f064b2bd0a4e",
        "IPY_MODEL_4732a9d1bbf74747993edc5f3be4b325",
        "IPY_MODEL_6a94faccf3c34e84820a75d4ac624fa2",
        "IPY_MODEL_dc8b693a0380475a9521504abae7880f"
       ],
       "layout": "IPY_MODEL_1479eeb31f0248bcabd8ee5b5dba196d"
      }
     },
     "2ba3ccf085d84a319f18395ea4bad45f": {
      "model_module": "@jupyter-widgets/base",
      "model_module_version": "1.1.0",
      "model_name": "LayoutModel",
      "state": {}
     },
     "2bcb969b887945e8b896e3cdb05ca3dc": {
      "model_module": "@jupyter-widgets/base",
      "model_module_version": "1.1.0",
      "model_name": "LayoutModel",
      "state": {}
     },
     "2bee020e87a347cda59a59f87bddb1d3": {
      "model_module": "@jupyter-widgets/controls",
      "model_module_version": "1.4.0",
      "model_name": "DescriptionStyleModel",
      "state": {
       "description_width": "initial"
      }
     },
     "2bfb891c0abd48f9a106ff1bbba84702": {
      "model_module": "@jupyter-widgets/controls",
      "model_module_version": "1.4.0",
      "model_name": "HBoxModel",
      "state": {
       "children": [
        "IPY_MODEL_4e1e5b0316cf4f8a84e1970cc6194d40",
        "IPY_MODEL_cfdb2cb576e94840908b2f7bfc88718e"
       ],
       "layout": "IPY_MODEL_1a03e9857418490abc5187a499fee418"
      }
     },
     "2c22bd0a6dd74a70a7cf53e17dd47f24": {
      "model_module": "@jupyter-widgets/controls",
      "model_module_version": "1.4.0",
      "model_name": "VBoxModel",
      "state": {
       "children": [
        "IPY_MODEL_467abf0c84b746629cc02d043f510b3b",
        "IPY_MODEL_f03c702063304900a21b86a1cfc1bc6a",
        "IPY_MODEL_ff2acae77452485ab84e18b41091ce82",
        "IPY_MODEL_85f59b8ac04841dfaa02b062d28f402e",
        "IPY_MODEL_3dc6b39299cb45bd85928756dfe5f459",
        "IPY_MODEL_68d6a562e1904abab58ed04cfe99b19c",
        "IPY_MODEL_8fff40f93750435aa3ec486f0250c736"
       ],
       "layout": "IPY_MODEL_7646907c240242d392578e53ab5dc167"
      }
     },
     "2c51f8fe50ac40cb9eaa9c874025350e": {
      "model_module": "@jupyter-widgets/output",
      "model_module_version": "1.0.0",
      "model_name": "OutputModel",
      "state": {
       "layout": "IPY_MODEL_dbd72b83595c4718bca7bb69aabd5c18"
      }
     },
     "2c59671d358c4fa082ca81d677223eec": {
      "model_module": "@jupyter-widgets/controls",
      "model_module_version": "1.4.0",
      "model_name": "HBoxModel",
      "state": {
       "children": [
        "IPY_MODEL_f51c0bbb8b23476290e85db1c4d87651"
       ],
       "layout": "IPY_MODEL_94aacf1a662a49d98b6aed6ba798c5de"
      }
     },
     "2c800993011e4ed49d12ec3296eb197f": {
      "model_module": "@jupyter-widgets/controls",
      "model_module_version": "1.4.0",
      "model_name": "DescriptionStyleModel",
      "state": {
       "description_width": "initial"
      }
     },
     "2c863ec37ccf472ab557d4b1b65caf10": {
      "model_module": "@jupyter-widgets/output",
      "model_module_version": "1.0.0",
      "model_name": "OutputModel",
      "state": {
       "layout": "IPY_MODEL_d2f68c259e774deca9bf86e891da7cca"
      }
     },
     "2c8aa1389d9c42a68a637076038b74ef": {
      "model_module": "@jupyter-widgets/base",
      "model_module_version": "1.1.0",
      "model_name": "LayoutModel",
      "state": {}
     },
     "2c91f87a765e442aad6938a7b8c16735": {
      "model_module": "@jupyter-widgets/controls",
      "model_module_version": "1.4.0",
      "model_name": "AccordionModel",
      "state": {
       "_titles": {
        "0": "Procedure",
        "1": "Parameters"
       },
       "children": [
        "IPY_MODEL_cc7eaa6ceea3473bb6fd1295648404a2",
        "IPY_MODEL_ceb287b25e3b40e890715c3b4a094843"
       ],
       "layout": "IPY_MODEL_8f1c7126abfa451180dc36891e8ea6a5",
       "selected_index": 1
      }
     },
     "2d0daabaa9ce4b8299c731ae338a184b": {
      "model_module": "@jupyter-widgets/controls",
      "model_module_version": "1.4.0",
      "model_name": "DescriptionStyleModel",
      "state": {
       "description_width": "initial"
      }
     },
     "2d0e683266924b28aeb37e8d9674aa84": {
      "model_module": "@jupyter-widgets/controls",
      "model_module_version": "1.4.0",
      "model_name": "ButtonModel",
      "state": {
       "description": "Run algorithm",
       "layout": "IPY_MODEL_5be0a2d92e1a43d18b7d21c8823c8f8b",
       "style": "IPY_MODEL_d7ec8561d0154dfea2875b5b9fadc7ea"
      }
     },
     "2d181ecc9b4c46cea0180c7846dda99c": {
      "model_module": "@jupyter-widgets/base",
      "model_module_version": "1.1.0",
      "model_name": "LayoutModel",
      "state": {}
     },
     "2d2adf20345e456faee38c724eda73bd": {
      "model_module": "@jupyter-widgets/controls",
      "model_module_version": "1.4.0",
      "model_name": "DescriptionStyleModel",
      "state": {
       "description_width": "initial"
      }
     },
     "2d333dcd084e4262a0c3edf8766ccda1": {
      "model_module": "@jupyter-widgets/output",
      "model_module_version": "1.0.0",
      "model_name": "OutputModel",
      "state": {
       "layout": "IPY_MODEL_305e29cb43b04463bc9a627b37139af3"
      }
     },
     "2d3a2efb54a646c2982da8becd1ad3d3": {
      "model_module": "@jupyter-widgets/base",
      "model_module_version": "1.1.0",
      "model_name": "LayoutModel",
      "state": {}
     },
     "2dc6986d6875418cb4765c6d2c3e60e7": {
      "model_module": "@jupyter-widgets/controls",
      "model_module_version": "1.4.0",
      "model_name": "HBoxModel",
      "state": {
       "children": [
        "IPY_MODEL_55cee26e20944eb9be708471f484a5de",
        "IPY_MODEL_c59cff6b68fc4f35b7d573f73487dc7a"
       ],
       "layout": "IPY_MODEL_c25c670344484a3eab21775f86d7a8d6"
      }
     },
     "2dd80b119d1247b8b8da6d29d13a8556": {
      "model_module": "@jupyter-widgets/controls",
      "model_module_version": "1.4.0",
      "model_name": "AccordionModel",
      "state": {
       "_titles": {
        "0": "Procedure",
        "1": "Parameters"
       },
       "children": [
        "IPY_MODEL_b3f43ab5ffbf46bea610da539821c937",
        "IPY_MODEL_814cd8fe3f2f46f5a8911f7157211b7c"
       ],
       "layout": "IPY_MODEL_a565a51606a045c0a37355a25224b298",
       "selected_index": 1
      }
     },
     "2ddd7ff71e8a445690961b35b8389d27": {
      "model_module": "@jupyter-widgets/output",
      "model_module_version": "1.0.0",
      "model_name": "OutputModel",
      "state": {
       "layout": "IPY_MODEL_c2821814f876423490bc2cd184796a31"
      }
     },
     "2deac5a200a54080948c976733473d7e": {
      "model_module": "@jupyter-widgets/base",
      "model_module_version": "1.1.0",
      "model_name": "LayoutModel",
      "state": {}
     },
     "2e82af043bd44dc0a9c1b04afec0dc07": {
      "model_module": "@jupyter-widgets/base",
      "model_module_version": "1.1.0",
      "model_name": "LayoutModel",
      "state": {}
     },
     "2eb50b9daa8e4507a89d4c2adc68017e": {
      "model_module": "@jupyter-widgets/base",
      "model_module_version": "1.1.0",
      "model_name": "LayoutModel",
      "state": {}
     },
     "2f331e0a94844d1aa1f579b0ee0f1feb": {
      "model_module": "@jupyter-widgets/controls",
      "model_module_version": "1.4.0",
      "model_name": "HBoxModel",
      "state": {
       "children": [
        "IPY_MODEL_cf93815637d14b939774d1fbe07cf83f",
        "IPY_MODEL_6220b06e6e65435aae2038404d468d07"
       ],
       "layout": "IPY_MODEL_3a073d563a31497b9f249ad17ada20fe"
      }
     },
     "2f5c20ba5c2d4d02895ab7e72116995a": {
      "model_module": "@jupyter-widgets/controls",
      "model_module_version": "1.4.0",
      "model_name": "VBoxModel",
      "state": {
       "_dom_classes": [
        "widget-interact"
       ],
       "children": [
        "IPY_MODEL_913ebadc462449048307c24a469389ca",
        "IPY_MODEL_d5f89cfae2c44d22abeda2a682d0fbe0",
        "IPY_MODEL_c7960cc4cf77471390f18c3976e67ab8"
       ],
       "layout": "IPY_MODEL_69298b144d2f4e5da4dfe18cdb703bb0"
      }
     },
     "2f6783971d724a18ad63fac1eaacb822": {
      "model_module": "@jupyter-widgets/controls",
      "model_module_version": "1.4.0",
      "model_name": "DescriptionStyleModel",
      "state": {
       "description_width": "initial"
      }
     },
     "2f7653bf2c8d42abba5b063e1d8ef0c7": {
      "model_module": "@jupyter-widgets/base",
      "model_module_version": "1.1.0",
      "model_name": "LayoutModel",
      "state": {}
     },
     "2fc8dae074e84f3a98287ba15b45c7ad": {
      "model_module": "@jupyter-widgets/controls",
      "model_module_version": "1.4.0",
      "model_name": "VBoxModel",
      "state": {
       "children": [
        "IPY_MODEL_9e45905e895e48b085e0335d1a884841",
        "IPY_MODEL_58583ceaa22f451ea983603e7aa3c9e5"
       ],
       "layout": "IPY_MODEL_7bca4e0070a44592b099309099ec3db3"
      }
     },
     "2fd8e73db4154910964971f221cc0fbc": {
      "model_module": "@jupyter-widgets/output",
      "model_module_version": "1.0.0",
      "model_name": "OutputModel",
      "state": {
       "layout": "IPY_MODEL_a669dfae956343a083c2ed7f402bc2e7"
      }
     },
     "300aadf1b3ff4be89b34a20ad0aa73dd": {
      "model_module": "@jupyter-widgets/controls",
      "model_module_version": "1.4.0",
      "model_name": "HBoxModel",
      "state": {
       "children": [
        "IPY_MODEL_5007edc65874472aa838a75ea060dab5"
       ],
       "layout": "IPY_MODEL_22f9b950b9344d51b41fe532a709ccd7"
      }
     },
     "3049bec3d2124036b3443a98a7034dbd": {
      "model_module": "@jupyter-widgets/controls",
      "model_module_version": "1.4.0",
      "model_name": "FloatTextModel",
      "state": {
       "description": "$A10_{Fibtem} (mm)$",
       "layout": "IPY_MODEL_c5b9a2811b0e4ab586b9cec0d6701345",
       "step": null,
       "style": "IPY_MODEL_00d5febda9de43a081e68e74ae5215b9",
       "value": "nan"
      }
     },
     "305e29cb43b04463bc9a627b37139af3": {
      "model_module": "@jupyter-widgets/base",
      "model_module_version": "1.1.0",
      "model_name": "LayoutModel",
      "state": {}
     },
     "3067a26c5c7242f39bde544868df7f6e": {
      "model_module": "@jupyter-widgets/output",
      "model_module_version": "1.0.0",
      "model_name": "OutputModel",
      "state": {
       "layout": "IPY_MODEL_c9773e5307d44b18a97f5f2269db1aa5"
      }
     },
     "3078520f30244fcdbbc54e96c70a711f": {
      "model_module": "@jupyter-widgets/controls",
      "model_module_version": "1.4.0",
      "model_name": "ButtonStyleModel",
      "state": {}
     },
     "307d71283cb940f5b82d3a478aa305b2": {
      "model_module": "@jupyter-widgets/controls",
      "model_module_version": "1.4.0",
      "model_name": "VBoxModel",
      "state": {
       "children": [
        "IPY_MODEL_913ebadc462449048307c24a469389ca",
        "IPY_MODEL_d5f89cfae2c44d22abeda2a682d0fbe0"
       ],
       "layout": "IPY_MODEL_f15b9c876d17433c970271a8708d1104"
      }
     },
     "30a55bd0c3694520b2532e36214d2406": {
      "model_module": "@jupyter-widgets/base",
      "model_module_version": "1.1.0",
      "model_name": "LayoutModel",
      "state": {}
     },
     "30e7db8e35f04e0e97863574430fbdb1": {
      "model_module": "@jupyter-widgets/controls",
      "model_module_version": "1.4.0",
      "model_name": "DescriptionStyleModel",
      "state": {
       "description_width": "initial"
      }
     },
     "30fb34ce0edf40a495dd9303324a6c26": {
      "model_module": "@jupyter-widgets/controls",
      "model_module_version": "1.4.0",
      "model_name": "VBoxModel",
      "state": {
       "children": [
        "IPY_MODEL_7cdaba6e204f4851840686529a909bcb",
        "IPY_MODEL_7ef3128732c740489c12676a641771b5"
       ],
       "layout": "IPY_MODEL_7c1cc00948904f9a9610ae10fefd0231"
      }
     },
     "312f0e486cd64db78a6d3b78b6870e66": {
      "model_module": "@jupyter-widgets/controls",
      "model_module_version": "1.4.0",
      "model_name": "VBoxModel",
      "state": {
       "_dom_classes": [
        "widget-interact"
       ],
       "children": [
        "IPY_MODEL_7cdaba6e204f4851840686529a909bcb",
        "IPY_MODEL_7ef3128732c740489c12676a641771b5",
        "IPY_MODEL_902a1566fe984bbaa858e5c1ef24c3ba"
       ],
       "layout": "IPY_MODEL_476cf00a174e4c5896e3b7ea6a720b94"
      }
     },
     "314fa5936c79484c8a29d69dbbf96ff5": {
      "model_module": "@jupyter-widgets/controls",
      "model_module_version": "1.4.0",
      "model_name": "VBoxModel",
      "state": {
       "children": [
        "IPY_MODEL_467abf0c84b746629cc02d043f510b3b",
        "IPY_MODEL_f03c702063304900a21b86a1cfc1bc6a",
        "IPY_MODEL_ff2acae77452485ab84e18b41091ce82",
        "IPY_MODEL_85f59b8ac04841dfaa02b062d28f402e",
        "IPY_MODEL_3dc6b39299cb45bd85928756dfe5f459",
        "IPY_MODEL_68d6a562e1904abab58ed04cfe99b19c",
        "IPY_MODEL_8fff40f93750435aa3ec486f0250c736"
       ],
       "layout": "IPY_MODEL_04299125dd394e178bc3a896eeb64380"
      }
     },
     "316c9cdc35b0497686a48d15ce5723a7": {
      "model_module": "@jupyter-widgets/controls",
      "model_module_version": "1.4.0",
      "model_name": "ButtonModel",
      "state": {
       "description": "Run algorithm",
       "layout": "IPY_MODEL_b17a0dcdcf8c4908a74af10627c18520",
       "style": "IPY_MODEL_d7d01d10402d4656ab294db4ce879e7f"
      }
     },
     "318b46a1c4b14fd990e063716dbff01b": {
      "model_module": "@jupyter-widgets/base",
      "model_module_version": "1.1.0",
      "model_name": "LayoutModel",
      "state": {}
     },
     "319edde98fc5422cbe9c902d461ecde2": {
      "model_module": "@jupyter-widgets/controls",
      "model_module_version": "1.4.0",
      "model_name": "VBoxModel",
      "state": {
       "_dom_classes": [
        "widget-interact"
       ],
       "children": [
        "IPY_MODEL_467abf0c84b746629cc02d043f510b3b",
        "IPY_MODEL_f03c702063304900a21b86a1cfc1bc6a",
        "IPY_MODEL_ff2acae77452485ab84e18b41091ce82",
        "IPY_MODEL_85f59b8ac04841dfaa02b062d28f402e",
        "IPY_MODEL_3dc6b39299cb45bd85928756dfe5f459",
        "IPY_MODEL_68d6a562e1904abab58ed04cfe99b19c",
        "IPY_MODEL_8fff40f93750435aa3ec486f0250c736",
        "IPY_MODEL_c1578d17cde34390a10ea30c137e9f27",
        "IPY_MODEL_583c9e86be7d49f3b6ac4cb767e1e688",
        "IPY_MODEL_aa07063666e443dc97ea0bba6dfee03b",
        "IPY_MODEL_d64ebb419a7d4757b8a3499a0e4c07ab",
        "IPY_MODEL_88ba9983c9f2410d9513f064b2bd0a4e",
        "IPY_MODEL_4732a9d1bbf74747993edc5f3be4b325",
        "IPY_MODEL_6a94faccf3c34e84820a75d4ac624fa2",
        "IPY_MODEL_dc8b693a0380475a9521504abae7880f",
        "IPY_MODEL_702b8fb0ea3d4bc7b5f0fb4ebd70a3f9"
       ],
       "layout": "IPY_MODEL_3da35c8a14aa482e81c14a054574b9e7"
      }
     },
     "31b8e53479914862bbfda6d9b9331672": {
      "model_module": "@jupyter-widgets/controls",
      "model_module_version": "1.4.0",
      "model_name": "DescriptionStyleModel",
      "state": {
       "description_width": "initial"
      }
     },
     "31bab95f7bd04206b38136bebae6e4e0": {
      "model_module": "@jupyter-widgets/controls",
      "model_module_version": "1.4.0",
      "model_name": "VBoxModel",
      "state": {
       "children": [
        "IPY_MODEL_91b74a7c7349414f91919786a2a21144",
        "IPY_MODEL_2d0e683266924b28aeb37e8d9674aa84"
       ],
       "layout": "IPY_MODEL_8a3aa39ce7424e378b82dd8548356d45"
      }
     },
     "31d5199a4e67439b8fcba3e13279d716": {
      "model_module": "@jupyter-widgets/controls",
      "model_module_version": "1.4.0",
      "model_name": "VBoxModel",
      "state": {
       "children": [
        "IPY_MODEL_7cdaba6e204f4851840686529a909bcb",
        "IPY_MODEL_7ef3128732c740489c12676a641771b5"
       ],
       "layout": "IPY_MODEL_1a574812d4314fc0b8641a289584aecd"
      }
     },
     "31f0665688cd4665889b5a523659ea06": {
      "model_module": "@jupyter-widgets/base",
      "model_module_version": "1.1.0",
      "model_name": "LayoutModel",
      "state": {}
     },
     "32083f42d4e345fba785b86b0ffff0ba": {
      "model_module": "@jupyter-widgets/base",
      "model_module_version": "1.1.0",
      "model_name": "LayoutModel",
      "state": {}
     },
     "320d629c0120461784da886fbcdaad76": {
      "model_module": "@jupyter-widgets/base",
      "model_module_version": "1.1.0",
      "model_name": "LayoutModel",
      "state": {}
     },
     "3225cb9b61ba4a70a430b965be5aa7b8": {
      "model_module": "@jupyter-widgets/output",
      "model_module_version": "1.0.0",
      "model_name": "OutputModel",
      "state": {
       "layout": "IPY_MODEL_b007022f7956436f84de659c833b3ec2"
      }
     },
     "323f2cffa8674fc2ae309f0d1ad66ad9": {
      "model_module": "@jupyter-widgets/controls",
      "model_module_version": "1.4.0",
      "model_name": "AccordionModel",
      "state": {
       "_titles": {
        "0": "Procedure",
        "1": "Parameters"
       },
       "children": [
        "IPY_MODEL_307d71283cb940f5b82d3a478aa305b2",
        "IPY_MODEL_2bfb891c0abd48f9a106ff1bbba84702"
       ],
       "layout": "IPY_MODEL_b9919c507aec49f5b121cb1d8ced28ec",
       "selected_index": 1
      }
     },
     "3258e7d9b0c8421ea57dd638f55a35cf": {
      "model_module": "@jupyter-widgets/controls",
      "model_module_version": "1.4.0",
      "model_name": "DescriptionStyleModel",
      "state": {
       "description_width": "initial"
      }
     },
     "3265444623654f539855990501ab048d": {
      "model_module": "@jupyter-widgets/controls",
      "model_module_version": "1.4.0",
      "model_name": "VBoxModel",
      "state": {
       "children": [
        "IPY_MODEL_c1578d17cde34390a10ea30c137e9f27",
        "IPY_MODEL_583c9e86be7d49f3b6ac4cb767e1e688",
        "IPY_MODEL_aa07063666e443dc97ea0bba6dfee03b",
        "IPY_MODEL_d64ebb419a7d4757b8a3499a0e4c07ab",
        "IPY_MODEL_88ba9983c9f2410d9513f064b2bd0a4e",
        "IPY_MODEL_4732a9d1bbf74747993edc5f3be4b325",
        "IPY_MODEL_6a94faccf3c34e84820a75d4ac624fa2",
        "IPY_MODEL_dc8b693a0380475a9521504abae7880f"
       ],
       "layout": "IPY_MODEL_fb8ac63877104d7c88fa2f5ffdf2fcc2"
      }
     },
     "326e9d650c0b4a9fa561ffab7c667feb": {
      "model_module": "@jupyter-widgets/controls",
      "model_module_version": "1.4.0",
      "model_name": "ButtonStyleModel",
      "state": {}
     },
     "32752e4c67544541960ca40ec7880c9c": {
      "model_module": "@jupyter-widgets/base",
      "model_module_version": "1.1.0",
      "model_name": "LayoutModel",
      "state": {}
     },
     "3279b576987c4c0d94a5aaa4bc7d2f86": {
      "model_module": "@jupyter-widgets/base",
      "model_module_version": "1.1.0",
      "model_name": "LayoutModel",
      "state": {}
     },
     "32b6ed5efd784b6393dcd1a04318503d": {
      "model_module": "@jupyter-widgets/base",
      "model_module_version": "1.1.0",
      "model_name": "LayoutModel",
      "state": {}
     },
     "3318f52ff42b45c88fb7b26b948c1105": {
      "model_module": "@jupyter-widgets/base",
      "model_module_version": "1.1.0",
      "model_name": "LayoutModel",
      "state": {}
     },
     "3353e217a91f41dc98a2e85d1a009e4e": {
      "model_module": "@jupyter-widgets/base",
      "model_module_version": "1.1.0",
      "model_name": "LayoutModel",
      "state": {}
     },
     "3380b6a15a234801957e7890a4a46408": {
      "model_module": "@jupyter-widgets/base",
      "model_module_version": "1.1.0",
      "model_name": "LayoutModel",
      "state": {}
     },
     "338c2ed3c04846738a147896f84a8248": {
      "model_module": "@jupyter-widgets/base",
      "model_module_version": "1.1.0",
      "model_name": "LayoutModel",
      "state": {}
     },
     "338cf9c1769544e68c2030a2fb8d4733": {
      "model_module": "@jupyter-widgets/base",
      "model_module_version": "1.1.0",
      "model_name": "LayoutModel",
      "state": {}
     },
     "3399c8e09c1c400c978f23f5b11f4a4a": {
      "model_module": "@jupyter-widgets/base",
      "model_module_version": "1.1.0",
      "model_name": "LayoutModel",
      "state": {}
     },
     "33afde2c50854147adfb106282c7fe56": {
      "model_module": "@jupyter-widgets/controls",
      "model_module_version": "1.4.0",
      "model_name": "ToggleButtonsModel",
      "state": {
       "_options_labels": [
        "CTC/IORT",
        "Excessive blood loss"
       ],
       "button_style": "",
       "description": "Procedure:",
       "icons": [],
       "index": 0,
       "layout": "IPY_MODEL_d5a05868f9bf4680be44337f50fb5b63",
       "style": "IPY_MODEL_ceb690a5ab1a402abcf550b6cbe504f4",
       "tooltips": []
      }
     },
     "3407c7c5259c451faba1bc269a5d016c": {
      "model_module": "@jupyter-widgets/base",
      "model_module_version": "1.1.0",
      "model_name": "LayoutModel",
      "state": {}
     },
     "340cd20db0bc474e93c667b3f884184f": {
      "model_module": "@jupyter-widgets/controls",
      "model_module_version": "1.4.0",
      "model_name": "AccordionModel",
      "state": {
       "_titles": {
        "0": "Procedure",
        "1": "Parameters"
       },
       "children": [
        "IPY_MODEL_1cc5b92074f44c34a8bb6e0876fc45a3",
        "IPY_MODEL_9c1f9c5d242d4615a9ef486ac502bf8c"
       ],
       "layout": "IPY_MODEL_a6b93a7ed56743789cb74f88d6b8e280",
       "selected_index": 1
      }
     },
     "341d3437cb7547b399ce51847f49828e": {
      "model_module": "@jupyter-widgets/base",
      "model_module_version": "1.1.0",
      "model_name": "LayoutModel",
      "state": {}
     },
     "342ea6d090094fe49ebb5fa947d58ca3": {
      "model_module": "@jupyter-widgets/controls",
      "model_module_version": "1.4.0",
      "model_name": "VBoxModel",
      "state": {
       "children": [
        "IPY_MODEL_7cdaba6e204f4851840686529a909bcb",
        "IPY_MODEL_7ef3128732c740489c12676a641771b5"
       ],
       "layout": "IPY_MODEL_39446cb9ab224850b305f24562a06872"
      }
     },
     "347d3abe4c6f453688c61cc4391214db": {
      "model_module": "@jupyter-widgets/controls",
      "model_module_version": "1.4.0",
      "model_name": "VBoxModel",
      "state": {
       "_dom_classes": [
        "widget-interact"
       ],
       "children": [
        "IPY_MODEL_467abf0c84b746629cc02d043f510b3b",
        "IPY_MODEL_f03c702063304900a21b86a1cfc1bc6a",
        "IPY_MODEL_ff2acae77452485ab84e18b41091ce82",
        "IPY_MODEL_85f59b8ac04841dfaa02b062d28f402e",
        "IPY_MODEL_3dc6b39299cb45bd85928756dfe5f459",
        "IPY_MODEL_68d6a562e1904abab58ed04cfe99b19c",
        "IPY_MODEL_8fff40f93750435aa3ec486f0250c736",
        "IPY_MODEL_c1578d17cde34390a10ea30c137e9f27",
        "IPY_MODEL_583c9e86be7d49f3b6ac4cb767e1e688",
        "IPY_MODEL_aa07063666e443dc97ea0bba6dfee03b",
        "IPY_MODEL_d64ebb419a7d4757b8a3499a0e4c07ab",
        "IPY_MODEL_88ba9983c9f2410d9513f064b2bd0a4e",
        "IPY_MODEL_4732a9d1bbf74747993edc5f3be4b325",
        "IPY_MODEL_6a94faccf3c34e84820a75d4ac624fa2",
        "IPY_MODEL_dc8b693a0380475a9521504abae7880f",
        "IPY_MODEL_a53fdb09e23a429ea9015c081e4a7923"
       ],
       "layout": "IPY_MODEL_a47c2547000544e0bdb992845eca479f"
      }
     },
     "349657f018e54b5f9bdb898a2a40b4f0": {
      "model_module": "@jupyter-widgets/controls",
      "model_module_version": "1.4.0",
      "model_name": "AccordionModel",
      "state": {
       "_titles": {
        "0": "Procedure",
        "1": "Parameters"
       },
       "children": [
        "IPY_MODEL_62261d5c887d4a5d99d8625d2bf6a34a",
        "IPY_MODEL_250d6942255d4b2e81568745fbc256d8"
       ],
       "layout": "IPY_MODEL_600b98c808644848bea39664a4cb0250",
       "selected_index": 1
      }
     },
     "34a33d93091d40d4887d45bd9089e3f6": {
      "model_module": "@jupyter-widgets/controls",
      "model_module_version": "1.4.0",
      "model_name": "AccordionModel",
      "state": {
       "_titles": {
        "0": "Procedure",
        "1": "Parameters"
       },
       "children": [
        "IPY_MODEL_1986bcd5c0f04c538552a027af7a41ec",
        "IPY_MODEL_f6f6dd7217614c368e3a2e5eb4e44862"
       ],
       "layout": "IPY_MODEL_20dd8ab195574774b708b05347022e60",
       "selected_index": 1
      }
     },
     "34a4631fa83845bbab18ce0d5866e577": {
      "model_module": "@jupyter-widgets/base",
      "model_module_version": "1.1.0",
      "model_name": "LayoutModel",
      "state": {}
     },
     "34a4d8bac82f4db49df2b298bafaa160": {
      "model_module": "@jupyter-widgets/base",
      "model_module_version": "1.1.0",
      "model_name": "LayoutModel",
      "state": {}
     },
     "34b6daaf750d453ca8178d643997ba23": {
      "model_module": "@jupyter-widgets/controls",
      "model_module_version": "1.4.0",
      "model_name": "VBoxModel",
      "state": {
       "children": [
        "IPY_MODEL_7efa1f1c3355442fb96e8563d3701107",
        "IPY_MODEL_cfd7404d2eb34872b8a7f41c4035a2ee"
       ],
       "layout": "IPY_MODEL_494e1353f244495894b8e86eebc4f4bc"
      }
     },
     "3528fee56b1b47a5946d8574f788a759": {
      "model_module": "@jupyter-widgets/output",
      "model_module_version": "1.0.0",
      "model_name": "OutputModel",
      "state": {
       "layout": "IPY_MODEL_42d41f23486948fa8c40d01dbc281f39"
      }
     },
     "35632525d3094023a57c0a2c4e259cf5": {
      "model_module": "@jupyter-widgets/controls",
      "model_module_version": "1.4.0",
      "model_name": "HBoxModel",
      "state": {
       "children": [
        "IPY_MODEL_f8edb14dcf0846168bd99dc368825806"
       ],
       "layout": "IPY_MODEL_083f2573543b4211bc9e0a5066119327"
      }
     },
     "356c6e7595094fcf99848e3987a2fe4b": {
      "model_module": "@jupyter-widgets/base",
      "model_module_version": "1.1.0",
      "model_name": "LayoutModel",
      "state": {}
     },
     "35872ad489fe4b2fae20d09effab4699": {
      "model_module": "@jupyter-widgets/controls",
      "model_module_version": "1.4.0",
      "model_name": "DescriptionStyleModel",
      "state": {
       "description_width": "initial"
      }
     },
     "359eb66e16ff40a18d9d419f58982732": {
      "model_module": "@jupyter-widgets/controls",
      "model_module_version": "1.4.0",
      "model_name": "VBoxModel",
      "state": {
       "_dom_classes": [
        "widget-interact"
       ],
       "children": [
        "IPY_MODEL_7cdaba6e204f4851840686529a909bcb",
        "IPY_MODEL_7ef3128732c740489c12676a641771b5",
        "IPY_MODEL_b5eb4cf65d6240b7ae16d370f25fee78"
       ],
       "layout": "IPY_MODEL_c2506684fe3d46b8b3b71a8f8f6ca5e3"
      }
     },
     "35bedb53eea445a6820d7b818a584c9a": {
      "model_module": "@jupyter-widgets/base",
      "model_module_version": "1.1.0",
      "model_name": "LayoutModel",
      "state": {}
     },
     "35ebe758bbde4d0e8b6a255b421885ea": {
      "model_module": "@jupyter-widgets/base",
      "model_module_version": "1.1.0",
      "model_name": "LayoutModel",
      "state": {}
     },
     "3624ec7dd5b24397bf8bebd6432793b4": {
      "model_module": "@jupyter-widgets/controls",
      "model_module_version": "1.4.0",
      "model_name": "VBoxModel",
      "state": {
       "children": [
        "IPY_MODEL_467abf0c84b746629cc02d043f510b3b",
        "IPY_MODEL_f03c702063304900a21b86a1cfc1bc6a",
        "IPY_MODEL_ff2acae77452485ab84e18b41091ce82",
        "IPY_MODEL_85f59b8ac04841dfaa02b062d28f402e",
        "IPY_MODEL_3dc6b39299cb45bd85928756dfe5f459",
        "IPY_MODEL_68d6a562e1904abab58ed04cfe99b19c",
        "IPY_MODEL_8fff40f93750435aa3ec486f0250c736"
       ],
       "layout": "IPY_MODEL_a2921d5e1ed6450fa73a4cf316e63109"
      }
     },
     "362b3534f9c64bbc81000225cd7540a9": {
      "model_module": "@jupyter-widgets/controls",
      "model_module_version": "1.4.0",
      "model_name": "ButtonModel",
      "state": {
       "description": "Run algorithm",
       "layout": "IPY_MODEL_52dea0c510df4408adfee9ef96bb3c3f",
       "style": "IPY_MODEL_2422a302dc054616ba00142c2032d0b5"
      }
     },
     "366ca8f828174e889019ca884c8c7365": {
      "model_module": "@jupyter-widgets/base",
      "model_module_version": "1.1.0",
      "model_name": "LayoutModel",
      "state": {}
     },
     "36779758ce4d44d1ba944db8bf703a89": {
      "model_module": "@jupyter-widgets/controls",
      "model_module_version": "1.4.0",
      "model_name": "VBoxModel",
      "state": {
       "children": [
        "IPY_MODEL_7cdaba6e204f4851840686529a909bcb",
        "IPY_MODEL_7ef3128732c740489c12676a641771b5"
       ],
       "layout": "IPY_MODEL_c45ed3dda2b44cd5a9ba03ebc786551c"
      }
     },
     "3691fc7f114a4a27bbe34fd58944064b": {
      "model_module": "@jupyter-widgets/base",
      "model_module_version": "1.1.0",
      "model_name": "LayoutModel",
      "state": {}
     },
     "36a62eec19654329a159cfa356e15371": {
      "model_module": "@jupyter-widgets/controls",
      "model_module_version": "1.4.0",
      "model_name": "VBoxModel",
      "state": {
       "children": [
        "IPY_MODEL_c1578d17cde34390a10ea30c137e9f27",
        "IPY_MODEL_583c9e86be7d49f3b6ac4cb767e1e688",
        "IPY_MODEL_aa07063666e443dc97ea0bba6dfee03b",
        "IPY_MODEL_d64ebb419a7d4757b8a3499a0e4c07ab",
        "IPY_MODEL_88ba9983c9f2410d9513f064b2bd0a4e",
        "IPY_MODEL_4732a9d1bbf74747993edc5f3be4b325",
        "IPY_MODEL_6a94faccf3c34e84820a75d4ac624fa2",
        "IPY_MODEL_dc8b693a0380475a9521504abae7880f"
       ],
       "layout": "IPY_MODEL_abbd3de53f594e93afd6794cba10bd86"
      }
     },
     "36a8fb9985c0438da26c9495a4f456e4": {
      "model_module": "@jupyter-widgets/controls",
      "model_module_version": "1.4.0",
      "model_name": "AccordionModel",
      "state": {
       "_titles": {
        "0": "Procedure",
        "1": "Parameters"
       },
       "children": [
        "IPY_MODEL_8be9209e13ea4c8c90f9033f250c5c5e",
        "IPY_MODEL_59cd96a89ed549d88e8b6fd0edd0cfcd"
       ],
       "layout": "IPY_MODEL_abdb50d5808f4ee08f92260131f6fcd5",
       "selected_index": 1
      }
     },
     "36c3e0273bed41c1966dca1d1058cd52": {
      "model_module": "@jupyter-widgets/base",
      "model_module_version": "1.1.0",
      "model_name": "LayoutModel",
      "state": {}
     },
     "36cc42aea13a4d2a8fea533b05971d3e": {
      "model_module": "@jupyter-widgets/controls",
      "model_module_version": "1.4.0",
      "model_name": "AccordionModel",
      "state": {
       "_titles": {
        "0": "Procedure",
        "1": "Parameters"
       },
       "children": [
        "IPY_MODEL_1ddc0a09f9354989acacbc8bb7a661fe",
        "IPY_MODEL_e89b6618542e493d930bc20ec0c29f5a"
       ],
       "layout": "IPY_MODEL_bad3d305b8534a75a82f9123f7434ab9",
       "selected_index": 1
      }
     },
     "37208ba14ffe478ebe89f9021da0a732": {
      "model_module": "@jupyter-widgets/controls",
      "model_module_version": "1.4.0",
      "model_name": "VBoxModel",
      "state": {
       "children": [
        "IPY_MODEL_467abf0c84b746629cc02d043f510b3b",
        "IPY_MODEL_f03c702063304900a21b86a1cfc1bc6a",
        "IPY_MODEL_ff2acae77452485ab84e18b41091ce82",
        "IPY_MODEL_85f59b8ac04841dfaa02b062d28f402e",
        "IPY_MODEL_3dc6b39299cb45bd85928756dfe5f459",
        "IPY_MODEL_68d6a562e1904abab58ed04cfe99b19c",
        "IPY_MODEL_8fff40f93750435aa3ec486f0250c736"
       ],
       "layout": "IPY_MODEL_7ce6a423bc3a4f0aa65b1c2ab603c5f6"
      }
     },
     "37258f405fe542c0b7e63f3ed614086f": {
      "model_module": "@jupyter-widgets/controls",
      "model_module_version": "1.4.0",
      "model_name": "VBoxModel",
      "state": {
       "children": [
        "IPY_MODEL_c1578d17cde34390a10ea30c137e9f27",
        "IPY_MODEL_583c9e86be7d49f3b6ac4cb767e1e688",
        "IPY_MODEL_aa07063666e443dc97ea0bba6dfee03b",
        "IPY_MODEL_d64ebb419a7d4757b8a3499a0e4c07ab",
        "IPY_MODEL_88ba9983c9f2410d9513f064b2bd0a4e",
        "IPY_MODEL_4732a9d1bbf74747993edc5f3be4b325",
        "IPY_MODEL_6a94faccf3c34e84820a75d4ac624fa2",
        "IPY_MODEL_dc8b693a0380475a9521504abae7880f"
       ],
       "layout": "IPY_MODEL_356c6e7595094fcf99848e3987a2fe4b"
      }
     },
     "374dc96d17344d6fae57c328ec973696": {
      "model_module": "@jupyter-widgets/controls",
      "model_module_version": "1.4.0",
      "model_name": "ButtonStyleModel",
      "state": {}
     },
     "37afc27fc0374155b29dc4c88a0b7e7c": {
      "model_module": "@jupyter-widgets/base",
      "model_module_version": "1.1.0",
      "model_name": "LayoutModel",
      "state": {}
     },
     "37bf47de8ebb46e7bbdaa6cb658a836b": {
      "model_module": "@jupyter-widgets/controls",
      "model_module_version": "1.4.0",
      "model_name": "FloatTextModel",
      "state": {
       "description": "$APTT_{Heparinase} (s)$",
       "layout": "IPY_MODEL_f127f9abd840466ea46484b980099237",
       "step": null,
       "style": "IPY_MODEL_c31270df1b924563b7cf372dd7c85672",
       "value": 34.2
      }
     },
     "37d4c1c8df0a4dd29c090611d7d56f65": {
      "model_module": "@jupyter-widgets/base",
      "model_module_version": "1.1.0",
      "model_name": "LayoutModel",
      "state": {}
     },
     "37f466b80867453a96f7df1f3e60da34": {
      "model_module": "@jupyter-widgets/base",
      "model_module_version": "1.1.0",
      "model_name": "LayoutModel",
      "state": {}
     },
     "3858063a73e54a17a9183d293d46b8e6": {
      "model_module": "@jupyter-widgets/controls",
      "model_module_version": "1.4.0",
      "model_name": "AccordionModel",
      "state": {
       "_titles": {
        "0": "Procedure",
        "1": "Parameters"
       },
       "children": [
        "IPY_MODEL_47a6b4f703424b83927560d88960fe10",
        "IPY_MODEL_2dc6986d6875418cb4765c6d2c3e60e7"
       ],
       "layout": "IPY_MODEL_9a24e6dbd0644815bd4431481bf8be0e"
      }
     },
     "385984efb1b24f51b98415d7b175968d": {
      "model_module": "@jupyter-widgets/controls",
      "model_module_version": "1.4.0",
      "model_name": "VBoxModel",
      "state": {
       "children": [
        "IPY_MODEL_c1578d17cde34390a10ea30c137e9f27",
        "IPY_MODEL_583c9e86be7d49f3b6ac4cb767e1e688",
        "IPY_MODEL_aa07063666e443dc97ea0bba6dfee03b",
        "IPY_MODEL_d64ebb419a7d4757b8a3499a0e4c07ab",
        "IPY_MODEL_88ba9983c9f2410d9513f064b2bd0a4e",
        "IPY_MODEL_4732a9d1bbf74747993edc5f3be4b325",
        "IPY_MODEL_6a94faccf3c34e84820a75d4ac624fa2",
        "IPY_MODEL_dc8b693a0380475a9521504abae7880f"
       ],
       "layout": "IPY_MODEL_003f8510695d49f9b779467c88d677e0"
      }
     },
     "3868a378b4ef4786862a350441fcbc6c": {
      "model_module": "@jupyter-widgets/output",
      "model_module_version": "1.0.0",
      "model_name": "OutputModel",
      "state": {
       "layout": "IPY_MODEL_59d66ef4ffc7443ea1005595af0c99ae"
      }
     },
     "38710cf744a946ac8738d939fd411a04": {
      "model_module": "@jupyter-widgets/controls",
      "model_module_version": "1.4.0",
      "model_name": "VBoxModel",
      "state": {
       "_dom_classes": [
        "widget-interact"
       ],
       "children": [
        "IPY_MODEL_7cdaba6e204f4851840686529a909bcb",
        "IPY_MODEL_7ef3128732c740489c12676a641771b5",
        "IPY_MODEL_16e50acdf4bb4cf8a0007f158b84a9aa"
       ],
       "layout": "IPY_MODEL_941adca00e68463b86d01cbb9c590f41"
      }
     },
     "3893c42c4c7f4c26a80720b91e84f574": {
      "model_module": "@jupyter-widgets/controls",
      "model_module_version": "1.4.0",
      "model_name": "ButtonStyleModel",
      "state": {}
     },
     "38bcbada17ec4c90936a23bc58f5564c": {
      "model_module": "@jupyter-widgets/base",
      "model_module_version": "1.1.0",
      "model_name": "LayoutModel",
      "state": {}
     },
     "38f4f8c519984c06acb1106e3c4ebff1": {
      "model_module": "@jupyter-widgets/base",
      "model_module_version": "1.1.0",
      "model_name": "LayoutModel",
      "state": {}
     },
     "38fdf769164043309ad45e705cb4a5a0": {
      "model_module": "@jupyter-widgets/base",
      "model_module_version": "1.1.0",
      "model_name": "LayoutModel",
      "state": {}
     },
     "39119954cef847329ef92798ad0af756": {
      "model_module": "@jupyter-widgets/controls",
      "model_module_version": "1.4.0",
      "model_name": "VBoxModel",
      "state": {
       "children": [
        "IPY_MODEL_abd2f540915a40719249df6c7199a319",
        "IPY_MODEL_f9b32471cfba4378a2e08d2338da8890"
       ],
       "layout": "IPY_MODEL_4fcb51af286e46bca3ab39201ce19d17"
      }
     },
     "39267897a56a4f3caf522426bbde855b": {
      "model_module": "@jupyter-widgets/base",
      "model_module_version": "1.1.0",
      "model_name": "LayoutModel",
      "state": {}
     },
     "39446cb9ab224850b305f24562a06872": {
      "model_module": "@jupyter-widgets/base",
      "model_module_version": "1.1.0",
      "model_name": "LayoutModel",
      "state": {}
     },
     "396312265ad04f1798d5863ece39eff5": {
      "model_module": "@jupyter-widgets/controls",
      "model_module_version": "1.4.0",
      "model_name": "VBoxModel",
      "state": {
       "children": [
        "IPY_MODEL_0b3f762c364b4882b9901aac4ac4e6c4",
        "IPY_MODEL_dbdd580e126848b6967051d5339a309a",
        "IPY_MODEL_9ffe039643b445f19fad43330e0bbc9b",
        "IPY_MODEL_f3bb704c1b7d437784bcd24c9fc4328c",
        "IPY_MODEL_37bf47de8ebb46e7bbdaa6cb658a836b",
        "IPY_MODEL_9d64c2da1a454b0f99be8fc3a30ed8e4",
        "IPY_MODEL_78c1adf0a92940e397d9b6e635a164bf"
       ],
       "layout": "IPY_MODEL_ee91e10e09924df7b29ad5d5311509cf"
      }
     },
     "3990e260ff8a4656b146bf36990260a1": {
      "model_module": "@jupyter-widgets/controls",
      "model_module_version": "1.4.0",
      "model_name": "VBoxModel",
      "state": {
       "children": [
        "IPY_MODEL_c1578d17cde34390a10ea30c137e9f27",
        "IPY_MODEL_583c9e86be7d49f3b6ac4cb767e1e688",
        "IPY_MODEL_aa07063666e443dc97ea0bba6dfee03b",
        "IPY_MODEL_d64ebb419a7d4757b8a3499a0e4c07ab",
        "IPY_MODEL_88ba9983c9f2410d9513f064b2bd0a4e",
        "IPY_MODEL_4732a9d1bbf74747993edc5f3be4b325",
        "IPY_MODEL_6a94faccf3c34e84820a75d4ac624fa2",
        "IPY_MODEL_dc8b693a0380475a9521504abae7880f"
       ],
       "layout": "IPY_MODEL_9a8b530c09fd4165b62154c1342e6782"
      }
     },
     "39d89e36691746c6a8a6e86a12382518": {
      "model_module": "@jupyter-widgets/output",
      "model_module_version": "1.0.0",
      "model_name": "OutputModel",
      "state": {
       "layout": "IPY_MODEL_52bdd9818d9d4ef19990d4ccfd747df4"
      }
     },
     "3a073d563a31497b9f249ad17ada20fe": {
      "model_module": "@jupyter-widgets/base",
      "model_module_version": "1.1.0",
      "model_name": "LayoutModel",
      "state": {}
     },
     "3a161dbbee8a4eee85039793aecdb9c6": {
      "model_module": "@jupyter-widgets/controls",
      "model_module_version": "1.4.0",
      "model_name": "FloatTextModel",
      "state": {
       "description": "$MEA_{TRAP} (U)$",
       "layout": "IPY_MODEL_862c9ae1d5b24af59609a814ae79da54",
       "step": null,
       "style": "IPY_MODEL_204086f213014ca9bbaf446f43d34da4",
       "value": "nan"
      }
     },
     "3a2820e6a1544b8f97949e60666f7d1c": {
      "model_module": "@jupyter-widgets/base",
      "model_module_version": "1.1.0",
      "model_name": "LayoutModel",
      "state": {}
     },
     "3a3adf8a3a7942a28daf15ebde9ac9fa": {
      "model_module": "@jupyter-widgets/base",
      "model_module_version": "1.1.0",
      "model_name": "LayoutModel",
      "state": {}
     },
     "3a44e28eb77e46939bde8dbde8d55663": {
      "model_module": "@jupyter-widgets/base",
      "model_module_version": "1.1.0",
      "model_name": "LayoutModel",
      "state": {}
     },
     "3a55f60c47cf4a9b9f91689511500535": {
      "model_module": "@jupyter-widgets/controls",
      "model_module_version": "1.4.0",
      "model_name": "VBoxModel",
      "state": {
       "children": [
        "IPY_MODEL_7cdaba6e204f4851840686529a909bcb",
        "IPY_MODEL_7ef3128732c740489c12676a641771b5"
       ],
       "layout": "IPY_MODEL_e3d690d305a944a1a06d8dd669232667"
      }
     },
     "3a6b6e6393bb4eadb79b24cfe087c6be": {
      "model_module": "@jupyter-widgets/base",
      "model_module_version": "1.1.0",
      "model_name": "LayoutModel",
      "state": {}
     },
     "3a853c9d5c9c4174a9e8e331bc15ad13": {
      "model_module": "@jupyter-widgets/controls",
      "model_module_version": "1.4.0",
      "model_name": "DescriptionStyleModel",
      "state": {
       "description_width": "initial"
      }
     },
     "3aa86d984bff4822944695fbb35cf21b": {
      "model_module": "@jupyter-widgets/controls",
      "model_module_version": "1.4.0",
      "model_name": "VBoxModel",
      "state": {
       "children": [
        "IPY_MODEL_62930fd33ae6430b8dd98a2e0ebbb23f",
        "IPY_MODEL_f3370725cbcc4686984aa1e8cd4e8779"
       ],
       "layout": "IPY_MODEL_ee09adf81e044ef9ba00b263e92041fd"
      }
     },
     "3b4d5f8001c3429ab685ab1e28f82942": {
      "model_module": "@jupyter-widgets/base",
      "model_module_version": "1.1.0",
      "model_name": "LayoutModel",
      "state": {}
     },
     "3b57f87f52054b8fa368719709c8acec": {
      "model_module": "@jupyter-widgets/controls",
      "model_module_version": "1.4.0",
      "model_name": "VBoxModel",
      "state": {
       "_dom_classes": [
        "widget-interact"
       ],
       "children": [
        "IPY_MODEL_467abf0c84b746629cc02d043f510b3b",
        "IPY_MODEL_f03c702063304900a21b86a1cfc1bc6a",
        "IPY_MODEL_ff2acae77452485ab84e18b41091ce82",
        "IPY_MODEL_85f59b8ac04841dfaa02b062d28f402e",
        "IPY_MODEL_3dc6b39299cb45bd85928756dfe5f459",
        "IPY_MODEL_68d6a562e1904abab58ed04cfe99b19c",
        "IPY_MODEL_8fff40f93750435aa3ec486f0250c736",
        "IPY_MODEL_c1578d17cde34390a10ea30c137e9f27",
        "IPY_MODEL_583c9e86be7d49f3b6ac4cb767e1e688",
        "IPY_MODEL_aa07063666e443dc97ea0bba6dfee03b",
        "IPY_MODEL_d64ebb419a7d4757b8a3499a0e4c07ab",
        "IPY_MODEL_88ba9983c9f2410d9513f064b2bd0a4e",
        "IPY_MODEL_4732a9d1bbf74747993edc5f3be4b325",
        "IPY_MODEL_6a94faccf3c34e84820a75d4ac624fa2",
        "IPY_MODEL_dc8b693a0380475a9521504abae7880f",
        "IPY_MODEL_9ec9a5cefc624992ba920345628f44c3"
       ],
       "layout": "IPY_MODEL_8d8d413b94d3457cb397c71cdc736226"
      }
     },
     "3b6b0053f09b47cc93bd725f7df138e4": {
      "model_module": "@jupyter-widgets/base",
      "model_module_version": "1.1.0",
      "model_name": "LayoutModel",
      "state": {}
     },
     "3ba399387eda43f79e8b69425ed1c85a": {
      "model_module": "@jupyter-widgets/base",
      "model_module_version": "1.1.0",
      "model_name": "LayoutModel",
      "state": {}
     },
     "3babc823811048a88231cabd1ae388d0": {
      "model_module": "@jupyter-widgets/controls",
      "model_module_version": "1.4.0",
      "model_name": "AccordionModel",
      "state": {
       "_titles": {
        "0": "Procedure",
        "1": "Parameters"
       },
       "children": [
        "IPY_MODEL_4a1302630b51426183792762830f39e3",
        "IPY_MODEL_8e1e82ead6e14b14b4a758ba0a0d5f87"
       ],
       "layout": "IPY_MODEL_4affc8204e1347e79a43e1de225d10a6",
       "selected_index": 1
      }
     },
     "3bba63e5110e4ecba9acb11184caac00": {
      "model_module": "@jupyter-widgets/controls",
      "model_module_version": "1.4.0",
      "model_name": "HBoxModel",
      "state": {
       "children": [
        "IPY_MODEL_455a74fbae2a42379d360c0b9a5da76e",
        "IPY_MODEL_909b493dc8f047c3af942537f06efef8"
       ],
       "layout": "IPY_MODEL_c7ba1bff09954c8fa326983ad8e4686d"
      }
     },
     "3bdb552766c84dd4bb31cd3fee51933d": {
      "model_module": "@jupyter-widgets/base",
      "model_module_version": "1.1.0",
      "model_name": "LayoutModel",
      "state": {}
     },
     "3c18f7ef460148ccba418658b0283b22": {
      "model_module": "@jupyter-widgets/base",
      "model_module_version": "1.1.0",
      "model_name": "LayoutModel",
      "state": {}
     },
     "3c5cf63e83a542e6ac7709e88ad9275b": {
      "model_module": "@jupyter-widgets/controls",
      "model_module_version": "1.4.0",
      "model_name": "ButtonStyleModel",
      "state": {}
     },
     "3c68671dbcba4738b2b050a1ff358319": {
      "model_module": "@jupyter-widgets/controls",
      "model_module_version": "1.4.0",
      "model_name": "VBoxModel",
      "state": {
       "_dom_classes": [
        "widget-interact"
       ],
       "children": [
        "IPY_MODEL_467abf0c84b746629cc02d043f510b3b",
        "IPY_MODEL_f03c702063304900a21b86a1cfc1bc6a",
        "IPY_MODEL_ff2acae77452485ab84e18b41091ce82",
        "IPY_MODEL_85f59b8ac04841dfaa02b062d28f402e",
        "IPY_MODEL_3dc6b39299cb45bd85928756dfe5f459",
        "IPY_MODEL_68d6a562e1904abab58ed04cfe99b19c",
        "IPY_MODEL_8fff40f93750435aa3ec486f0250c736",
        "IPY_MODEL_c1578d17cde34390a10ea30c137e9f27",
        "IPY_MODEL_583c9e86be7d49f3b6ac4cb767e1e688",
        "IPY_MODEL_aa07063666e443dc97ea0bba6dfee03b",
        "IPY_MODEL_d64ebb419a7d4757b8a3499a0e4c07ab",
        "IPY_MODEL_88ba9983c9f2410d9513f064b2bd0a4e",
        "IPY_MODEL_4732a9d1bbf74747993edc5f3be4b325",
        "IPY_MODEL_6a94faccf3c34e84820a75d4ac624fa2",
        "IPY_MODEL_dc8b693a0380475a9521504abae7880f",
        "IPY_MODEL_192f9e9772ad42fc997926885e3ea642"
       ],
       "layout": "IPY_MODEL_fe07e9dfebce43248b11613f23c7c01e"
      }
     },
     "3c6e71138dc64a51b431bf51f40cb25e": {
      "model_module": "@jupyter-widgets/base",
      "model_module_version": "1.1.0",
      "model_name": "LayoutModel",
      "state": {}
     },
     "3ca01983ecd84d40aa24bcdb59adc87b": {
      "model_module": "@jupyter-widgets/controls",
      "model_module_version": "1.4.0",
      "model_name": "VBoxModel",
      "state": {
       "children": [
        "IPY_MODEL_dde3e1515c9a486aa634a9ea817916e3",
        "IPY_MODEL_cae85a5d857d40e7b8fda1bb0893c865"
       ],
       "layout": "IPY_MODEL_720cce4c5d8345878153c463c98fe079"
      }
     },
     "3cb65e60b0cb43d5b4e7fb266902551d": {
      "model_module": "@jupyter-widgets/base",
      "model_module_version": "1.1.0",
      "model_name": "LayoutModel",
      "state": {}
     },
     "3cd93a2f38fb4e09bf1b85c81fa56f64": {
      "model_module": "@jupyter-widgets/base",
      "model_module_version": "1.1.0",
      "model_name": "LayoutModel",
      "state": {}
     },
     "3ceab34fe7054cfdad5c2ae9ab24c7ee": {
      "model_module": "@jupyter-widgets/base",
      "model_module_version": "1.1.0",
      "model_name": "LayoutModel",
      "state": {}
     },
     "3d61936a2118461c87b8c11f5c5bbd2c": {
      "model_module": "@jupyter-widgets/base",
      "model_module_version": "1.1.0",
      "model_name": "LayoutModel",
      "state": {}
     },
     "3da35c8a14aa482e81c14a054574b9e7": {
      "model_module": "@jupyter-widgets/base",
      "model_module_version": "1.1.0",
      "model_name": "LayoutModel",
      "state": {}
     },
     "3dbe47b4fb9049739a614f1546b18200": {
      "model_module": "@jupyter-widgets/controls",
      "model_module_version": "1.4.0",
      "model_name": "DescriptionStyleModel",
      "state": {
       "description_width": "initial"
      }
     },
     "3dc6b39299cb45bd85928756dfe5f459": {
      "model_module": "@jupyter-widgets/controls",
      "model_module_version": "1.4.0",
      "model_name": "FloatTextModel",
      "state": {
       "description": "$APTT_{Heparinase} (s)$",
       "layout": "IPY_MODEL_56523e4ab0ff490db5ad2a2263ca2d7d",
       "step": null,
       "style": "IPY_MODEL_46c9b50ca35f430c9aebd18b4191d201",
       "value": 69.8
      }
     },
     "3e2863b3d70f4b60ae84dd80cb4448f2": {
      "model_module": "@jupyter-widgets/controls",
      "model_module_version": "1.4.0",
      "model_name": "VBoxModel",
      "state": {
       "_dom_classes": [
        "widget-interact"
       ],
       "children": [
        "IPY_MODEL_467abf0c84b746629cc02d043f510b3b",
        "IPY_MODEL_f03c702063304900a21b86a1cfc1bc6a",
        "IPY_MODEL_ff2acae77452485ab84e18b41091ce82",
        "IPY_MODEL_85f59b8ac04841dfaa02b062d28f402e",
        "IPY_MODEL_3dc6b39299cb45bd85928756dfe5f459",
        "IPY_MODEL_68d6a562e1904abab58ed04cfe99b19c",
        "IPY_MODEL_8fff40f93750435aa3ec486f0250c736",
        "IPY_MODEL_c1578d17cde34390a10ea30c137e9f27",
        "IPY_MODEL_583c9e86be7d49f3b6ac4cb767e1e688",
        "IPY_MODEL_aa07063666e443dc97ea0bba6dfee03b",
        "IPY_MODEL_d64ebb419a7d4757b8a3499a0e4c07ab",
        "IPY_MODEL_88ba9983c9f2410d9513f064b2bd0a4e",
        "IPY_MODEL_4732a9d1bbf74747993edc5f3be4b325",
        "IPY_MODEL_6a94faccf3c34e84820a75d4ac624fa2",
        "IPY_MODEL_dc8b693a0380475a9521504abae7880f",
        "IPY_MODEL_9a675a6f14e2410b8baf285164790046"
       ],
       "layout": "IPY_MODEL_de48ec8b9c414a87a94902ea3b179ff5"
      }
     },
     "3e3c7fd8c3e44277ab82e309f95dc03c": {
      "model_module": "@jupyter-widgets/controls",
      "model_module_version": "1.4.0",
      "model_name": "ButtonStyleModel",
      "state": {}
     },
     "3e5369299aea490f8d05419d851ef8f1": {
      "model_module": "@jupyter-widgets/base",
      "model_module_version": "1.1.0",
      "model_name": "LayoutModel",
      "state": {}
     },
     "3e791e2f76494ce687ecefcf5bb4f322": {
      "model_module": "@jupyter-widgets/controls",
      "model_module_version": "1.4.0",
      "model_name": "AccordionModel",
      "state": {
       "_titles": {
        "0": "Procedure",
        "1": "Parameters"
       },
       "children": [
        "IPY_MODEL_82ebd286f37e4a0db59dff5413283356",
        "IPY_MODEL_3bba63e5110e4ecba9acb11184caac00"
       ],
       "layout": "IPY_MODEL_d7a8852353814694828aae9be209418b",
       "selected_index": 1
      }
     },
     "3ec4d8cc53e84f0bbd04086ce905bd48": {
      "model_module": "@jupyter-widgets/controls",
      "model_module_version": "1.4.0",
      "model_name": "VBoxModel",
      "state": {
       "children": [
        "IPY_MODEL_467abf0c84b746629cc02d043f510b3b",
        "IPY_MODEL_f03c702063304900a21b86a1cfc1bc6a",
        "IPY_MODEL_ff2acae77452485ab84e18b41091ce82",
        "IPY_MODEL_85f59b8ac04841dfaa02b062d28f402e",
        "IPY_MODEL_3dc6b39299cb45bd85928756dfe5f459",
        "IPY_MODEL_68d6a562e1904abab58ed04cfe99b19c",
        "IPY_MODEL_8fff40f93750435aa3ec486f0250c736"
       ],
       "layout": "IPY_MODEL_6da029249c134b6db670719ee365e7ce"
      }
     },
     "3efe33f8d3224293ae854e359a551b2b": {
      "model_module": "@jupyter-widgets/controls",
      "model_module_version": "1.4.0",
      "model_name": "ButtonStyleModel",
      "state": {}
     },
     "3f12a2e95b114ea4befcb8af5c699df8": {
      "model_module": "@jupyter-widgets/controls",
      "model_module_version": "1.4.0",
      "model_name": "VBoxModel",
      "state": {
       "_dom_classes": [
        "widget-interact"
       ],
       "children": [
        "IPY_MODEL_467abf0c84b746629cc02d043f510b3b",
        "IPY_MODEL_f03c702063304900a21b86a1cfc1bc6a",
        "IPY_MODEL_ff2acae77452485ab84e18b41091ce82",
        "IPY_MODEL_85f59b8ac04841dfaa02b062d28f402e",
        "IPY_MODEL_3dc6b39299cb45bd85928756dfe5f459",
        "IPY_MODEL_68d6a562e1904abab58ed04cfe99b19c",
        "IPY_MODEL_8fff40f93750435aa3ec486f0250c736",
        "IPY_MODEL_c1578d17cde34390a10ea30c137e9f27",
        "IPY_MODEL_583c9e86be7d49f3b6ac4cb767e1e688",
        "IPY_MODEL_aa07063666e443dc97ea0bba6dfee03b",
        "IPY_MODEL_d64ebb419a7d4757b8a3499a0e4c07ab",
        "IPY_MODEL_88ba9983c9f2410d9513f064b2bd0a4e",
        "IPY_MODEL_4732a9d1bbf74747993edc5f3be4b325",
        "IPY_MODEL_6a94faccf3c34e84820a75d4ac624fa2",
        "IPY_MODEL_dc8b693a0380475a9521504abae7880f",
        "IPY_MODEL_a6106d85591247019177bbca660ccb05"
       ],
       "layout": "IPY_MODEL_d9b47bbdc9174944a8827852486be01f"
      }
     },
     "3fc3335ff45144218bdc60cdf6b15ce3": {
      "model_module": "@jupyter-widgets/output",
      "model_module_version": "1.0.0",
      "model_name": "OutputModel",
      "state": {
       "layout": "IPY_MODEL_972cf96220c94dfc8adf63f23eea4b1f"
      }
     },
     "40082e79f83344a5978ce808dff016bb": {
      "model_module": "@jupyter-widgets/controls",
      "model_module_version": "1.4.0",
      "model_name": "ButtonStyleModel",
      "state": {}
     },
     "40121219195f4689afde4136304bea9d": {
      "model_module": "@jupyter-widgets/base",
      "model_module_version": "1.1.0",
      "model_name": "LayoutModel",
      "state": {}
     },
     "402c60aac8e143f8b7133afa9115c0da": {
      "model_module": "@jupyter-widgets/controls",
      "model_module_version": "1.4.0",
      "model_name": "ButtonModel",
      "state": {
       "description": "Run algorithm",
       "layout": "IPY_MODEL_e6084f92235b4f2d8a16d3c6178ecd08",
       "style": "IPY_MODEL_8ced277702e24e6d9a17c1af2f309bea"
      }
     },
     "403df03ecb1249ba92fa563eec909f93": {
      "model_module": "@jupyter-widgets/controls",
      "model_module_version": "1.4.0",
      "model_name": "AccordionModel",
      "state": {
       "_titles": {
        "0": "Procedure",
        "1": "Parameters"
       },
       "children": [
        "IPY_MODEL_b87d5f04f7c94ad2b4240bef62c3d149",
        "IPY_MODEL_5d061dbdd231405d860e16f6a9819603"
       ],
       "layout": "IPY_MODEL_9d842c94091f4fd79f80a8ffcb5ef603",
       "selected_index": 1
      }
     },
     "405280f0a6d44d08bb22ff429fa76d61": {
      "model_module": "@jupyter-widgets/output",
      "model_module_version": "1.0.0",
      "model_name": "OutputModel",
      "state": {
       "layout": "IPY_MODEL_ca0cbc4e8d0c437681a0a80e525df4c5"
      }
     },
     "408b77602c2143dfa960dfa892519230": {
      "model_module": "@jupyter-widgets/controls",
      "model_module_version": "1.4.0",
      "model_name": "HBoxModel",
      "state": {
       "children": [
        "IPY_MODEL_a9365c9ebc4d4dd9a14d54490e2fe556",
        "IPY_MODEL_c9767acf83104e4b94ad13a60136527e"
       ],
       "layout": "IPY_MODEL_a4e46472763d492a8deb3158916abfe3"
      }
     },
     "41056d8485cf46899ed3564eaa1e6d53": {
      "model_module": "@jupyter-widgets/output",
      "model_module_version": "1.0.0",
      "model_name": "OutputModel",
      "state": {
       "layout": "IPY_MODEL_81616bf450c74715ac7a7b7259f2811b"
      }
     },
     "410a0987b58943819b52525d8fcc1010": {
      "model_module": "@jupyter-widgets/base",
      "model_module_version": "1.1.0",
      "model_name": "LayoutModel",
      "state": {}
     },
     "4142f8e49a064563a0e7c181bf4ad903": {
      "model_module": "@jupyter-widgets/controls",
      "model_module_version": "1.4.0",
      "model_name": "ButtonStyleModel",
      "state": {}
     },
     "41691307b7ad46e99307fda1995e38a7": {
      "model_module": "@jupyter-widgets/base",
      "model_module_version": "1.1.0",
      "model_name": "LayoutModel",
      "state": {}
     },
     "419babd10fad4d73b292ef7ad52d2b27": {
      "model_module": "@jupyter-widgets/base",
      "model_module_version": "1.1.0",
      "model_name": "LayoutModel",
      "state": {}
     },
     "41c0c1da08ea46e490f9ecc68c832526": {
      "model_module": "@jupyter-widgets/base",
      "model_module_version": "1.1.0",
      "model_name": "LayoutModel",
      "state": {}
     },
     "41c3a2ffc92e4451935cc02871eb5b0c": {
      "model_module": "@jupyter-widgets/base",
      "model_module_version": "1.1.0",
      "model_name": "LayoutModel",
      "state": {}
     },
     "41d08ae4e63e4bce9de3893a11b8e3c5": {
      "model_module": "@jupyter-widgets/controls",
      "model_module_version": "1.4.0",
      "model_name": "ButtonStyleModel",
      "state": {}
     },
     "41e7ed10ec154e46b765726275745fdf": {
      "model_module": "@jupyter-widgets/base",
      "model_module_version": "1.1.0",
      "model_name": "LayoutModel",
      "state": {}
     },
     "41ee553c5f484e93a35357dc384bbc16": {
      "model_module": "@jupyter-widgets/controls",
      "model_module_version": "1.4.0",
      "model_name": "VBoxModel",
      "state": {
       "children": [
        "IPY_MODEL_76209656b7984d0289aa721823263ac8",
        "IPY_MODEL_78de0a266954440f8f484ac7b9eafbd8"
       ],
       "layout": "IPY_MODEL_3a3adf8a3a7942a28daf15ebde9ac9fa"
      }
     },
     "4239fd5d4d2a404c909523b771155f52": {
      "model_module": "@jupyter-widgets/controls",
      "model_module_version": "1.4.0",
      "model_name": "VBoxModel",
      "state": {
       "_dom_classes": [
        "widget-interact"
       ],
       "children": [
        "IPY_MODEL_7cdaba6e204f4851840686529a909bcb",
        "IPY_MODEL_7ef3128732c740489c12676a641771b5",
        "IPY_MODEL_4bf7888d4b5b456b84ddef201bfb5727"
       ],
       "layout": "IPY_MODEL_26cd7a8c62c143d3b81685f99ee51eeb"
      }
     },
     "4260a48fc16a45c487627b4ddc176ffd": {
      "model_module": "@jupyter-widgets/controls",
      "model_module_version": "1.4.0",
      "model_name": "DescriptionStyleModel",
      "state": {
       "description_width": "initial"
      }
     },
     "4267819d64ff4db5b23f92e0713729b0": {
      "model_module": "@jupyter-widgets/base",
      "model_module_version": "1.1.0",
      "model_name": "LayoutModel",
      "state": {}
     },
     "426ad79986d14d778d9fb4ecbbce7127": {
      "model_module": "@jupyter-widgets/base",
      "model_module_version": "1.1.0",
      "model_name": "LayoutModel",
      "state": {}
     },
     "426fba104f474b9abd3045e7b83d8585": {
      "model_module": "@jupyter-widgets/base",
      "model_module_version": "1.1.0",
      "model_name": "LayoutModel",
      "state": {}
     },
     "42851500b4324b16be859a4b2ca316bc": {
      "model_module": "@jupyter-widgets/controls",
      "model_module_version": "1.4.0",
      "model_name": "VBoxModel",
      "state": {
       "children": [
        "IPY_MODEL_08d6590890634d9ebb7efa596fe3f8b4",
        "IPY_MODEL_9bf2ca571b7d416abdfa2018cba29da3"
       ],
       "layout": "IPY_MODEL_840d13f6d2f84f26978987d5e22f7222"
      }
     },
     "4296ce0f1a544df0901399068dd41828": {
      "model_module": "@jupyter-widgets/base",
      "model_module_version": "1.1.0",
      "model_name": "LayoutModel",
      "state": {}
     },
     "42d41f23486948fa8c40d01dbc281f39": {
      "model_module": "@jupyter-widgets/base",
      "model_module_version": "1.1.0",
      "model_name": "LayoutModel",
      "state": {}
     },
     "438ce5042fc64a0f8e39f418be68315e": {
      "model_module": "@jupyter-widgets/controls",
      "model_module_version": "1.4.0",
      "model_name": "DescriptionStyleModel",
      "state": {
       "description_width": "initial"
      }
     },
     "43947aee668a4f17bf0a2d7f723defea": {
      "model_module": "@jupyter-widgets/base",
      "model_module_version": "1.1.0",
      "model_name": "LayoutModel",
      "state": {}
     },
     "439f7847e46344d48e094ecf58ae4b34": {
      "model_module": "@jupyter-widgets/base",
      "model_module_version": "1.1.0",
      "model_name": "LayoutModel",
      "state": {}
     },
     "43c2663fa2f147918c947ffd955814a3": {
      "model_module": "@jupyter-widgets/base",
      "model_module_version": "1.1.0",
      "model_name": "LayoutModel",
      "state": {}
     },
     "43fb3b3484a24a35a6e8b2c5b21db70c": {
      "model_module": "@jupyter-widgets/controls",
      "model_module_version": "1.4.0",
      "model_name": "AccordionModel",
      "state": {
       "_titles": {
        "0": "Procedure",
        "1": "Parameters"
       },
       "children": [
        "IPY_MODEL_8c1904b0b08a4fbb974a15d2584e9047",
        "IPY_MODEL_fb8a9950c28145c09176c126baf0a808"
       ],
       "layout": "IPY_MODEL_7edcea3c3fbe4eca86159fe717728358",
       "selected_index": 1
      }
     },
     "4457cbdfc5a5455aa9abea394a35e350": {
      "model_module": "@jupyter-widgets/base",
      "model_module_version": "1.1.0",
      "model_name": "LayoutModel",
      "state": {}
     },
     "445cbdfb006c4cdbb42b64efde1d5c1e": {
      "model_module": "@jupyter-widgets/controls",
      "model_module_version": "1.4.0",
      "model_name": "HBoxModel",
      "state": {
       "children": [
        "IPY_MODEL_7ca34f1cc33d40fe83d26397bb329462"
       ],
       "layout": "IPY_MODEL_0f02522df09541e985ef959284e25624"
      }
     },
     "445e229f9b614f22b9311cf9b866df82": {
      "model_module": "@jupyter-widgets/output",
      "model_module_version": "1.0.0",
      "model_name": "OutputModel",
      "state": {
       "layout": "IPY_MODEL_106c3b9e2f804fe88709e5ea1a01db1c"
      }
     },
     "44e84d1e3ac3495da2a8b16e67498ce4": {
      "model_module": "@jupyter-widgets/controls",
      "model_module_version": "1.4.0",
      "model_name": "VBoxModel",
      "state": {
       "_dom_classes": [
        "widget-interact"
       ],
       "children": [
        "IPY_MODEL_467abf0c84b746629cc02d043f510b3b",
        "IPY_MODEL_f03c702063304900a21b86a1cfc1bc6a",
        "IPY_MODEL_ff2acae77452485ab84e18b41091ce82",
        "IPY_MODEL_85f59b8ac04841dfaa02b062d28f402e",
        "IPY_MODEL_3dc6b39299cb45bd85928756dfe5f459",
        "IPY_MODEL_68d6a562e1904abab58ed04cfe99b19c",
        "IPY_MODEL_8fff40f93750435aa3ec486f0250c736",
        "IPY_MODEL_c1578d17cde34390a10ea30c137e9f27",
        "IPY_MODEL_583c9e86be7d49f3b6ac4cb767e1e688",
        "IPY_MODEL_aa07063666e443dc97ea0bba6dfee03b",
        "IPY_MODEL_d64ebb419a7d4757b8a3499a0e4c07ab",
        "IPY_MODEL_88ba9983c9f2410d9513f064b2bd0a4e",
        "IPY_MODEL_4732a9d1bbf74747993edc5f3be4b325",
        "IPY_MODEL_6a94faccf3c34e84820a75d4ac624fa2",
        "IPY_MODEL_dc8b693a0380475a9521504abae7880f",
        "IPY_MODEL_22073e973d1548e08704877ff81f4275"
       ],
       "layout": "IPY_MODEL_052b328c43854a08817a60045a483a22"
      }
     },
     "4518cf445590476eb1ad6ecb175e3ac2": {
      "model_module": "@jupyter-widgets/controls",
      "model_module_version": "1.4.0",
      "model_name": "ButtonStyleModel",
      "state": {}
     },
     "455085f225f54f7b9eb7cb1102ce6a7f": {
      "model_module": "@jupyter-widgets/controls",
      "model_module_version": "1.4.0",
      "model_name": "HBoxModel",
      "state": {
       "children": [
        "IPY_MODEL_6172046446604269a2b554255e5d4243",
        "IPY_MODEL_77aa6e7f39884de8855b75b7f3941160"
       ],
       "layout": "IPY_MODEL_4f14ce5ae2f8400982abd448a0cd921f"
      }
     },
     "455a74fbae2a42379d360c0b9a5da76e": {
      "model_module": "@jupyter-widgets/controls",
      "model_module_version": "1.4.0",
      "model_name": "VBoxModel",
      "state": {
       "children": [
        "IPY_MODEL_c1578d17cde34390a10ea30c137e9f27",
        "IPY_MODEL_583c9e86be7d49f3b6ac4cb767e1e688",
        "IPY_MODEL_aa07063666e443dc97ea0bba6dfee03b",
        "IPY_MODEL_d64ebb419a7d4757b8a3499a0e4c07ab",
        "IPY_MODEL_88ba9983c9f2410d9513f064b2bd0a4e",
        "IPY_MODEL_4732a9d1bbf74747993edc5f3be4b325",
        "IPY_MODEL_6a94faccf3c34e84820a75d4ac624fa2",
        "IPY_MODEL_dc8b693a0380475a9521504abae7880f"
       ],
       "layout": "IPY_MODEL_7ed42420e3204410ac43aff3b530534e"
      }
     },
     "459b2b44bcb74656bbea36311317a10a": {
      "model_module": "@jupyter-widgets/controls",
      "model_module_version": "1.4.0",
      "model_name": "ButtonStyleModel",
      "state": {}
     },
     "45c9583e5e764ed2912089f150ef45c3": {
      "model_module": "@jupyter-widgets/controls",
      "model_module_version": "1.4.0",
      "model_name": "HBoxModel",
      "state": {
       "children": [
        "IPY_MODEL_69593a5d168440f780dfbcd3b36d9bea",
        "IPY_MODEL_37208ba14ffe478ebe89f9021da0a732"
       ],
       "layout": "IPY_MODEL_b4dfc5529f1d4f6ba330532759f4a6bf"
      }
     },
     "4624f0eb4d3647abb4d1b2abb5406e3d": {
      "model_module": "@jupyter-widgets/base",
      "model_module_version": "1.1.0",
      "model_name": "LayoutModel",
      "state": {}
     },
     "46348cb71f334bd79e7139b9108964cf": {
      "model_module": "@jupyter-widgets/controls",
      "model_module_version": "1.4.0",
      "model_name": "VBoxModel",
      "state": {
       "children": [
        "IPY_MODEL_6cdd1db25115492f84c7661ef6e7512a",
        "IPY_MODEL_4ec496362dd84dfa96c5e226f753f870"
       ],
       "layout": "IPY_MODEL_2244271e75ab48afa9946d2090a4a1ef"
      }
     },
     "46620a583ccd419db9d8633cedc4f059": {
      "model_module": "@jupyter-widgets/base",
      "model_module_version": "1.1.0",
      "model_name": "LayoutModel",
      "state": {}
     },
     "4673a9fb2ea04aafb49183d7b4c9941d": {
      "model_module": "@jupyter-widgets/base",
      "model_module_version": "1.1.0",
      "model_name": "LayoutModel",
      "state": {}
     },
     "467abf0c84b746629cc02d043f510b3b": {
      "model_module": "@jupyter-widgets/controls",
      "model_module_version": "1.4.0",
      "model_name": "FloatTextModel",
      "state": {
       "description": "$Thrombocytes (nl)$",
       "layout": "IPY_MODEL_c6cff5e29f574a1a8a0a7d6ac15c6658",
       "step": null,
       "style": "IPY_MODEL_2c800993011e4ed49d12ec3296eb197f",
       "value": 70
      }
     },
     "46919b09383f4319ae9ece33289150f8": {
      "model_module": "@jupyter-widgets/base",
      "model_module_version": "1.1.0",
      "model_name": "LayoutModel",
      "state": {}
     },
     "46c9b50ca35f430c9aebd18b4191d201": {
      "model_module": "@jupyter-widgets/controls",
      "model_module_version": "1.4.0",
      "model_name": "DescriptionStyleModel",
      "state": {
       "description_width": "initial"
      }
     },
     "46cdd9a4d62b4b2fb321181baaab8131": {
      "model_module": "@jupyter-widgets/base",
      "model_module_version": "1.1.0",
      "model_name": "LayoutModel",
      "state": {}
     },
     "471ab1eaecfe428e9b01ad1790344189": {
      "model_module": "@jupyter-widgets/base",
      "model_module_version": "1.1.0",
      "model_name": "LayoutModel",
      "state": {}
     },
     "471b35033c4e4a738d19e24e87bfd085": {
      "model_module": "@jupyter-widgets/controls",
      "model_module_version": "1.4.0",
      "model_name": "VBoxModel",
      "state": {
       "children": [
        "IPY_MODEL_c1578d17cde34390a10ea30c137e9f27",
        "IPY_MODEL_583c9e86be7d49f3b6ac4cb767e1e688",
        "IPY_MODEL_aa07063666e443dc97ea0bba6dfee03b",
        "IPY_MODEL_d64ebb419a7d4757b8a3499a0e4c07ab",
        "IPY_MODEL_88ba9983c9f2410d9513f064b2bd0a4e",
        "IPY_MODEL_4732a9d1bbf74747993edc5f3be4b325",
        "IPY_MODEL_6a94faccf3c34e84820a75d4ac624fa2",
        "IPY_MODEL_dc8b693a0380475a9521504abae7880f"
       ],
       "layout": "IPY_MODEL_0ceb14a6b716464bb8e7d001692923b6"
      }
     },
     "4732a9d1bbf74747993edc5f3be4b325": {
      "model_module": "@jupyter-widgets/controls",
      "model_module_version": "1.4.0",
      "model_name": "FloatTextModel",
      "state": {
       "description": "$CT_{Extem} (s)$",
       "layout": "IPY_MODEL_f9d5d34d815e4e2c976a353fff41a997",
       "step": null,
       "style": "IPY_MODEL_afba85157eb84419854bc97f60d6582a",
       "value": 40
      }
     },
     "476cf00a174e4c5896e3b7ea6a720b94": {
      "model_module": "@jupyter-widgets/base",
      "model_module_version": "1.1.0",
      "model_name": "LayoutModel",
      "state": {}
     },
     "4772e3c29ae24cb2ba05221d0c41a94e": {
      "model_module": "@jupyter-widgets/base",
      "model_module_version": "1.1.0",
      "model_name": "LayoutModel",
      "state": {}
     },
     "47a6b4f703424b83927560d88960fe10": {
      "model_module": "@jupyter-widgets/controls",
      "model_module_version": "1.4.0",
      "model_name": "VBoxModel",
      "state": {
       "children": [
        "IPY_MODEL_7cdaba6e204f4851840686529a909bcb",
        "IPY_MODEL_7ef3128732c740489c12676a641771b5"
       ],
       "layout": "IPY_MODEL_18fa3341a97940ea99226419d632b96b"
      }
     },
     "47ac729a01f548e7a0c8ebe9c157576b": {
      "model_module": "@jupyter-widgets/base",
      "model_module_version": "1.1.0",
      "model_name": "LayoutModel",
      "state": {}
     },
     "47e0c3e0324448deae194e350295dddc": {
      "model_module": "@jupyter-widgets/base",
      "model_module_version": "1.1.0",
      "model_name": "LayoutModel",
      "state": {}
     },
     "47e150ad72f440178859e5435b8c952b": {
      "model_module": "@jupyter-widgets/base",
      "model_module_version": "1.1.0",
      "model_name": "LayoutModel",
      "state": {}
     },
     "4806d09bc54c4ed0989cc4889a2c29e9": {
      "model_module": "@jupyter-widgets/controls",
      "model_module_version": "1.4.0",
      "model_name": "FloatTextModel",
      "state": {
       "description": "$CT_{Extem} (s)$",
       "layout": "IPY_MODEL_6a3c01ba3488477f95a3ca312726fc64",
       "step": null,
       "style": "IPY_MODEL_fb2774efdea74434863e60ad339fbd55",
       "value": "nan"
      }
     },
     "486aee3a7657494a996ddcaa86e7f3b6": {
      "model_module": "@jupyter-widgets/base",
      "model_module_version": "1.1.0",
      "model_name": "LayoutModel",
      "state": {}
     },
     "48b96e189d034a6a979ef36d2823e874": {
      "model_module": "@jupyter-widgets/base",
      "model_module_version": "1.1.0",
      "model_name": "LayoutModel",
      "state": {}
     },
     "48e30a71348543ae87d8295fb50e0860": {
      "model_module": "@jupyter-widgets/output",
      "model_module_version": "1.0.0",
      "model_name": "OutputModel",
      "state": {
       "layout": "IPY_MODEL_66038feb2e5f4d9199306dad38e87b74"
      }
     },
     "48f7e4b0ce21452ea84b6695edbe8db9": {
      "model_module": "@jupyter-widgets/controls",
      "model_module_version": "1.4.0",
      "model_name": "VBoxModel",
      "state": {
       "children": [
        "IPY_MODEL_bed5134c10804698b5c552f05a4ab94e",
        "IPY_MODEL_19750573e98c4a2eb111b7fb86747c6a"
       ],
       "layout": "IPY_MODEL_f5c73a4085534036b1b15c034841bcbd"
      }
     },
     "49039c549e63465d9954827d0161ccfc": {
      "model_module": "@jupyter-widgets/base",
      "model_module_version": "1.1.0",
      "model_name": "LayoutModel",
      "state": {}
     },
     "49205334f4d94208a07fb8687d17b460": {
      "model_module": "@jupyter-widgets/controls",
      "model_module_version": "1.4.0",
      "model_name": "FloatTextModel",
      "state": {
       "description": "$PT (s)$",
       "layout": "IPY_MODEL_6086dfddb01b4c158d9ce2c1751d1f69",
       "step": null,
       "style": "IPY_MODEL_593e4db0d55c4ea390cef9ea567cc737",
       "value": "nan"
      }
     },
     "492c10acad9b4cca8e55dde83b35ef01": {
      "model_module": "@jupyter-widgets/controls",
      "model_module_version": "1.4.0",
      "model_name": "FloatTextModel",
      "state": {
       "description": "$APTT_{Heparinase} (s)$",
       "layout": "IPY_MODEL_b606ba694eae475d8d8374a133696fc6",
       "step": null,
       "style": "IPY_MODEL_4260a48fc16a45c487627b4ddc176ffd",
       "value": "nan"
      }
     },
     "494e1353f244495894b8e86eebc4f4bc": {
      "model_module": "@jupyter-widgets/base",
      "model_module_version": "1.1.0",
      "model_name": "LayoutModel",
      "state": {}
     },
     "4a1302630b51426183792762830f39e3": {
      "model_module": "@jupyter-widgets/controls",
      "model_module_version": "1.4.0",
      "model_name": "VBoxModel",
      "state": {
       "children": [
        "IPY_MODEL_7cdaba6e204f4851840686529a909bcb",
        "IPY_MODEL_7ef3128732c740489c12676a641771b5"
       ],
       "layout": "IPY_MODEL_61a2c81badd04c5c90d33786ae4a81de"
      }
     },
     "4a399c8d124b4a7ea30b822f0969f4b8": {
      "model_module": "@jupyter-widgets/output",
      "model_module_version": "1.0.0",
      "model_name": "OutputModel",
      "state": {
       "layout": "IPY_MODEL_906b1f7021bd4a6db409ac322a4e59ab"
      }
     },
     "4a62e10e579a4870a04d0473859694a1": {
      "model_module": "@jupyter-widgets/controls",
      "model_module_version": "1.4.0",
      "model_name": "VBoxModel",
      "state": {
       "_dom_classes": [
        "widget-interact"
       ],
       "children": [
        "IPY_MODEL_7cdaba6e204f4851840686529a909bcb",
        "IPY_MODEL_7ef3128732c740489c12676a641771b5",
        "IPY_MODEL_58840cba27524a318db538b8716a15d9"
       ],
       "layout": "IPY_MODEL_5a8ce5baab4d49cbb5f2acfb281b682b"
      }
     },
     "4a6431b2c70142eb8a551a1a098eb375": {
      "model_module": "@jupyter-widgets/controls",
      "model_module_version": "1.4.0",
      "model_name": "VBoxModel",
      "state": {
       "children": [
        "IPY_MODEL_ee2fec7de5344aa0b0486ee75bcb3223",
        "IPY_MODEL_6a59d48f849d4b36973464e991232608"
       ],
       "layout": "IPY_MODEL_426ad79986d14d778d9fb4ecbbce7127"
      }
     },
     "4a9aa68ad54f43acb647a35cf730c166": {
      "model_module": "@jupyter-widgets/base",
      "model_module_version": "1.1.0",
      "model_name": "LayoutModel",
      "state": {}
     },
     "4aa2413a03d24888901f8adb052c8c3f": {
      "model_module": "@jupyter-widgets/controls",
      "model_module_version": "1.4.0",
      "model_name": "VBoxModel",
      "state": {
       "_dom_classes": [
        "widget-interact"
       ],
       "children": [
        "IPY_MODEL_467abf0c84b746629cc02d043f510b3b",
        "IPY_MODEL_f03c702063304900a21b86a1cfc1bc6a",
        "IPY_MODEL_ff2acae77452485ab84e18b41091ce82",
        "IPY_MODEL_85f59b8ac04841dfaa02b062d28f402e",
        "IPY_MODEL_3dc6b39299cb45bd85928756dfe5f459",
        "IPY_MODEL_68d6a562e1904abab58ed04cfe99b19c",
        "IPY_MODEL_8fff40f93750435aa3ec486f0250c736",
        "IPY_MODEL_c1578d17cde34390a10ea30c137e9f27",
        "IPY_MODEL_583c9e86be7d49f3b6ac4cb767e1e688",
        "IPY_MODEL_aa07063666e443dc97ea0bba6dfee03b",
        "IPY_MODEL_d64ebb419a7d4757b8a3499a0e4c07ab",
        "IPY_MODEL_88ba9983c9f2410d9513f064b2bd0a4e",
        "IPY_MODEL_4732a9d1bbf74747993edc5f3be4b325",
        "IPY_MODEL_6a94faccf3c34e84820a75d4ac624fa2",
        "IPY_MODEL_dc8b693a0380475a9521504abae7880f",
        "IPY_MODEL_c35a049241b0406d9df5e6f6b298cb09"
       ],
       "layout": "IPY_MODEL_eb03fe468aaa4d6aa417a9a3b59ec7d8"
      }
     },
     "4ac65609ae674b24ae56a62a1642484d": {
      "model_module": "@jupyter-widgets/base",
      "model_module_version": "1.1.0",
      "model_name": "LayoutModel",
      "state": {}
     },
     "4ad1a11d5383436caf345408f4b4c9ee": {
      "model_module": "@jupyter-widgets/base",
      "model_module_version": "1.1.0",
      "model_name": "LayoutModel",
      "state": {}
     },
     "4adf9eeef9f3404b96b74a13e23f2bca": {
      "model_module": "@jupyter-widgets/controls",
      "model_module_version": "1.4.0",
      "model_name": "VBoxModel",
      "state": {
       "children": [
        "IPY_MODEL_7cdaba6e204f4851840686529a909bcb",
        "IPY_MODEL_7ef3128732c740489c12676a641771b5"
       ],
       "layout": "IPY_MODEL_b8392f28fa1c475196a456f8bc8b996c"
      }
     },
     "4aea7e7706e849bebd12e6c4bc1ae691": {
      "model_module": "@jupyter-widgets/base",
      "model_module_version": "1.1.0",
      "model_name": "LayoutModel",
      "state": {}
     },
     "4affc8204e1347e79a43e1de225d10a6": {
      "model_module": "@jupyter-widgets/base",
      "model_module_version": "1.1.0",
      "model_name": "LayoutModel",
      "state": {}
     },
     "4b21db4d7f0a463da8babf725862fd10": {
      "model_module": "@jupyter-widgets/controls",
      "model_module_version": "1.4.0",
      "model_name": "VBoxModel",
      "state": {
       "children": [
        "IPY_MODEL_467abf0c84b746629cc02d043f510b3b",
        "IPY_MODEL_f03c702063304900a21b86a1cfc1bc6a",
        "IPY_MODEL_ff2acae77452485ab84e18b41091ce82",
        "IPY_MODEL_85f59b8ac04841dfaa02b062d28f402e",
        "IPY_MODEL_3dc6b39299cb45bd85928756dfe5f459",
        "IPY_MODEL_68d6a562e1904abab58ed04cfe99b19c",
        "IPY_MODEL_8fff40f93750435aa3ec486f0250c736"
       ],
       "layout": "IPY_MODEL_90f06627e6554be9bb04466bcda9de42"
      }
     },
     "4b338a3af16342c19aa00e0e0c0db736": {
      "model_module": "@jupyter-widgets/base",
      "model_module_version": "1.1.0",
      "model_name": "LayoutModel",
      "state": {}
     },
     "4b7d99a5a6d443cd833184bad623f3f2": {
      "model_module": "@jupyter-widgets/base",
      "model_module_version": "1.1.0",
      "model_name": "LayoutModel",
      "state": {}
     },
     "4b88ee42eb4f4c5ca460a049c198abc7": {
      "model_module": "@jupyter-widgets/controls",
      "model_module_version": "1.4.0",
      "model_name": "ButtonStyleModel",
      "state": {}
     },
     "4b8c279d5a5b44aba260a58d515ea432": {
      "model_module": "@jupyter-widgets/base",
      "model_module_version": "1.1.0",
      "model_name": "LayoutModel",
      "state": {}
     },
     "4b963ebeda5d4d35845f07e143218183": {
      "model_module": "@jupyter-widgets/base",
      "model_module_version": "1.1.0",
      "model_name": "LayoutModel",
      "state": {}
     },
     "4bc522dc237d4bc6b1770680889ef3b8": {
      "model_module": "@jupyter-widgets/controls",
      "model_module_version": "1.4.0",
      "model_name": "AccordionModel",
      "state": {
       "_titles": {
        "0": "Procedure",
        "1": "Parameters"
       },
       "children": [
        "IPY_MODEL_67a0c22bb1a6415bb2f03cc74877f880",
        "IPY_MODEL_ea5e8e90e879418ab59f426ab8304193"
       ],
       "layout": "IPY_MODEL_542e4b05f7654a3ba3b8ea3f99bd52ed",
       "selected_index": 1
      }
     },
     "4bc5aad3b3eb43188df2b968c51ff291": {
      "model_module": "@jupyter-widgets/output",
      "model_module_version": "1.0.0",
      "model_name": "OutputModel",
      "state": {
       "layout": "IPY_MODEL_1a6ecb004d0044fdb5d07bed9b71e4ca"
      }
     },
     "4bca6b90baf54f7e994ecf45cadd2767": {
      "model_module": "@jupyter-widgets/base",
      "model_module_version": "1.1.0",
      "model_name": "LayoutModel",
      "state": {}
     },
     "4bf7888d4b5b456b84ddef201bfb5727": {
      "model_module": "@jupyter-widgets/output",
      "model_module_version": "1.0.0",
      "model_name": "OutputModel",
      "state": {
       "layout": "IPY_MODEL_87f7f73958ba4900845b219ad83c801b"
      }
     },
     "4c264c9618df48548dd18688ac09bc33": {
      "model_module": "@jupyter-widgets/controls",
      "model_module_version": "1.4.0",
      "model_name": "VBoxModel",
      "state": {
       "children": [
        "IPY_MODEL_17f01de42e0b462aa98669fcf846c2d5",
        "IPY_MODEL_4ec23c41a8df46a99d4820624386aba4"
       ],
       "layout": "IPY_MODEL_366ca8f828174e889019ca884c8c7365"
      }
     },
     "4c5a51a88f914a2fb2eda38c569401d6": {
      "model_module": "@jupyter-widgets/controls",
      "model_module_version": "1.4.0",
      "model_name": "DescriptionStyleModel",
      "state": {
       "description_width": "initial"
      }
     },
     "4c89c4dc64564d7a842d4bc4c60f92ea": {
      "model_module": "@jupyter-widgets/base",
      "model_module_version": "1.1.0",
      "model_name": "LayoutModel",
      "state": {}
     },
     "4cd4f47784df4f9a807b65c95e580f41": {
      "model_module": "@jupyter-widgets/output",
      "model_module_version": "1.0.0",
      "model_name": "OutputModel",
      "state": {
       "layout": "IPY_MODEL_8a1845af2f9e49e58cb6277f2d897a87"
      }
     },
     "4cd5af0b881c405bbe9985abbeceaa2c": {
      "model_module": "@jupyter-widgets/controls",
      "model_module_version": "1.4.0",
      "model_name": "VBoxModel",
      "state": {
       "children": [
        "IPY_MODEL_86dde63e82d241618191100c3352d65a",
        "IPY_MODEL_a418cb0021cb4187b843dc329602bbd6"
       ],
       "layout": "IPY_MODEL_4d58176eefb0405a9dff0a34a80bc5ef"
      }
     },
     "4cd67815c3bf4f2abdfab1858ba8ef52": {
      "model_module": "@jupyter-widgets/controls",
      "model_module_version": "1.4.0",
      "model_name": "VBoxModel",
      "state": {
       "children": [
        "IPY_MODEL_36a8fb9985c0438da26c9495a4f456e4",
        "IPY_MODEL_1d1d42fa315243f6a5e14ee8b49fed3a"
       ],
       "layout": "IPY_MODEL_1f7227953a0a43cd824629f6fd720a39"
      }
     },
     "4ce2a114a73a4d329bd74076f702e59d": {
      "model_module": "@jupyter-widgets/base",
      "model_module_version": "1.1.0",
      "model_name": "LayoutModel",
      "state": {}
     },
     "4cfa9fa63eb94e258be45d05d5b98c6b": {
      "model_module": "@jupyter-widgets/controls",
      "model_module_version": "1.4.0",
      "model_name": "VBoxModel",
      "state": {
       "children": [
        "IPY_MODEL_467abf0c84b746629cc02d043f510b3b",
        "IPY_MODEL_f03c702063304900a21b86a1cfc1bc6a",
        "IPY_MODEL_ff2acae77452485ab84e18b41091ce82",
        "IPY_MODEL_85f59b8ac04841dfaa02b062d28f402e",
        "IPY_MODEL_3dc6b39299cb45bd85928756dfe5f459",
        "IPY_MODEL_68d6a562e1904abab58ed04cfe99b19c",
        "IPY_MODEL_8fff40f93750435aa3ec486f0250c736"
       ],
       "layout": "IPY_MODEL_37afc27fc0374155b29dc4c88a0b7e7c"
      }
     },
     "4d0d049239484bc1ba670f106d32f989": {
      "model_module": "@jupyter-widgets/controls",
      "model_module_version": "1.4.0",
      "model_name": "VBoxModel",
      "state": {
       "children": [
        "IPY_MODEL_c1578d17cde34390a10ea30c137e9f27",
        "IPY_MODEL_583c9e86be7d49f3b6ac4cb767e1e688",
        "IPY_MODEL_aa07063666e443dc97ea0bba6dfee03b",
        "IPY_MODEL_d64ebb419a7d4757b8a3499a0e4c07ab",
        "IPY_MODEL_88ba9983c9f2410d9513f064b2bd0a4e",
        "IPY_MODEL_4732a9d1bbf74747993edc5f3be4b325",
        "IPY_MODEL_6a94faccf3c34e84820a75d4ac624fa2",
        "IPY_MODEL_dc8b693a0380475a9521504abae7880f"
       ],
       "layout": "IPY_MODEL_0d58ba0321fe40afa6d55f10b482468a"
      }
     },
     "4d0f2ddde1c742bbb97e2565974625eb": {
      "model_module": "@jupyter-widgets/base",
      "model_module_version": "1.1.0",
      "model_name": "LayoutModel",
      "state": {}
     },
     "4d4ebca6bab6433da7cc0edbb3e23d60": {
      "model_module": "@jupyter-widgets/base",
      "model_module_version": "1.1.0",
      "model_name": "LayoutModel",
      "state": {}
     },
     "4d58176eefb0405a9dff0a34a80bc5ef": {
      "model_module": "@jupyter-widgets/base",
      "model_module_version": "1.1.0",
      "model_name": "LayoutModel",
      "state": {}
     },
     "4d5ebffe514b47b3a37cb4cb80b7ccf6": {
      "model_module": "@jupyter-widgets/controls",
      "model_module_version": "1.4.0",
      "model_name": "AccordionModel",
      "state": {
       "_titles": {
        "0": "Procedure",
        "1": "Parameters"
       },
       "children": [
        "IPY_MODEL_758c3257d0214561a4eda9299b532c89",
        "IPY_MODEL_5f9b53093f094746b1d059c5ceee6802"
       ],
       "layout": "IPY_MODEL_df9b8aa113fb417d9262c74da3819dd7",
       "selected_index": 1
      }
     },
     "4d657fb49fd344adac484c1a3adcea27": {
      "model_module": "@jupyter-widgets/base",
      "model_module_version": "1.1.0",
      "model_name": "LayoutModel",
      "state": {}
     },
     "4d8d812f652a4498972201d43e4318b2": {
      "model_module": "@jupyter-widgets/base",
      "model_module_version": "1.1.0",
      "model_name": "LayoutModel",
      "state": {}
     },
     "4dc1be9291424347a87487b0d770afef": {
      "model_module": "@jupyter-widgets/base",
      "model_module_version": "1.1.0",
      "model_name": "LayoutModel",
      "state": {}
     },
     "4decc39f61b847de85959682d085f7dc": {
      "model_module": "@jupyter-widgets/controls",
      "model_module_version": "1.4.0",
      "model_name": "ButtonModel",
      "state": {
       "description": "Run algorithm",
       "layout": "IPY_MODEL_0568653251f249bfa7c6aa919a12ba2a",
       "style": "IPY_MODEL_326e9d650c0b4a9fa561ffab7c667feb"
      }
     },
     "4e00fc0f6bde4745b347fb11c0456e52": {
      "model_module": "@jupyter-widgets/controls",
      "model_module_version": "1.4.0",
      "model_name": "VBoxModel",
      "state": {
       "children": [
        "IPY_MODEL_f37ef8bdf6694623a264ad5bc5770048",
        "IPY_MODEL_aac467ac97d9464fb1a297bbd6f7f618"
       ],
       "layout": "IPY_MODEL_65aa862bee1a4fabaf26944fa9884a62"
      }
     },
     "4e0c3bc7e9f14a9ea2ad62a2cb878856": {
      "model_module": "@jupyter-widgets/controls",
      "model_module_version": "1.4.0",
      "model_name": "DescriptionStyleModel",
      "state": {
       "description_width": "initial"
      }
     },
     "4e0f71e567e3430c84bd8acb2841c4f2": {
      "model_module": "@jupyter-widgets/controls",
      "model_module_version": "1.4.0",
      "model_name": "ButtonStyleModel",
      "state": {}
     },
     "4e1e5b0316cf4f8a84e1970cc6194d40": {
      "model_module": "@jupyter-widgets/controls",
      "model_module_version": "1.4.0",
      "model_name": "VBoxModel",
      "state": {
       "children": [
        "IPY_MODEL_adb1524dbc9446f88500930b1cbae126",
        "IPY_MODEL_e2f9b28d2b0044b0bbe579fcaf1539de",
        "IPY_MODEL_aacaa0400e6243419a526a1a81728ee1",
        "IPY_MODEL_da2283904ce54cae83eb251736dc789e",
        "IPY_MODEL_1d293bac518844ab98f80e608d5e1ac5",
        "IPY_MODEL_d299703f46714aab8fb53de70fddf595",
        "IPY_MODEL_2346e45bf6d246dca8bc952045fc3e37",
        "IPY_MODEL_279ca9eda5f24edd85429db6823040ba"
       ],
       "layout": "IPY_MODEL_9a8402f978394a00835c4c077dd81e93"
      }
     },
     "4e23fa0660a046d199168ac070c0c8b4": {
      "model_module": "@jupyter-widgets/base",
      "model_module_version": "1.1.0",
      "model_name": "LayoutModel",
      "state": {}
     },
     "4ec23c41a8df46a99d4820624386aba4": {
      "model_module": "@jupyter-widgets/controls",
      "model_module_version": "1.4.0",
      "model_name": "ButtonModel",
      "state": {
       "description": "Run algorithm",
       "layout": "IPY_MODEL_9bdb9a2d9eae494e814a2db12dd19b66",
       "style": "IPY_MODEL_ed8364ace6224a3f92c955922bb5a48e"
      }
     },
     "4ec496362dd84dfa96c5e226f753f870": {
      "model_module": "@jupyter-widgets/controls",
      "model_module_version": "1.4.0",
      "model_name": "ButtonModel",
      "state": {
       "description": "Run algorithm",
       "layout": "IPY_MODEL_27dd66acb4e54556973e4fdb7c406410",
       "style": "IPY_MODEL_0a3c783bb661453e8872d116cb5c6e9a"
      }
     },
     "4ee8714bc042464d84520becdd98eed5": {
      "model_module": "@jupyter-widgets/base",
      "model_module_version": "1.1.0",
      "model_name": "LayoutModel",
      "state": {}
     },
     "4f0b6e4c1263495db06fc1d095daa04f": {
      "model_module": "@jupyter-widgets/controls",
      "model_module_version": "1.4.0",
      "model_name": "HBoxModel",
      "state": {
       "children": [
        "IPY_MODEL_ad5050cd1b2a43578be1a1d59a1ae32c",
        "IPY_MODEL_94fed36e41164bb9af414d27b42d6110"
       ],
       "layout": "IPY_MODEL_852f1cef9f2645ce80e564f9e66f8174"
      }
     },
     "4f14ce5ae2f8400982abd448a0cd921f": {
      "model_module": "@jupyter-widgets/base",
      "model_module_version": "1.1.0",
      "model_name": "LayoutModel",
      "state": {}
     },
     "4f62b627f0a24651b1bfcfa47846e353": {
      "model_module": "@jupyter-widgets/controls",
      "model_module_version": "1.4.0",
      "model_name": "AccordionModel",
      "state": {
       "_titles": {
        "0": "Procedure",
        "1": "Parameters"
       },
       "children": [
        "IPY_MODEL_dad6bca8233b47db9597c6d4ea936956",
        "IPY_MODEL_d1cfff60cc224be3a52690a5bfff4219"
       ],
       "layout": "IPY_MODEL_d0eb2b6db93e461d9b24b48de921ad03",
       "selected_index": 1
      }
     },
     "4fb50aa5b5ad4e2e9d5d55251d838526": {
      "model_module": "@jupyter-widgets/controls",
      "model_module_version": "1.4.0",
      "model_name": "VBoxModel",
      "state": {
       "children": [
        "IPY_MODEL_67ece8d59388439eab934ff943228263",
        "IPY_MODEL_dc4fadeb6bb643dfb7317db5eeeb292e"
       ],
       "layout": "IPY_MODEL_b42f41f1afb843d0b63d04e0538eeb07"
      }
     },
     "4fcb51af286e46bca3ab39201ce19d17": {
      "model_module": "@jupyter-widgets/base",
      "model_module_version": "1.1.0",
      "model_name": "LayoutModel",
      "state": {}
     },
     "5007edc65874472aa838a75ea060dab5": {
      "model_module": "@jupyter-widgets/controls",
      "model_module_version": "1.4.0",
      "model_name": "VBoxModel",
      "state": {
       "children": [
        "IPY_MODEL_403df03ecb1249ba92fa563eec909f93",
        "IPY_MODEL_0c85bee6538e41158e6504bf724c8fc1"
       ],
       "layout": "IPY_MODEL_50d14eb1c8ca4907851973be1533ccf5"
      }
     },
     "505af99517fe4f3fbe7c602de6e0c7a4": {
      "model_module": "@jupyter-widgets/base",
      "model_module_version": "1.1.0",
      "model_name": "LayoutModel",
      "state": {}
     },
     "50c9cc34f4224bc19df347e984780baf": {
      "model_module": "@jupyter-widgets/base",
      "model_module_version": "1.1.0",
      "model_name": "LayoutModel",
      "state": {}
     },
     "50d0e39ca2c246e59188e447dfd84afa": {
      "model_module": "@jupyter-widgets/controls",
      "model_module_version": "1.4.0",
      "model_name": "VBoxModel",
      "state": {
       "children": [
        "IPY_MODEL_467abf0c84b746629cc02d043f510b3b",
        "IPY_MODEL_f03c702063304900a21b86a1cfc1bc6a",
        "IPY_MODEL_ff2acae77452485ab84e18b41091ce82",
        "IPY_MODEL_85f59b8ac04841dfaa02b062d28f402e",
        "IPY_MODEL_3dc6b39299cb45bd85928756dfe5f459",
        "IPY_MODEL_68d6a562e1904abab58ed04cfe99b19c",
        "IPY_MODEL_8fff40f93750435aa3ec486f0250c736"
       ],
       "layout": "IPY_MODEL_083d06bc70344e00bb0dcde97b3d4927"
      }
     },
     "50d14eb1c8ca4907851973be1533ccf5": {
      "model_module": "@jupyter-widgets/base",
      "model_module_version": "1.1.0",
      "model_name": "LayoutModel",
      "state": {}
     },
     "50ee1d41af5941ccba20bab96e15b90d": {
      "model_module": "@jupyter-widgets/base",
      "model_module_version": "1.1.0",
      "model_name": "LayoutModel",
      "state": {}
     },
     "514e330f190a45a299314cfc988624be": {
      "model_module": "@jupyter-widgets/controls",
      "model_module_version": "1.4.0",
      "model_name": "VBoxModel",
      "state": {
       "children": [
        "IPY_MODEL_c1578d17cde34390a10ea30c137e9f27",
        "IPY_MODEL_583c9e86be7d49f3b6ac4cb767e1e688",
        "IPY_MODEL_aa07063666e443dc97ea0bba6dfee03b",
        "IPY_MODEL_d64ebb419a7d4757b8a3499a0e4c07ab",
        "IPY_MODEL_88ba9983c9f2410d9513f064b2bd0a4e",
        "IPY_MODEL_4732a9d1bbf74747993edc5f3be4b325",
        "IPY_MODEL_6a94faccf3c34e84820a75d4ac624fa2",
        "IPY_MODEL_dc8b693a0380475a9521504abae7880f"
       ],
       "layout": "IPY_MODEL_e034752ded5d4146aaebef5efe0c2c85"
      }
     },
     "5172fd6c719f4ec9aa5468a0d0b4d1c9": {
      "model_module": "@jupyter-widgets/controls",
      "model_module_version": "1.4.0",
      "model_name": "VBoxModel",
      "state": {
       "children": [
        "IPY_MODEL_7cdaba6e204f4851840686529a909bcb",
        "IPY_MODEL_7ef3128732c740489c12676a641771b5"
       ],
       "layout": "IPY_MODEL_b95d4d5453414a24bfc7967e0d052297"
      }
     },
     "51952ed9b253445aa3ba55f8af4d65fb": {
      "model_module": "@jupyter-widgets/controls",
      "model_module_version": "1.4.0",
      "model_name": "VBoxModel",
      "state": {
       "children": [
        "IPY_MODEL_7cdaba6e204f4851840686529a909bcb",
        "IPY_MODEL_7ef3128732c740489c12676a641771b5"
       ],
       "layout": "IPY_MODEL_a368212c4e574696967f4ed5eedd5ec0"
      }
     },
     "51a922e2b3294de6a051bd82d9ac09c3": {
      "model_module": "@jupyter-widgets/output",
      "model_module_version": "1.0.0",
      "model_name": "OutputModel",
      "state": {
       "layout": "IPY_MODEL_e05f4758628547c7926b8bdadf372616"
      }
     },
     "51ae17f403fe457ea07352dc9cf4ff7e": {
      "model_module": "@jupyter-widgets/controls",
      "model_module_version": "1.4.0",
      "model_name": "VBoxModel",
      "state": {
       "_dom_classes": [
        "widget-interact"
       ],
       "children": [
        "IPY_MODEL_7cdaba6e204f4851840686529a909bcb",
        "IPY_MODEL_7ef3128732c740489c12676a641771b5",
        "IPY_MODEL_7b846d713a7f4d8d8534c3592cc326a9"
       ],
       "layout": "IPY_MODEL_2d3a2efb54a646c2982da8becd1ad3d3"
      }
     },
     "51b65abc305d41dd8080d7e790041e78": {
      "model_module": "@jupyter-widgets/controls",
      "model_module_version": "1.4.0",
      "model_name": "ButtonModel",
      "state": {
       "description": "Run algorithm",
       "layout": "IPY_MODEL_2ba3ccf085d84a319f18395ea4bad45f",
       "style": "IPY_MODEL_25f7159b74474fd29367092d709ed63e"
      }
     },
     "51c0bd877cdc409da5b23cc92094d608": {
      "model_module": "@jupyter-widgets/controls",
      "model_module_version": "1.4.0",
      "model_name": "ButtonStyleModel",
      "state": {}
     },
     "52229d0ffdf643a68f46e758903aa89a": {
      "model_module": "@jupyter-widgets/base",
      "model_module_version": "1.1.0",
      "model_name": "LayoutModel",
      "state": {}
     },
     "5262a2a999c74668b87a826f59ce731e": {
      "model_module": "@jupyter-widgets/base",
      "model_module_version": "1.1.0",
      "model_name": "LayoutModel",
      "state": {}
     },
     "526f6c2860324fae9d36b45b6353dea5": {
      "model_module": "@jupyter-widgets/controls",
      "model_module_version": "1.4.0",
      "model_name": "ButtonModel",
      "state": {
       "description": "Run algorithm",
       "layout": "IPY_MODEL_53370d3e70f14de09cd1fd49b9a9b751",
       "style": "IPY_MODEL_186272862a5f41be8a0d764fca749a70"
      }
     },
     "529aecfd31bc46d396edb5e7eebc6710": {
      "model_module": "@jupyter-widgets/base",
      "model_module_version": "1.1.0",
      "model_name": "LayoutModel",
      "state": {}
     },
     "52bcd661401c4b46a5fcbe0fb9ec0053": {
      "model_module": "@jupyter-widgets/controls",
      "model_module_version": "1.4.0",
      "model_name": "VBoxModel",
      "state": {
       "_dom_classes": [
        "widget-interact"
       ],
       "children": [
        "IPY_MODEL_d6918abba0934407a9f5dae6131a627d",
        "IPY_MODEL_9fa08c7538cf478f84bf312b30e90ad9",
        "IPY_MODEL_3a161dbbee8a4eee85039793aecdb9c6",
        "IPY_MODEL_c08b429d895d4cac92f575f482d83e0f",
        "IPY_MODEL_492c10acad9b4cca8e55dde83b35ef01",
        "IPY_MODEL_5d9ed63b45044c338dcb9fbb07e1266f",
        "IPY_MODEL_a2560e6054d64a32a6270f3ca1de09bf",
        "IPY_MODEL_65271b2d6ba04225a86e7fb54c5038e8",
        "IPY_MODEL_f8dfe639e0124489982ce356a2d1a933",
        "IPY_MODEL_5d4a11eb84db4cb5998d8cc77a5aef14",
        "IPY_MODEL_ff95d2463b3e4bb2aff668c03dd0007b",
        "IPY_MODEL_01b9e1c144b14ea29c30c6a91e1c7bfe",
        "IPY_MODEL_4806d09bc54c4ed0989cc4889a2c29e9",
        "IPY_MODEL_1cb4ae54a5eb4305a3d970508ccbc400",
        "IPY_MODEL_076e593c91b343d8b5536922f9af45d8",
        "IPY_MODEL_bf13c7be0e7f460caab37a034d2a83a9"
       ],
       "layout": "IPY_MODEL_b8c5606687ce40aa9baa37de17c72cfa"
      }
     },
     "52bdd9818d9d4ef19990d4ccfd747df4": {
      "model_module": "@jupyter-widgets/base",
      "model_module_version": "1.1.0",
      "model_name": "LayoutModel",
      "state": {}
     },
     "52dea0c510df4408adfee9ef96bb3c3f": {
      "model_module": "@jupyter-widgets/base",
      "model_module_version": "1.1.0",
      "model_name": "LayoutModel",
      "state": {}
     },
     "5305173670aa43cbb572efb8d20c7808": {
      "model_module": "@jupyter-widgets/controls",
      "model_module_version": "1.4.0",
      "model_name": "VBoxModel",
      "state": {
       "_dom_classes": [
        "widget-interact"
       ],
       "children": [
        "IPY_MODEL_7cdaba6e204f4851840686529a909bcb",
        "IPY_MODEL_7ef3128732c740489c12676a641771b5",
        "IPY_MODEL_d0a387bbc5ef4e879affbd9c0125aa86"
       ],
       "layout": "IPY_MODEL_d0236aed99794fc59a6f95276eafcfae"
      }
     },
     "530a2660537b46bc8276c39653de0b2a": {
      "model_module": "@jupyter-widgets/base",
      "model_module_version": "1.1.0",
      "model_name": "LayoutModel",
      "state": {}
     },
     "53370d3e70f14de09cd1fd49b9a9b751": {
      "model_module": "@jupyter-widgets/base",
      "model_module_version": "1.1.0",
      "model_name": "LayoutModel",
      "state": {}
     },
     "5371d4b279c7442ba9dd7340edf876a4": {
      "model_module": "@jupyter-widgets/output",
      "model_module_version": "1.0.0",
      "model_name": "OutputModel",
      "state": {
       "layout": "IPY_MODEL_a3a1e5f3d2a44056a5ca9d60ce4329d0"
      }
     },
     "5376b14bc7624cc7859cb250890d14f2": {
      "model_module": "@jupyter-widgets/base",
      "model_module_version": "1.1.0",
      "model_name": "LayoutModel",
      "state": {}
     },
     "5386a9adedda4b069748d5000d7ee8e1": {
      "model_module": "@jupyter-widgets/base",
      "model_module_version": "1.1.0",
      "model_name": "LayoutModel",
      "state": {}
     },
     "542e4b05f7654a3ba3b8ea3f99bd52ed": {
      "model_module": "@jupyter-widgets/base",
      "model_module_version": "1.1.0",
      "model_name": "LayoutModel",
      "state": {}
     },
     "545b61a2c36e4298845c5c62ecf16f1c": {
      "model_module": "@jupyter-widgets/controls",
      "model_module_version": "1.4.0",
      "model_name": "VBoxModel",
      "state": {
       "_dom_classes": [
        "widget-interact"
       ],
       "children": [
        "IPY_MODEL_7cdaba6e204f4851840686529a909bcb",
        "IPY_MODEL_7ef3128732c740489c12676a641771b5",
        "IPY_MODEL_2d333dcd084e4262a0c3edf8766ccda1"
       ],
       "layout": "IPY_MODEL_419babd10fad4d73b292ef7ad52d2b27"
      }
     },
     "54cdb51e5279498db3fbeee478487db1": {
      "model_module": "@jupyter-widgets/controls",
      "model_module_version": "1.4.0",
      "model_name": "VBoxModel",
      "state": {
       "children": [
        "IPY_MODEL_7cdaba6e204f4851840686529a909bcb",
        "IPY_MODEL_7ef3128732c740489c12676a641771b5"
       ],
       "layout": "IPY_MODEL_27c598afff264783a656f06932225ca0"
      }
     },
     "55350e97026241e7981c223ddab71c7f": {
      "model_module": "@jupyter-widgets/controls",
      "model_module_version": "1.4.0",
      "model_name": "VBoxModel",
      "state": {
       "_dom_classes": [
        "widget-interact"
       ],
       "children": [
        "IPY_MODEL_7cdaba6e204f4851840686529a909bcb",
        "IPY_MODEL_7ef3128732c740489c12676a641771b5",
        "IPY_MODEL_3fc3335ff45144218bdc60cdf6b15ce3"
       ],
       "layout": "IPY_MODEL_911a414078cd4971a4e4c86b34c3230b"
      }
     },
     "55467dd1c30946ac9ebac1684ffffd10": {
      "model_module": "@jupyter-widgets/controls",
      "model_module_version": "1.4.0",
      "model_name": "VBoxModel",
      "state": {
       "children": [
        "IPY_MODEL_467abf0c84b746629cc02d043f510b3b",
        "IPY_MODEL_f03c702063304900a21b86a1cfc1bc6a",
        "IPY_MODEL_ff2acae77452485ab84e18b41091ce82",
        "IPY_MODEL_85f59b8ac04841dfaa02b062d28f402e",
        "IPY_MODEL_3dc6b39299cb45bd85928756dfe5f459",
        "IPY_MODEL_68d6a562e1904abab58ed04cfe99b19c",
        "IPY_MODEL_8fff40f93750435aa3ec486f0250c736"
       ],
       "layout": "IPY_MODEL_4b7d99a5a6d443cd833184bad623f3f2"
      }
     },
     "55642e5ac23f4a21a5b4e8a04485e71d": {
      "model_module": "@jupyter-widgets/controls",
      "model_module_version": "1.4.0",
      "model_name": "VBoxModel",
      "state": {
       "children": [
        "IPY_MODEL_13eb300774c045d9a678fd1d8508914c",
        "IPY_MODEL_a29c635fc49144658ec2790312106616"
       ],
       "layout": "IPY_MODEL_5386a9adedda4b069748d5000d7ee8e1"
      }
     },
     "55924d0871f64979b861504313bbb1b9": {
      "model_module": "@jupyter-widgets/controls",
      "model_module_version": "1.4.0",
      "model_name": "VBoxModel",
      "state": {
       "_dom_classes": [
        "widget-interact"
       ],
       "children": [
        "IPY_MODEL_467abf0c84b746629cc02d043f510b3b",
        "IPY_MODEL_f03c702063304900a21b86a1cfc1bc6a",
        "IPY_MODEL_ff2acae77452485ab84e18b41091ce82",
        "IPY_MODEL_85f59b8ac04841dfaa02b062d28f402e",
        "IPY_MODEL_3dc6b39299cb45bd85928756dfe5f459",
        "IPY_MODEL_68d6a562e1904abab58ed04cfe99b19c",
        "IPY_MODEL_8fff40f93750435aa3ec486f0250c736",
        "IPY_MODEL_c1578d17cde34390a10ea30c137e9f27",
        "IPY_MODEL_583c9e86be7d49f3b6ac4cb767e1e688",
        "IPY_MODEL_aa07063666e443dc97ea0bba6dfee03b",
        "IPY_MODEL_d64ebb419a7d4757b8a3499a0e4c07ab",
        "IPY_MODEL_88ba9983c9f2410d9513f064b2bd0a4e",
        "IPY_MODEL_4732a9d1bbf74747993edc5f3be4b325",
        "IPY_MODEL_6a94faccf3c34e84820a75d4ac624fa2",
        "IPY_MODEL_dc8b693a0380475a9521504abae7880f",
        "IPY_MODEL_c8ecbadaf1e346d9b090c009b2d4f6c7"
       ],
       "layout": "IPY_MODEL_bbd6edc35dec4195999b719b4e7e9ae0"
      }
     },
     "55a9975ae1734e85adb5daa4974cb707": {
      "model_module": "@jupyter-widgets/output",
      "model_module_version": "1.0.0",
      "model_name": "OutputModel",
      "state": {
       "layout": "IPY_MODEL_8f261cef439c4ac6901a0b6dd0a24b95"
      }
     },
     "55b2cbeccd28406f9d37ab3a8ca27064": {
      "model_module": "@jupyter-widgets/base",
      "model_module_version": "1.1.0",
      "model_name": "LayoutModel",
      "state": {}
     },
     "55cee26e20944eb9be708471f484a5de": {
      "model_module": "@jupyter-widgets/controls",
      "model_module_version": "1.4.0",
      "model_name": "VBoxModel",
      "state": {
       "children": [
        "IPY_MODEL_c1578d17cde34390a10ea30c137e9f27",
        "IPY_MODEL_583c9e86be7d49f3b6ac4cb767e1e688",
        "IPY_MODEL_aa07063666e443dc97ea0bba6dfee03b",
        "IPY_MODEL_d64ebb419a7d4757b8a3499a0e4c07ab",
        "IPY_MODEL_88ba9983c9f2410d9513f064b2bd0a4e",
        "IPY_MODEL_4732a9d1bbf74747993edc5f3be4b325",
        "IPY_MODEL_6a94faccf3c34e84820a75d4ac624fa2",
        "IPY_MODEL_dc8b693a0380475a9521504abae7880f"
       ],
       "layout": "IPY_MODEL_b37c369c391c4ca3b56fd85a43a89915"
      }
     },
     "5601a5827da9418283633dd5c41b1fda": {
      "model_module": "@jupyter-widgets/controls",
      "model_module_version": "1.4.0",
      "model_name": "VBoxModel",
      "state": {
       "children": [
        "IPY_MODEL_0b3f762c364b4882b9901aac4ac4e6c4",
        "IPY_MODEL_dbdd580e126848b6967051d5339a309a",
        "IPY_MODEL_9ffe039643b445f19fad43330e0bbc9b",
        "IPY_MODEL_f3bb704c1b7d437784bcd24c9fc4328c",
        "IPY_MODEL_37bf47de8ebb46e7bbdaa6cb658a836b",
        "IPY_MODEL_9d64c2da1a454b0f99be8fc3a30ed8e4",
        "IPY_MODEL_78c1adf0a92940e397d9b6e635a164bf"
       ],
       "layout": "IPY_MODEL_cb74f10f9b3b4e71b59e0f0961c4f1de"
      }
     },
     "5633bc7ab78f4c54a0cb9a034d52e467": {
      "model_module": "@jupyter-widgets/controls",
      "model_module_version": "1.4.0",
      "model_name": "VBoxModel",
      "state": {
       "_dom_classes": [
        "widget-interact"
       ],
       "children": [
        "IPY_MODEL_913ebadc462449048307c24a469389ca",
        "IPY_MODEL_d5f89cfae2c44d22abeda2a682d0fbe0",
        "IPY_MODEL_262bed09dae441e49fdc4ffe413158cf"
       ],
       "layout": "IPY_MODEL_aaf77b3f2b00483e813b5572abaa9d3f"
      }
     },
     "56523e4ab0ff490db5ad2a2263ca2d7d": {
      "model_module": "@jupyter-widgets/base",
      "model_module_version": "1.1.0",
      "model_name": "LayoutModel",
      "state": {}
     },
     "56748d41393c4e3484fe3c0df4871475": {
      "model_module": "@jupyter-widgets/controls",
      "model_module_version": "1.4.0",
      "model_name": "VBoxModel",
      "state": {
       "children": [
        "IPY_MODEL_9c92b1f51e33402589cf4641012a3ec9",
        "IPY_MODEL_6a25274884024ff784136243d4e4c5b7"
       ],
       "layout": "IPY_MODEL_c0531a479d474c1e8425724bb2e027ae"
      }
     },
     "567603df31d147da8b479ddb49337854": {
      "model_module": "@jupyter-widgets/output",
      "model_module_version": "1.0.0",
      "model_name": "OutputModel",
      "state": {
       "layout": "IPY_MODEL_b8be440985a2478fb02edcdfa089575e"
      }
     },
     "567a2cdca55f4afcb5648cd16393d278": {
      "model_module": "@jupyter-widgets/base",
      "model_module_version": "1.1.0",
      "model_name": "LayoutModel",
      "state": {}
     },
     "567fa6eede9543b98ce381b21a1ef5f5": {
      "model_module": "@jupyter-widgets/controls",
      "model_module_version": "1.4.0",
      "model_name": "ButtonStyleModel",
      "state": {}
     },
     "567fd04b510f4faa8f92123ba45b447f": {
      "model_module": "@jupyter-widgets/output",
      "model_module_version": "1.0.0",
      "model_name": "OutputModel",
      "state": {
       "layout": "IPY_MODEL_8a96e1859206469e9eac716fec15f2cc"
      }
     },
     "56a5f90af44d46aab69828527cc3055d": {
      "model_module": "@jupyter-widgets/base",
      "model_module_version": "1.1.0",
      "model_name": "LayoutModel",
      "state": {}
     },
     "56acf294c6a14538a57a95f6dfef41c0": {
      "model_module": "@jupyter-widgets/controls",
      "model_module_version": "1.4.0",
      "model_name": "VBoxModel",
      "state": {
       "children": [
        "IPY_MODEL_467abf0c84b746629cc02d043f510b3b",
        "IPY_MODEL_f03c702063304900a21b86a1cfc1bc6a",
        "IPY_MODEL_ff2acae77452485ab84e18b41091ce82",
        "IPY_MODEL_85f59b8ac04841dfaa02b062d28f402e",
        "IPY_MODEL_3dc6b39299cb45bd85928756dfe5f459",
        "IPY_MODEL_68d6a562e1904abab58ed04cfe99b19c",
        "IPY_MODEL_8fff40f93750435aa3ec486f0250c736"
       ],
       "layout": "IPY_MODEL_d1a1402c49674ba98b4a5afb0d387341"
      }
     },
     "56c30f6310e94532a06aa2d8f170a643": {
      "model_module": "@jupyter-widgets/controls",
      "model_module_version": "1.4.0",
      "model_name": "VBoxModel",
      "state": {
       "_dom_classes": [
        "widget-interact"
       ],
       "children": [
        "IPY_MODEL_467abf0c84b746629cc02d043f510b3b",
        "IPY_MODEL_f03c702063304900a21b86a1cfc1bc6a",
        "IPY_MODEL_ff2acae77452485ab84e18b41091ce82",
        "IPY_MODEL_85f59b8ac04841dfaa02b062d28f402e",
        "IPY_MODEL_3dc6b39299cb45bd85928756dfe5f459",
        "IPY_MODEL_68d6a562e1904abab58ed04cfe99b19c",
        "IPY_MODEL_8fff40f93750435aa3ec486f0250c736",
        "IPY_MODEL_c1578d17cde34390a10ea30c137e9f27",
        "IPY_MODEL_583c9e86be7d49f3b6ac4cb767e1e688",
        "IPY_MODEL_aa07063666e443dc97ea0bba6dfee03b",
        "IPY_MODEL_d64ebb419a7d4757b8a3499a0e4c07ab",
        "IPY_MODEL_88ba9983c9f2410d9513f064b2bd0a4e",
        "IPY_MODEL_4732a9d1bbf74747993edc5f3be4b325",
        "IPY_MODEL_6a94faccf3c34e84820a75d4ac624fa2",
        "IPY_MODEL_dc8b693a0380475a9521504abae7880f",
        "IPY_MODEL_850494dbe9a342ee81b119dd758f9924"
       ],
       "layout": "IPY_MODEL_2eb50b9daa8e4507a89d4c2adc68017e"
      }
     },
     "56caa01fc3284bf1b124541d21218fcc": {
      "model_module": "@jupyter-widgets/base",
      "model_module_version": "1.1.0",
      "model_name": "LayoutModel",
      "state": {}
     },
     "56dcb4f0c4ac4b7295a214113ff59d1f": {
      "model_module": "@jupyter-widgets/base",
      "model_module_version": "1.1.0",
      "model_name": "LayoutModel",
      "state": {}
     },
     "56de55b8d5cb486b9214afc5acafbb7a": {
      "model_module": "@jupyter-widgets/base",
      "model_module_version": "1.1.0",
      "model_name": "LayoutModel",
      "state": {}
     },
     "56ed6f6337d34b649ab391891c77f1d7": {
      "model_module": "@jupyter-widgets/controls",
      "model_module_version": "1.4.0",
      "model_name": "VBoxModel",
      "state": {
       "_dom_classes": [
        "widget-interact"
       ],
       "children": [
        "IPY_MODEL_7cdaba6e204f4851840686529a909bcb",
        "IPY_MODEL_7ef3128732c740489c12676a641771b5",
        "IPY_MODEL_de7bcc300ed64fc8b3798a564fc635e8"
       ],
       "layout": "IPY_MODEL_471ab1eaecfe428e9b01ad1790344189"
      }
     },
     "57106549157e433ba7939561636faf0b": {
      "model_module": "@jupyter-widgets/controls",
      "model_module_version": "1.4.0",
      "model_name": "FloatTextModel",
      "state": {
       "description": "$Fibrinogen (g/L)$",
       "layout": "IPY_MODEL_6c2d0d694549488e98232450364c0161",
       "step": null,
       "style": "IPY_MODEL_d16363a4ebeb49999855a139c7027d58",
       "value": "nan"
      }
     },
     "572c94d15a274a1eacf5a5235eeeba80": {
      "model_module": "@jupyter-widgets/base",
      "model_module_version": "1.1.0",
      "model_name": "LayoutModel",
      "state": {}
     },
     "5738f0f234174d5a9abf98c33955036a": {
      "model_module": "@jupyter-widgets/controls",
      "model_module_version": "1.4.0",
      "model_name": "HBoxModel",
      "state": {
       "children": [
        "IPY_MODEL_4cd5af0b881c405bbe9985abbeceaa2c"
       ],
       "layout": "IPY_MODEL_de6e923f6d504d91bd4f003ca82e4359"
      }
     },
     "5759bab6328644cab444cfef35ad0cc3": {
      "model_module": "@jupyter-widgets/base",
      "model_module_version": "1.1.0",
      "model_name": "LayoutModel",
      "state": {}
     },
     "575abbdf30a84fcf9b0f7c574054fb8f": {
      "model_module": "@jupyter-widgets/controls",
      "model_module_version": "1.4.0",
      "model_name": "FloatTextModel",
      "state": {
       "description": "$CT_{Intem} (s)$",
       "layout": "IPY_MODEL_213509b6c9e048e4864226501230fb40",
       "step": null,
       "style": "IPY_MODEL_31b8e53479914862bbfda6d9b9331672",
       "value": "nan"
      }
     },
     "576639d14e234c5d8fd01949c79097ec": {
      "model_module": "@jupyter-widgets/base",
      "model_module_version": "1.1.0",
      "model_name": "LayoutModel",
      "state": {}
     },
     "57aa6d5a97764d58948fe786daf88027": {
      "model_module": "@jupyter-widgets/base",
      "model_module_version": "1.1.0",
      "model_name": "LayoutModel",
      "state": {}
     },
     "57c16f6dc9b74522a17b56f65c96e50d": {
      "model_module": "@jupyter-widgets/base",
      "model_module_version": "1.1.0",
      "model_name": "LayoutModel",
      "state": {}
     },
     "57db985012574e38a107e89a794cd594": {
      "model_module": "@jupyter-widgets/controls",
      "model_module_version": "1.4.0",
      "model_name": "VBoxModel",
      "state": {
       "_dom_classes": [
        "widget-interact"
       ],
       "children": [
        "IPY_MODEL_7cdaba6e204f4851840686529a909bcb",
        "IPY_MODEL_7ef3128732c740489c12676a641771b5",
        "IPY_MODEL_51a922e2b3294de6a051bd82d9ac09c3"
       ],
       "layout": "IPY_MODEL_ea752a4c228d4359ad3d24d506bb57f3"
      }
     },
     "57f65d25983b4aa1a7b8ebd95c1c0491": {
      "model_module": "@jupyter-widgets/base",
      "model_module_version": "1.1.0",
      "model_name": "LayoutModel",
      "state": {}
     },
     "581ed38e1f314da6b3a68ed3ebd7ed2f": {
      "model_module": "@jupyter-widgets/output",
      "model_module_version": "1.0.0",
      "model_name": "OutputModel",
      "state": {
       "layout": "IPY_MODEL_8fe37b9dcdef4489b19a24daee7b46b9"
      }
     },
     "583c9e86be7d49f3b6ac4cb767e1e688": {
      "model_module": "@jupyter-widgets/controls",
      "model_module_version": "1.4.0",
      "model_name": "FloatTextModel",
      "state": {
       "description": "$A10_{Extem} (mm)$",
       "layout": "IPY_MODEL_1413195a48f7403a82999bdc59d2dc23",
       "step": null,
       "style": "IPY_MODEL_fdf014651cba4cc8b5963b3d9812b778",
       "value": 40
      }
     },
     "58583ceaa22f451ea983603e7aa3c9e5": {
      "model_module": "@jupyter-widgets/controls",
      "model_module_version": "1.4.0",
      "model_name": "ButtonModel",
      "state": {
       "description": "Run algorithm",
       "layout": "IPY_MODEL_6ace0d81c62e4765bea943db4d9b9442",
       "style": "IPY_MODEL_a85256645d5c415e84421ea2c3141a10"
      }
     },
     "5877d355a54845ab91333c77c3620078": {
      "model_module": "@jupyter-widgets/base",
      "model_module_version": "1.1.0",
      "model_name": "LayoutModel",
      "state": {}
     },
     "58840cba27524a318db538b8716a15d9": {
      "model_module": "@jupyter-widgets/output",
      "model_module_version": "1.0.0",
      "model_name": "OutputModel",
      "state": {
       "layout": "IPY_MODEL_78aa4096274a4cd388d4e8e6508ae3b1"
      }
     },
     "5893a0adadb54b5598e74a0388db340d": {
      "model_module": "@jupyter-widgets/controls",
      "model_module_version": "1.4.0",
      "model_name": "VBoxModel",
      "state": {
       "_dom_classes": [
        "widget-interact"
       ],
       "children": [
        "IPY_MODEL_467abf0c84b746629cc02d043f510b3b",
        "IPY_MODEL_f03c702063304900a21b86a1cfc1bc6a",
        "IPY_MODEL_ff2acae77452485ab84e18b41091ce82",
        "IPY_MODEL_85f59b8ac04841dfaa02b062d28f402e",
        "IPY_MODEL_3dc6b39299cb45bd85928756dfe5f459",
        "IPY_MODEL_68d6a562e1904abab58ed04cfe99b19c",
        "IPY_MODEL_8fff40f93750435aa3ec486f0250c736",
        "IPY_MODEL_c1578d17cde34390a10ea30c137e9f27",
        "IPY_MODEL_583c9e86be7d49f3b6ac4cb767e1e688",
        "IPY_MODEL_aa07063666e443dc97ea0bba6dfee03b",
        "IPY_MODEL_d64ebb419a7d4757b8a3499a0e4c07ab",
        "IPY_MODEL_88ba9983c9f2410d9513f064b2bd0a4e",
        "IPY_MODEL_4732a9d1bbf74747993edc5f3be4b325",
        "IPY_MODEL_6a94faccf3c34e84820a75d4ac624fa2",
        "IPY_MODEL_dc8b693a0380475a9521504abae7880f",
        "IPY_MODEL_b640ef4716014fa79ad6f4d2d3235d34"
       ],
       "layout": "IPY_MODEL_087572f3cf35413ebe3b7dff3ccb792f"
      }
     },
     "58ba49cb1c6c4cdba33faf700883dcd3": {
      "model_module": "@jupyter-widgets/controls",
      "model_module_version": "1.4.0",
      "model_name": "AccordionModel",
      "state": {
       "_titles": {
        "0": "Procedure",
        "1": "Parameters"
       },
       "children": [
        "IPY_MODEL_e2a0f2e920644f5bbd0198e2feb2a2e3",
        "IPY_MODEL_f7f032625d3c4fcebadb4da611a0ed37"
       ],
       "layout": "IPY_MODEL_3318f52ff42b45c88fb7b26b948c1105",
       "selected_index": 1
      }
     },
     "58ddecd56b864cc1984a823b11abe81b": {
      "model_module": "@jupyter-widgets/controls",
      "model_module_version": "1.4.0",
      "model_name": "ToggleButtonsStyleModel",
      "state": {
       "button_width": "",
       "description_width": ""
      }
     },
     "58e964e7f85a4e838a71af0a7b1a2caa": {
      "model_module": "@jupyter-widgets/controls",
      "model_module_version": "1.4.0",
      "model_name": "ButtonModel",
      "state": {
       "description": "Run algorithm",
       "layout": "IPY_MODEL_6e307797d8e6496aa70228f967cb7cc6",
       "style": "IPY_MODEL_6ee51427d3914a2fb938b08c5c004b2d"
      }
     },
     "593df5742bf74c81ab94da32455fb55f": {
      "model_module": "@jupyter-widgets/base",
      "model_module_version": "1.1.0",
      "model_name": "LayoutModel",
      "state": {}
     },
     "593e4db0d55c4ea390cef9ea567cc737": {
      "model_module": "@jupyter-widgets/controls",
      "model_module_version": "1.4.0",
      "model_name": "DescriptionStyleModel",
      "state": {
       "description_width": "initial"
      }
     },
     "5958ce1057c5484689fb7199c0a0e3de": {
      "model_module": "@jupyter-widgets/base",
      "model_module_version": "1.1.0",
      "model_name": "LayoutModel",
      "state": {}
     },
     "597f2a2fec9d4bc9a3ac39e98027e7b1": {
      "model_module": "@jupyter-widgets/controls",
      "model_module_version": "1.4.0",
      "model_name": "VBoxModel",
      "state": {
       "children": [
        "IPY_MODEL_7cdaba6e204f4851840686529a909bcb",
        "IPY_MODEL_7ef3128732c740489c12676a641771b5"
       ],
       "layout": "IPY_MODEL_70969a980b124510a393eee51ea1e7f3"
      }
     },
     "59a629733b554ef7b67cdb0ba8ef66cb": {
      "model_module": "@jupyter-widgets/base",
      "model_module_version": "1.1.0",
      "model_name": "LayoutModel",
      "state": {}
     },
     "59cd96a89ed549d88e8b6fd0edd0cfcd": {
      "model_module": "@jupyter-widgets/controls",
      "model_module_version": "1.4.0",
      "model_name": "HBoxModel",
      "state": {
       "children": [
        "IPY_MODEL_ab3419a4a56245f78975fc9422a1e08e",
        "IPY_MODEL_5f6d8a3609be43e1bc8fafeda18e2eff"
       ],
       "layout": "IPY_MODEL_530a2660537b46bc8276c39653de0b2a"
      }
     },
     "59d66ef4ffc7443ea1005595af0c99ae": {
      "model_module": "@jupyter-widgets/base",
      "model_module_version": "1.1.0",
      "model_name": "LayoutModel",
      "state": {}
     },
     "59ead1a14c6a4877960abe3009559b34": {
      "model_module": "@jupyter-widgets/controls",
      "model_module_version": "1.4.0",
      "model_name": "VBoxModel",
      "state": {
       "_dom_classes": [
        "widget-interact"
       ],
       "children": [
        "IPY_MODEL_0b3f762c364b4882b9901aac4ac4e6c4",
        "IPY_MODEL_dbdd580e126848b6967051d5339a309a",
        "IPY_MODEL_9ffe039643b445f19fad43330e0bbc9b",
        "IPY_MODEL_f3bb704c1b7d437784bcd24c9fc4328c",
        "IPY_MODEL_37bf47de8ebb46e7bbdaa6cb658a836b",
        "IPY_MODEL_9d64c2da1a454b0f99be8fc3a30ed8e4",
        "IPY_MODEL_78c1adf0a92940e397d9b6e635a164bf",
        "IPY_MODEL_adb1524dbc9446f88500930b1cbae126",
        "IPY_MODEL_e2f9b28d2b0044b0bbe579fcaf1539de",
        "IPY_MODEL_aacaa0400e6243419a526a1a81728ee1",
        "IPY_MODEL_da2283904ce54cae83eb251736dc789e",
        "IPY_MODEL_1d293bac518844ab98f80e608d5e1ac5",
        "IPY_MODEL_d299703f46714aab8fb53de70fddf595",
        "IPY_MODEL_2346e45bf6d246dca8bc952045fc3e37",
        "IPY_MODEL_279ca9eda5f24edd85429db6823040ba",
        "IPY_MODEL_2488ec0fc7ab4c2291ce25269621f049"
       ],
       "layout": "IPY_MODEL_d298b7028b244c4f9d42ee2199249a13"
      }
     },
     "5a8ce5baab4d49cbb5f2acfb281b682b": {
      "model_module": "@jupyter-widgets/base",
      "model_module_version": "1.1.0",
      "model_name": "LayoutModel",
      "state": {}
     },
     "5a8d598dfda348de9a348ad42268ae57": {
      "model_module": "@jupyter-widgets/base",
      "model_module_version": "1.1.0",
      "model_name": "LayoutModel",
      "state": {}
     },
     "5aba38c78dce43e191ef60fddeb9f85f": {
      "model_module": "@jupyter-widgets/base",
      "model_module_version": "1.1.0",
      "model_name": "LayoutModel",
      "state": {}
     },
     "5b0d858ea7104368b4e2b4aff4f70e21": {
      "model_module": "@jupyter-widgets/base",
      "model_module_version": "1.1.0",
      "model_name": "LayoutModel",
      "state": {}
     },
     "5b2a64d8ebe04c2d8c11754cff95e342": {
      "model_module": "@jupyter-widgets/base",
      "model_module_version": "1.1.0",
      "model_name": "LayoutModel",
      "state": {}
     },
     "5be0a2d92e1a43d18b7d21c8823c8f8b": {
      "model_module": "@jupyter-widgets/base",
      "model_module_version": "1.1.0",
      "model_name": "LayoutModel",
      "state": {}
     },
     "5bf3a2c3fde04f7299796dd329247381": {
      "model_module": "@jupyter-widgets/base",
      "model_module_version": "1.1.0",
      "model_name": "LayoutModel",
      "state": {}
     },
     "5c60cf0e124543f98ee07d43971a726d": {
      "model_module": "@jupyter-widgets/base",
      "model_module_version": "1.1.0",
      "model_name": "LayoutModel",
      "state": {}
     },
     "5d061dbdd231405d860e16f6a9819603": {
      "model_module": "@jupyter-widgets/controls",
      "model_module_version": "1.4.0",
      "model_name": "HBoxModel",
      "state": {
       "children": [
        "IPY_MODEL_cd073b4bc54345fd92cb0638eee0c3a0",
        "IPY_MODEL_bfc656ef4db847daa1243a5eac3abd4d"
       ],
       "layout": "IPY_MODEL_6b33040ee83c49ee8c37b6e32c65526b"
      }
     },
     "5d0b81082f054ff3a9ab0433914df5f5": {
      "model_module": "@jupyter-widgets/controls",
      "model_module_version": "1.4.0",
      "model_name": "DescriptionStyleModel",
      "state": {
       "description_width": "initial"
      }
     },
     "5d1e18861c6d414aa869d85ce342c859": {
      "model_module": "@jupyter-widgets/controls",
      "model_module_version": "1.4.0",
      "model_name": "DescriptionStyleModel",
      "state": {
       "description_width": "initial"
      }
     },
     "5d4a11eb84db4cb5998d8cc77a5aef14": {
      "model_module": "@jupyter-widgets/controls",
      "model_module_version": "1.4.0",
      "model_name": "FloatTextModel",
      "state": {
       "description": "$A10_{Fibtem} (mm)$",
       "layout": "IPY_MODEL_bb769b2b7ff74656af895fd138e3f199",
       "step": null,
       "style": "IPY_MODEL_5d0b81082f054ff3a9ab0433914df5f5",
       "value": "nan"
      }
     },
     "5d7dade7fddf42bd8abd996e8807b3dc": {
      "model_module": "@jupyter-widgets/controls",
      "model_module_version": "1.4.0",
      "model_name": "VBoxModel",
      "state": {
       "children": [
        "IPY_MODEL_0b3f762c364b4882b9901aac4ac4e6c4",
        "IPY_MODEL_dbdd580e126848b6967051d5339a309a",
        "IPY_MODEL_9ffe039643b445f19fad43330e0bbc9b",
        "IPY_MODEL_f3bb704c1b7d437784bcd24c9fc4328c",
        "IPY_MODEL_37bf47de8ebb46e7bbdaa6cb658a836b",
        "IPY_MODEL_9d64c2da1a454b0f99be8fc3a30ed8e4",
        "IPY_MODEL_78c1adf0a92940e397d9b6e635a164bf"
       ],
       "layout": "IPY_MODEL_ddc048ede0ab4146b44f235b86e95569"
      }
     },
     "5d872b05dbe94825be9d4de83de35360": {
      "model_module": "@jupyter-widgets/base",
      "model_module_version": "1.1.0",
      "model_name": "LayoutModel",
      "state": {}
     },
     "5d998826798f4354bf0f14a472b530e1": {
      "model_module": "@jupyter-widgets/base",
      "model_module_version": "1.1.0",
      "model_name": "LayoutModel",
      "state": {}
     },
     "5d9ed63b45044c338dcb9fbb07e1266f": {
      "model_module": "@jupyter-widgets/controls",
      "model_module_version": "1.4.0",
      "model_name": "FloatTextModel",
      "state": {
       "description": "$PT (s)$",
       "layout": "IPY_MODEL_69b9b543300941faa8f5d3c01d695dec",
       "step": null,
       "style": "IPY_MODEL_9771932f0bd441e5877d874bd4c11a58",
       "value": "nan"
      }
     },
     "5da3a2361e044bcd89de43bc27541897": {
      "model_module": "@jupyter-widgets/base",
      "model_module_version": "1.1.0",
      "model_name": "LayoutModel",
      "state": {}
     },
     "5e0610a1300740ab9ba5fc5a7cc1e0c2": {
      "model_module": "@jupyter-widgets/controls",
      "model_module_version": "1.4.0",
      "model_name": "ButtonStyleModel",
      "state": {}
     },
     "5e4862f8bc3e42a6815319f41caab721": {
      "model_module": "@jupyter-widgets/controls",
      "model_module_version": "1.4.0",
      "model_name": "VBoxModel",
      "state": {
       "children": [
        "IPY_MODEL_467abf0c84b746629cc02d043f510b3b",
        "IPY_MODEL_f03c702063304900a21b86a1cfc1bc6a",
        "IPY_MODEL_ff2acae77452485ab84e18b41091ce82",
        "IPY_MODEL_85f59b8ac04841dfaa02b062d28f402e",
        "IPY_MODEL_3dc6b39299cb45bd85928756dfe5f459",
        "IPY_MODEL_68d6a562e1904abab58ed04cfe99b19c",
        "IPY_MODEL_8fff40f93750435aa3ec486f0250c736"
       ],
       "layout": "IPY_MODEL_ed96e37658ce47afb8b92512e3b51264"
      }
     },
     "5e4cf095acb6417d99b99d93790202cf": {
      "model_module": "@jupyter-widgets/controls",
      "model_module_version": "1.4.0",
      "model_name": "VBoxModel",
      "state": {
       "children": [
        "IPY_MODEL_467abf0c84b746629cc02d043f510b3b",
        "IPY_MODEL_f03c702063304900a21b86a1cfc1bc6a",
        "IPY_MODEL_ff2acae77452485ab84e18b41091ce82",
        "IPY_MODEL_85f59b8ac04841dfaa02b062d28f402e",
        "IPY_MODEL_3dc6b39299cb45bd85928756dfe5f459",
        "IPY_MODEL_68d6a562e1904abab58ed04cfe99b19c",
        "IPY_MODEL_8fff40f93750435aa3ec486f0250c736"
       ],
       "layout": "IPY_MODEL_dec030a1bab24f02acd4cde3ae81c6bd"
      }
     },
     "5e5a8776c1f34abdbc9479fb5db466ce": {
      "model_module": "@jupyter-widgets/controls",
      "model_module_version": "1.4.0",
      "model_name": "ButtonStyleModel",
      "state": {}
     },
     "5e704c950267459e8bdfd999282a0d7d": {
      "model_module": "@jupyter-widgets/base",
      "model_module_version": "1.1.0",
      "model_name": "LayoutModel",
      "state": {}
     },
     "5ebf7255875a40b88dafcd5821844d6f": {
      "model_module": "@jupyter-widgets/controls",
      "model_module_version": "1.4.0",
      "model_name": "HBoxModel",
      "state": {
       "children": [
        "IPY_MODEL_7b9e2cee4ecc49fa95d5e9417553b70c",
        "IPY_MODEL_5f6186b94f034f1db09603f5f1afd856"
       ],
       "layout": "IPY_MODEL_ff729d6e19a64c2d980e93e3d5eff8e0"
      }
     },
     "5ec995caeacc431fa5247aead87b4055": {
      "model_module": "@jupyter-widgets/base",
      "model_module_version": "1.1.0",
      "model_name": "LayoutModel",
      "state": {}
     },
     "5ecf11825bdb487b82b69d74a126700d": {
      "model_module": "@jupyter-widgets/controls",
      "model_module_version": "1.4.0",
      "model_name": "VBoxModel",
      "state": {
       "children": [
        "IPY_MODEL_7cdaba6e204f4851840686529a909bcb",
        "IPY_MODEL_7ef3128732c740489c12676a641771b5"
       ],
       "layout": "IPY_MODEL_ebab33a52e0f4b2faaf38e29283c392f"
      }
     },
     "5efc1efde5cd427db7556f3e643e7a7e": {
      "model_module": "@jupyter-widgets/base",
      "model_module_version": "1.1.0",
      "model_name": "LayoutModel",
      "state": {}
     },
     "5f2585eb296241288590a39016f87858": {
      "model_module": "@jupyter-widgets/controls",
      "model_module_version": "1.4.0",
      "model_name": "HBoxModel",
      "state": {
       "children": [
        "IPY_MODEL_46348cb71f334bd79e7139b9108964cf"
       ],
       "layout": "IPY_MODEL_5e704c950267459e8bdfd999282a0d7d"
      }
     },
     "5f58e2d923754937a8adca8be8e4ba80": {
      "model_module": "@jupyter-widgets/controls",
      "model_module_version": "1.4.0",
      "model_name": "ButtonStyleModel",
      "state": {}
     },
     "5f6186b94f034f1db09603f5f1afd856": {
      "model_module": "@jupyter-widgets/controls",
      "model_module_version": "1.4.0",
      "model_name": "VBoxModel",
      "state": {
       "children": [
        "IPY_MODEL_467abf0c84b746629cc02d043f510b3b",
        "IPY_MODEL_f03c702063304900a21b86a1cfc1bc6a",
        "IPY_MODEL_ff2acae77452485ab84e18b41091ce82",
        "IPY_MODEL_85f59b8ac04841dfaa02b062d28f402e",
        "IPY_MODEL_3dc6b39299cb45bd85928756dfe5f459",
        "IPY_MODEL_68d6a562e1904abab58ed04cfe99b19c",
        "IPY_MODEL_8fff40f93750435aa3ec486f0250c736"
       ],
       "layout": "IPY_MODEL_cbcd46f43b424d71af3a1f9c5fab62ba"
      }
     },
     "5f6d8a3609be43e1bc8fafeda18e2eff": {
      "model_module": "@jupyter-widgets/controls",
      "model_module_version": "1.4.0",
      "model_name": "VBoxModel",
      "state": {
       "children": [
        "IPY_MODEL_467abf0c84b746629cc02d043f510b3b",
        "IPY_MODEL_f03c702063304900a21b86a1cfc1bc6a",
        "IPY_MODEL_ff2acae77452485ab84e18b41091ce82",
        "IPY_MODEL_85f59b8ac04841dfaa02b062d28f402e",
        "IPY_MODEL_3dc6b39299cb45bd85928756dfe5f459",
        "IPY_MODEL_68d6a562e1904abab58ed04cfe99b19c",
        "IPY_MODEL_8fff40f93750435aa3ec486f0250c736"
       ],
       "layout": "IPY_MODEL_56de55b8d5cb486b9214afc5acafbb7a"
      }
     },
     "5f7921e15e8848acb08bff76b98e18be": {
      "model_module": "@jupyter-widgets/base",
      "model_module_version": "1.1.0",
      "model_name": "LayoutModel",
      "state": {}
     },
     "5f7cfc7546264f079e9cb87bdb74a8f4": {
      "model_module": "@jupyter-widgets/base",
      "model_module_version": "1.1.0",
      "model_name": "LayoutModel",
      "state": {}
     },
     "5f9b53093f094746b1d059c5ceee6802": {
      "model_module": "@jupyter-widgets/controls",
      "model_module_version": "1.4.0",
      "model_name": "HBoxModel",
      "state": {
       "children": [
        "IPY_MODEL_4d0d049239484bc1ba670f106d32f989",
        "IPY_MODEL_208a770059154a629dab481f7fb4c2f4"
       ],
       "layout": "IPY_MODEL_21aa4c3a5fe446e68155d608368dc1aa"
      }
     },
     "5f9e927c672c451cb3a7b2e7a2853e1c": {
      "model_module": "@jupyter-widgets/base",
      "model_module_version": "1.1.0",
      "model_name": "LayoutModel",
      "state": {}
     },
     "5fafcc780d954a59adde51ba4ba1ce34": {
      "model_module": "@jupyter-widgets/base",
      "model_module_version": "1.1.0",
      "model_name": "LayoutModel",
      "state": {}
     },
     "5fafe95fe59e4b4ea821a98ba5a857e8": {
      "model_module": "@jupyter-widgets/controls",
      "model_module_version": "1.4.0",
      "model_name": "VBoxModel",
      "state": {
       "_dom_classes": [
        "widget-interact"
       ],
       "children": [
        "IPY_MODEL_467abf0c84b746629cc02d043f510b3b",
        "IPY_MODEL_f03c702063304900a21b86a1cfc1bc6a",
        "IPY_MODEL_ff2acae77452485ab84e18b41091ce82",
        "IPY_MODEL_85f59b8ac04841dfaa02b062d28f402e",
        "IPY_MODEL_3dc6b39299cb45bd85928756dfe5f459",
        "IPY_MODEL_68d6a562e1904abab58ed04cfe99b19c",
        "IPY_MODEL_8fff40f93750435aa3ec486f0250c736",
        "IPY_MODEL_c1578d17cde34390a10ea30c137e9f27",
        "IPY_MODEL_583c9e86be7d49f3b6ac4cb767e1e688",
        "IPY_MODEL_aa07063666e443dc97ea0bba6dfee03b",
        "IPY_MODEL_d64ebb419a7d4757b8a3499a0e4c07ab",
        "IPY_MODEL_88ba9983c9f2410d9513f064b2bd0a4e",
        "IPY_MODEL_4732a9d1bbf74747993edc5f3be4b325",
        "IPY_MODEL_6a94faccf3c34e84820a75d4ac624fa2",
        "IPY_MODEL_dc8b693a0380475a9521504abae7880f",
        "IPY_MODEL_7e970a5b595d4fb99aa357736b0cd01a"
       ],
       "layout": "IPY_MODEL_49039c549e63465d9954827d0161ccfc"
      }
     },
     "5fdbf245f99c476f9feb8a254c5f9e77": {
      "model_module": "@jupyter-widgets/output",
      "model_module_version": "1.0.0",
      "model_name": "OutputModel",
      "state": {
       "layout": "IPY_MODEL_a8c5aa1e838c40dc9578e0ca372d4fb6"
      }
     },
     "600b98c808644848bea39664a4cb0250": {
      "model_module": "@jupyter-widgets/base",
      "model_module_version": "1.1.0",
      "model_name": "LayoutModel",
      "state": {}
     },
     "601ac366ce544fbb8c8a844ac9b428e4": {
      "model_module": "@jupyter-widgets/base",
      "model_module_version": "1.1.0",
      "model_name": "LayoutModel",
      "state": {}
     },
     "603a36fbdfb64389a15f27f373776002": {
      "model_module": "@jupyter-widgets/base",
      "model_module_version": "1.1.0",
      "model_name": "LayoutModel",
      "state": {}
     },
     "60487325874c4f75b382ef84e02483c7": {
      "model_module": "@jupyter-widgets/controls",
      "model_module_version": "1.4.0",
      "model_name": "VBoxModel",
      "state": {
       "children": [
        "IPY_MODEL_7cdaba6e204f4851840686529a909bcb",
        "IPY_MODEL_7ef3128732c740489c12676a641771b5"
       ],
       "layout": "IPY_MODEL_4ee8714bc042464d84520becdd98eed5"
      }
     },
     "6052dd09d86c46a09094fff1d190a9b5": {
      "model_module": "@jupyter-widgets/base",
      "model_module_version": "1.1.0",
      "model_name": "LayoutModel",
      "state": {}
     },
     "608141567bac4b029b1a1c30d5a96a24": {
      "model_module": "@jupyter-widgets/base",
      "model_module_version": "1.1.0",
      "model_name": "LayoutModel",
      "state": {}
     },
     "6086dfddb01b4c158d9ce2c1751d1f69": {
      "model_module": "@jupyter-widgets/base",
      "model_module_version": "1.1.0",
      "model_name": "LayoutModel",
      "state": {}
     },
     "60d1ff132af946c88fe09ffbf1166ecc": {
      "model_module": "@jupyter-widgets/controls",
      "model_module_version": "1.4.0",
      "model_name": "ToggleButtonsStyleModel",
      "state": {
       "button_width": "",
       "description_width": ""
      }
     },
     "60ded408cadf413faf78e1598720f995": {
      "model_module": "@jupyter-widgets/controls",
      "model_module_version": "1.4.0",
      "model_name": "VBoxModel",
      "state": {
       "children": [
        "IPY_MODEL_c1578d17cde34390a10ea30c137e9f27",
        "IPY_MODEL_583c9e86be7d49f3b6ac4cb767e1e688",
        "IPY_MODEL_aa07063666e443dc97ea0bba6dfee03b",
        "IPY_MODEL_d64ebb419a7d4757b8a3499a0e4c07ab",
        "IPY_MODEL_88ba9983c9f2410d9513f064b2bd0a4e",
        "IPY_MODEL_4732a9d1bbf74747993edc5f3be4b325",
        "IPY_MODEL_6a94faccf3c34e84820a75d4ac624fa2",
        "IPY_MODEL_dc8b693a0380475a9521504abae7880f"
       ],
       "layout": "IPY_MODEL_6cca2dcf9b2f4846b42df4285af687e5"
      }
     },
     "60f9a5869bb74ee78b070ba904bc1d1c": {
      "model_module": "@jupyter-widgets/output",
      "model_module_version": "1.0.0",
      "model_name": "OutputModel",
      "state": {
       "layout": "IPY_MODEL_f566dddb4d9a4df183aa772501c33cbc"
      }
     },
     "6124f4c3af90482baf964798fa9e931a": {
      "model_module": "@jupyter-widgets/base",
      "model_module_version": "1.1.0",
      "model_name": "LayoutModel",
      "state": {}
     },
     "616da2333f0b4b44a5f35deeceafba21": {
      "model_module": "@jupyter-widgets/base",
      "model_module_version": "1.1.0",
      "model_name": "LayoutModel",
      "state": {}
     },
     "6172046446604269a2b554255e5d4243": {
      "model_module": "@jupyter-widgets/controls",
      "model_module_version": "1.4.0",
      "model_name": "VBoxModel",
      "state": {
       "children": [
        "IPY_MODEL_c1578d17cde34390a10ea30c137e9f27",
        "IPY_MODEL_583c9e86be7d49f3b6ac4cb767e1e688",
        "IPY_MODEL_aa07063666e443dc97ea0bba6dfee03b",
        "IPY_MODEL_d64ebb419a7d4757b8a3499a0e4c07ab",
        "IPY_MODEL_88ba9983c9f2410d9513f064b2bd0a4e",
        "IPY_MODEL_4732a9d1bbf74747993edc5f3be4b325",
        "IPY_MODEL_6a94faccf3c34e84820a75d4ac624fa2",
        "IPY_MODEL_dc8b693a0380475a9521504abae7880f"
       ],
       "layout": "IPY_MODEL_d2921448cbd54518a4d3436cf1be3f82"
      }
     },
     "61a2c81badd04c5c90d33786ae4a81de": {
      "model_module": "@jupyter-widgets/base",
      "model_module_version": "1.1.0",
      "model_name": "LayoutModel",
      "state": {}
     },
     "61aef49940b542f7977f77e42d842ef2": {
      "model_module": "@jupyter-widgets/base",
      "model_module_version": "1.1.0",
      "model_name": "LayoutModel",
      "state": {}
     },
     "61fc61e4b1074d7191b60496089974bc": {
      "model_module": "@jupyter-widgets/controls",
      "model_module_version": "1.4.0",
      "model_name": "VBoxModel",
      "state": {
       "children": [
        "IPY_MODEL_7cdaba6e204f4851840686529a909bcb",
        "IPY_MODEL_7ef3128732c740489c12676a641771b5"
       ],
       "layout": "IPY_MODEL_cc6ca240891644089ec74feb5af8ab05"
      }
     },
     "61ffd5e16db947c2aaa47a70ccce1a65": {
      "model_module": "@jupyter-widgets/base",
      "model_module_version": "1.1.0",
      "model_name": "LayoutModel",
      "state": {}
     },
     "6220b06e6e65435aae2038404d468d07": {
      "model_module": "@jupyter-widgets/controls",
      "model_module_version": "1.4.0",
      "model_name": "VBoxModel",
      "state": {
       "children": [
        "IPY_MODEL_467abf0c84b746629cc02d043f510b3b",
        "IPY_MODEL_f03c702063304900a21b86a1cfc1bc6a",
        "IPY_MODEL_ff2acae77452485ab84e18b41091ce82",
        "IPY_MODEL_85f59b8ac04841dfaa02b062d28f402e",
        "IPY_MODEL_3dc6b39299cb45bd85928756dfe5f459",
        "IPY_MODEL_68d6a562e1904abab58ed04cfe99b19c",
        "IPY_MODEL_8fff40f93750435aa3ec486f0250c736"
       ],
       "layout": "IPY_MODEL_14e909001f634c3896a9d6da18dcb267"
      }
     },
     "622321595e8b47798e7efa1b4a40b428": {
      "model_module": "@jupyter-widgets/controls",
      "model_module_version": "1.4.0",
      "model_name": "DescriptionStyleModel",
      "state": {
       "description_width": "initial"
      }
     },
     "62261d5c887d4a5d99d8625d2bf6a34a": {
      "model_module": "@jupyter-widgets/controls",
      "model_module_version": "1.4.0",
      "model_name": "VBoxModel",
      "state": {
       "children": [
        "IPY_MODEL_7cdaba6e204f4851840686529a909bcb",
        "IPY_MODEL_7ef3128732c740489c12676a641771b5"
       ],
       "layout": "IPY_MODEL_35bedb53eea445a6820d7b818a584c9a"
      }
     },
     "62321a24db3b44799bd8e5770108e3da": {
      "model_module": "@jupyter-widgets/controls",
      "model_module_version": "1.4.0",
      "model_name": "AccordionModel",
      "state": {
       "_titles": {
        "0": "Procedure",
        "1": "Parameters"
       },
       "children": [
        "IPY_MODEL_fee812f18b0a4eae8d4c667a171a58ab",
        "IPY_MODEL_1a90c2b6a73441559bf1217734a54e09"
       ],
       "layout": "IPY_MODEL_7be3f428fb8b4987ad10d87f88d9662f"
      }
     },
     "62560f2fb6ef40e9a22f71e31aef70e7": {
      "model_module": "@jupyter-widgets/controls",
      "model_module_version": "1.4.0",
      "model_name": "HBoxModel",
      "state": {
       "children": [
        "IPY_MODEL_6a33072ee91941d0b9ad602975ac8668",
        "IPY_MODEL_c38019229b7145c4af15473afa9f98b4"
       ],
       "layout": "IPY_MODEL_2d181ecc9b4c46cea0180c7846dda99c"
      }
     },
     "6260dba9debc4edbbc6c2b12b5d687ae": {
      "model_module": "@jupyter-widgets/controls",
      "model_module_version": "1.4.0",
      "model_name": "ButtonModel",
      "state": {
       "description": "Run algorithm",
       "layout": "IPY_MODEL_4d657fb49fd344adac484c1a3adcea27",
       "style": "IPY_MODEL_bd639630e862480ca445a398f5c634b8"
      }
     },
     "62930fd33ae6430b8dd98a2e0ebbb23f": {
      "model_module": "@jupyter-widgets/controls",
      "model_module_version": "1.4.0",
      "model_name": "AccordionModel",
      "state": {
       "_titles": {
        "0": "Procedure",
        "1": "Parameters"
       },
       "children": [
        "IPY_MODEL_597f2a2fec9d4bc9a3ac39e98027e7b1",
        "IPY_MODEL_65f24df510a544e4a2c2cfe7179734be"
       ],
       "layout": "IPY_MODEL_cbe15c7d58b74180968b18d5c7734fe7",
       "selected_index": 1
      }
     },
     "629ee615fc60498da8721d2b17f2cba6": {
      "model_module": "@jupyter-widgets/base",
      "model_module_version": "1.1.0",
      "model_name": "LayoutModel",
      "state": {}
     },
     "62e94b1007ce48ddb2632913bde1f0bf": {
      "model_module": "@jupyter-widgets/base",
      "model_module_version": "1.1.0",
      "model_name": "LayoutModel",
      "state": {}
     },
     "62f16fcaf418435ba8664f8f326568c9": {
      "model_module": "@jupyter-widgets/output",
      "model_module_version": "1.0.0",
      "model_name": "OutputModel",
      "state": {
       "layout": "IPY_MODEL_e945879155e1422c8fac200bcc3e21d3"
      }
     },
     "633bccebe68a4c839f25497890521f72": {
      "model_module": "@jupyter-widgets/controls",
      "model_module_version": "1.4.0",
      "model_name": "HBoxModel",
      "state": {
       "children": [
        "IPY_MODEL_385984efb1b24f51b98415d7b175968d",
        "IPY_MODEL_5e4cf095acb6417d99b99d93790202cf"
       ],
       "layout": "IPY_MODEL_5b2a64d8ebe04c2d8c11754cff95e342"
      }
     },
     "6365c3477b924002ae952f842c2ad1e7": {
      "model_module": "@jupyter-widgets/base",
      "model_module_version": "1.1.0",
      "model_name": "LayoutModel",
      "state": {}
     },
     "6367c1b433764cba846e6613e504e097": {
      "model_module": "@jupyter-widgets/base",
      "model_module_version": "1.1.0",
      "model_name": "LayoutModel",
      "state": {}
     },
     "63c029ff56c542fc8799ebfbbe9dc9e9": {
      "model_module": "@jupyter-widgets/base",
      "model_module_version": "1.1.0",
      "model_name": "LayoutModel",
      "state": {}
     },
     "63e34bdf3b9b48b6b595e140c1de60e2": {
      "model_module": "@jupyter-widgets/base",
      "model_module_version": "1.1.0",
      "model_name": "LayoutModel",
      "state": {}
     },
     "64439df566754feb8ddf210b91dc5d3c": {
      "model_module": "@jupyter-widgets/base",
      "model_module_version": "1.1.0",
      "model_name": "LayoutModel",
      "state": {}
     },
     "647f4a1fdbd64f91a1274c94c8039b24": {
      "model_module": "@jupyter-widgets/base",
      "model_module_version": "1.1.0",
      "model_name": "LayoutModel",
      "state": {}
     },
     "6497340c7c9f430eaacf02113bb17bdb": {
      "model_module": "@jupyter-widgets/controls",
      "model_module_version": "1.4.0",
      "model_name": "VBoxModel",
      "state": {
       "_dom_classes": [
        "widget-interact"
       ],
       "children": [
        "IPY_MODEL_7cdaba6e204f4851840686529a909bcb",
        "IPY_MODEL_7ef3128732c740489c12676a641771b5",
        "IPY_MODEL_c7d6b3ebb11045c186ea2fa696c230b4"
       ],
       "layout": "IPY_MODEL_3279b576987c4c0d94a5aaa4bc7d2f86"
      }
     },
     "64997a90e8ce426bb0d94cd90dbf191f": {
      "model_module": "@jupyter-widgets/controls",
      "model_module_version": "1.4.0",
      "model_name": "VBoxModel",
      "state": {
       "_dom_classes": [
        "widget-interact"
       ],
       "children": [
        "IPY_MODEL_467abf0c84b746629cc02d043f510b3b",
        "IPY_MODEL_f03c702063304900a21b86a1cfc1bc6a",
        "IPY_MODEL_ff2acae77452485ab84e18b41091ce82",
        "IPY_MODEL_85f59b8ac04841dfaa02b062d28f402e",
        "IPY_MODEL_3dc6b39299cb45bd85928756dfe5f459",
        "IPY_MODEL_68d6a562e1904abab58ed04cfe99b19c",
        "IPY_MODEL_8fff40f93750435aa3ec486f0250c736",
        "IPY_MODEL_c1578d17cde34390a10ea30c137e9f27",
        "IPY_MODEL_583c9e86be7d49f3b6ac4cb767e1e688",
        "IPY_MODEL_aa07063666e443dc97ea0bba6dfee03b",
        "IPY_MODEL_d64ebb419a7d4757b8a3499a0e4c07ab",
        "IPY_MODEL_88ba9983c9f2410d9513f064b2bd0a4e",
        "IPY_MODEL_4732a9d1bbf74747993edc5f3be4b325",
        "IPY_MODEL_6a94faccf3c34e84820a75d4ac624fa2",
        "IPY_MODEL_dc8b693a0380475a9521504abae7880f",
        "IPY_MODEL_23df8ca0e4f24b439c75c68c503dee46"
       ],
       "layout": "IPY_MODEL_e51ba33fa69042cebe6276843c9dc392"
      }
     },
     "64a2d9b65dc74af79cc11448615eee4d": {
      "model_module": "@jupyter-widgets/base",
      "model_module_version": "1.1.0",
      "model_name": "LayoutModel",
      "state": {}
     },
     "64a36267bcea45bc900f4b920328f874": {
      "model_module": "@jupyter-widgets/controls",
      "model_module_version": "1.4.0",
      "model_name": "VBoxModel",
      "state": {
       "_dom_classes": [
        "widget-interact"
       ],
       "children": [
        "IPY_MODEL_467abf0c84b746629cc02d043f510b3b",
        "IPY_MODEL_f03c702063304900a21b86a1cfc1bc6a",
        "IPY_MODEL_ff2acae77452485ab84e18b41091ce82",
        "IPY_MODEL_85f59b8ac04841dfaa02b062d28f402e",
        "IPY_MODEL_3dc6b39299cb45bd85928756dfe5f459",
        "IPY_MODEL_68d6a562e1904abab58ed04cfe99b19c",
        "IPY_MODEL_8fff40f93750435aa3ec486f0250c736",
        "IPY_MODEL_c1578d17cde34390a10ea30c137e9f27",
        "IPY_MODEL_583c9e86be7d49f3b6ac4cb767e1e688",
        "IPY_MODEL_aa07063666e443dc97ea0bba6dfee03b",
        "IPY_MODEL_d64ebb419a7d4757b8a3499a0e4c07ab",
        "IPY_MODEL_88ba9983c9f2410d9513f064b2bd0a4e",
        "IPY_MODEL_4732a9d1bbf74747993edc5f3be4b325",
        "IPY_MODEL_6a94faccf3c34e84820a75d4ac624fa2",
        "IPY_MODEL_dc8b693a0380475a9521504abae7880f",
        "IPY_MODEL_a29de1dc2255428d9d5a96457b6c4510"
       ],
       "layout": "IPY_MODEL_576639d14e234c5d8fd01949c79097ec"
      }
     },
     "64e0b5d82afb46ac87de19dff69373ef": {
      "model_module": "@jupyter-widgets/controls",
      "model_module_version": "1.4.0",
      "model_name": "ToggleButtonsModel",
      "state": {
       "_options_labels": [
        "CTC/IORT",
        "Excessive blood loss"
       ],
       "button_style": "",
       "description": "Procedure:",
       "icons": [],
       "index": 0,
       "layout": "IPY_MODEL_9dcb5d1f094a49d688b225a926a7b89c",
       "style": "IPY_MODEL_807df86a699a40e1983cd3b8766759ff",
       "tooltips": []
      }
     },
     "6506fe8787a74d748a95cb7043dbcb5b": {
      "model_module": "@jupyter-widgets/controls",
      "model_module_version": "1.4.0",
      "model_name": "ButtonModel",
      "state": {
       "description": "Run algorithm",
       "layout": "IPY_MODEL_6806567238204f33b6230eec5bf2a8fe",
       "style": "IPY_MODEL_23b5b10a0bec440a8196e34fe17b9f48"
      }
     },
     "65271b2d6ba04225a86e7fb54c5038e8": {
      "model_module": "@jupyter-widgets/controls",
      "model_module_version": "1.4.0",
      "model_name": "FloatTextModel",
      "state": {
       "description": "$Fibrinogen (g/L)$",
       "layout": "IPY_MODEL_d857eb5388bd4600882575b7770f6db4",
       "step": null,
       "style": "IPY_MODEL_6e7606ca1302492b9a0b0afdd85d2b91",
       "value": "nan"
      }
     },
     "65aa862bee1a4fabaf26944fa9884a62": {
      "model_module": "@jupyter-widgets/base",
      "model_module_version": "1.1.0",
      "model_name": "LayoutModel",
      "state": {}
     },
     "65c40d9701174a49b352245dc16fbb6e": {
      "model_module": "@jupyter-widgets/controls",
      "model_module_version": "1.4.0",
      "model_name": "VBoxModel",
      "state": {
       "children": [
        "IPY_MODEL_7cdaba6e204f4851840686529a909bcb",
        "IPY_MODEL_7ef3128732c740489c12676a641771b5"
       ],
       "layout": "IPY_MODEL_4772e3c29ae24cb2ba05221d0c41a94e"
      }
     },
     "65db046ae1a8492fb83000d715ce0928": {
      "model_module": "@jupyter-widgets/controls",
      "model_module_version": "1.4.0",
      "model_name": "VBoxModel",
      "state": {
       "children": [
        "IPY_MODEL_7cdaba6e204f4851840686529a909bcb",
        "IPY_MODEL_7ef3128732c740489c12676a641771b5"
       ],
       "layout": "IPY_MODEL_bad672d8a651403094d8a2fa7d6c0619"
      }
     },
     "65f24df510a544e4a2c2cfe7179734be": {
      "model_module": "@jupyter-widgets/controls",
      "model_module_version": "1.4.0",
      "model_name": "HBoxModel",
      "state": {
       "children": [
        "IPY_MODEL_2b9491565ba545de9ca537af0a48cb7d",
        "IPY_MODEL_56acf294c6a14538a57a95f6dfef41c0"
       ],
       "layout": "IPY_MODEL_4296ce0f1a544df0901399068dd41828"
      }
     },
     "66038feb2e5f4d9199306dad38e87b74": {
      "model_module": "@jupyter-widgets/base",
      "model_module_version": "1.1.0",
      "model_name": "LayoutModel",
      "state": {}
     },
     "661c3610a9b24ca38c8925fe9438e754": {
      "model_module": "@jupyter-widgets/output",
      "model_module_version": "1.0.0",
      "model_name": "OutputModel",
      "state": {
       "layout": "IPY_MODEL_1a044a1b842b4748ab9b4d806e674f39"
      }
     },
     "6685a0675d55433a83d7846315d195df": {
      "model_module": "@jupyter-widgets/controls",
      "model_module_version": "1.4.0",
      "model_name": "VBoxModel",
      "state": {
       "children": [
        "IPY_MODEL_c3568e1fd01445f298b50ee6d87cabd3",
        "IPY_MODEL_316c9cdc35b0497686a48d15ce5723a7"
       ],
       "layout": "IPY_MODEL_1f1d469d36f94d25929b87e28207e0a3"
      }
     },
     "66f47862741d41c688b8419b9b2ea05c": {
      "model_module": "@jupyter-widgets/controls",
      "model_module_version": "1.4.0",
      "model_name": "DescriptionStyleModel",
      "state": {
       "description_width": "initial"
      }
     },
     "66f69d8f00d946a39962b9a285ecb2ec": {
      "model_module": "@jupyter-widgets/controls",
      "model_module_version": "1.4.0",
      "model_name": "VBoxModel",
      "state": {
       "children": [
        "IPY_MODEL_7cdaba6e204f4851840686529a909bcb",
        "IPY_MODEL_7ef3128732c740489c12676a641771b5"
       ],
       "layout": "IPY_MODEL_16b1ee55b1254fca8a73de4aa139bb25"
      }
     },
     "66f7ed7ddff44cd9b1a693a6a854a08c": {
      "model_module": "@jupyter-widgets/controls",
      "model_module_version": "1.4.0",
      "model_name": "VBoxModel",
      "state": {
       "children": [
        "IPY_MODEL_1103f81083fc4289b0ccf79c73a96165",
        "IPY_MODEL_ed34b3cc5c7f4ced8703474fa35c32a3"
       ],
       "layout": "IPY_MODEL_02d7f0f9bdf343d2bc35c49548871137"
      }
     },
     "673b63a91a7c41cea10440e87b729ad3": {
      "model_module": "@jupyter-widgets/base",
      "model_module_version": "1.1.0",
      "model_name": "LayoutModel",
      "state": {}
     },
     "6747b0e3f00f4c119dd1e4f0d1bd1f1c": {
      "model_module": "@jupyter-widgets/base",
      "model_module_version": "1.1.0",
      "model_name": "LayoutModel",
      "state": {}
     },
     "6748092b77d54fcd9b5082961d63385b": {
      "model_module": "@jupyter-widgets/base",
      "model_module_version": "1.1.0",
      "model_name": "LayoutModel",
      "state": {}
     },
     "67a0c22bb1a6415bb2f03cc74877f880": {
      "model_module": "@jupyter-widgets/controls",
      "model_module_version": "1.4.0",
      "model_name": "VBoxModel",
      "state": {
       "children": [
        "IPY_MODEL_7cdaba6e204f4851840686529a909bcb",
        "IPY_MODEL_7ef3128732c740489c12676a641771b5"
       ],
       "layout": "IPY_MODEL_b38e0833b51a4c12991868b0adbd4779"
      }
     },
     "67ac801ec532400f8b6b89c919746462": {
      "model_module": "@jupyter-widgets/controls",
      "model_module_version": "1.4.0",
      "model_name": "VBoxModel",
      "state": {
       "children": [
        "IPY_MODEL_bccb2496edb84c61afd277e9190bba1e",
        "IPY_MODEL_19f87e9e171c4d48a0926201c18b1e31"
       ],
       "layout": "IPY_MODEL_93e802735a074fdabcf953b34427634b"
      }
     },
     "67c8680b1faa45c6b0009a617e714ff4": {
      "model_module": "@jupyter-widgets/controls",
      "model_module_version": "1.4.0",
      "model_name": "VBoxModel",
      "state": {
       "children": [
        "IPY_MODEL_c1578d17cde34390a10ea30c137e9f27",
        "IPY_MODEL_583c9e86be7d49f3b6ac4cb767e1e688",
        "IPY_MODEL_aa07063666e443dc97ea0bba6dfee03b",
        "IPY_MODEL_d64ebb419a7d4757b8a3499a0e4c07ab",
        "IPY_MODEL_88ba9983c9f2410d9513f064b2bd0a4e",
        "IPY_MODEL_4732a9d1bbf74747993edc5f3be4b325",
        "IPY_MODEL_6a94faccf3c34e84820a75d4ac624fa2",
        "IPY_MODEL_dc8b693a0380475a9521504abae7880f"
       ],
       "layout": "IPY_MODEL_ff9e997e093741ab879ebaf7c8de1ed7"
      }
     },
     "67ece8d59388439eab934ff943228263": {
      "model_module": "@jupyter-widgets/controls",
      "model_module_version": "1.4.0",
      "model_name": "AccordionModel",
      "state": {
       "_titles": {
        "0": "Procedure",
        "1": "Parameters"
       },
       "children": [
        "IPY_MODEL_723a3951bb894f24b2dfe041543ce4c2",
        "IPY_MODEL_bacb19cf9db944ceaaeb4c92b4815e95"
       ],
       "layout": "IPY_MODEL_fd30ba8b890b496d9f3c41cf6b7b40d4",
       "selected_index": 1
      }
     },
     "6806567238204f33b6230eec5bf2a8fe": {
      "model_module": "@jupyter-widgets/base",
      "model_module_version": "1.1.0",
      "model_name": "LayoutModel",
      "state": {}
     },
     "6825503488f2431691681392103db0d7": {
      "model_module": "@jupyter-widgets/controls",
      "model_module_version": "1.4.0",
      "model_name": "DescriptionStyleModel",
      "state": {
       "description_width": "initial"
      }
     },
     "682b445191134d408eae9af9c8531ddf": {
      "model_module": "@jupyter-widgets/base",
      "model_module_version": "1.1.0",
      "model_name": "LayoutModel",
      "state": {}
     },
     "682feb2a935a4eb598d02728fa73e34d": {
      "model_module": "@jupyter-widgets/base",
      "model_module_version": "1.1.0",
      "model_name": "LayoutModel",
      "state": {}
     },
     "68325ad553af44178692e4e2cc98226b": {
      "model_module": "@jupyter-widgets/base",
      "model_module_version": "1.1.0",
      "model_name": "LayoutModel",
      "state": {}
     },
     "685b2dd708f64b5d9139c73dfb349a44": {
      "model_module": "@jupyter-widgets/base",
      "model_module_version": "1.1.0",
      "model_name": "LayoutModel",
      "state": {}
     },
     "68698045c4b443118478444d8b7bd7d4": {
      "model_module": "@jupyter-widgets/controls",
      "model_module_version": "1.4.0",
      "model_name": "DescriptionStyleModel",
      "state": {
       "description_width": "initial"
      }
     },
     "68d6a562e1904abab58ed04cfe99b19c": {
      "model_module": "@jupyter-widgets/controls",
      "model_module_version": "1.4.0",
      "model_name": "FloatTextModel",
      "state": {
       "description": "$PT (s)$",
       "layout": "IPY_MODEL_439f7847e46344d48e094ecf58ae4b34",
       "step": null,
       "style": "IPY_MODEL_950aaf76196b4ac58de5545edf4f70de",
       "value": 130
      }
     },
     "690e7ededcae4c3bbccb8a5a38a5e925": {
      "model_module": "@jupyter-widgets/controls",
      "model_module_version": "1.4.0",
      "model_name": "HBoxModel",
      "state": {
       "children": [
        "IPY_MODEL_6bdcac90883a4b46ad16fe472a863e51"
       ],
       "layout": "IPY_MODEL_56a5f90af44d46aab69828527cc3055d"
      }
     },
     "69298b144d2f4e5da4dfe18cdb703bb0": {
      "model_module": "@jupyter-widgets/base",
      "model_module_version": "1.1.0",
      "model_name": "LayoutModel",
      "state": {}
     },
     "693323b2635f459799f973e3ee4945dc": {
      "model_module": "@jupyter-widgets/controls",
      "model_module_version": "1.4.0",
      "model_name": "VBoxModel",
      "state": {
       "_dom_classes": [
        "widget-interact"
       ],
       "children": [
        "IPY_MODEL_467abf0c84b746629cc02d043f510b3b",
        "IPY_MODEL_f03c702063304900a21b86a1cfc1bc6a",
        "IPY_MODEL_ff2acae77452485ab84e18b41091ce82",
        "IPY_MODEL_85f59b8ac04841dfaa02b062d28f402e",
        "IPY_MODEL_3dc6b39299cb45bd85928756dfe5f459",
        "IPY_MODEL_68d6a562e1904abab58ed04cfe99b19c",
        "IPY_MODEL_8fff40f93750435aa3ec486f0250c736",
        "IPY_MODEL_c1578d17cde34390a10ea30c137e9f27",
        "IPY_MODEL_583c9e86be7d49f3b6ac4cb767e1e688",
        "IPY_MODEL_aa07063666e443dc97ea0bba6dfee03b",
        "IPY_MODEL_d64ebb419a7d4757b8a3499a0e4c07ab",
        "IPY_MODEL_88ba9983c9f2410d9513f064b2bd0a4e",
        "IPY_MODEL_4732a9d1bbf74747993edc5f3be4b325",
        "IPY_MODEL_6a94faccf3c34e84820a75d4ac624fa2",
        "IPY_MODEL_dc8b693a0380475a9521504abae7880f",
        "IPY_MODEL_ab414317a3894448b6ca63904c94b69e"
       ],
       "layout": "IPY_MODEL_920214b9bcf941b98fb9c9b01a4fff7d"
      }
     },
     "69593a5d168440f780dfbcd3b36d9bea": {
      "model_module": "@jupyter-widgets/controls",
      "model_module_version": "1.4.0",
      "model_name": "VBoxModel",
      "state": {
       "children": [
        "IPY_MODEL_c1578d17cde34390a10ea30c137e9f27",
        "IPY_MODEL_583c9e86be7d49f3b6ac4cb767e1e688",
        "IPY_MODEL_aa07063666e443dc97ea0bba6dfee03b",
        "IPY_MODEL_d64ebb419a7d4757b8a3499a0e4c07ab",
        "IPY_MODEL_88ba9983c9f2410d9513f064b2bd0a4e",
        "IPY_MODEL_4732a9d1bbf74747993edc5f3be4b325",
        "IPY_MODEL_6a94faccf3c34e84820a75d4ac624fa2",
        "IPY_MODEL_dc8b693a0380475a9521504abae7880f"
       ],
       "layout": "IPY_MODEL_6124f4c3af90482baf964798fa9e931a"
      }
     },
     "69b9b543300941faa8f5d3c01d695dec": {
      "model_module": "@jupyter-widgets/base",
      "model_module_version": "1.1.0",
      "model_name": "LayoutModel",
      "state": {}
     },
     "6a00bc125c354e0abfe30eb3552a31cd": {
      "model_module": "@jupyter-widgets/base",
      "model_module_version": "1.1.0",
      "model_name": "LayoutModel",
      "state": {}
     },
     "6a050bf2c9ae4f45bce9db2068d8a091": {
      "model_module": "@jupyter-widgets/output",
      "model_module_version": "1.0.0",
      "model_name": "OutputModel",
      "state": {
       "layout": "IPY_MODEL_93c5aa88b18b4c9ebf6914a473115801"
      }
     },
     "6a25274884024ff784136243d4e4c5b7": {
      "model_module": "@jupyter-widgets/controls",
      "model_module_version": "1.4.0",
      "model_name": "ButtonModel",
      "state": {
       "description": "Run algorithm",
       "layout": "IPY_MODEL_b06285aa33904c12bc57f92725be463f",
       "style": "IPY_MODEL_ebe793088b1f406285724dbf0f956cd8"
      }
     },
     "6a26313d57374490bc73ba573f421663": {
      "model_module": "@jupyter-widgets/base",
      "model_module_version": "1.1.0",
      "model_name": "LayoutModel",
      "state": {}
     },
     "6a33072ee91941d0b9ad602975ac8668": {
      "model_module": "@jupyter-widgets/controls",
      "model_module_version": "1.4.0",
      "model_name": "VBoxModel",
      "state": {
       "children": [
        "IPY_MODEL_c1578d17cde34390a10ea30c137e9f27",
        "IPY_MODEL_583c9e86be7d49f3b6ac4cb767e1e688",
        "IPY_MODEL_aa07063666e443dc97ea0bba6dfee03b",
        "IPY_MODEL_d64ebb419a7d4757b8a3499a0e4c07ab",
        "IPY_MODEL_88ba9983c9f2410d9513f064b2bd0a4e",
        "IPY_MODEL_4732a9d1bbf74747993edc5f3be4b325",
        "IPY_MODEL_6a94faccf3c34e84820a75d4ac624fa2",
        "IPY_MODEL_dc8b693a0380475a9521504abae7880f"
       ],
       "layout": "IPY_MODEL_f1ce22b19d3246cb8cd7037529659634"
      }
     },
     "6a3c01ba3488477f95a3ca312726fc64": {
      "model_module": "@jupyter-widgets/base",
      "model_module_version": "1.1.0",
      "model_name": "LayoutModel",
      "state": {}
     },
     "6a59d48f849d4b36973464e991232608": {
      "model_module": "@jupyter-widgets/controls",
      "model_module_version": "1.4.0",
      "model_name": "ButtonModel",
      "state": {
       "description": "Run algorithm",
       "layout": "IPY_MODEL_9161d60516cc4f4ab4c0a2f2ccc1f1e0",
       "style": "IPY_MODEL_f2bf40afa87e47d7bc0992bd0dafe052"
      }
     },
     "6a7203afe3a74654b5afc85a96029003": {
      "model_module": "@jupyter-widgets/controls",
      "model_module_version": "1.4.0",
      "model_name": "HBoxModel",
      "state": {
       "children": [
        "IPY_MODEL_cb9f8925a9a8430594f1b46d256f94e3"
       ],
       "layout": "IPY_MODEL_6e9e194204de472e8dce462aac80c981"
      }
     },
     "6a8f97d0bd3a4157bfad2eebfecd6fb9": {
      "model_module": "@jupyter-widgets/base",
      "model_module_version": "1.1.0",
      "model_name": "LayoutModel",
      "state": {}
     },
     "6a94faccf3c34e84820a75d4ac624fa2": {
      "model_module": "@jupyter-widgets/controls",
      "model_module_version": "1.4.0",
      "model_name": "FloatTextModel",
      "state": {
       "description": "$CT_{Heptem} (s)$",
       "layout": "IPY_MODEL_727dd09d16234df48296c831733018fc",
       "step": null,
       "style": "IPY_MODEL_ea0c05abca6d487b90ddb528c1ec4cf6",
       "value": 230
      }
     },
     "6aa051bb5d2945cf9bb8a40bb9b60502": {
      "model_module": "@jupyter-widgets/base",
      "model_module_version": "1.1.0",
      "model_name": "LayoutModel",
      "state": {}
     },
     "6ac17f17b5ee489a8018d5cf8ded52fc": {
      "model_module": "@jupyter-widgets/base",
      "model_module_version": "1.1.0",
      "model_name": "LayoutModel",
      "state": {}
     },
     "6aca9273dd544413aacc788b63ee8a06": {
      "model_module": "@jupyter-widgets/controls",
      "model_module_version": "1.4.0",
      "model_name": "AccordionModel",
      "state": {
       "_titles": {
        "0": "Procedure",
        "1": "Parameters"
       },
       "children": [
        "IPY_MODEL_61fc61e4b1074d7191b60496089974bc",
        "IPY_MODEL_ea43d787cb714991b680355ddc962a1d"
       ],
       "layout": "IPY_MODEL_920b777249724aed8e959b36a68806fd",
       "selected_index": 1
      }
     },
     "6ace0d81c62e4765bea943db4d9b9442": {
      "model_module": "@jupyter-widgets/base",
      "model_module_version": "1.1.0",
      "model_name": "LayoutModel",
      "state": {}
     },
     "6b33040ee83c49ee8c37b6e32c65526b": {
      "model_module": "@jupyter-widgets/base",
      "model_module_version": "1.1.0",
      "model_name": "LayoutModel",
      "state": {}
     },
     "6b47e3ee9caa453aad3800a6741edbc4": {
      "model_module": "@jupyter-widgets/controls",
      "model_module_version": "1.4.0",
      "model_name": "HBoxModel",
      "state": {
       "children": [
        "IPY_MODEL_ee8e57ea9b6c4f1b82771b9b18dd9191",
        "IPY_MODEL_a143867cd03a4d6181b252a536a3ec9c"
       ],
       "layout": "IPY_MODEL_81b310bdee104a5b8417c9c94835aa88"
      }
     },
     "6bc3b66586834bea8eb4a4173ccc8acd": {
      "model_module": "@jupyter-widgets/controls",
      "model_module_version": "1.4.0",
      "model_name": "ToggleButtonsStyleModel",
      "state": {
       "button_width": "",
       "description_width": ""
      }
     },
     "6bda28d6111346e4b16e030ba4c83dc9": {
      "model_module": "@jupyter-widgets/base",
      "model_module_version": "1.1.0",
      "model_name": "LayoutModel",
      "state": {}
     },
     "6bdcac90883a4b46ad16fe472a863e51": {
      "model_module": "@jupyter-widgets/controls",
      "model_module_version": "1.4.0",
      "model_name": "VBoxModel",
      "state": {
       "children": [
        "IPY_MODEL_7830bb58c13d4b40b383d199101a2a22",
        "IPY_MODEL_13ea7b3345cb485c9f648a46627c2393"
       ],
       "layout": "IPY_MODEL_6367c1b433764cba846e6613e504e097"
      }
     },
     "6c08dcfcb9f34886aa36a1663db8828a": {
      "model_module": "@jupyter-widgets/controls",
      "model_module_version": "1.4.0",
      "model_name": "VBoxModel",
      "state": {
       "children": [
        "IPY_MODEL_bdcece90695f4cd3b9a58dd9746d3ad9",
        "IPY_MODEL_eb758f0fc99f419f8f34a1bd4436913b"
       ],
       "layout": "IPY_MODEL_3a6b6e6393bb4eadb79b24cfe087c6be"
      }
     },
     "6c12586b25e942cc99030d3dfec5d893": {
      "model_module": "@jupyter-widgets/controls",
      "model_module_version": "1.4.0",
      "model_name": "ButtonModel",
      "state": {
       "description": "Run algorithm",
       "layout": "IPY_MODEL_24024b8f227b4428881ad9ca0b32daf8",
       "style": "IPY_MODEL_adcb0230243446f79bbeca71f26dd01c"
      }
     },
     "6c129cefbf1a401594835364efe88374": {
      "model_module": "@jupyter-widgets/base",
      "model_module_version": "1.1.0",
      "model_name": "LayoutModel",
      "state": {}
     },
     "6c2d0d694549488e98232450364c0161": {
      "model_module": "@jupyter-widgets/base",
      "model_module_version": "1.1.0",
      "model_name": "LayoutModel",
      "state": {}
     },
     "6cc1e51c9fa74cf7bc6d804b53f38902": {
      "model_module": "@jupyter-widgets/controls",
      "model_module_version": "1.4.0",
      "model_name": "VBoxModel",
      "state": {
       "children": [
        "IPY_MODEL_467abf0c84b746629cc02d043f510b3b",
        "IPY_MODEL_f03c702063304900a21b86a1cfc1bc6a",
        "IPY_MODEL_ff2acae77452485ab84e18b41091ce82",
        "IPY_MODEL_85f59b8ac04841dfaa02b062d28f402e",
        "IPY_MODEL_3dc6b39299cb45bd85928756dfe5f459",
        "IPY_MODEL_68d6a562e1904abab58ed04cfe99b19c",
        "IPY_MODEL_8fff40f93750435aa3ec486f0250c736"
       ],
       "layout": "IPY_MODEL_22179da151454ea093d14b4f4bc0041e"
      }
     },
     "6cca2dcf9b2f4846b42df4285af687e5": {
      "model_module": "@jupyter-widgets/base",
      "model_module_version": "1.1.0",
      "model_name": "LayoutModel",
      "state": {}
     },
     "6cd3c89fc7d2438bbabea9d94b09d8ff": {
      "model_module": "@jupyter-widgets/base",
      "model_module_version": "1.1.0",
      "model_name": "LayoutModel",
      "state": {}
     },
     "6cd484c409f14624a863295b65249bd9": {
      "model_module": "@jupyter-widgets/base",
      "model_module_version": "1.1.0",
      "model_name": "LayoutModel",
      "state": {}
     },
     "6cdd1db25115492f84c7661ef6e7512a": {
      "model_module": "@jupyter-widgets/controls",
      "model_module_version": "1.4.0",
      "model_name": "AccordionModel",
      "state": {
       "_titles": {
        "0": "Procedure",
        "1": "Parameters"
       },
       "children": [
        "IPY_MODEL_54cdb51e5279498db3fbeee478487db1",
        "IPY_MODEL_969bbd78e6ae4b26886a8cf7717b0871"
       ],
       "layout": "IPY_MODEL_198592abf9974315b91998b9ce958654",
       "selected_index": 1
      }
     },
     "6d377b5266e746b7a4c7c10a13f3b9d2": {
      "model_module": "@jupyter-widgets/base",
      "model_module_version": "1.1.0",
      "model_name": "LayoutModel",
      "state": {}
     },
     "6d39d3b2a64b473db12e54c41a7fcab1": {
      "model_module": "@jupyter-widgets/controls",
      "model_module_version": "1.4.0",
      "model_name": "VBoxModel",
      "state": {
       "children": [
        "IPY_MODEL_c1578d17cde34390a10ea30c137e9f27",
        "IPY_MODEL_583c9e86be7d49f3b6ac4cb767e1e688",
        "IPY_MODEL_aa07063666e443dc97ea0bba6dfee03b",
        "IPY_MODEL_d64ebb419a7d4757b8a3499a0e4c07ab",
        "IPY_MODEL_88ba9983c9f2410d9513f064b2bd0a4e",
        "IPY_MODEL_4732a9d1bbf74747993edc5f3be4b325",
        "IPY_MODEL_6a94faccf3c34e84820a75d4ac624fa2",
        "IPY_MODEL_dc8b693a0380475a9521504abae7880f"
       ],
       "layout": "IPY_MODEL_0007bcd40fd3441e9e2d9952721ad2bb"
      }
     },
     "6d3eb6669ff9461c9129144b77bb5a1a": {
      "model_module": "@jupyter-widgets/base",
      "model_module_version": "1.1.0",
      "model_name": "LayoutModel",
      "state": {}
     },
     "6d83a0e3091142f7ba3be0e438c44d0b": {
      "model_module": "@jupyter-widgets/base",
      "model_module_version": "1.1.0",
      "model_name": "LayoutModel",
      "state": {}
     },
     "6d9d241ad133409494fc5e0685f29caa": {
      "model_module": "@jupyter-widgets/controls",
      "model_module_version": "1.4.0",
      "model_name": "VBoxModel",
      "state": {
       "children": [
        "IPY_MODEL_467abf0c84b746629cc02d043f510b3b",
        "IPY_MODEL_f03c702063304900a21b86a1cfc1bc6a",
        "IPY_MODEL_ff2acae77452485ab84e18b41091ce82",
        "IPY_MODEL_85f59b8ac04841dfaa02b062d28f402e",
        "IPY_MODEL_3dc6b39299cb45bd85928756dfe5f459",
        "IPY_MODEL_68d6a562e1904abab58ed04cfe99b19c",
        "IPY_MODEL_8fff40f93750435aa3ec486f0250c736"
       ],
       "layout": "IPY_MODEL_d6a3943af0a747ce9f932d70c916d410"
      }
     },
     "6da029249c134b6db670719ee365e7ce": {
      "model_module": "@jupyter-widgets/base",
      "model_module_version": "1.1.0",
      "model_name": "LayoutModel",
      "state": {}
     },
     "6e0a3eb4164c40e38d7720919670e2ce": {
      "model_module": "@jupyter-widgets/controls",
      "model_module_version": "1.4.0",
      "model_name": "VBoxModel",
      "state": {
       "children": [
        "IPY_MODEL_3e791e2f76494ce687ecefcf5bb4f322",
        "IPY_MODEL_6260dba9debc4edbbc6c2b12b5d687ae"
       ],
       "layout": "IPY_MODEL_47ac729a01f548e7a0c8ebe9c157576b"
      }
     },
     "6e307797d8e6496aa70228f967cb7cc6": {
      "model_module": "@jupyter-widgets/base",
      "model_module_version": "1.1.0",
      "model_name": "LayoutModel",
      "state": {}
     },
     "6e416ba78fd94e98a5f25b579b30d49d": {
      "model_module": "@jupyter-widgets/base",
      "model_module_version": "1.1.0",
      "model_name": "LayoutModel",
      "state": {}
     },
     "6e7606ca1302492b9a0b0afdd85d2b91": {
      "model_module": "@jupyter-widgets/controls",
      "model_module_version": "1.4.0",
      "model_name": "DescriptionStyleModel",
      "state": {
       "description_width": "initial"
      }
     },
     "6e9e194204de472e8dce462aac80c981": {
      "model_module": "@jupyter-widgets/base",
      "model_module_version": "1.1.0",
      "model_name": "LayoutModel",
      "state": {}
     },
     "6ecad1f2f5b048f4b6d8f9615c52d17c": {
      "model_module": "@jupyter-widgets/controls",
      "model_module_version": "1.4.0",
      "model_name": "FloatTextModel",
      "state": {
       "description": "$CT_{Extem} (s)$",
       "layout": "IPY_MODEL_a3ebc514af1445e0bf8a28f5e0e8b605",
       "step": null,
       "style": "IPY_MODEL_3258e7d9b0c8421ea57dd638f55a35cf",
       "value": "nan"
      }
     },
     "6edcc837fdc8443a8648274add7b1eec": {
      "model_module": "@jupyter-widgets/controls",
      "model_module_version": "1.4.0",
      "model_name": "VBoxModel",
      "state": {
       "_dom_classes": [
        "widget-interact"
       ],
       "children": [
        "IPY_MODEL_7cdaba6e204f4851840686529a909bcb",
        "IPY_MODEL_7ef3128732c740489c12676a641771b5",
        "IPY_MODEL_16a23a723c604641af0fca657e920532"
       ],
       "layout": "IPY_MODEL_0cd2da172354472cb2dabfd033c3cf32"
      }
     },
     "6ee51427d3914a2fb938b08c5c004b2d": {
      "model_module": "@jupyter-widgets/controls",
      "model_module_version": "1.4.0",
      "model_name": "ButtonStyleModel",
      "state": {}
     },
     "6f039c6988354bfa875482d42e2ab504": {
      "model_module": "@jupyter-widgets/output",
      "model_module_version": "1.0.0",
      "model_name": "OutputModel",
      "state": {
       "layout": "IPY_MODEL_5759bab6328644cab444cfef35ad0cc3"
      }
     },
     "6f219c2c238942e1a3bccd2e25866a9f": {
      "model_module": "@jupyter-widgets/controls",
      "model_module_version": "1.4.0",
      "model_name": "VBoxModel",
      "state": {
       "children": [
        "IPY_MODEL_467abf0c84b746629cc02d043f510b3b",
        "IPY_MODEL_f03c702063304900a21b86a1cfc1bc6a",
        "IPY_MODEL_ff2acae77452485ab84e18b41091ce82",
        "IPY_MODEL_85f59b8ac04841dfaa02b062d28f402e",
        "IPY_MODEL_3dc6b39299cb45bd85928756dfe5f459",
        "IPY_MODEL_68d6a562e1904abab58ed04cfe99b19c",
        "IPY_MODEL_8fff40f93750435aa3ec486f0250c736"
       ],
       "layout": "IPY_MODEL_75f198ac681946d88c3a902d718d1874"
      }
     },
     "6f720c43a3de44f7aed5caeea1fce42b": {
      "model_module": "@jupyter-widgets/output",
      "model_module_version": "1.0.0",
      "model_name": "OutputModel",
      "state": {
       "layout": "IPY_MODEL_41c0c1da08ea46e490f9ecc68c832526"
      }
     },
     "6f9315a7eb304bb68f7addac434e6fb7": {
      "model_module": "@jupyter-widgets/controls",
      "model_module_version": "1.4.0",
      "model_name": "ButtonStyleModel",
      "state": {}
     },
     "6f9cd7701864476085e4394098e42bb4": {
      "model_module": "@jupyter-widgets/output",
      "model_module_version": "1.0.0",
      "model_name": "OutputModel",
      "state": {
       "layout": "IPY_MODEL_6cd484c409f14624a863295b65249bd9"
      }
     },
     "6fcb902498eb40849eaf3da3d38b709d": {
      "model_module": "@jupyter-widgets/controls",
      "model_module_version": "1.4.0",
      "model_name": "VBoxModel",
      "state": {
       "_dom_classes": [
        "widget-interact"
       ],
       "children": [
        "IPY_MODEL_467abf0c84b746629cc02d043f510b3b",
        "IPY_MODEL_f03c702063304900a21b86a1cfc1bc6a",
        "IPY_MODEL_ff2acae77452485ab84e18b41091ce82",
        "IPY_MODEL_85f59b8ac04841dfaa02b062d28f402e",
        "IPY_MODEL_3dc6b39299cb45bd85928756dfe5f459",
        "IPY_MODEL_68d6a562e1904abab58ed04cfe99b19c",
        "IPY_MODEL_8fff40f93750435aa3ec486f0250c736",
        "IPY_MODEL_c1578d17cde34390a10ea30c137e9f27",
        "IPY_MODEL_583c9e86be7d49f3b6ac4cb767e1e688",
        "IPY_MODEL_aa07063666e443dc97ea0bba6dfee03b",
        "IPY_MODEL_d64ebb419a7d4757b8a3499a0e4c07ab",
        "IPY_MODEL_88ba9983c9f2410d9513f064b2bd0a4e",
        "IPY_MODEL_4732a9d1bbf74747993edc5f3be4b325",
        "IPY_MODEL_6a94faccf3c34e84820a75d4ac624fa2",
        "IPY_MODEL_dc8b693a0380475a9521504abae7880f",
        "IPY_MODEL_7d41a8af6f1d45d7b9ac627fc5ba434e"
       ],
       "layout": "IPY_MODEL_46620a583ccd419db9d8633cedc4f059"
      }
     },
     "6fda3ed142d9422d864efd209b72b8bf": {
      "model_module": "@jupyter-widgets/base",
      "model_module_version": "1.1.0",
      "model_name": "LayoutModel",
      "state": {}
     },
     "70163676491c4e8ca8c34d3630b33c81": {
      "model_module": "@jupyter-widgets/controls",
      "model_module_version": "1.4.0",
      "model_name": "HBoxModel",
      "state": {
       "children": [
        "IPY_MODEL_90be4af6f59b4a83bb749d4a7f1236b4",
        "IPY_MODEL_b49ce2d84fa9455db216ba04807bede4"
       ],
       "layout": "IPY_MODEL_7285d71d37974a98a5809f06fd5ddbfd"
      }
     },
     "702b8fb0ea3d4bc7b5f0fb4ebd70a3f9": {
      "model_module": "@jupyter-widgets/output",
      "model_module_version": "1.0.0",
      "model_name": "OutputModel",
      "state": {
       "layout": "IPY_MODEL_30a55bd0c3694520b2532e36214d2406"
      }
     },
     "70969a980b124510a393eee51ea1e7f3": {
      "model_module": "@jupyter-widgets/base",
      "model_module_version": "1.1.0",
      "model_name": "LayoutModel",
      "state": {}
     },
     "70d1b0d829aa4d7c98a7630fd7875111": {
      "model_module": "@jupyter-widgets/base",
      "model_module_version": "1.1.0",
      "model_name": "LayoutModel",
      "state": {}
     },
     "7161623dd528454381d881bd86fd914e": {
      "model_module": "@jupyter-widgets/base",
      "model_module_version": "1.1.0",
      "model_name": "LayoutModel",
      "state": {}
     },
     "716d682b7194402787346747676b8f83": {
      "model_module": "@jupyter-widgets/controls",
      "model_module_version": "1.4.0",
      "model_name": "ButtonModel",
      "state": {
       "description": "Run algorithm",
       "layout": "IPY_MODEL_486aee3a7657494a996ddcaa86e7f3b6",
       "style": "IPY_MODEL_374dc96d17344d6fae57c328ec973696"
      }
     },
     "7177f2406f234b38ac18be4da526e8f9": {
      "model_module": "@jupyter-widgets/controls",
      "model_module_version": "1.4.0",
      "model_name": "VBoxModel",
      "state": {
       "children": [
        "IPY_MODEL_c1578d17cde34390a10ea30c137e9f27",
        "IPY_MODEL_583c9e86be7d49f3b6ac4cb767e1e688",
        "IPY_MODEL_aa07063666e443dc97ea0bba6dfee03b",
        "IPY_MODEL_d64ebb419a7d4757b8a3499a0e4c07ab",
        "IPY_MODEL_88ba9983c9f2410d9513f064b2bd0a4e",
        "IPY_MODEL_4732a9d1bbf74747993edc5f3be4b325",
        "IPY_MODEL_6a94faccf3c34e84820a75d4ac624fa2",
        "IPY_MODEL_dc8b693a0380475a9521504abae7880f"
       ],
       "layout": "IPY_MODEL_c8ad5e86b56c406e8458aca092c8a6b1"
      }
     },
     "71a829fd83ba4c5dacda78c1dbeb4554": {
      "model_module": "@jupyter-widgets/controls",
      "model_module_version": "1.4.0",
      "model_name": "VBoxModel",
      "state": {
       "children": [
        "IPY_MODEL_c1578d17cde34390a10ea30c137e9f27",
        "IPY_MODEL_583c9e86be7d49f3b6ac4cb767e1e688",
        "IPY_MODEL_aa07063666e443dc97ea0bba6dfee03b",
        "IPY_MODEL_d64ebb419a7d4757b8a3499a0e4c07ab",
        "IPY_MODEL_88ba9983c9f2410d9513f064b2bd0a4e",
        "IPY_MODEL_4732a9d1bbf74747993edc5f3be4b325",
        "IPY_MODEL_6a94faccf3c34e84820a75d4ac624fa2",
        "IPY_MODEL_dc8b693a0380475a9521504abae7880f"
       ],
       "layout": "IPY_MODEL_f802a6fbf1d2439f97c689a0081cfc6a"
      }
     },
     "71c2a43235b3440dac55cf699db10d47": {
      "model_module": "@jupyter-widgets/controls",
      "model_module_version": "1.4.0",
      "model_name": "HBoxModel",
      "state": {
       "children": [
        "IPY_MODEL_0f19bc919c2d4d3dadb48fb13608e2f0",
        "IPY_MODEL_acf11a984a9d4c289863d43b2ee38a3a"
       ],
       "layout": "IPY_MODEL_c43dd94add8c412da7a6e3d396230a53"
      }
     },
     "720b3e5df7274ce6a6b4f845b4f56961": {
      "model_module": "@jupyter-widgets/base",
      "model_module_version": "1.1.0",
      "model_name": "LayoutModel",
      "state": {}
     },
     "720cce4c5d8345878153c463c98fe079": {
      "model_module": "@jupyter-widgets/base",
      "model_module_version": "1.1.0",
      "model_name": "LayoutModel",
      "state": {}
     },
     "723a3951bb894f24b2dfe041543ce4c2": {
      "model_module": "@jupyter-widgets/controls",
      "model_module_version": "1.4.0",
      "model_name": "VBoxModel",
      "state": {
       "children": [
        "IPY_MODEL_7cdaba6e204f4851840686529a909bcb",
        "IPY_MODEL_7ef3128732c740489c12676a641771b5"
       ],
       "layout": "IPY_MODEL_7be80ae71e084171985be39e47eb646a"
      }
     },
     "7251115c117b4cbb8d45b882921c8ae3": {
      "model_module": "@jupyter-widgets/output",
      "model_module_version": "1.0.0",
      "model_name": "OutputModel",
      "state": {
       "layout": "IPY_MODEL_4673a9fb2ea04aafb49183d7b4c9941d"
      }
     },
     "727dd09d16234df48296c831733018fc": {
      "model_module": "@jupyter-widgets/base",
      "model_module_version": "1.1.0",
      "model_name": "LayoutModel",
      "state": {}
     },
     "728165b05fb941899a9029da435301c4": {
      "model_module": "@jupyter-widgets/base",
      "model_module_version": "1.1.0",
      "model_name": "LayoutModel",
      "state": {}
     },
     "7285d71d37974a98a5809f06fd5ddbfd": {
      "model_module": "@jupyter-widgets/base",
      "model_module_version": "1.1.0",
      "model_name": "LayoutModel",
      "state": {}
     },
     "72a235e2859d43b1bb2361d22de1aa02": {
      "model_module": "@jupyter-widgets/base",
      "model_module_version": "1.1.0",
      "model_name": "LayoutModel",
      "state": {}
     },
     "72afaea95441414697c6b18fae4f9ab1": {
      "model_module": "@jupyter-widgets/base",
      "model_module_version": "1.1.0",
      "model_name": "LayoutModel",
      "state": {}
     },
     "72dbe41c397f417099ddc97866bdc5b3": {
      "model_module": "@jupyter-widgets/base",
      "model_module_version": "1.1.0",
      "model_name": "LayoutModel",
      "state": {}
     },
     "737c86f4a0e44856a10ab535b498c6c9": {
      "model_module": "@jupyter-widgets/base",
      "model_module_version": "1.1.0",
      "model_name": "LayoutModel",
      "state": {}
     },
     "73c21c0d8fa5487c9396ed115367f348": {
      "model_module": "@jupyter-widgets/controls",
      "model_module_version": "1.4.0",
      "model_name": "VBoxModel",
      "state": {
       "children": [
        "IPY_MODEL_f61d435117d74573bc3d4630b0f84dba",
        "IPY_MODEL_aadc4db50eb0486da7467b8cf01c7913",
        "IPY_MODEL_ee5c3b89271e4608976d431a63a66ab1",
        "IPY_MODEL_b9e1291c6cb94a86a598c059b30fe761",
        "IPY_MODEL_d6c2ca28bfdc4a3f8c49d4233989c585",
        "IPY_MODEL_49205334f4d94208a07fb8687d17b460",
        "IPY_MODEL_cbac82ff859a4943b528daff0881c889"
       ],
       "layout": "IPY_MODEL_a910360272764fb68f0ca7e916fc302c"
      }
     },
     "74939404fbdf4d6ea17dd43793fd90a4": {
      "model_module": "@jupyter-widgets/controls",
      "model_module_version": "1.4.0",
      "model_name": "VBoxModel",
      "state": {
       "children": [
        "IPY_MODEL_34a33d93091d40d4887d45bd9089e3f6",
        "IPY_MODEL_51b65abc305d41dd8080d7e790041e78"
       ],
       "layout": "IPY_MODEL_8b06efcf709a4eb6923bf836a44c4c23"
      }
     },
     "74c3201760234ffd97bf2727d96340c6": {
      "model_module": "@jupyter-widgets/base",
      "model_module_version": "1.1.0",
      "model_name": "LayoutModel",
      "state": {}
     },
     "74fa62233d294470a78588b4ac6546fe": {
      "model_module": "@jupyter-widgets/controls",
      "model_module_version": "1.4.0",
      "model_name": "ButtonModel",
      "state": {
       "description": "Run algorithm",
       "layout": "IPY_MODEL_d18d7776f11e4aa99142e24afe2de0d9",
       "style": "IPY_MODEL_9c9271e84c6f4b98bcbd1c6951db8d42"
      }
     },
     "756ac640eaee43879a4356532752b197": {
      "model_module": "@jupyter-widgets/controls",
      "model_module_version": "1.4.0",
      "model_name": "VBoxModel",
      "state": {
       "_dom_classes": [
        "widget-interact"
       ],
       "children": [
        "IPY_MODEL_7cdaba6e204f4851840686529a909bcb",
        "IPY_MODEL_7ef3128732c740489c12676a641771b5",
        "IPY_MODEL_1f801cc400d04346b9e613921ff2b4ea"
       ],
       "layout": "IPY_MODEL_91622fa840cb4e6da1167226abbd80e9"
      }
     },
     "758c3257d0214561a4eda9299b532c89": {
      "model_module": "@jupyter-widgets/controls",
      "model_module_version": "1.4.0",
      "model_name": "VBoxModel",
      "state": {
       "children": [
        "IPY_MODEL_7cdaba6e204f4851840686529a909bcb",
        "IPY_MODEL_7ef3128732c740489c12676a641771b5"
       ],
       "layout": "IPY_MODEL_720b3e5df7274ce6a6b4f845b4f56961"
      }
     },
     "75bd41701b8347d8bb8d7c73d61545b7": {
      "model_module": "@jupyter-widgets/base",
      "model_module_version": "1.1.0",
      "model_name": "LayoutModel",
      "state": {}
     },
     "75f198ac681946d88c3a902d718d1874": {
      "model_module": "@jupyter-widgets/base",
      "model_module_version": "1.1.0",
      "model_name": "LayoutModel",
      "state": {}
     },
     "76209656b7984d0289aa721823263ac8": {
      "model_module": "@jupyter-widgets/controls",
      "model_module_version": "1.4.0",
      "model_name": "AccordionModel",
      "state": {
       "_titles": {
        "0": "Procedure",
        "1": "Parameters"
       },
       "children": [
        "IPY_MODEL_f39386a9015e4102927b6e15367fbeae",
        "IPY_MODEL_a63800f51be347d88657e6eb8e8bddef"
       ],
       "layout": "IPY_MODEL_96974256316d469ea3135e2be6a89764",
       "selected_index": 1
      }
     },
     "7646907c240242d392578e53ab5dc167": {
      "model_module": "@jupyter-widgets/base",
      "model_module_version": "1.1.0",
      "model_name": "LayoutModel",
      "state": {}
     },
     "7662cd31aa3a49ae8762f5d64b50a7fa": {
      "model_module": "@jupyter-widgets/base",
      "model_module_version": "1.1.0",
      "model_name": "LayoutModel",
      "state": {}
     },
     "768ec8b9654b422ca49ea2b77527c114": {
      "model_module": "@jupyter-widgets/base",
      "model_module_version": "1.1.0",
      "model_name": "LayoutModel",
      "state": {}
     },
     "76bcc30cd1b0403cb2b21adb11fc2fcf": {
      "model_module": "@jupyter-widgets/base",
      "model_module_version": "1.1.0",
      "model_name": "LayoutModel",
      "state": {}
     },
     "76ebf82bc1d34fbd8e5a8b797dcea8bb": {
      "model_module": "@jupyter-widgets/base",
      "model_module_version": "1.1.0",
      "model_name": "LayoutModel",
      "state": {}
     },
     "76ef3d46728947aab88c3a5833b14a48": {
      "model_module": "@jupyter-widgets/controls",
      "model_module_version": "1.4.0",
      "model_name": "AccordionModel",
      "state": {
       "_titles": {
        "0": "Procedure",
        "1": "Parameters"
       },
       "children": [
        "IPY_MODEL_d9378e8d5001419da77aa0864145fda2",
        "IPY_MODEL_2f331e0a94844d1aa1f579b0ee0f1feb"
       ],
       "layout": "IPY_MODEL_9148619631f04f2290a63c224a50048a",
       "selected_index": 1
      }
     },
     "771aa6fb27ed41daa006564165d61f43": {
      "model_module": "@jupyter-widgets/output",
      "model_module_version": "1.0.0",
      "model_name": "OutputModel",
      "state": {
       "layout": "IPY_MODEL_dcb723c10fe046d7ba8ba5ce9d6f7c96"
      }
     },
     "772dc8b37d0642f78da671353cfb49d2": {
      "model_module": "@jupyter-widgets/base",
      "model_module_version": "1.1.0",
      "model_name": "LayoutModel",
      "state": {}
     },
     "773dcd103ab0481692ac69fbf26ba145": {
      "model_module": "@jupyter-widgets/base",
      "model_module_version": "1.1.0",
      "model_name": "LayoutModel",
      "state": {}
     },
     "775db44900cb478d8480661d218711ad": {
      "model_module": "@jupyter-widgets/controls",
      "model_module_version": "1.4.0",
      "model_name": "HBoxModel",
      "state": {
       "children": [
        "IPY_MODEL_4e00fc0f6bde4745b347fb11c0456e52"
       ],
       "layout": "IPY_MODEL_d6e9b7df5c2940928cb9fc8f34836e4b"
      }
     },
     "775e6b07218943a3b9ccef3772b23230": {
      "model_module": "@jupyter-widgets/base",
      "model_module_version": "1.1.0",
      "model_name": "LayoutModel",
      "state": {}
     },
     "77aa6e7f39884de8855b75b7f3941160": {
      "model_module": "@jupyter-widgets/controls",
      "model_module_version": "1.4.0",
      "model_name": "VBoxModel",
      "state": {
       "children": [
        "IPY_MODEL_467abf0c84b746629cc02d043f510b3b",
        "IPY_MODEL_f03c702063304900a21b86a1cfc1bc6a",
        "IPY_MODEL_ff2acae77452485ab84e18b41091ce82",
        "IPY_MODEL_85f59b8ac04841dfaa02b062d28f402e",
        "IPY_MODEL_3dc6b39299cb45bd85928756dfe5f459",
        "IPY_MODEL_68d6a562e1904abab58ed04cfe99b19c",
        "IPY_MODEL_8fff40f93750435aa3ec486f0250c736"
       ],
       "layout": "IPY_MODEL_0cfb78d9bf32409282cb1876cd07b389"
      }
     },
     "77e23a34584b4fa08c6e302eae1d7d79": {
      "model_module": "@jupyter-widgets/base",
      "model_module_version": "1.1.0",
      "model_name": "LayoutModel",
      "state": {}
     },
     "7830bb58c13d4b40b383d199101a2a22": {
      "model_module": "@jupyter-widgets/controls",
      "model_module_version": "1.4.0",
      "model_name": "AccordionModel",
      "state": {
       "_titles": {
        "0": "Procedure",
        "1": "Parameters"
       },
       "children": [
        "IPY_MODEL_36779758ce4d44d1ba944db8bf703a89",
        "IPY_MODEL_cd9a95ed76864c048316878234278ff4"
       ],
       "layout": "IPY_MODEL_ca47df8710474f25b16c6af8d217836a",
       "selected_index": 1
      }
     },
     "786274f2f6314804b8db306ee42091a3": {
      "model_module": "@jupyter-widgets/controls",
      "model_module_version": "1.4.0",
      "model_name": "ButtonModel",
      "state": {
       "description": "Run algorithm",
       "layout": "IPY_MODEL_e44688f6a376484b92d122d6ab8947ec",
       "style": "IPY_MODEL_9a64d7d3d5d54596b90ee69a5eae3345"
      }
     },
     "78996ead99494ec08574948a3b1e9dec": {
      "model_module": "@jupyter-widgets/base",
      "model_module_version": "1.1.0",
      "model_name": "LayoutModel",
      "state": {}
     },
     "78aa4096274a4cd388d4e8e6508ae3b1": {
      "model_module": "@jupyter-widgets/base",
      "model_module_version": "1.1.0",
      "model_name": "LayoutModel",
      "state": {}
     },
     "78c1adf0a92940e397d9b6e635a164bf": {
      "model_module": "@jupyter-widgets/controls",
      "model_module_version": "1.4.0",
      "model_name": "FloatTextModel",
      "state": {
       "description": "$PT_{Heparinase} (s)$",
       "layout": "IPY_MODEL_22e1d5a721da44008ae2379db9c3bbbc",
       "step": null,
       "style": "IPY_MODEL_8f146035c52242e58d3303186c5dd64d",
       "value": 16.7
      }
     },
     "78de0a266954440f8f484ac7b9eafbd8": {
      "model_module": "@jupyter-widgets/controls",
      "model_module_version": "1.4.0",
      "model_name": "ButtonModel",
      "state": {
       "description": "Run algorithm",
       "layout": "IPY_MODEL_7c19f8bbc89f45679eed707f3fc93247",
       "style": "IPY_MODEL_a398c126a29d451eaa628ba161d2d359"
      }
     },
     "7927fa83ab784b4da51442ba969252e1": {
      "model_module": "@jupyter-widgets/base",
      "model_module_version": "1.1.0",
      "model_name": "LayoutModel",
      "state": {}
     },
     "7936f87fca8042c7843c2cdcb284a508": {
      "model_module": "@jupyter-widgets/controls",
      "model_module_version": "1.4.0",
      "model_name": "VBoxModel",
      "state": {
       "_dom_classes": [
        "widget-interact"
       ],
       "children": [
        "IPY_MODEL_7cdaba6e204f4851840686529a909bcb",
        "IPY_MODEL_7ef3128732c740489c12676a641771b5",
        "IPY_MODEL_80c52877b2ba42f9bb720e5d334dfc8d"
       ],
       "layout": "IPY_MODEL_6747b0e3f00f4c119dd1e4f0d1bd1f1c"
      }
     },
     "796be367a16e401ea5f227d216ea1758": {
      "model_module": "@jupyter-widgets/base",
      "model_module_version": "1.1.0",
      "model_name": "LayoutModel",
      "state": {}
     },
     "79d3997c64f042e08067d61122cbb0ce": {
      "model_module": "@jupyter-widgets/controls",
      "model_module_version": "1.4.0",
      "model_name": "DescriptionStyleModel",
      "state": {
       "description_width": "initial"
      }
     },
     "7a14787b4e9a4d1daefc9eeeb0e98430": {
      "model_module": "@jupyter-widgets/base",
      "model_module_version": "1.1.0",
      "model_name": "LayoutModel",
      "state": {}
     },
     "7a7c4d05c57a4b2e89dd63a41216512e": {
      "model_module": "@jupyter-widgets/controls",
      "model_module_version": "1.4.0",
      "model_name": "VBoxModel",
      "state": {
       "_dom_classes": [
        "widget-interact"
       ],
       "children": [
        "IPY_MODEL_467abf0c84b746629cc02d043f510b3b",
        "IPY_MODEL_f03c702063304900a21b86a1cfc1bc6a",
        "IPY_MODEL_ff2acae77452485ab84e18b41091ce82",
        "IPY_MODEL_85f59b8ac04841dfaa02b062d28f402e",
        "IPY_MODEL_3dc6b39299cb45bd85928756dfe5f459",
        "IPY_MODEL_68d6a562e1904abab58ed04cfe99b19c",
        "IPY_MODEL_8fff40f93750435aa3ec486f0250c736",
        "IPY_MODEL_c1578d17cde34390a10ea30c137e9f27",
        "IPY_MODEL_583c9e86be7d49f3b6ac4cb767e1e688",
        "IPY_MODEL_aa07063666e443dc97ea0bba6dfee03b",
        "IPY_MODEL_d64ebb419a7d4757b8a3499a0e4c07ab",
        "IPY_MODEL_88ba9983c9f2410d9513f064b2bd0a4e",
        "IPY_MODEL_4732a9d1bbf74747993edc5f3be4b325",
        "IPY_MODEL_6a94faccf3c34e84820a75d4ac624fa2",
        "IPY_MODEL_dc8b693a0380475a9521504abae7880f",
        "IPY_MODEL_d3079f6c44d647c796babef73b1dadb8"
       ],
       "layout": "IPY_MODEL_a3208641931f4afb9b6f9cfb1c49c1cc"
      }
     },
     "7ae729c38d3642d5a9a524f57dd9843f": {
      "model_module": "@jupyter-widgets/base",
      "model_module_version": "1.1.0",
      "model_name": "LayoutModel",
      "state": {}
     },
     "7b846d713a7f4d8d8534c3592cc326a9": {
      "model_module": "@jupyter-widgets/output",
      "model_module_version": "1.0.0",
      "model_name": "OutputModel",
      "state": {
       "layout": "IPY_MODEL_ab8753a021e14f5e96bf4e81749d884c"
      }
     },
     "7b9e2cee4ecc49fa95d5e9417553b70c": {
      "model_module": "@jupyter-widgets/controls",
      "model_module_version": "1.4.0",
      "model_name": "VBoxModel",
      "state": {
       "children": [
        "IPY_MODEL_c1578d17cde34390a10ea30c137e9f27",
        "IPY_MODEL_583c9e86be7d49f3b6ac4cb767e1e688",
        "IPY_MODEL_aa07063666e443dc97ea0bba6dfee03b",
        "IPY_MODEL_d64ebb419a7d4757b8a3499a0e4c07ab",
        "IPY_MODEL_88ba9983c9f2410d9513f064b2bd0a4e",
        "IPY_MODEL_4732a9d1bbf74747993edc5f3be4b325",
        "IPY_MODEL_6a94faccf3c34e84820a75d4ac624fa2",
        "IPY_MODEL_dc8b693a0380475a9521504abae7880f"
       ],
       "layout": "IPY_MODEL_fb0ba7a547ae4f6eac2c60ad3ab699f3"
      }
     },
     "7baf0842c130430a9bb58d76aaeb2bf3": {
      "model_module": "@jupyter-widgets/controls",
      "model_module_version": "1.4.0",
      "model_name": "VBoxModel",
      "state": {
       "children": [
        "IPY_MODEL_3babc823811048a88231cabd1ae388d0",
        "IPY_MODEL_716d682b7194402787346747676b8f83"
       ],
       "layout": "IPY_MODEL_87a17ea562d9458480778a1eb96d1771"
      }
     },
     "7bc0d94ed43b4bc9b57822b7f8c6a92b": {
      "model_module": "@jupyter-widgets/controls",
      "model_module_version": "1.4.0",
      "model_name": "VBoxModel",
      "state": {
       "_dom_classes": [
        "widget-interact"
       ],
       "children": [
        "IPY_MODEL_7cdaba6e204f4851840686529a909bcb",
        "IPY_MODEL_7ef3128732c740489c12676a641771b5",
        "IPY_MODEL_4bc5aad3b3eb43188df2b968c51ff291"
       ],
       "layout": "IPY_MODEL_09d70485eebb427aa7d6a77a50bab9a8"
      }
     },
     "7bca4e0070a44592b099309099ec3db3": {
      "model_module": "@jupyter-widgets/base",
      "model_module_version": "1.1.0",
      "model_name": "LayoutModel",
      "state": {}
     },
     "7be3f428fb8b4987ad10d87f88d9662f": {
      "model_module": "@jupyter-widgets/base",
      "model_module_version": "1.1.0",
      "model_name": "LayoutModel",
      "state": {}
     },
     "7be80ae71e084171985be39e47eb646a": {
      "model_module": "@jupyter-widgets/base",
      "model_module_version": "1.1.0",
      "model_name": "LayoutModel",
      "state": {}
     },
     "7c03224791704e5390be81b95d3def89": {
      "model_module": "@jupyter-widgets/controls",
      "model_module_version": "1.4.0",
      "model_name": "VBoxModel",
      "state": {
       "children": [
        "IPY_MODEL_467abf0c84b746629cc02d043f510b3b",
        "IPY_MODEL_f03c702063304900a21b86a1cfc1bc6a",
        "IPY_MODEL_ff2acae77452485ab84e18b41091ce82",
        "IPY_MODEL_85f59b8ac04841dfaa02b062d28f402e",
        "IPY_MODEL_3dc6b39299cb45bd85928756dfe5f459",
        "IPY_MODEL_68d6a562e1904abab58ed04cfe99b19c",
        "IPY_MODEL_8fff40f93750435aa3ec486f0250c736"
       ],
       "layout": "IPY_MODEL_19e2c171fc18461d90d2d4d1c79d1a3c"
      }
     },
     "7c19f8bbc89f45679eed707f3fc93247": {
      "model_module": "@jupyter-widgets/base",
      "model_module_version": "1.1.0",
      "model_name": "LayoutModel",
      "state": {}
     },
     "7c1cc00948904f9a9610ae10fefd0231": {
      "model_module": "@jupyter-widgets/base",
      "model_module_version": "1.1.0",
      "model_name": "LayoutModel",
      "state": {}
     },
     "7c42b1aa7c794ba2b2bc7cc2157f664d": {
      "model_module": "@jupyter-widgets/base",
      "model_module_version": "1.1.0",
      "model_name": "LayoutModel",
      "state": {}
     },
     "7ca34f1cc33d40fe83d26397bb329462": {
      "model_module": "@jupyter-widgets/controls",
      "model_module_version": "1.4.0",
      "model_name": "VBoxModel",
      "state": {
       "children": [
        "IPY_MODEL_26f2fbfb52bb44f8a7fd22f46d417d54",
        "IPY_MODEL_2737c02034ac4b8688654fe5931747d5"
       ],
       "layout": "IPY_MODEL_be46cf2b6206462ca03787d471de08ca"
      }
     },
     "7cdaba6e204f4851840686529a909bcb": {
      "model_module": "@jupyter-widgets/controls",
      "model_module_version": "1.4.0",
      "model_name": "ToggleButtonsModel",
      "state": {
       "_options_labels": [
        "CTC/IORT",
        "Excessive blood loss"
       ],
       "button_style": "",
       "description": "Procedure:",
       "icons": [],
       "index": 1,
       "layout": "IPY_MODEL_0fc5c9c1a389466ba564386f3ed45ee0",
       "style": "IPY_MODEL_58ddecd56b864cc1984a823b11abe81b",
       "tooltips": []
      }
     },
     "7ce21af6b632481391ed1a19e00585ac": {
      "model_module": "@jupyter-widgets/base",
      "model_module_version": "1.1.0",
      "model_name": "LayoutModel",
      "state": {}
     },
     "7ce6a423bc3a4f0aa65b1c2ab603c5f6": {
      "model_module": "@jupyter-widgets/base",
      "model_module_version": "1.1.0",
      "model_name": "LayoutModel",
      "state": {}
     },
     "7d2e608c84d0443b9d497bcac8d1fb28": {
      "model_module": "@jupyter-widgets/output",
      "model_module_version": "1.0.0",
      "model_name": "OutputModel",
      "state": {
       "layout": "IPY_MODEL_2c8aa1389d9c42a68a637076038b74ef"
      }
     },
     "7d41a8af6f1d45d7b9ac627fc5ba434e": {
      "model_module": "@jupyter-widgets/output",
      "model_module_version": "1.0.0",
      "model_name": "OutputModel",
      "state": {
       "layout": "IPY_MODEL_9e550b6b83594c279347328307958ead"
      }
     },
     "7d57f8f11a69428791faab1e20046433": {
      "model_module": "@jupyter-widgets/controls",
      "model_module_version": "1.4.0",
      "model_name": "VBoxModel",
      "state": {
       "children": [
        "IPY_MODEL_e7d5738ded7d42ecb3bcc5bc2406f85e",
        "IPY_MODEL_e561240cb48b441886600d855db9d322"
       ],
       "layout": "IPY_MODEL_d6c5e0cd254546a7867fe202ffb4e0e9"
      }
     },
     "7da559b03b5449fd8eb2ece33b61b8b7": {
      "model_module": "@jupyter-widgets/controls",
      "model_module_version": "1.4.0",
      "model_name": "VBoxModel",
      "state": {
       "children": [
        "IPY_MODEL_c1578d17cde34390a10ea30c137e9f27",
        "IPY_MODEL_583c9e86be7d49f3b6ac4cb767e1e688",
        "IPY_MODEL_aa07063666e443dc97ea0bba6dfee03b",
        "IPY_MODEL_d64ebb419a7d4757b8a3499a0e4c07ab",
        "IPY_MODEL_88ba9983c9f2410d9513f064b2bd0a4e",
        "IPY_MODEL_4732a9d1bbf74747993edc5f3be4b325",
        "IPY_MODEL_6a94faccf3c34e84820a75d4ac624fa2",
        "IPY_MODEL_dc8b693a0380475a9521504abae7880f"
       ],
       "layout": "IPY_MODEL_341d3437cb7547b399ce51847f49828e"
      }
     },
     "7e061734d293461f878f3ab65b3efd86": {
      "model_module": "@jupyter-widgets/controls",
      "model_module_version": "1.4.0",
      "model_name": "VBoxModel",
      "state": {
       "_dom_classes": [
        "widget-interact"
       ],
       "children": [
        "IPY_MODEL_7cdaba6e204f4851840686529a909bcb",
        "IPY_MODEL_7ef3128732c740489c12676a641771b5",
        "IPY_MODEL_12840763a6e54e40b646a97eec827e4f"
       ],
       "layout": "IPY_MODEL_2a18f34fc3124b69b273b48b04b2e080"
      }
     },
     "7e850a86f2ce4302bb738b9cf92de471": {
      "model_module": "@jupyter-widgets/controls",
      "model_module_version": "1.4.0",
      "model_name": "VBoxModel",
      "state": {
       "_dom_classes": [
        "widget-interact"
       ],
       "children": [
        "IPY_MODEL_7cdaba6e204f4851840686529a909bcb",
        "IPY_MODEL_7ef3128732c740489c12676a641771b5",
        "IPY_MODEL_e719850b01d84ee49a0ca87616d9e96a"
       ],
       "layout": "IPY_MODEL_410a0987b58943819b52525d8fcc1010"
      }
     },
     "7e970a5b595d4fb99aa357736b0cd01a": {
      "model_module": "@jupyter-widgets/output",
      "model_module_version": "1.0.0",
      "model_name": "OutputModel",
      "state": {
       "layout": "IPY_MODEL_25642096bd224ce8a9c112a9013f8927"
      }
     },
     "7eab50ff260d4d5c9da5b2c5818f7f28": {
      "model_module": "@jupyter-widgets/controls",
      "model_module_version": "1.4.0",
      "model_name": "VBoxModel",
      "state": {
       "_dom_classes": [
        "widget-interact"
       ],
       "children": [
        "IPY_MODEL_467abf0c84b746629cc02d043f510b3b",
        "IPY_MODEL_f03c702063304900a21b86a1cfc1bc6a",
        "IPY_MODEL_ff2acae77452485ab84e18b41091ce82",
        "IPY_MODEL_85f59b8ac04841dfaa02b062d28f402e",
        "IPY_MODEL_3dc6b39299cb45bd85928756dfe5f459",
        "IPY_MODEL_68d6a562e1904abab58ed04cfe99b19c",
        "IPY_MODEL_8fff40f93750435aa3ec486f0250c736",
        "IPY_MODEL_c1578d17cde34390a10ea30c137e9f27",
        "IPY_MODEL_583c9e86be7d49f3b6ac4cb767e1e688",
        "IPY_MODEL_aa07063666e443dc97ea0bba6dfee03b",
        "IPY_MODEL_d64ebb419a7d4757b8a3499a0e4c07ab",
        "IPY_MODEL_88ba9983c9f2410d9513f064b2bd0a4e",
        "IPY_MODEL_4732a9d1bbf74747993edc5f3be4b325",
        "IPY_MODEL_6a94faccf3c34e84820a75d4ac624fa2",
        "IPY_MODEL_dc8b693a0380475a9521504abae7880f",
        "IPY_MODEL_b09003e779754d49bd6edb4f282ad7ff"
       ],
       "layout": "IPY_MODEL_5bf3a2c3fde04f7299796dd329247381"
      }
     },
     "7ed42420e3204410ac43aff3b530534e": {
      "model_module": "@jupyter-widgets/base",
      "model_module_version": "1.1.0",
      "model_name": "LayoutModel",
      "state": {}
     },
     "7edcea3c3fbe4eca86159fe717728358": {
      "model_module": "@jupyter-widgets/base",
      "model_module_version": "1.1.0",
      "model_name": "LayoutModel",
      "state": {}
     },
     "7ef3128732c740489c12676a641771b5": {
      "model_module": "@jupyter-widgets/controls",
      "model_module_version": "1.4.0",
      "model_name": "ToggleButtonsModel",
      "state": {
       "_options_labels": [
        "HD unstable",
        "HD stable"
       ],
       "button_style": "",
       "description": "Type:",
       "icons": [],
       "index": 1,
       "layout": "IPY_MODEL_87f27d973d7f45a9906d68c0b846ff01",
       "style": "IPY_MODEL_60d1ff132af946c88fe09ffbf1166ecc",
       "tooltips": []
      }
     },
     "7efa1f1c3355442fb96e8563d3701107": {
      "model_module": "@jupyter-widgets/controls",
      "model_module_version": "1.4.0",
      "model_name": "AccordionModel",
      "state": {
       "_titles": {
        "0": "Procedure",
        "1": "Parameters"
       },
       "children": [
        "IPY_MODEL_af73c08bcf864186b6c5a59e84490367",
        "IPY_MODEL_5ebf7255875a40b88dafcd5821844d6f"
       ],
       "layout": "IPY_MODEL_f9bcdac7c919454eb83127caf96cf51c",
       "selected_index": 1
      }
     },
     "7f0eed62bbb2492fab98e9b934562472": {
      "model_module": "@jupyter-widgets/controls",
      "model_module_version": "1.4.0",
      "model_name": "VBoxModel",
      "state": {
       "children": [
        "IPY_MODEL_913ebadc462449048307c24a469389ca",
        "IPY_MODEL_d5f89cfae2c44d22abeda2a682d0fbe0"
       ],
       "layout": "IPY_MODEL_f7cc4044dd7b4d1584df57a03e036410"
      }
     },
     "7f1430a645eb4e68bf047b4759201701": {
      "model_module": "@jupyter-widgets/base",
      "model_module_version": "1.1.0",
      "model_name": "LayoutModel",
      "state": {}
     },
     "7f3405d14e294b4dab2105066b9d14d3": {
      "model_module": "@jupyter-widgets/base",
      "model_module_version": "1.1.0",
      "model_name": "LayoutModel",
      "state": {}
     },
     "7f741616e1994b2680839ce4cf6a1f0a": {
      "model_module": "@jupyter-widgets/base",
      "model_module_version": "1.1.0",
      "model_name": "LayoutModel",
      "state": {}
     },
     "7f87314c6c214e438ceb409a96f5b321": {
      "model_module": "@jupyter-widgets/controls",
      "model_module_version": "1.4.0",
      "model_name": "VBoxModel",
      "state": {
       "_dom_classes": [
        "widget-interact"
       ],
       "children": [
        "IPY_MODEL_467abf0c84b746629cc02d043f510b3b",
        "IPY_MODEL_f03c702063304900a21b86a1cfc1bc6a",
        "IPY_MODEL_ff2acae77452485ab84e18b41091ce82",
        "IPY_MODEL_85f59b8ac04841dfaa02b062d28f402e",
        "IPY_MODEL_3dc6b39299cb45bd85928756dfe5f459",
        "IPY_MODEL_68d6a562e1904abab58ed04cfe99b19c",
        "IPY_MODEL_8fff40f93750435aa3ec486f0250c736",
        "IPY_MODEL_c1578d17cde34390a10ea30c137e9f27",
        "IPY_MODEL_583c9e86be7d49f3b6ac4cb767e1e688",
        "IPY_MODEL_aa07063666e443dc97ea0bba6dfee03b",
        "IPY_MODEL_d64ebb419a7d4757b8a3499a0e4c07ab",
        "IPY_MODEL_88ba9983c9f2410d9513f064b2bd0a4e",
        "IPY_MODEL_4732a9d1bbf74747993edc5f3be4b325",
        "IPY_MODEL_6a94faccf3c34e84820a75d4ac624fa2",
        "IPY_MODEL_dc8b693a0380475a9521504abae7880f",
        "IPY_MODEL_cf5280e3463841f3a15813e9ee0fd23e"
       ],
       "layout": "IPY_MODEL_a8d32187d64a43ef96aa3e1580dfceed"
      }
     },
     "7f893e4a6b4540168dcfd8085c666524": {
      "model_module": "@jupyter-widgets/base",
      "model_module_version": "1.1.0",
      "model_name": "LayoutModel",
      "state": {}
     },
     "7f8a2d86b01d4280969d59303608bb05": {
      "model_module": "@jupyter-widgets/base",
      "model_module_version": "1.1.0",
      "model_name": "LayoutModel",
      "state": {}
     },
     "7fba697ca65747e5a8abc94ff02f6265": {
      "model_module": "@jupyter-widgets/base",
      "model_module_version": "1.1.0",
      "model_name": "LayoutModel",
      "state": {}
     },
     "80019e50e8f54adc85db68e11188f224": {
      "model_module": "@jupyter-widgets/controls",
      "model_module_version": "1.4.0",
      "model_name": "VBoxModel",
      "state": {
       "children": [
        "IPY_MODEL_c1578d17cde34390a10ea30c137e9f27",
        "IPY_MODEL_583c9e86be7d49f3b6ac4cb767e1e688",
        "IPY_MODEL_aa07063666e443dc97ea0bba6dfee03b",
        "IPY_MODEL_d64ebb419a7d4757b8a3499a0e4c07ab",
        "IPY_MODEL_88ba9983c9f2410d9513f064b2bd0a4e",
        "IPY_MODEL_4732a9d1bbf74747993edc5f3be4b325",
        "IPY_MODEL_6a94faccf3c34e84820a75d4ac624fa2",
        "IPY_MODEL_dc8b693a0380475a9521504abae7880f"
       ],
       "layout": "IPY_MODEL_2b11f2c8d3734227bb5ffdaf4e6d85d2"
      }
     },
     "801a95f038d74af19b91de606f78a845": {
      "model_module": "@jupyter-widgets/controls",
      "model_module_version": "1.4.0",
      "model_name": "VBoxModel",
      "state": {
       "_dom_classes": [
        "widget-interact"
       ],
       "children": [
        "IPY_MODEL_467abf0c84b746629cc02d043f510b3b",
        "IPY_MODEL_f03c702063304900a21b86a1cfc1bc6a",
        "IPY_MODEL_ff2acae77452485ab84e18b41091ce82",
        "IPY_MODEL_85f59b8ac04841dfaa02b062d28f402e",
        "IPY_MODEL_3dc6b39299cb45bd85928756dfe5f459",
        "IPY_MODEL_68d6a562e1904abab58ed04cfe99b19c",
        "IPY_MODEL_8fff40f93750435aa3ec486f0250c736",
        "IPY_MODEL_c1578d17cde34390a10ea30c137e9f27",
        "IPY_MODEL_583c9e86be7d49f3b6ac4cb767e1e688",
        "IPY_MODEL_aa07063666e443dc97ea0bba6dfee03b",
        "IPY_MODEL_d64ebb419a7d4757b8a3499a0e4c07ab",
        "IPY_MODEL_88ba9983c9f2410d9513f064b2bd0a4e",
        "IPY_MODEL_4732a9d1bbf74747993edc5f3be4b325",
        "IPY_MODEL_6a94faccf3c34e84820a75d4ac624fa2",
        "IPY_MODEL_dc8b693a0380475a9521504abae7880f",
        "IPY_MODEL_28f00bedfa074cec9fab9741087b7df4"
       ],
       "layout": "IPY_MODEL_3b4d5f8001c3429ab685ab1e28f82942"
      }
     },
     "803c967c2c684248b77cb2658b48843d": {
      "model_module": "@jupyter-widgets/base",
      "model_module_version": "1.1.0",
      "model_name": "LayoutModel",
      "state": {}
     },
     "807b4d686aa94fdcac748272c6a46c3e": {
      "model_module": "@jupyter-widgets/controls",
      "model_module_version": "1.4.0",
      "model_name": "ButtonModel",
      "state": {
       "description": "Run algorithm",
       "layout": "IPY_MODEL_9b6bf99c859a4cdea5e54926de38e5dc",
       "style": "IPY_MODEL_d30836045d934429b65d71b37ca14d29"
      }
     },
     "807df86a699a40e1983cd3b8766759ff": {
      "model_module": "@jupyter-widgets/controls",
      "model_module_version": "1.4.0",
      "model_name": "ToggleButtonsStyleModel",
      "state": {
       "button_width": "",
       "description_width": ""
      }
     },
     "80982fe289b84099a8866398da791c1e": {
      "model_module": "@jupyter-widgets/base",
      "model_module_version": "1.1.0",
      "model_name": "LayoutModel",
      "state": {}
     },
     "80c52877b2ba42f9bb720e5d334dfc8d": {
      "model_module": "@jupyter-widgets/output",
      "model_module_version": "1.0.0",
      "model_name": "OutputModel",
      "state": {
       "layout": "IPY_MODEL_b2d4fb44a9014bf7962fb1790ca11bfa"
      }
     },
     "80f01e9bad5f438d83eda317142fc45d": {
      "model_module": "@jupyter-widgets/controls",
      "model_module_version": "1.4.0",
      "model_name": "VBoxModel",
      "state": {
       "children": [
        "IPY_MODEL_467abf0c84b746629cc02d043f510b3b",
        "IPY_MODEL_f03c702063304900a21b86a1cfc1bc6a",
        "IPY_MODEL_ff2acae77452485ab84e18b41091ce82",
        "IPY_MODEL_85f59b8ac04841dfaa02b062d28f402e",
        "IPY_MODEL_3dc6b39299cb45bd85928756dfe5f459",
        "IPY_MODEL_68d6a562e1904abab58ed04cfe99b19c",
        "IPY_MODEL_8fff40f93750435aa3ec486f0250c736"
       ],
       "layout": "IPY_MODEL_b0cb090a31d541338ec49aba01bf62ed"
      }
     },
     "80f0adcc3bf34fed9c7914d5d4819f11": {
      "model_module": "@jupyter-widgets/base",
      "model_module_version": "1.1.0",
      "model_name": "LayoutModel",
      "state": {}
     },
     "81132655ae324132910407c6af0ba9b1": {
      "model_module": "@jupyter-widgets/controls",
      "model_module_version": "1.4.0",
      "model_name": "ButtonStyleModel",
      "state": {}
     },
     "814cd8fe3f2f46f5a8911f7157211b7c": {
      "model_module": "@jupyter-widgets/controls",
      "model_module_version": "1.4.0",
      "model_name": "HBoxModel",
      "state": {
       "children": [
        "IPY_MODEL_3990e260ff8a4656b146bf36990260a1",
        "IPY_MODEL_bf485561dabc4af8bef572799e5c8769"
       ],
       "layout": "IPY_MODEL_16b3184266a041a985ba4de6f857ba41"
      }
     },
     "81616bf450c74715ac7a7b7259f2811b": {
      "model_module": "@jupyter-widgets/base",
      "model_module_version": "1.1.0",
      "model_name": "LayoutModel",
      "state": {}
     },
     "819404f3828b48739cb2af094c8bf213": {
      "model_module": "@jupyter-widgets/base",
      "model_module_version": "1.1.0",
      "model_name": "LayoutModel",
      "state": {}
     },
     "81b310bdee104a5b8417c9c94835aa88": {
      "model_module": "@jupyter-widgets/base",
      "model_module_version": "1.1.0",
      "model_name": "LayoutModel",
      "state": {}
     },
     "81c1ae47e44f4c8e98ebcf74a87cadaf": {
      "model_module": "@jupyter-widgets/controls",
      "model_module_version": "1.4.0",
      "model_name": "VBoxModel",
      "state": {
       "children": [
        "IPY_MODEL_467abf0c84b746629cc02d043f510b3b",
        "IPY_MODEL_f03c702063304900a21b86a1cfc1bc6a",
        "IPY_MODEL_ff2acae77452485ab84e18b41091ce82",
        "IPY_MODEL_85f59b8ac04841dfaa02b062d28f402e",
        "IPY_MODEL_3dc6b39299cb45bd85928756dfe5f459",
        "IPY_MODEL_68d6a562e1904abab58ed04cfe99b19c",
        "IPY_MODEL_8fff40f93750435aa3ec486f0250c736"
       ],
       "layout": "IPY_MODEL_32b6ed5efd784b6393dcd1a04318503d"
      }
     },
     "81fa5e8a4d89417794c26f237317b2ce": {
      "model_module": "@jupyter-widgets/controls",
      "model_module_version": "1.4.0",
      "model_name": "VBoxModel",
      "state": {
       "children": [
        "IPY_MODEL_c1578d17cde34390a10ea30c137e9f27",
        "IPY_MODEL_583c9e86be7d49f3b6ac4cb767e1e688",
        "IPY_MODEL_aa07063666e443dc97ea0bba6dfee03b",
        "IPY_MODEL_d64ebb419a7d4757b8a3499a0e4c07ab",
        "IPY_MODEL_88ba9983c9f2410d9513f064b2bd0a4e",
        "IPY_MODEL_4732a9d1bbf74747993edc5f3be4b325",
        "IPY_MODEL_6a94faccf3c34e84820a75d4ac624fa2",
        "IPY_MODEL_dc8b693a0380475a9521504abae7880f"
       ],
       "layout": "IPY_MODEL_c14922a826284902ac347e81edcc418b"
      }
     },
     "823f66a7817447fbad9702dd5329f831": {
      "model_module": "@jupyter-widgets/controls",
      "model_module_version": "1.4.0",
      "model_name": "ButtonModel",
      "state": {
       "description": "Run algorithm",
       "layout": "IPY_MODEL_0aa61640bd834c45bfb58caf99c1c965",
       "style": "IPY_MODEL_3893c42c4c7f4c26a80720b91e84f574"
      }
     },
     "82ac9db234974c4b90324eaeda02ddeb": {
      "model_module": "@jupyter-widgets/controls",
      "model_module_version": "1.4.0",
      "model_name": "DescriptionStyleModel",
      "state": {
       "description_width": "initial"
      }
     },
     "82b510971cce4d539421fb10d7be4f3f": {
      "model_module": "@jupyter-widgets/controls",
      "model_module_version": "1.4.0",
      "model_name": "HBoxModel",
      "state": {
       "children": [
        "IPY_MODEL_55642e5ac23f4a21a5b4e8a04485e71d"
       ],
       "layout": "IPY_MODEL_6d377b5266e746b7a4c7c10a13f3b9d2"
      }
     },
     "82ebd286f37e4a0db59dff5413283356": {
      "model_module": "@jupyter-widgets/controls",
      "model_module_version": "1.4.0",
      "model_name": "VBoxModel",
      "state": {
       "children": [
        "IPY_MODEL_7cdaba6e204f4851840686529a909bcb",
        "IPY_MODEL_7ef3128732c740489c12676a641771b5"
       ],
       "layout": "IPY_MODEL_de8bb63d49294750af51d939a2d0c770"
      }
     },
     "8326ba85a6b747b8882061c7cddc843a": {
      "model_module": "@jupyter-widgets/controls",
      "model_module_version": "1.4.0",
      "model_name": "VBoxModel",
      "state": {
       "_dom_classes": [
        "widget-interact"
       ],
       "children": [
        "IPY_MODEL_7cdaba6e204f4851840686529a909bcb",
        "IPY_MODEL_7ef3128732c740489c12676a641771b5",
        "IPY_MODEL_c73183ebab034fd6b85acd07f3a513f6"
       ],
       "layout": "IPY_MODEL_f4b8b05d8e6a43a18f4c2ba5f809d3d5"
      }
     },
     "8338a8392ae844cf9e3a4a2c2a86f6a4": {
      "model_module": "@jupyter-widgets/controls",
      "model_module_version": "1.4.0",
      "model_name": "ButtonStyleModel",
      "state": {}
     },
     "8345b4ee1bcd451f8beb6a0402b224d6": {
      "model_module": "@jupyter-widgets/controls",
      "model_module_version": "1.4.0",
      "model_name": "AccordionModel",
      "state": {
       "_titles": {
        "0": "Procedure",
        "1": "Parameters"
       },
       "children": [
        "IPY_MODEL_342ea6d090094fe49ebb5fa947d58ca3",
        "IPY_MODEL_01fa6c3d5d514365b91eab77afcb69a2"
       ],
       "layout": "IPY_MODEL_68325ad553af44178692e4e2cc98226b",
       "selected_index": 1
      }
     },
     "83839ffcfd884e3b890f838fb7457f1f": {
      "model_module": "@jupyter-widgets/controls",
      "model_module_version": "1.4.0",
      "model_name": "ButtonModel",
      "state": {
       "description": "Run algorithm",
       "layout": "IPY_MODEL_37f466b80867453a96f7df1f3e60da34",
       "style": "IPY_MODEL_4518cf445590476eb1ad6ecb175e3ac2"
      }
     },
     "839e4c08daa141d8996ed47168dec7ce": {
      "model_module": "@jupyter-widgets/controls",
      "model_module_version": "1.4.0",
      "model_name": "VBoxModel",
      "state": {
       "_dom_classes": [
        "widget-interact"
       ],
       "children": [
        "IPY_MODEL_7cdaba6e204f4851840686529a909bcb",
        "IPY_MODEL_7ef3128732c740489c12676a641771b5",
        "IPY_MODEL_b6557597e8a94c31ac838f154589d75b"
       ],
       "layout": "IPY_MODEL_6365c3477b924002ae952f842c2ad1e7"
      }
     },
     "83d919fda4eb4d95a4f2239d2fd3b0f6": {
      "model_module": "@jupyter-widgets/base",
      "model_module_version": "1.1.0",
      "model_name": "LayoutModel",
      "state": {}
     },
     "83ecd873e27b403b8c3eac1d7b09c7c6": {
      "model_module": "@jupyter-widgets/controls",
      "model_module_version": "1.4.0",
      "model_name": "VBoxModel",
      "state": {
       "_dom_classes": [
        "widget-interact"
       ],
       "children": [
        "IPY_MODEL_7cdaba6e204f4851840686529a909bcb",
        "IPY_MODEL_7ef3128732c740489c12676a641771b5",
        "IPY_MODEL_e5b6d09836ec41ee8a6dd93caab61c48"
       ],
       "layout": "IPY_MODEL_70d1b0d829aa4d7c98a7630fd7875111"
      }
     },
     "8409e6ff955b4e7692a779d4e2acbf79": {
      "model_module": "@jupyter-widgets/controls",
      "model_module_version": "1.4.0",
      "model_name": "ButtonStyleModel",
      "state": {}
     },
     "840d13f6d2f84f26978987d5e22f7222": {
      "model_module": "@jupyter-widgets/base",
      "model_module_version": "1.1.0",
      "model_name": "LayoutModel",
      "state": {}
     },
     "84127404bece408caf32a203a45f003e": {
      "model_module": "@jupyter-widgets/controls",
      "model_module_version": "1.4.0",
      "model_name": "VBoxModel",
      "state": {
       "_dom_classes": [
        "widget-interact"
       ],
       "children": [
        "IPY_MODEL_7cdaba6e204f4851840686529a909bcb",
        "IPY_MODEL_7ef3128732c740489c12676a641771b5",
        "IPY_MODEL_405280f0a6d44d08bb22ff429fa76d61"
       ],
       "layout": "IPY_MODEL_6d3eb6669ff9461c9129144b77bb5a1a"
      }
     },
     "84204888fb5d4a538071e92caee71e04": {
      "model_module": "@jupyter-widgets/controls",
      "model_module_version": "1.4.0",
      "model_name": "ButtonStyleModel",
      "state": {}
     },
     "84914311437d46bdaac5a022fb018495": {
      "model_module": "@jupyter-widgets/controls",
      "model_module_version": "1.4.0",
      "model_name": "VBoxModel",
      "state": {
       "_dom_classes": [
        "widget-interact"
       ],
       "children": [
        "IPY_MODEL_7cdaba6e204f4851840686529a909bcb",
        "IPY_MODEL_7ef3128732c740489c12676a641771b5",
        "IPY_MODEL_7251115c117b4cbb8d45b882921c8ae3"
       ],
       "layout": "IPY_MODEL_1c4d07b841cd412faa39cbf465978dc1"
      }
     },
     "84a43052453a4deab609f89c887434c2": {
      "model_module": "@jupyter-widgets/base",
      "model_module_version": "1.1.0",
      "model_name": "LayoutModel",
      "state": {}
     },
     "84cec111b54148c8a46e995decde423b": {
      "model_module": "@jupyter-widgets/controls",
      "model_module_version": "1.4.0",
      "model_name": "VBoxModel",
      "state": {
       "_dom_classes": [
        "widget-interact"
       ],
       "children": [
        "IPY_MODEL_7cdaba6e204f4851840686529a909bcb",
        "IPY_MODEL_7ef3128732c740489c12676a641771b5",
        "IPY_MODEL_ed912f90867d4fca8d89fed3af2cd3bf"
       ],
       "layout": "IPY_MODEL_608141567bac4b029b1a1c30d5a96a24"
      }
     },
     "84e72b747170448cae8be99d0c0f2179": {
      "model_module": "@jupyter-widgets/output",
      "model_module_version": "1.0.0",
      "model_name": "OutputModel",
      "state": {
       "layout": "IPY_MODEL_8b1328d8cd5b407d8accb090d9bb9d66"
      }
     },
     "850494dbe9a342ee81b119dd758f9924": {
      "model_module": "@jupyter-widgets/output",
      "model_module_version": "1.0.0",
      "model_name": "OutputModel",
      "state": {
       "layout": "IPY_MODEL_940de78d4bbf45f0bd4d1dcf6d718adc"
      }
     },
     "852f1cef9f2645ce80e564f9e66f8174": {
      "model_module": "@jupyter-widgets/base",
      "model_module_version": "1.1.0",
      "model_name": "LayoutModel",
      "state": {}
     },
     "85f59b8ac04841dfaa02b062d28f402e": {
      "model_module": "@jupyter-widgets/controls",
      "model_module_version": "1.4.0",
      "model_name": "FloatTextModel",
      "state": {
       "description": "$APTT (s)$",
       "layout": "IPY_MODEL_0e4126ccd286467a883a982be06bb917",
       "step": null,
       "style": "IPY_MODEL_35872ad489fe4b2fae20d09effab4699",
       "value": 240
      }
     },
     "861dc16ec6f4422283f90b4a51c1b63a": {
      "model_module": "@jupyter-widgets/controls",
      "model_module_version": "1.4.0",
      "model_name": "VBoxModel",
      "state": {
       "_dom_classes": [
        "widget-interact"
       ],
       "children": [
        "IPY_MODEL_7cdaba6e204f4851840686529a909bcb",
        "IPY_MODEL_7ef3128732c740489c12676a641771b5",
        "IPY_MODEL_2fd8e73db4154910964971f221cc0fbc"
       ],
       "layout": "IPY_MODEL_5ec995caeacc431fa5247aead87b4055"
      }
     },
     "862c9ae1d5b24af59609a814ae79da54": {
      "model_module": "@jupyter-widgets/base",
      "model_module_version": "1.1.0",
      "model_name": "LayoutModel",
      "state": {}
     },
     "8670f4d0738a4a728db461c71ff4448a": {
      "model_module": "@jupyter-widgets/controls",
      "model_module_version": "1.4.0",
      "model_name": "VBoxModel",
      "state": {
       "_dom_classes": [
        "widget-interact"
       ],
       "children": [
        "IPY_MODEL_467abf0c84b746629cc02d043f510b3b",
        "IPY_MODEL_f03c702063304900a21b86a1cfc1bc6a",
        "IPY_MODEL_ff2acae77452485ab84e18b41091ce82",
        "IPY_MODEL_85f59b8ac04841dfaa02b062d28f402e",
        "IPY_MODEL_3dc6b39299cb45bd85928756dfe5f459",
        "IPY_MODEL_68d6a562e1904abab58ed04cfe99b19c",
        "IPY_MODEL_8fff40f93750435aa3ec486f0250c736",
        "IPY_MODEL_c1578d17cde34390a10ea30c137e9f27",
        "IPY_MODEL_583c9e86be7d49f3b6ac4cb767e1e688",
        "IPY_MODEL_aa07063666e443dc97ea0bba6dfee03b",
        "IPY_MODEL_d64ebb419a7d4757b8a3499a0e4c07ab",
        "IPY_MODEL_88ba9983c9f2410d9513f064b2bd0a4e",
        "IPY_MODEL_4732a9d1bbf74747993edc5f3be4b325",
        "IPY_MODEL_6a94faccf3c34e84820a75d4ac624fa2",
        "IPY_MODEL_dc8b693a0380475a9521504abae7880f",
        "IPY_MODEL_2c51f8fe50ac40cb9eaa9c874025350e"
       ],
       "layout": "IPY_MODEL_17fb2820b5d943969620ed9c55701d89"
      }
     },
     "867a14174de247d0a761132ea1d9e0a7": {
      "model_module": "@jupyter-widgets/controls",
      "model_module_version": "1.4.0",
      "model_name": "VBoxModel",
      "state": {
       "_dom_classes": [
        "widget-interact"
       ],
       "children": [
        "IPY_MODEL_7cdaba6e204f4851840686529a909bcb",
        "IPY_MODEL_7ef3128732c740489c12676a641771b5",
        "IPY_MODEL_08cc52dd5cab44a0943882170a6fefa4"
       ],
       "layout": "IPY_MODEL_1c538124bd09428ab25313781dbcdd0c"
      }
     },
     "869f23268a6749c498e0681b6923ad2f": {
      "model_module": "@jupyter-widgets/base",
      "model_module_version": "1.1.0",
      "model_name": "LayoutModel",
      "state": {}
     },
     "86a4db3c4c0b4dbb81ad8720b2533a55": {
      "model_module": "@jupyter-widgets/base",
      "model_module_version": "1.1.0",
      "model_name": "LayoutModel",
      "state": {}
     },
     "86dde63e82d241618191100c3352d65a": {
      "model_module": "@jupyter-widgets/controls",
      "model_module_version": "1.4.0",
      "model_name": "AccordionModel",
      "state": {
       "_titles": {
        "0": "Procedure",
        "1": "Parameters"
       },
       "children": [
        "IPY_MODEL_e02e8481d51446b592b35ca822a190b3",
        "IPY_MODEL_912410a866c24e5780b6f07eb5d37c59"
       ],
       "layout": "IPY_MODEL_a600dc4bcb5043ac8cdd84edb2082c1b",
       "selected_index": 1
      }
     },
     "872ccf768db240e5bae492dead05992a": {
      "model_module": "@jupyter-widgets/output",
      "model_module_version": "1.0.0",
      "model_name": "OutputModel",
      "state": {
       "layout": "IPY_MODEL_af5cd4fb13e1419d9ec396aa67098077"
      }
     },
     "87a17ea562d9458480778a1eb96d1771": {
      "model_module": "@jupyter-widgets/base",
      "model_module_version": "1.1.0",
      "model_name": "LayoutModel",
      "state": {}
     },
     "87a484a5d77947389303ebb80cbe3cb7": {
      "model_module": "@jupyter-widgets/controls",
      "model_module_version": "1.4.0",
      "model_name": "ToggleButtonsStyleModel",
      "state": {
       "button_width": "",
       "description_width": ""
      }
     },
     "87f27d973d7f45a9906d68c0b846ff01": {
      "model_module": "@jupyter-widgets/base",
      "model_module_version": "1.1.0",
      "model_name": "LayoutModel",
      "state": {}
     },
     "87f7f73958ba4900845b219ad83c801b": {
      "model_module": "@jupyter-widgets/base",
      "model_module_version": "1.1.0",
      "model_name": "LayoutModel",
      "state": {}
     },
     "8807e1a5d88a430aa37a5e34853ae4df": {
      "model_module": "@jupyter-widgets/controls",
      "model_module_version": "1.4.0",
      "model_name": "VBoxModel",
      "state": {
       "_dom_classes": [
        "widget-interact"
       ],
       "children": [
        "IPY_MODEL_467abf0c84b746629cc02d043f510b3b",
        "IPY_MODEL_f03c702063304900a21b86a1cfc1bc6a",
        "IPY_MODEL_ff2acae77452485ab84e18b41091ce82",
        "IPY_MODEL_85f59b8ac04841dfaa02b062d28f402e",
        "IPY_MODEL_3dc6b39299cb45bd85928756dfe5f459",
        "IPY_MODEL_68d6a562e1904abab58ed04cfe99b19c",
        "IPY_MODEL_8fff40f93750435aa3ec486f0250c736",
        "IPY_MODEL_c1578d17cde34390a10ea30c137e9f27",
        "IPY_MODEL_583c9e86be7d49f3b6ac4cb767e1e688",
        "IPY_MODEL_aa07063666e443dc97ea0bba6dfee03b",
        "IPY_MODEL_d64ebb419a7d4757b8a3499a0e4c07ab",
        "IPY_MODEL_88ba9983c9f2410d9513f064b2bd0a4e",
        "IPY_MODEL_4732a9d1bbf74747993edc5f3be4b325",
        "IPY_MODEL_6a94faccf3c34e84820a75d4ac624fa2",
        "IPY_MODEL_dc8b693a0380475a9521504abae7880f",
        "IPY_MODEL_0d576c8112674a6ab9f8910d7645e04e"
       ],
       "layout": "IPY_MODEL_0c04770e48fb44068aa46328e14b646a"
      }
     },
     "883c9262c3034b8f9e28c4308523bba7": {
      "model_module": "@jupyter-widgets/base",
      "model_module_version": "1.1.0",
      "model_name": "LayoutModel",
      "state": {}
     },
     "88ba9983c9f2410d9513f064b2bd0a4e": {
      "model_module": "@jupyter-widgets/controls",
      "model_module_version": "1.4.0",
      "model_name": "FloatTextModel",
      "state": {
       "description": "$CT_{Intem} (s)$",
       "layout": "IPY_MODEL_2a8305414b6b4283b7f1f568aa0579c0",
       "step": null,
       "style": "IPY_MODEL_c88043e6bd624a1c83e5b8fe8a256fc0",
       "value": "nan"
      }
     },
     "88edd6ee6b654e409e78134647dc3563": {
      "model_module": "@jupyter-widgets/output",
      "model_module_version": "1.0.0",
      "model_name": "OutputModel",
      "state": {
       "layout": "IPY_MODEL_a441b40d1dd642da934c0f7d91fe45c6"
      }
     },
     "890197205c384238a673f3342c4b4a4e": {
      "model_module": "@jupyter-widgets/controls",
      "model_module_version": "1.4.0",
      "model_name": "VBoxModel",
      "state": {
       "children": [
        "IPY_MODEL_c1578d17cde34390a10ea30c137e9f27",
        "IPY_MODEL_583c9e86be7d49f3b6ac4cb767e1e688",
        "IPY_MODEL_aa07063666e443dc97ea0bba6dfee03b",
        "IPY_MODEL_d64ebb419a7d4757b8a3499a0e4c07ab",
        "IPY_MODEL_88ba9983c9f2410d9513f064b2bd0a4e",
        "IPY_MODEL_4732a9d1bbf74747993edc5f3be4b325",
        "IPY_MODEL_6a94faccf3c34e84820a75d4ac624fa2",
        "IPY_MODEL_dc8b693a0380475a9521504abae7880f"
       ],
       "layout": "IPY_MODEL_8d5ebaa597244ed8921fad5ab3f85f11"
      }
     },
     "890457c468f949b2b2cd42799b5077fe": {
      "model_module": "@jupyter-widgets/controls",
      "model_module_version": "1.4.0",
      "model_name": "HBoxModel",
      "state": {
       "children": [
        "IPY_MODEL_984eb944a3634ef28d39fd9692fd9cee"
       ],
       "layout": "IPY_MODEL_987d37b07bbb40a999033dce075b3d64"
      }
     },
     "89185b0817fc44ec9e32ce97c38a8b85": {
      "model_module": "@jupyter-widgets/controls",
      "model_module_version": "1.4.0",
      "model_name": "VBoxModel",
      "state": {
       "_dom_classes": [
        "widget-interact"
       ],
       "children": [
        "IPY_MODEL_467abf0c84b746629cc02d043f510b3b",
        "IPY_MODEL_f03c702063304900a21b86a1cfc1bc6a",
        "IPY_MODEL_ff2acae77452485ab84e18b41091ce82",
        "IPY_MODEL_85f59b8ac04841dfaa02b062d28f402e",
        "IPY_MODEL_3dc6b39299cb45bd85928756dfe5f459",
        "IPY_MODEL_68d6a562e1904abab58ed04cfe99b19c",
        "IPY_MODEL_8fff40f93750435aa3ec486f0250c736",
        "IPY_MODEL_c1578d17cde34390a10ea30c137e9f27",
        "IPY_MODEL_583c9e86be7d49f3b6ac4cb767e1e688",
        "IPY_MODEL_aa07063666e443dc97ea0bba6dfee03b",
        "IPY_MODEL_d64ebb419a7d4757b8a3499a0e4c07ab",
        "IPY_MODEL_88ba9983c9f2410d9513f064b2bd0a4e",
        "IPY_MODEL_4732a9d1bbf74747993edc5f3be4b325",
        "IPY_MODEL_6a94faccf3c34e84820a75d4ac624fa2",
        "IPY_MODEL_dc8b693a0380475a9521504abae7880f",
        "IPY_MODEL_8cece5d6cb724e56beed083ea4627242"
       ],
       "layout": "IPY_MODEL_5f7cfc7546264f079e9cb87bdb74a8f4"
      }
     },
     "8921767c975c47c6a4684c836ddfc835": {
      "model_module": "@jupyter-widgets/controls",
      "model_module_version": "1.4.0",
      "model_name": "VBoxModel",
      "state": {
       "children": [
        "IPY_MODEL_c1578d17cde34390a10ea30c137e9f27",
        "IPY_MODEL_583c9e86be7d49f3b6ac4cb767e1e688",
        "IPY_MODEL_aa07063666e443dc97ea0bba6dfee03b",
        "IPY_MODEL_d64ebb419a7d4757b8a3499a0e4c07ab",
        "IPY_MODEL_88ba9983c9f2410d9513f064b2bd0a4e",
        "IPY_MODEL_4732a9d1bbf74747993edc5f3be4b325",
        "IPY_MODEL_6a94faccf3c34e84820a75d4ac624fa2",
        "IPY_MODEL_dc8b693a0380475a9521504abae7880f"
       ],
       "layout": "IPY_MODEL_c79bc45f02b44afa9e62ef7289f0ecf2"
      }
     },
     "8969e74e7eb047a4ab86e283866e357d": {
      "model_module": "@jupyter-widgets/controls",
      "model_module_version": "1.4.0",
      "model_name": "VBoxModel",
      "state": {
       "_dom_classes": [
        "widget-interact"
       ],
       "children": [
        "IPY_MODEL_467abf0c84b746629cc02d043f510b3b",
        "IPY_MODEL_f03c702063304900a21b86a1cfc1bc6a",
        "IPY_MODEL_ff2acae77452485ab84e18b41091ce82",
        "IPY_MODEL_85f59b8ac04841dfaa02b062d28f402e",
        "IPY_MODEL_3dc6b39299cb45bd85928756dfe5f459",
        "IPY_MODEL_68d6a562e1904abab58ed04cfe99b19c",
        "IPY_MODEL_8fff40f93750435aa3ec486f0250c736",
        "IPY_MODEL_c1578d17cde34390a10ea30c137e9f27",
        "IPY_MODEL_583c9e86be7d49f3b6ac4cb767e1e688",
        "IPY_MODEL_aa07063666e443dc97ea0bba6dfee03b",
        "IPY_MODEL_d64ebb419a7d4757b8a3499a0e4c07ab",
        "IPY_MODEL_88ba9983c9f2410d9513f064b2bd0a4e",
        "IPY_MODEL_4732a9d1bbf74747993edc5f3be4b325",
        "IPY_MODEL_6a94faccf3c34e84820a75d4ac624fa2",
        "IPY_MODEL_dc8b693a0380475a9521504abae7880f",
        "IPY_MODEL_ba4f2352551f4c73af2a2a808bc70ee7"
       ],
       "layout": "IPY_MODEL_29f535824d6c4253b8e85502d3b3c790"
      }
     },
     "898c6d4bf3814dd3b78c130db6a85a4c": {
      "model_module": "@jupyter-widgets/controls",
      "model_module_version": "1.4.0",
      "model_name": "VBoxModel",
      "state": {
       "children": [
        "IPY_MODEL_467abf0c84b746629cc02d043f510b3b",
        "IPY_MODEL_f03c702063304900a21b86a1cfc1bc6a",
        "IPY_MODEL_ff2acae77452485ab84e18b41091ce82",
        "IPY_MODEL_85f59b8ac04841dfaa02b062d28f402e",
        "IPY_MODEL_3dc6b39299cb45bd85928756dfe5f459",
        "IPY_MODEL_68d6a562e1904abab58ed04cfe99b19c",
        "IPY_MODEL_8fff40f93750435aa3ec486f0250c736"
       ],
       "layout": "IPY_MODEL_9cbca0eee6b3413d9f820e09e954858f"
      }
     },
     "89e1981bdbea49ab9067f5ddee7330e3": {
      "model_module": "@jupyter-widgets/controls",
      "model_module_version": "1.4.0",
      "model_name": "HBoxModel",
      "state": {
       "children": [
        "IPY_MODEL_aa55aa8ee8a74d8d8875bb8900d8665d",
        "IPY_MODEL_dbd98eee3bbb4161b9ec61ef8bca038e"
       ],
       "layout": "IPY_MODEL_3b6b0053f09b47cc93bd725f7df138e4"
      }
     },
     "89e56c4e530746dfb17a51e31c55b0f9": {
      "model_module": "@jupyter-widgets/base",
      "model_module_version": "1.1.0",
      "model_name": "LayoutModel",
      "state": {}
     },
     "8a0bbe81f54e45eda61463bc6cd174cf": {
      "model_module": "@jupyter-widgets/base",
      "model_module_version": "1.1.0",
      "model_name": "LayoutModel",
      "state": {}
     },
     "8a1845af2f9e49e58cb6277f2d897a87": {
      "model_module": "@jupyter-widgets/base",
      "model_module_version": "1.1.0",
      "model_name": "LayoutModel",
      "state": {}
     },
     "8a22497db4894c05a8094b7cf143a658": {
      "model_module": "@jupyter-widgets/controls",
      "model_module_version": "1.4.0",
      "model_name": "ButtonModel",
      "state": {
       "description": "Run algorithm",
       "layout": "IPY_MODEL_46919b09383f4319ae9ece33289150f8",
       "style": "IPY_MODEL_41d08ae4e63e4bce9de3893a11b8e3c5"
      }
     },
     "8a3aa39ce7424e378b82dd8548356d45": {
      "model_module": "@jupyter-widgets/base",
      "model_module_version": "1.1.0",
      "model_name": "LayoutModel",
      "state": {}
     },
     "8a4b2904bf394438a3f585d57768ffb9": {
      "model_module": "@jupyter-widgets/base",
      "model_module_version": "1.1.0",
      "model_name": "LayoutModel",
      "state": {}
     },
     "8a7206430e864ff8822b06eb5035a5a0": {
      "model_module": "@jupyter-widgets/controls",
      "model_module_version": "1.4.0",
      "model_name": "VBoxModel",
      "state": {
       "children": [
        "IPY_MODEL_c1578d17cde34390a10ea30c137e9f27",
        "IPY_MODEL_583c9e86be7d49f3b6ac4cb767e1e688",
        "IPY_MODEL_aa07063666e443dc97ea0bba6dfee03b",
        "IPY_MODEL_d64ebb419a7d4757b8a3499a0e4c07ab",
        "IPY_MODEL_88ba9983c9f2410d9513f064b2bd0a4e",
        "IPY_MODEL_4732a9d1bbf74747993edc5f3be4b325",
        "IPY_MODEL_6a94faccf3c34e84820a75d4ac624fa2",
        "IPY_MODEL_dc8b693a0380475a9521504abae7880f"
       ],
       "layout": "IPY_MODEL_c58abe6418004d30b3cc7ced3e30d1a0"
      }
     },
     "8a96e1859206469e9eac716fec15f2cc": {
      "model_module": "@jupyter-widgets/base",
      "model_module_version": "1.1.0",
      "model_name": "LayoutModel",
      "state": {}
     },
     "8aa28086732a48f28657141a43239648": {
      "model_module": "@jupyter-widgets/base",
      "model_module_version": "1.1.0",
      "model_name": "LayoutModel",
      "state": {}
     },
     "8aa4c9a231bc414aad7b90fad38bd385": {
      "model_module": "@jupyter-widgets/controls",
      "model_module_version": "1.4.0",
      "model_name": "VBoxModel",
      "state": {
       "children": [
        "IPY_MODEL_dfcdf136a4a646d1a7a143b39a9318e1",
        "IPY_MODEL_823f66a7817447fbad9702dd5329f831"
       ],
       "layout": "IPY_MODEL_084f9728dc364d22898a7f7e059e6ca4"
      }
     },
     "8b06efcf709a4eb6923bf836a44c4c23": {
      "model_module": "@jupyter-widgets/base",
      "model_module_version": "1.1.0",
      "model_name": "LayoutModel",
      "state": {}
     },
     "8b1328d8cd5b407d8accb090d9bb9d66": {
      "model_module": "@jupyter-widgets/base",
      "model_module_version": "1.1.0",
      "model_name": "LayoutModel",
      "state": {}
     },
     "8b60a23f017d4528abf7e88f95e77b1a": {
      "model_module": "@jupyter-widgets/base",
      "model_module_version": "1.1.0",
      "model_name": "LayoutModel",
      "state": {}
     },
     "8bc2f5198cf34ffe87384d70cb497759": {
      "model_module": "@jupyter-widgets/base",
      "model_module_version": "1.1.0",
      "model_name": "LayoutModel",
      "state": {}
     },
     "8be9209e13ea4c8c90f9033f250c5c5e": {
      "model_module": "@jupyter-widgets/controls",
      "model_module_version": "1.4.0",
      "model_name": "VBoxModel",
      "state": {
       "children": [
        "IPY_MODEL_7cdaba6e204f4851840686529a909bcb",
        "IPY_MODEL_7ef3128732c740489c12676a641771b5"
       ],
       "layout": "IPY_MODEL_f8c7ccd451f64619bbd9398af759f4db"
      }
     },
     "8c17ad5eb51a4a3aad962b53f04c1e32": {
      "model_module": "@jupyter-widgets/base",
      "model_module_version": "1.1.0",
      "model_name": "LayoutModel",
      "state": {}
     },
     "8c1904b0b08a4fbb974a15d2584e9047": {
      "model_module": "@jupyter-widgets/controls",
      "model_module_version": "1.4.0",
      "model_name": "VBoxModel",
      "state": {
       "children": [
        "IPY_MODEL_7cdaba6e204f4851840686529a909bcb",
        "IPY_MODEL_7ef3128732c740489c12676a641771b5"
       ],
       "layout": "IPY_MODEL_cd870aa6cbf34c819b217cf13d92d499"
      }
     },
     "8c656ebf9f8b46789b2e72ce4b59f0af": {
      "model_module": "@jupyter-widgets/base",
      "model_module_version": "1.1.0",
      "model_name": "LayoutModel",
      "state": {}
     },
     "8c8f325492ff4bc581d636aa495eba5e": {
      "model_module": "@jupyter-widgets/output",
      "model_module_version": "1.0.0",
      "model_name": "OutputModel",
      "state": {
       "layout": "IPY_MODEL_47e150ad72f440178859e5435b8c952b"
      }
     },
     "8ca4a7b84c984f2cb88092e9a5e755f2": {
      "model_module": "@jupyter-widgets/base",
      "model_module_version": "1.1.0",
      "model_name": "LayoutModel",
      "state": {}
     },
     "8cc6505a382347dd9e62aabbb95423c0": {
      "model_module": "@jupyter-widgets/controls",
      "model_module_version": "1.4.0",
      "model_name": "VBoxModel",
      "state": {
       "_dom_classes": [
        "widget-interact"
       ],
       "children": [
        "IPY_MODEL_0b3f762c364b4882b9901aac4ac4e6c4",
        "IPY_MODEL_dbdd580e126848b6967051d5339a309a",
        "IPY_MODEL_9ffe039643b445f19fad43330e0bbc9b",
        "IPY_MODEL_f3bb704c1b7d437784bcd24c9fc4328c",
        "IPY_MODEL_37bf47de8ebb46e7bbdaa6cb658a836b",
        "IPY_MODEL_9d64c2da1a454b0f99be8fc3a30ed8e4",
        "IPY_MODEL_78c1adf0a92940e397d9b6e635a164bf",
        "IPY_MODEL_adb1524dbc9446f88500930b1cbae126",
        "IPY_MODEL_e2f9b28d2b0044b0bbe579fcaf1539de",
        "IPY_MODEL_aacaa0400e6243419a526a1a81728ee1",
        "IPY_MODEL_da2283904ce54cae83eb251736dc789e",
        "IPY_MODEL_1d293bac518844ab98f80e608d5e1ac5",
        "IPY_MODEL_d299703f46714aab8fb53de70fddf595",
        "IPY_MODEL_2346e45bf6d246dca8bc952045fc3e37",
        "IPY_MODEL_279ca9eda5f24edd85429db6823040ba",
        "IPY_MODEL_48e30a71348543ae87d8295fb50e0860"
       ],
       "layout": "IPY_MODEL_b0e69893da7941fa9b557b15cfae82fe"
      }
     },
     "8cece5d6cb724e56beed083ea4627242": {
      "model_module": "@jupyter-widgets/output",
      "model_module_version": "1.0.0",
      "model_name": "OutputModel",
      "state": {
       "layout": "IPY_MODEL_bfb8a4d226184976bbc216fa9cdea337"
      }
     },
     "8ced277702e24e6d9a17c1af2f309bea": {
      "model_module": "@jupyter-widgets/controls",
      "model_module_version": "1.4.0",
      "model_name": "ButtonStyleModel",
      "state": {}
     },
     "8d5ebaa597244ed8921fad5ab3f85f11": {
      "model_module": "@jupyter-widgets/base",
      "model_module_version": "1.1.0",
      "model_name": "LayoutModel",
      "state": {}
     },
     "8d8d413b94d3457cb397c71cdc736226": {
      "model_module": "@jupyter-widgets/base",
      "model_module_version": "1.1.0",
      "model_name": "LayoutModel",
      "state": {}
     },
     "8d975b1eefba473fa8a0d81f64c3db7a": {
      "model_module": "@jupyter-widgets/base",
      "model_module_version": "1.1.0",
      "model_name": "LayoutModel",
      "state": {}
     },
     "8da2309cc1f5436c9624518c2776be47": {
      "model_module": "@jupyter-widgets/base",
      "model_module_version": "1.1.0",
      "model_name": "LayoutModel",
      "state": {}
     },
     "8e0c489dcc4c49b0814a810c6dda74d4": {
      "model_module": "@jupyter-widgets/controls",
      "model_module_version": "1.4.0",
      "model_name": "VBoxModel",
      "state": {
       "children": [
        "IPY_MODEL_349657f018e54b5f9bdb898a2a40b4f0",
        "IPY_MODEL_9d3b7a7fd59c427e831f15d6abfabb0c"
       ],
       "layout": "IPY_MODEL_7662cd31aa3a49ae8762f5d64b50a7fa"
      }
     },
     "8e1e82ead6e14b14b4a758ba0a0d5f87": {
      "model_module": "@jupyter-widgets/controls",
      "model_module_version": "1.4.0",
      "model_name": "HBoxModel",
      "state": {
       "children": [
        "IPY_MODEL_0388f14c18d64bb494d5ca03cdbdfd89",
        "IPY_MODEL_4cfa9fa63eb94e258be45d05d5b98c6b"
       ],
       "layout": "IPY_MODEL_09f3fb5a76ea4a1e9da3712c787f178b"
      }
     },
     "8e2f7dbfade742649b24d604b27520fc": {
      "model_module": "@jupyter-widgets/controls",
      "model_module_version": "1.4.0",
      "model_name": "AccordionModel",
      "state": {
       "_titles": {
        "0": "Procedure",
        "1": "Parameters"
       },
       "children": [
        "IPY_MODEL_ff8ffed3c2a64f44ba336532d42f7cad",
        "IPY_MODEL_016cf397d8b64233921fd11c8c529d7a"
       ],
       "layout": "IPY_MODEL_208f2d2c7e0c4b9ba0b215078c9b8eab"
      }
     },
     "8e3e455307154097806d8a3a703445d7": {
      "model_module": "@jupyter-widgets/base",
      "model_module_version": "1.1.0",
      "model_name": "LayoutModel",
      "state": {}
     },
     "8e730110a4944a7ba0a7398c31d5c0ae": {
      "model_module": "@jupyter-widgets/base",
      "model_module_version": "1.1.0",
      "model_name": "LayoutModel",
      "state": {}
     },
     "8e784ac08a1641428e78b1b2f8db525e": {
      "model_module": "@jupyter-widgets/controls",
      "model_module_version": "1.4.0",
      "model_name": "VBoxModel",
      "state": {
       "children": [
        "IPY_MODEL_c1578d17cde34390a10ea30c137e9f27",
        "IPY_MODEL_583c9e86be7d49f3b6ac4cb767e1e688",
        "IPY_MODEL_aa07063666e443dc97ea0bba6dfee03b",
        "IPY_MODEL_d64ebb419a7d4757b8a3499a0e4c07ab",
        "IPY_MODEL_88ba9983c9f2410d9513f064b2bd0a4e",
        "IPY_MODEL_4732a9d1bbf74747993edc5f3be4b325",
        "IPY_MODEL_6a94faccf3c34e84820a75d4ac624fa2",
        "IPY_MODEL_dc8b693a0380475a9521504abae7880f"
       ],
       "layout": "IPY_MODEL_bdd2c7c2561748839301a041ac0ef04c"
      }
     },
     "8f146035c52242e58d3303186c5dd64d": {
      "model_module": "@jupyter-widgets/controls",
      "model_module_version": "1.4.0",
      "model_name": "DescriptionStyleModel",
      "state": {
       "description_width": "initial"
      }
     },
     "8f1c7126abfa451180dc36891e8ea6a5": {
      "model_module": "@jupyter-widgets/base",
      "model_module_version": "1.1.0",
      "model_name": "LayoutModel",
      "state": {}
     },
     "8f261cef439c4ac6901a0b6dd0a24b95": {
      "model_module": "@jupyter-widgets/base",
      "model_module_version": "1.1.0",
      "model_name": "LayoutModel",
      "state": {}
     },
     "8fb3b1f969bd41458e340bf03df34533": {
      "model_module": "@jupyter-widgets/base",
      "model_module_version": "1.1.0",
      "model_name": "LayoutModel",
      "state": {}
     },
     "8fba9db043de48c0935d49fa2ed1b7df": {
      "model_module": "@jupyter-widgets/controls",
      "model_module_version": "1.4.0",
      "model_name": "VBoxModel",
      "state": {
       "_dom_classes": [
        "widget-interact"
       ],
       "children": [
        "IPY_MODEL_467abf0c84b746629cc02d043f510b3b",
        "IPY_MODEL_f03c702063304900a21b86a1cfc1bc6a",
        "IPY_MODEL_ff2acae77452485ab84e18b41091ce82",
        "IPY_MODEL_85f59b8ac04841dfaa02b062d28f402e",
        "IPY_MODEL_3dc6b39299cb45bd85928756dfe5f459",
        "IPY_MODEL_68d6a562e1904abab58ed04cfe99b19c",
        "IPY_MODEL_8fff40f93750435aa3ec486f0250c736",
        "IPY_MODEL_c1578d17cde34390a10ea30c137e9f27",
        "IPY_MODEL_583c9e86be7d49f3b6ac4cb767e1e688",
        "IPY_MODEL_aa07063666e443dc97ea0bba6dfee03b",
        "IPY_MODEL_d64ebb419a7d4757b8a3499a0e4c07ab",
        "IPY_MODEL_88ba9983c9f2410d9513f064b2bd0a4e",
        "IPY_MODEL_4732a9d1bbf74747993edc5f3be4b325",
        "IPY_MODEL_6a94faccf3c34e84820a75d4ac624fa2",
        "IPY_MODEL_dc8b693a0380475a9521504abae7880f",
        "IPY_MODEL_dc3514b6aeb948e68c750556f3265fa9"
       ],
       "layout": "IPY_MODEL_14db9f920ddf48b0ba2e0197af9eb3b1"
      }
     },
     "8fe37b9dcdef4489b19a24daee7b46b9": {
      "model_module": "@jupyter-widgets/base",
      "model_module_version": "1.1.0",
      "model_name": "LayoutModel",
      "state": {}
     },
     "8fff40f93750435aa3ec486f0250c736": {
      "model_module": "@jupyter-widgets/controls",
      "model_module_version": "1.4.0",
      "model_name": "FloatTextModel",
      "state": {
       "description": "$PT_{Heparinase} (s)$",
       "layout": "IPY_MODEL_3380b6a15a234801957e7890a4a46408",
       "step": null,
       "style": "IPY_MODEL_4c5a51a88f914a2fb2eda38c569401d6",
       "value": 24
      }
     },
     "900c6398740c41f8b73431e62df694c2": {
      "model_module": "@jupyter-widgets/controls",
      "model_module_version": "1.4.0",
      "model_name": "VBoxModel",
      "state": {
       "children": [
        "IPY_MODEL_4f62b627f0a24651b1bfcfa47846e353",
        "IPY_MODEL_f7056c7f3e4b46b79c67256346dfad2f"
       ],
       "layout": "IPY_MODEL_61aef49940b542f7977f77e42d842ef2"
      }
     },
     "90178743147548079ffd38e4a0bc10e9": {
      "model_module": "@jupyter-widgets/base",
      "model_module_version": "1.1.0",
      "model_name": "LayoutModel",
      "state": {}
     },
     "902a1566fe984bbaa858e5c1ef24c3ba": {
      "model_module": "@jupyter-widgets/output",
      "model_module_version": "1.0.0",
      "model_name": "OutputModel",
      "state": {
       "layout": "IPY_MODEL_21ea7eea30844f98adee4a49f36e0618"
      }
     },
     "9043f1ab44a14b9e93b8710be87bdb52": {
      "model_module": "@jupyter-widgets/controls",
      "model_module_version": "1.4.0",
      "model_name": "VBoxModel",
      "state": {
       "_dom_classes": [
        "widget-interact"
       ],
       "children": [
        "IPY_MODEL_467abf0c84b746629cc02d043f510b3b",
        "IPY_MODEL_f03c702063304900a21b86a1cfc1bc6a",
        "IPY_MODEL_ff2acae77452485ab84e18b41091ce82",
        "IPY_MODEL_85f59b8ac04841dfaa02b062d28f402e",
        "IPY_MODEL_3dc6b39299cb45bd85928756dfe5f459",
        "IPY_MODEL_68d6a562e1904abab58ed04cfe99b19c",
        "IPY_MODEL_8fff40f93750435aa3ec486f0250c736",
        "IPY_MODEL_c1578d17cde34390a10ea30c137e9f27",
        "IPY_MODEL_583c9e86be7d49f3b6ac4cb767e1e688",
        "IPY_MODEL_aa07063666e443dc97ea0bba6dfee03b",
        "IPY_MODEL_d64ebb419a7d4757b8a3499a0e4c07ab",
        "IPY_MODEL_88ba9983c9f2410d9513f064b2bd0a4e",
        "IPY_MODEL_4732a9d1bbf74747993edc5f3be4b325",
        "IPY_MODEL_6a94faccf3c34e84820a75d4ac624fa2",
        "IPY_MODEL_dc8b693a0380475a9521504abae7880f",
        "IPY_MODEL_d84cd920b0d44c29996b69a1c68da256"
       ],
       "layout": "IPY_MODEL_c5d35e1c1f7244c29d9797134d5faaa7"
      }
     },
     "905a558dc9ce44da99e1c22e8e20d44a": {
      "model_module": "@jupyter-widgets/base",
      "model_module_version": "1.1.0",
      "model_name": "LayoutModel",
      "state": {}
     },
     "906b1f7021bd4a6db409ac322a4e59ab": {
      "model_module": "@jupyter-widgets/base",
      "model_module_version": "1.1.0",
      "model_name": "LayoutModel",
      "state": {}
     },
     "907612bae21045cfa7ae27fdc0978476": {
      "model_module": "@jupyter-widgets/controls",
      "model_module_version": "1.4.0",
      "model_name": "VBoxModel",
      "state": {
       "children": [
        "IPY_MODEL_c1578d17cde34390a10ea30c137e9f27",
        "IPY_MODEL_583c9e86be7d49f3b6ac4cb767e1e688",
        "IPY_MODEL_aa07063666e443dc97ea0bba6dfee03b",
        "IPY_MODEL_d64ebb419a7d4757b8a3499a0e4c07ab",
        "IPY_MODEL_88ba9983c9f2410d9513f064b2bd0a4e",
        "IPY_MODEL_4732a9d1bbf74747993edc5f3be4b325",
        "IPY_MODEL_6a94faccf3c34e84820a75d4ac624fa2",
        "IPY_MODEL_dc8b693a0380475a9521504abae7880f"
       ],
       "layout": "IPY_MODEL_b5603f5f25e34ef186095d48e4102685"
      }
     },
     "9080d419a1ce45f4b2ef1c204c793d27": {
      "model_module": "@jupyter-widgets/controls",
      "model_module_version": "1.4.0",
      "model_name": "ButtonModel",
      "state": {
       "description": "Run algorithm",
       "layout": "IPY_MODEL_1030513b62a548d4a9bafb581f524d84",
       "style": "IPY_MODEL_92cca48cb1bf424aa7fd11c0c95bc25d"
      }
     },
     "9090879dd7004d1a86201b3262ec6775": {
      "model_module": "@jupyter-widgets/base",
      "model_module_version": "1.1.0",
      "model_name": "LayoutModel",
      "state": {}
     },
     "909b493dc8f047c3af942537f06efef8": {
      "model_module": "@jupyter-widgets/controls",
      "model_module_version": "1.4.0",
      "model_name": "VBoxModel",
      "state": {
       "children": [
        "IPY_MODEL_467abf0c84b746629cc02d043f510b3b",
        "IPY_MODEL_f03c702063304900a21b86a1cfc1bc6a",
        "IPY_MODEL_ff2acae77452485ab84e18b41091ce82",
        "IPY_MODEL_85f59b8ac04841dfaa02b062d28f402e",
        "IPY_MODEL_3dc6b39299cb45bd85928756dfe5f459",
        "IPY_MODEL_68d6a562e1904abab58ed04cfe99b19c",
        "IPY_MODEL_8fff40f93750435aa3ec486f0250c736"
       ],
       "layout": "IPY_MODEL_56caa01fc3284bf1b124541d21218fcc"
      }
     },
     "90be4af6f59b4a83bb749d4a7f1236b4": {
      "model_module": "@jupyter-widgets/controls",
      "model_module_version": "1.4.0",
      "model_name": "VBoxModel",
      "state": {
       "children": [
        "IPY_MODEL_c1578d17cde34390a10ea30c137e9f27",
        "IPY_MODEL_583c9e86be7d49f3b6ac4cb767e1e688",
        "IPY_MODEL_aa07063666e443dc97ea0bba6dfee03b",
        "IPY_MODEL_d64ebb419a7d4757b8a3499a0e4c07ab",
        "IPY_MODEL_88ba9983c9f2410d9513f064b2bd0a4e",
        "IPY_MODEL_4732a9d1bbf74747993edc5f3be4b325",
        "IPY_MODEL_6a94faccf3c34e84820a75d4ac624fa2",
        "IPY_MODEL_dc8b693a0380475a9521504abae7880f"
       ],
       "layout": "IPY_MODEL_a49391b667ec453e9998d2a4afb859d6"
      }
     },
     "90f06627e6554be9bb04466bcda9de42": {
      "model_module": "@jupyter-widgets/base",
      "model_module_version": "1.1.0",
      "model_name": "LayoutModel",
      "state": {}
     },
     "911a414078cd4971a4e4c86b34c3230b": {
      "model_module": "@jupyter-widgets/base",
      "model_module_version": "1.1.0",
      "model_name": "LayoutModel",
      "state": {}
     },
     "912410a866c24e5780b6f07eb5d37c59": {
      "model_module": "@jupyter-widgets/controls",
      "model_module_version": "1.4.0",
      "model_name": "HBoxModel",
      "state": {
       "children": [
        "IPY_MODEL_b789d5cf881f43a183eb74822a5edc7b",
        "IPY_MODEL_6d9d241ad133409494fc5e0685f29caa"
       ],
       "layout": "IPY_MODEL_48b96e189d034a6a979ef36d2823e874"
      }
     },
     "913ebadc462449048307c24a469389ca": {
      "model_module": "@jupyter-widgets/controls",
      "model_module_version": "1.4.0",
      "model_name": "ToggleButtonsModel",
      "state": {
       "_options_labels": [
        "CTC/IORT",
        "Excessive blood loss"
       ],
       "button_style": "",
       "description": "Procedure:",
       "icons": [],
       "index": 1,
       "layout": "IPY_MODEL_eeac02f3e4ac47f7b332028577b31810",
       "style": "IPY_MODEL_f8a18fcf151742288816a077142bcb06",
       "tooltips": []
      }
     },
     "91461f03c573411d952ee4e9e8e5ec14": {
      "model_module": "@jupyter-widgets/controls",
      "model_module_version": "1.4.0",
      "model_name": "VBoxModel",
      "state": {
       "children": [
        "IPY_MODEL_7cdaba6e204f4851840686529a909bcb",
        "IPY_MODEL_7ef3128732c740489c12676a641771b5"
       ],
       "layout": "IPY_MODEL_6c129cefbf1a401594835364efe88374"
      }
     },
     "9148619631f04f2290a63c224a50048a": {
      "model_module": "@jupyter-widgets/base",
      "model_module_version": "1.1.0",
      "model_name": "LayoutModel",
      "state": {}
     },
     "9161d60516cc4f4ab4c0a2f2ccc1f1e0": {
      "model_module": "@jupyter-widgets/base",
      "model_module_version": "1.1.0",
      "model_name": "LayoutModel",
      "state": {}
     },
     "91622fa840cb4e6da1167226abbd80e9": {
      "model_module": "@jupyter-widgets/base",
      "model_module_version": "1.1.0",
      "model_name": "LayoutModel",
      "state": {}
     },
     "919a0fd4730d4339a4a330746d02437b": {
      "model_module": "@jupyter-widgets/controls",
      "model_module_version": "1.4.0",
      "model_name": "VBoxModel",
      "state": {
       "children": [
        "IPY_MODEL_c1578d17cde34390a10ea30c137e9f27",
        "IPY_MODEL_583c9e86be7d49f3b6ac4cb767e1e688",
        "IPY_MODEL_aa07063666e443dc97ea0bba6dfee03b",
        "IPY_MODEL_d64ebb419a7d4757b8a3499a0e4c07ab",
        "IPY_MODEL_88ba9983c9f2410d9513f064b2bd0a4e",
        "IPY_MODEL_4732a9d1bbf74747993edc5f3be4b325",
        "IPY_MODEL_6a94faccf3c34e84820a75d4ac624fa2",
        "IPY_MODEL_dc8b693a0380475a9521504abae7880f"
       ],
       "layout": "IPY_MODEL_ab9c445735154d8b9296d6a9f299b2c1"
      }
     },
     "91b74a7c7349414f91919786a2a21144": {
      "model_module": "@jupyter-widgets/controls",
      "model_module_version": "1.4.0",
      "model_name": "AccordionModel",
      "state": {
       "_titles": {
        "0": "Procedure",
        "1": "Parameters"
       },
       "children": [
        "IPY_MODEL_2983c3e90e4f405dac62d163c910e369",
        "IPY_MODEL_f0536447635d40c38f8f6094568e11d2"
       ],
       "layout": "IPY_MODEL_4ad1a11d5383436caf345408f4b4c9ee",
       "selected_index": 1
      }
     },
     "91c7de4ef6034085bc51592037258e4b": {
      "model_module": "@jupyter-widgets/base",
      "model_module_version": "1.1.0",
      "model_name": "LayoutModel",
      "state": {}
     },
     "920214b9bcf941b98fb9c9b01a4fff7d": {
      "model_module": "@jupyter-widgets/base",
      "model_module_version": "1.1.0",
      "model_name": "LayoutModel",
      "state": {}
     },
     "920b777249724aed8e959b36a68806fd": {
      "model_module": "@jupyter-widgets/base",
      "model_module_version": "1.1.0",
      "model_name": "LayoutModel",
      "state": {}
     },
     "92224a3878d449e2aa6264f52d6c9066": {
      "model_module": "@jupyter-widgets/controls",
      "model_module_version": "1.4.0",
      "model_name": "HBoxModel",
      "state": {
       "children": [
        "IPY_MODEL_3aa86d984bff4822944695fbb35cf21b"
       ],
       "layout": "IPY_MODEL_685b2dd708f64b5d9139c73dfb349a44"
      }
     },
     "92704bb2d27949d482656856f11d366b": {
      "model_module": "@jupyter-widgets/output",
      "model_module_version": "1.0.0",
      "model_name": "OutputModel",
      "state": {
       "layout": "IPY_MODEL_7161623dd528454381d881bd86fd914e"
      }
     },
     "92ba5193b849481bbe1d2b93473bc1cd": {
      "model_module": "@jupyter-widgets/base",
      "model_module_version": "1.1.0",
      "model_name": "LayoutModel",
      "state": {}
     },
     "92cca48cb1bf424aa7fd11c0c95bc25d": {
      "model_module": "@jupyter-widgets/controls",
      "model_module_version": "1.4.0",
      "model_name": "ButtonStyleModel",
      "state": {}
     },
     "934caa59c347496f874629d52a790c64": {
      "model_module": "@jupyter-widgets/base",
      "model_module_version": "1.1.0",
      "model_name": "LayoutModel",
      "state": {}
     },
     "93627c6297494e6897fe1bc2b80e2bd7": {
      "model_module": "@jupyter-widgets/controls",
      "model_module_version": "1.4.0",
      "model_name": "DescriptionStyleModel",
      "state": {
       "description_width": "initial"
      }
     },
     "93c38dfad0be40f88040dc85a3c3a4d3": {
      "model_module": "@jupyter-widgets/controls",
      "model_module_version": "1.4.0",
      "model_name": "VBoxModel",
      "state": {
       "_dom_classes": [
        "widget-interact"
       ],
       "children": [
        "IPY_MODEL_7cdaba6e204f4851840686529a909bcb",
        "IPY_MODEL_7ef3128732c740489c12676a641771b5",
        "IPY_MODEL_c11e2e3ccee241b1926586270f5a64da"
       ],
       "layout": "IPY_MODEL_e2db958e14bb4209955c5f2abdd0fac9"
      }
     },
     "93c5aa88b18b4c9ebf6914a473115801": {
      "model_module": "@jupyter-widgets/base",
      "model_module_version": "1.1.0",
      "model_name": "LayoutModel",
      "state": {}
     },
     "93c8d112df9743af95eef6e264d24a41": {
      "model_module": "@jupyter-widgets/base",
      "model_module_version": "1.1.0",
      "model_name": "LayoutModel",
      "state": {}
     },
     "93ceaab4779d468fb31db36ec564473a": {
      "model_module": "@jupyter-widgets/base",
      "model_module_version": "1.1.0",
      "model_name": "LayoutModel",
      "state": {}
     },
     "93e802735a074fdabcf953b34427634b": {
      "model_module": "@jupyter-widgets/base",
      "model_module_version": "1.1.0",
      "model_name": "LayoutModel",
      "state": {}
     },
     "940de78d4bbf45f0bd4d1dcf6d718adc": {
      "model_module": "@jupyter-widgets/base",
      "model_module_version": "1.1.0",
      "model_name": "LayoutModel",
      "state": {}
     },
     "941adca00e68463b86d01cbb9c590f41": {
      "model_module": "@jupyter-widgets/base",
      "model_module_version": "1.1.0",
      "model_name": "LayoutModel",
      "state": {}
     },
     "945b29660dae4829a1f2ab8682381865": {
      "model_module": "@jupyter-widgets/base",
      "model_module_version": "1.1.0",
      "model_name": "LayoutModel",
      "state": {}
     },
     "94634567b9864c29a400131aa3f02e52": {
      "model_module": "@jupyter-widgets/base",
      "model_module_version": "1.1.0",
      "model_name": "LayoutModel",
      "state": {}
     },
     "9470d6b0f2774c2d97bcec7376411047": {
      "model_module": "@jupyter-widgets/base",
      "model_module_version": "1.1.0",
      "model_name": "LayoutModel",
      "state": {}
     },
     "947b81e4d6f240eca1af3dac13654203": {
      "model_module": "@jupyter-widgets/controls",
      "model_module_version": "1.4.0",
      "model_name": "ButtonStyleModel",
      "state": {}
     },
     "9499f3a57e1b4541bce597150a5f40a7": {
      "model_module": "@jupyter-widgets/base",
      "model_module_version": "1.1.0",
      "model_name": "LayoutModel",
      "state": {}
     },
     "94a53b25c3674d9c915af107b6335ff1": {
      "model_module": "@jupyter-widgets/base",
      "model_module_version": "1.1.0",
      "model_name": "LayoutModel",
      "state": {}
     },
     "94aacf1a662a49d98b6aed6ba798c5de": {
      "model_module": "@jupyter-widgets/base",
      "model_module_version": "1.1.0",
      "model_name": "LayoutModel",
      "state": {}
     },
     "94ab25d688fc4a889d84a13802b619f1": {
      "model_module": "@jupyter-widgets/controls",
      "model_module_version": "1.4.0",
      "model_name": "DescriptionStyleModel",
      "state": {
       "description_width": "initial"
      }
     },
     "94adc17158844eea81eb4373b06bef76": {
      "model_module": "@jupyter-widgets/base",
      "model_module_version": "1.1.0",
      "model_name": "LayoutModel",
      "state": {}
     },
     "94d3d281083f43d29f848ff8d7333b8d": {
      "model_module": "@jupyter-widgets/base",
      "model_module_version": "1.1.0",
      "model_name": "LayoutModel",
      "state": {}
     },
     "94fed36e41164bb9af414d27b42d6110": {
      "model_module": "@jupyter-widgets/controls",
      "model_module_version": "1.4.0",
      "model_name": "VBoxModel",
      "state": {
       "children": [
        "IPY_MODEL_467abf0c84b746629cc02d043f510b3b",
        "IPY_MODEL_f03c702063304900a21b86a1cfc1bc6a",
        "IPY_MODEL_ff2acae77452485ab84e18b41091ce82",
        "IPY_MODEL_85f59b8ac04841dfaa02b062d28f402e",
        "IPY_MODEL_3dc6b39299cb45bd85928756dfe5f459",
        "IPY_MODEL_68d6a562e1904abab58ed04cfe99b19c",
        "IPY_MODEL_8fff40f93750435aa3ec486f0250c736"
       ],
       "layout": "IPY_MODEL_629ee615fc60498da8721d2b17f2cba6"
      }
     },
     "950aaf76196b4ac58de5545edf4f70de": {
      "model_module": "@jupyter-widgets/controls",
      "model_module_version": "1.4.0",
      "model_name": "DescriptionStyleModel",
      "state": {
       "description_width": "initial"
      }
     },
     "9548d98694af405ab993c3939c4a7518": {
      "model_module": "@jupyter-widgets/base",
      "model_module_version": "1.1.0",
      "model_name": "LayoutModel",
      "state": {}
     },
     "9551d65981504baea8935313e3a22491": {
      "model_module": "@jupyter-widgets/base",
      "model_module_version": "1.1.0",
      "model_name": "LayoutModel",
      "state": {}
     },
     "957f512cbe694d96949efd796dc9eb4b": {
      "model_module": "@jupyter-widgets/controls",
      "model_module_version": "1.4.0",
      "model_name": "VBoxModel",
      "state": {
       "_dom_classes": [
        "widget-interact"
       ],
       "children": [
        "IPY_MODEL_467abf0c84b746629cc02d043f510b3b",
        "IPY_MODEL_f03c702063304900a21b86a1cfc1bc6a",
        "IPY_MODEL_ff2acae77452485ab84e18b41091ce82",
        "IPY_MODEL_85f59b8ac04841dfaa02b062d28f402e",
        "IPY_MODEL_3dc6b39299cb45bd85928756dfe5f459",
        "IPY_MODEL_68d6a562e1904abab58ed04cfe99b19c",
        "IPY_MODEL_8fff40f93750435aa3ec486f0250c736",
        "IPY_MODEL_c1578d17cde34390a10ea30c137e9f27",
        "IPY_MODEL_583c9e86be7d49f3b6ac4cb767e1e688",
        "IPY_MODEL_aa07063666e443dc97ea0bba6dfee03b",
        "IPY_MODEL_d64ebb419a7d4757b8a3499a0e4c07ab",
        "IPY_MODEL_88ba9983c9f2410d9513f064b2bd0a4e",
        "IPY_MODEL_4732a9d1bbf74747993edc5f3be4b325",
        "IPY_MODEL_6a94faccf3c34e84820a75d4ac624fa2",
        "IPY_MODEL_dc8b693a0380475a9521504abae7880f",
        "IPY_MODEL_130f0f266a6e49aabe303fc1fc303e2a"
       ],
       "layout": "IPY_MODEL_ea70d74a5dfc481facc274bee3241ff7"
      }
     },
     "95b8381fc77d405a84a56bd465525299": {
      "model_module": "@jupyter-widgets/controls",
      "model_module_version": "1.4.0",
      "model_name": "DescriptionStyleModel",
      "state": {
       "description_width": "initial"
      }
     },
     "95c7dd9f9a614b699357c72ca454d6e8": {
      "model_module": "@jupyter-widgets/controls",
      "model_module_version": "1.4.0",
      "model_name": "VBoxModel",
      "state": {
       "_dom_classes": [
        "widget-interact"
       ],
       "children": [
        "IPY_MODEL_467abf0c84b746629cc02d043f510b3b",
        "IPY_MODEL_f03c702063304900a21b86a1cfc1bc6a",
        "IPY_MODEL_ff2acae77452485ab84e18b41091ce82",
        "IPY_MODEL_85f59b8ac04841dfaa02b062d28f402e",
        "IPY_MODEL_3dc6b39299cb45bd85928756dfe5f459",
        "IPY_MODEL_68d6a562e1904abab58ed04cfe99b19c",
        "IPY_MODEL_8fff40f93750435aa3ec486f0250c736",
        "IPY_MODEL_c1578d17cde34390a10ea30c137e9f27",
        "IPY_MODEL_583c9e86be7d49f3b6ac4cb767e1e688",
        "IPY_MODEL_aa07063666e443dc97ea0bba6dfee03b",
        "IPY_MODEL_d64ebb419a7d4757b8a3499a0e4c07ab",
        "IPY_MODEL_88ba9983c9f2410d9513f064b2bd0a4e",
        "IPY_MODEL_4732a9d1bbf74747993edc5f3be4b325",
        "IPY_MODEL_6a94faccf3c34e84820a75d4ac624fa2",
        "IPY_MODEL_dc8b693a0380475a9521504abae7880f",
        "IPY_MODEL_0f3ebabcfc22479a9bee3715d7bfb6e4"
       ],
       "layout": "IPY_MODEL_d8006670438b405bb33c8046baf228e5"
      }
     },
     "95dffe0850674db59b2d8a579cc0cb86": {
      "model_module": "@jupyter-widgets/base",
      "model_module_version": "1.1.0",
      "model_name": "LayoutModel",
      "state": {}
     },
     "95e867b701a246a98c5ee53b623a65eb": {
      "model_module": "@jupyter-widgets/controls",
      "model_module_version": "1.4.0",
      "model_name": "VBoxModel",
      "state": {
       "children": [
        "IPY_MODEL_ef3b3d8fc49342da83496f966330e54e",
        "IPY_MODEL_6506fe8787a74d748a95cb7043dbcb5b"
       ],
       "layout": "IPY_MODEL_647f4a1fdbd64f91a1274c94c8039b24"
      }
     },
     "95fc5cbf4c7f490db56a170adad30179": {
      "model_module": "@jupyter-widgets/base",
      "model_module_version": "1.1.0",
      "model_name": "LayoutModel",
      "state": {}
     },
     "961b75ad84164c8cbe21abf1b0a8beb5": {
      "model_module": "@jupyter-widgets/controls",
      "model_module_version": "1.4.0",
      "model_name": "ButtonStyleModel",
      "state": {}
     },
     "963f06f0b60b44babb97c88fdf8b32a8": {
      "model_module": "@jupyter-widgets/controls",
      "model_module_version": "1.4.0",
      "model_name": "VBoxModel",
      "state": {
       "_dom_classes": [
        "widget-interact"
       ],
       "children": [
        "IPY_MODEL_467abf0c84b746629cc02d043f510b3b",
        "IPY_MODEL_f03c702063304900a21b86a1cfc1bc6a",
        "IPY_MODEL_ff2acae77452485ab84e18b41091ce82",
        "IPY_MODEL_85f59b8ac04841dfaa02b062d28f402e",
        "IPY_MODEL_3dc6b39299cb45bd85928756dfe5f459",
        "IPY_MODEL_68d6a562e1904abab58ed04cfe99b19c",
        "IPY_MODEL_8fff40f93750435aa3ec486f0250c736",
        "IPY_MODEL_c1578d17cde34390a10ea30c137e9f27",
        "IPY_MODEL_583c9e86be7d49f3b6ac4cb767e1e688",
        "IPY_MODEL_aa07063666e443dc97ea0bba6dfee03b",
        "IPY_MODEL_d64ebb419a7d4757b8a3499a0e4c07ab",
        "IPY_MODEL_88ba9983c9f2410d9513f064b2bd0a4e",
        "IPY_MODEL_4732a9d1bbf74747993edc5f3be4b325",
        "IPY_MODEL_6a94faccf3c34e84820a75d4ac624fa2",
        "IPY_MODEL_dc8b693a0380475a9521504abae7880f",
        "IPY_MODEL_c676a4ba1f66455b8fbd78ef463310c1"
       ],
       "layout": "IPY_MODEL_728165b05fb941899a9029da435301c4"
      }
     },
     "964b69c23a4840d8818ff9a4e35c8dea": {
      "model_module": "@jupyter-widgets/controls",
      "model_module_version": "1.4.0",
      "model_name": "VBoxModel",
      "state": {
       "children": [
        "IPY_MODEL_467abf0c84b746629cc02d043f510b3b",
        "IPY_MODEL_f03c702063304900a21b86a1cfc1bc6a",
        "IPY_MODEL_ff2acae77452485ab84e18b41091ce82",
        "IPY_MODEL_85f59b8ac04841dfaa02b062d28f402e",
        "IPY_MODEL_3dc6b39299cb45bd85928756dfe5f459",
        "IPY_MODEL_68d6a562e1904abab58ed04cfe99b19c",
        "IPY_MODEL_8fff40f93750435aa3ec486f0250c736"
       ],
       "layout": "IPY_MODEL_7f8a2d86b01d4280969d59303608bb05"
      }
     },
     "96974256316d469ea3135e2be6a89764": {
      "model_module": "@jupyter-widgets/base",
      "model_module_version": "1.1.0",
      "model_name": "LayoutModel",
      "state": {}
     },
     "969bbd78e6ae4b26886a8cf7717b0871": {
      "model_module": "@jupyter-widgets/controls",
      "model_module_version": "1.4.0",
      "model_name": "HBoxModel",
      "state": {
       "children": [
        "IPY_MODEL_7da559b03b5449fd8eb2ece33b61b8b7",
        "IPY_MODEL_cdba2c3d97bb4f3cac9d9a5ee87d9286"
       ],
       "layout": "IPY_MODEL_4624f0eb4d3647abb4d1b2abb5406e3d"
      }
     },
     "97141ca4b2a14e51a3fac5116f8694b6": {
      "model_module": "@jupyter-widgets/base",
      "model_module_version": "1.1.0",
      "model_name": "LayoutModel",
      "state": {}
     },
     "971712a10b8c4d4c8822f354cb2fb976": {
      "model_module": "@jupyter-widgets/controls",
      "model_module_version": "1.4.0",
      "model_name": "ButtonStyleModel",
      "state": {}
     },
     "972ae8df7ac04f9ea21a2ec3de8123a3": {
      "model_module": "@jupyter-widgets/controls",
      "model_module_version": "1.4.0",
      "model_name": "VBoxModel",
      "state": {
       "children": [
        "IPY_MODEL_27c602445c0f42099a474bb1689988a6",
        "IPY_MODEL_f85438f396114714b911210587ab0a83"
       ],
       "layout": "IPY_MODEL_b8bc55ebffef485da1173ccba0774a68"
      }
     },
     "972cf96220c94dfc8adf63f23eea4b1f": {
      "model_module": "@jupyter-widgets/base",
      "model_module_version": "1.1.0",
      "model_name": "LayoutModel",
      "state": {}
     },
     "973adb1c344143d596cbfa1b40358132": {
      "model_module": "@jupyter-widgets/base",
      "model_module_version": "1.1.0",
      "model_name": "LayoutModel",
      "state": {}
     },
     "9771932f0bd441e5877d874bd4c11a58": {
      "model_module": "@jupyter-widgets/controls",
      "model_module_version": "1.4.0",
      "model_name": "DescriptionStyleModel",
      "state": {
       "description_width": "initial"
      }
     },
     "9772f53c13a34bc3afdc23cb15a97e99": {
      "model_module": "@jupyter-widgets/controls",
      "model_module_version": "1.4.0",
      "model_name": "DescriptionStyleModel",
      "state": {
       "description_width": "initial"
      }
     },
     "97816aecdc5d4016854e17c58d950491": {
      "model_module": "@jupyter-widgets/base",
      "model_module_version": "1.1.0",
      "model_name": "LayoutModel",
      "state": {}
     },
     "97b72d8af6f54f9aa3649eac74ec47a6": {
      "model_module": "@jupyter-widgets/controls",
      "model_module_version": "1.4.0",
      "model_name": "VBoxModel",
      "state": {
       "_dom_classes": [
        "widget-interact"
       ],
       "children": [
        "IPY_MODEL_7cdaba6e204f4851840686529a909bcb",
        "IPY_MODEL_7ef3128732c740489c12676a641771b5",
        "IPY_MODEL_2ac559c37de942d480973173d57fc47c"
       ],
       "layout": "IPY_MODEL_a200bfc1b19b411a9d79a4de8403dff6"
      }
     },
     "97f63e2ed6744ed3a32fffbe8d366d2b": {
      "model_module": "@jupyter-widgets/controls",
      "model_module_version": "1.4.0",
      "model_name": "ButtonModel",
      "state": {
       "description": "Run algorithm",
       "layout": "IPY_MODEL_a19d6af003b64dc59f4a5340b280c910",
       "style": "IPY_MODEL_af86a44cc4d947e18794c89f757faa1a"
      }
     },
     "9809b47bdfe845b08e9ef4d8d9f9b4cb": {
      "model_module": "@jupyter-widgets/base",
      "model_module_version": "1.1.0",
      "model_name": "LayoutModel",
      "state": {}
     },
     "981a5d2e8e1e4503b832a394d37dd87e": {
      "model_module": "@jupyter-widgets/controls",
      "model_module_version": "1.4.0",
      "model_name": "VBoxModel",
      "state": {
       "children": [
        "IPY_MODEL_8e2f7dbfade742649b24d604b27520fc",
        "IPY_MODEL_f1b76d9cd2aa4e04a7d1a2a902afedf2"
       ],
       "layout": "IPY_MODEL_bca32bbbaf254d228d60329fc20d1177"
      }
     },
     "98471796411f4e7992ef14f1b9ab3791": {
      "model_module": "@jupyter-widgets/output",
      "model_module_version": "1.0.0",
      "model_name": "OutputModel",
      "state": {
       "layout": "IPY_MODEL_4a9aa68ad54f43acb647a35cf730c166"
      }
     },
     "984eb944a3634ef28d39fd9692fd9cee": {
      "model_module": "@jupyter-widgets/controls",
      "model_module_version": "1.4.0",
      "model_name": "VBoxModel",
      "state": {
       "children": [
        "IPY_MODEL_282e537287644163a72901d624d795b8",
        "IPY_MODEL_c3b50260fcf14baabf83cdfcb5d8e2d2"
       ],
       "layout": "IPY_MODEL_7a14787b4e9a4d1daefc9eeeb0e98430"
      }
     },
     "9870e79785ab4352b909e91bba9d27e5": {
      "model_module": "@jupyter-widgets/controls",
      "model_module_version": "1.4.0",
      "model_name": "ButtonModel",
      "state": {
       "description": "Run algorithm",
       "layout": "IPY_MODEL_673b63a91a7c41cea10440e87b729ad3",
       "style": "IPY_MODEL_567fa6eede9543b98ce381b21a1ef5f5"
      }
     },
     "987d37b07bbb40a999033dce075b3d64": {
      "model_module": "@jupyter-widgets/base",
      "model_module_version": "1.1.0",
      "model_name": "LayoutModel",
      "state": {}
     },
     "98a83a6b584343cf8869c7a4893e5eab": {
      "model_module": "@jupyter-widgets/base",
      "model_module_version": "1.1.0",
      "model_name": "LayoutModel",
      "state": {}
     },
     "98bb9deffb8947338c0fb48002b1a801": {
      "model_module": "@jupyter-widgets/controls",
      "model_module_version": "1.4.0",
      "model_name": "VBoxModel",
      "state": {
       "children": [
        "IPY_MODEL_c1578d17cde34390a10ea30c137e9f27",
        "IPY_MODEL_583c9e86be7d49f3b6ac4cb767e1e688",
        "IPY_MODEL_aa07063666e443dc97ea0bba6dfee03b",
        "IPY_MODEL_d64ebb419a7d4757b8a3499a0e4c07ab",
        "IPY_MODEL_88ba9983c9f2410d9513f064b2bd0a4e",
        "IPY_MODEL_4732a9d1bbf74747993edc5f3be4b325",
        "IPY_MODEL_6a94faccf3c34e84820a75d4ac624fa2",
        "IPY_MODEL_dc8b693a0380475a9521504abae7880f"
       ],
       "layout": "IPY_MODEL_8ca4a7b84c984f2cb88092e9a5e755f2"
      }
     },
     "98c355eb261e40028b009510a28becf8": {
      "model_module": "@jupyter-widgets/base",
      "model_module_version": "1.1.0",
      "model_name": "LayoutModel",
      "state": {}
     },
     "98d41bfa5a9043b2a790e5448ce9844a": {
      "model_module": "@jupyter-widgets/base",
      "model_module_version": "1.1.0",
      "model_name": "LayoutModel",
      "state": {}
     },
     "996b8256698242e8bce5cf3285300e35": {
      "model_module": "@jupyter-widgets/base",
      "model_module_version": "1.1.0",
      "model_name": "LayoutModel",
      "state": {}
     },
     "996e8d631f454a979879c51c4fb8f781": {
      "model_module": "@jupyter-widgets/base",
      "model_module_version": "1.1.0",
      "model_name": "LayoutModel",
      "state": {}
     },
     "99b06f8ae32a4c8c94b516bb0bcd46df": {
      "model_module": "@jupyter-widgets/controls",
      "model_module_version": "1.4.0",
      "model_name": "VBoxModel",
      "state": {
       "_dom_classes": [
        "widget-interact"
       ],
       "children": [
        "IPY_MODEL_7cdaba6e204f4851840686529a909bcb",
        "IPY_MODEL_7ef3128732c740489c12676a641771b5",
        "IPY_MODEL_41056d8485cf46899ed3564eaa1e6d53"
       ],
       "layout": "IPY_MODEL_5fafcc780d954a59adde51ba4ba1ce34"
      }
     },
     "99fce3ac97f14d078aa1e09be30c8d87": {
      "model_module": "@jupyter-widgets/base",
      "model_module_version": "1.1.0",
      "model_name": "LayoutModel",
      "state": {}
     },
     "9a1d4e281c554661a67970f9f15fe1b5": {
      "model_module": "@jupyter-widgets/controls",
      "model_module_version": "1.4.0",
      "model_name": "HBoxModel",
      "state": {
       "children": [
        "IPY_MODEL_18fb9da68e6d4114b47a6bd4e5329157"
       ],
       "layout": "IPY_MODEL_8aa28086732a48f28657141a43239648"
      }
     },
     "9a24e6dbd0644815bd4431481bf8be0e": {
      "model_module": "@jupyter-widgets/base",
      "model_module_version": "1.1.0",
      "model_name": "LayoutModel",
      "state": {}
     },
     "9a64d7d3d5d54596b90ee69a5eae3345": {
      "model_module": "@jupyter-widgets/controls",
      "model_module_version": "1.4.0",
      "model_name": "ButtonStyleModel",
      "state": {}
     },
     "9a675a6f14e2410b8baf285164790046": {
      "model_module": "@jupyter-widgets/output",
      "model_module_version": "1.0.0",
      "model_name": "OutputModel",
      "state": {
       "layout": "IPY_MODEL_4ac65609ae674b24ae56a62a1642484d"
      }
     },
     "9a6ecbf107f849168d59a577d3723e79": {
      "model_module": "@jupyter-widgets/base",
      "model_module_version": "1.1.0",
      "model_name": "LayoutModel",
      "state": {}
     },
     "9a7581c68cac4fd1b8f41777bfca7e80": {
      "model_module": "@jupyter-widgets/controls",
      "model_module_version": "1.4.0",
      "model_name": "ButtonStyleModel",
      "state": {}
     },
     "9a8402f978394a00835c4c077dd81e93": {
      "model_module": "@jupyter-widgets/base",
      "model_module_version": "1.1.0",
      "model_name": "LayoutModel",
      "state": {}
     },
     "9a8b530c09fd4165b62154c1342e6782": {
      "model_module": "@jupyter-widgets/base",
      "model_module_version": "1.1.0",
      "model_name": "LayoutModel",
      "state": {}
     },
     "9a9b66302b614be6b79228c0f3ea84a7": {
      "model_module": "@jupyter-widgets/controls",
      "model_module_version": "1.4.0",
      "model_name": "HBoxModel",
      "state": {
       "children": [
        "IPY_MODEL_890197205c384238a673f3342c4b4a4e",
        "IPY_MODEL_d544b01759564e45928f56b9d683aeae"
       ],
       "layout": "IPY_MODEL_6052dd09d86c46a09094fff1d190a9b5"
      }
     },
     "9a9bf6e978174141a6865a3c9e757aab": {
      "model_module": "@jupyter-widgets/output",
      "model_module_version": "1.0.0",
      "model_name": "OutputModel",
      "state": {
       "layout": "IPY_MODEL_14864b47fd3049ad9bbde4011accf75f"
      }
     },
     "9b156fba1ac24fc1b25d740d9ac72404": {
      "model_module": "@jupyter-widgets/base",
      "model_module_version": "1.1.0",
      "model_name": "LayoutModel",
      "state": {}
     },
     "9b4333f8e1254b2cb689baea010ccf6e": {
      "model_module": "@jupyter-widgets/controls",
      "model_module_version": "1.4.0",
      "model_name": "HBoxModel",
      "state": {
       "children": [
        "IPY_MODEL_a4186a58465f4fc6a3c14cbe0ca364d8",
        "IPY_MODEL_5d7dade7fddf42bd8abd996e8807b3dc"
       ],
       "layout": "IPY_MODEL_76ebf82bc1d34fbd8e5a8b797dcea8bb"
      }
     },
     "9b6bf99c859a4cdea5e54926de38e5dc": {
      "model_module": "@jupyter-widgets/base",
      "model_module_version": "1.1.0",
      "model_name": "LayoutModel",
      "state": {}
     },
     "9b6c62b166494e02acb16aed90f1c98e": {
      "model_module": "@jupyter-widgets/controls",
      "model_module_version": "1.4.0",
      "model_name": "VBoxModel",
      "state": {
       "children": [
        "IPY_MODEL_467abf0c84b746629cc02d043f510b3b",
        "IPY_MODEL_f03c702063304900a21b86a1cfc1bc6a",
        "IPY_MODEL_ff2acae77452485ab84e18b41091ce82",
        "IPY_MODEL_85f59b8ac04841dfaa02b062d28f402e",
        "IPY_MODEL_3dc6b39299cb45bd85928756dfe5f459",
        "IPY_MODEL_68d6a562e1904abab58ed04cfe99b19c",
        "IPY_MODEL_8fff40f93750435aa3ec486f0250c736"
       ],
       "layout": "IPY_MODEL_8b60a23f017d4528abf7e88f95e77b1a"
      }
     },
     "9b744757c9fd4c5fac77e825a64507ad": {
      "model_module": "@jupyter-widgets/controls",
      "model_module_version": "1.4.0",
      "model_name": "DescriptionStyleModel",
      "state": {
       "description_width": "initial"
      }
     },
     "9b7aafd23f664dc99834532fc2d646fa": {
      "model_module": "@jupyter-widgets/controls",
      "model_module_version": "1.4.0",
      "model_name": "VBoxModel",
      "state": {
       "children": [
        "IPY_MODEL_43fb3b3484a24a35a6e8b2c5b21db70c",
        "IPY_MODEL_807b4d686aa94fdcac748272c6a46c3e"
       ],
       "layout": "IPY_MODEL_52229d0ffdf643a68f46e758903aa89a"
      }
     },
     "9bab7172405c4c5694d9504dbef80f0d": {
      "model_module": "@jupyter-widgets/base",
      "model_module_version": "1.1.0",
      "model_name": "LayoutModel",
      "state": {}
     },
     "9bb96400758e4b4cb3f4ece0789d9f26": {
      "model_module": "@jupyter-widgets/controls",
      "model_module_version": "1.4.0",
      "model_name": "ToggleButtonsModel",
      "state": {
       "_options_labels": [
        "pre",
        "intra",
        "post",
        "IC",
        "IORT"
       ],
       "button_style": "",
       "description": "Type:",
       "icons": [],
       "index": 0,
       "layout": "IPY_MODEL_003efd3cd93c410b906697440b8d1e4c",
       "style": "IPY_MODEL_87a484a5d77947389303ebb80cbe3cb7",
       "tooltips": []
      }
     },
     "9bcdc51a97514b159e081b8681615cbd": {
      "model_module": "@jupyter-widgets/base",
      "model_module_version": "1.1.0",
      "model_name": "LayoutModel",
      "state": {}
     },
     "9bd9ef495a684c098f369b10b6b6194b": {
      "model_module": "@jupyter-widgets/controls",
      "model_module_version": "1.4.0",
      "model_name": "VBoxModel",
      "state": {
       "_dom_classes": [
        "widget-interact"
       ],
       "children": [
        "IPY_MODEL_7cdaba6e204f4851840686529a909bcb",
        "IPY_MODEL_7ef3128732c740489c12676a641771b5",
        "IPY_MODEL_2ddd7ff71e8a445690961b35b8389d27"
       ],
       "layout": "IPY_MODEL_10657d91656e410a9af486d9c292c429"
      }
     },
     "9bdb9a2d9eae494e814a2db12dd19b66": {
      "model_module": "@jupyter-widgets/base",
      "model_module_version": "1.1.0",
      "model_name": "LayoutModel",
      "state": {}
     },
     "9bf2ca571b7d416abdfa2018cba29da3": {
      "model_module": "@jupyter-widgets/controls",
      "model_module_version": "1.4.0",
      "model_name": "ButtonModel",
      "state": {
       "description": "Run algorithm",
       "layout": "IPY_MODEL_3cb65e60b0cb43d5b4e7fb266902551d",
       "style": "IPY_MODEL_18bdccb9b35e4d988b189eaba03c6dd4"
      }
     },
     "9c076a3bede94338acecc203b11a99c5": {
      "model_module": "@jupyter-widgets/base",
      "model_module_version": "1.1.0",
      "model_name": "LayoutModel",
      "state": {}
     },
     "9c1f9c5d242d4615a9ef486ac502bf8c": {
      "model_module": "@jupyter-widgets/controls",
      "model_module_version": "1.4.0",
      "model_name": "HBoxModel",
      "state": {
       "children": [
        "IPY_MODEL_00ab8707df8c4c149ea926159ef53089",
        "IPY_MODEL_2c22bd0a6dd74a70a7cf53e17dd47f24"
       ],
       "layout": "IPY_MODEL_3a2820e6a1544b8f97949e60666f7d1c"
      }
     },
     "9c91fdde1b2c4a49a479abfe3bdaf7b1": {
      "model_module": "@jupyter-widgets/controls",
      "model_module_version": "1.4.0",
      "model_name": "HBoxModel",
      "state": {
       "children": [
        "IPY_MODEL_4a6431b2c70142eb8a551a1a098eb375"
       ],
       "layout": "IPY_MODEL_4aea7e7706e849bebd12e6c4bc1ae691"
      }
     },
     "9c9271e84c6f4b98bcbd1c6951db8d42": {
      "model_module": "@jupyter-widgets/controls",
      "model_module_version": "1.4.0",
      "model_name": "ButtonStyleModel",
      "state": {}
     },
     "9c92b1f51e33402589cf4641012a3ec9": {
      "model_module": "@jupyter-widgets/controls",
      "model_module_version": "1.4.0",
      "model_name": "AccordionModel",
      "state": {
       "_titles": {
        "0": "Procedure",
        "1": "Parameters"
       },
       "children": [
        "IPY_MODEL_bca1519970d24abfa8d648d58187e905",
        "IPY_MODEL_de2fd6bdc8fc4283b1354356ef1deb8b"
       ],
       "layout": "IPY_MODEL_1011e78aac7947f784c7cf3e8c141384",
       "selected_index": 1
      }
     },
     "9c98b8a8af924b598792636026aa3e23": {
      "model_module": "@jupyter-widgets/base",
      "model_module_version": "1.1.0",
      "model_name": "LayoutModel",
      "state": {}
     },
     "9cbca0eee6b3413d9f820e09e954858f": {
      "model_module": "@jupyter-widgets/base",
      "model_module_version": "1.1.0",
      "model_name": "LayoutModel",
      "state": {}
     },
     "9d08cd6dc8184aa79c28643a9f64cf8f": {
      "model_module": "@jupyter-widgets/base",
      "model_module_version": "1.1.0",
      "model_name": "LayoutModel",
      "state": {}
     },
     "9d3b7a7fd59c427e831f15d6abfabb0c": {
      "model_module": "@jupyter-widgets/controls",
      "model_module_version": "1.4.0",
      "model_name": "ButtonModel",
      "state": {
       "description": "Run algorithm",
       "layout": "IPY_MODEL_11030600831048c4a908694c1c9dfc1f",
       "style": "IPY_MODEL_4b88ee42eb4f4c5ca460a049c198abc7"
      }
     },
     "9d64c2da1a454b0f99be8fc3a30ed8e4": {
      "model_module": "@jupyter-widgets/controls",
      "model_module_version": "1.4.0",
      "model_name": "FloatTextModel",
      "state": {
       "description": "$PT (s)$",
       "layout": "IPY_MODEL_a4174c1313b54bdaa1d23805b957e92e",
       "step": null,
       "style": "IPY_MODEL_dcecf5ec05564bbe9eff13996739fb46",
       "value": 17.1
      }
     },
     "9d842c94091f4fd79f80a8ffcb5ef603": {
      "model_module": "@jupyter-widgets/base",
      "model_module_version": "1.1.0",
      "model_name": "LayoutModel",
      "state": {}
     },
     "9db1f711782a4c65b0f6c599933b978d": {
      "model_module": "@jupyter-widgets/controls",
      "model_module_version": "1.4.0",
      "model_name": "VBoxModel",
      "state": {
       "_dom_classes": [
        "widget-interact"
       ],
       "children": [
        "IPY_MODEL_33afde2c50854147adfb106282c7fe56",
        "IPY_MODEL_a583f025e00947f8a09997ddd396ba45",
        "IPY_MODEL_a30587335326423da4a31adfd9b803fd"
       ],
       "layout": "IPY_MODEL_b8640df07e5847aeb4eda7b54714b370"
      }
     },
     "9dcb5d1f094a49d688b225a926a7b89c": {
      "model_module": "@jupyter-widgets/base",
      "model_module_version": "1.1.0",
      "model_name": "LayoutModel",
      "state": {}
     },
     "9dd91e2dc56945f2b475af3adf2f867e": {
      "model_module": "@jupyter-widgets/base",
      "model_module_version": "1.1.0",
      "model_name": "LayoutModel",
      "state": {}
     },
     "9e45905e895e48b085e0335d1a884841": {
      "model_module": "@jupyter-widgets/controls",
      "model_module_version": "1.4.0",
      "model_name": "AccordionModel",
      "state": {
       "_titles": {
        "0": "Procedure",
        "1": "Parameters"
       },
       "children": [
        "IPY_MODEL_d2017b4fe2f94105a7ed2b0a52ba4077",
        "IPY_MODEL_89e1981bdbea49ab9067f5ddee7330e3"
       ],
       "layout": "IPY_MODEL_80982fe289b84099a8866398da791c1e",
       "selected_index": 1
      }
     },
     "9e550b6b83594c279347328307958ead": {
      "model_module": "@jupyter-widgets/base",
      "model_module_version": "1.1.0",
      "model_name": "LayoutModel",
      "state": {}
     },
     "9e72ea6871ff4d64b845e371e33ca800": {
      "model_module": "@jupyter-widgets/output",
      "model_module_version": "1.0.0",
      "model_name": "OutputModel",
      "state": {
       "layout": "IPY_MODEL_64439df566754feb8ddf210b91dc5d3c"
      }
     },
     "9ea31faba1714fa68e9bb3b1c924a719": {
      "model_module": "@jupyter-widgets/base",
      "model_module_version": "1.1.0",
      "model_name": "LayoutModel",
      "state": {}
     },
     "9ec9a5cefc624992ba920345628f44c3": {
      "model_module": "@jupyter-widgets/output",
      "model_module_version": "1.0.0",
      "model_name": "OutputModel",
      "state": {
       "layout": "IPY_MODEL_8d975b1eefba473fa8a0d81f64c3db7a"
      }
     },
     "9f028bc0d0d34102aca9e1b31d9dc6fb": {
      "model_module": "@jupyter-widgets/base",
      "model_module_version": "1.1.0",
      "model_name": "LayoutModel",
      "state": {}
     },
     "9f06ebfee29c4640b0ee9107e01c21be": {
      "model_module": "@jupyter-widgets/controls",
      "model_module_version": "1.4.0",
      "model_name": "DescriptionStyleModel",
      "state": {
       "description_width": "initial"
      }
     },
     "9f592d2e23794c0499ef2247bfaa907a": {
      "model_module": "@jupyter-widgets/base",
      "model_module_version": "1.1.0",
      "model_name": "LayoutModel",
      "state": {}
     },
     "9fa08c7538cf478f84bf312b30e90ad9": {
      "model_module": "@jupyter-widgets/controls",
      "model_module_version": "1.4.0",
      "model_name": "FloatTextModel",
      "state": {
       "description": "$MEA_{ADP} (U)$",
       "layout": "IPY_MODEL_9c076a3bede94338acecc203b11a99c5",
       "step": null,
       "style": "IPY_MODEL_a4e643439b854630ba34c13c424b9542",
       "value": "nan"
      }
     },
     "9ffe039643b445f19fad43330e0bbc9b": {
      "model_module": "@jupyter-widgets/controls",
      "model_module_version": "1.4.0",
      "model_name": "FloatTextModel",
      "state": {
       "description": "$MEA_{TRAP} (U)$",
       "layout": "IPY_MODEL_4d4ebca6bab6433da7cc0edbb3e23d60",
       "step": null,
       "style": "IPY_MODEL_438ce5042fc64a0f8e39f418be68315e",
       "value": 51
      }
     },
     "a01b784b45874ba2a5539a9063527748": {
      "model_module": "@jupyter-widgets/base",
      "model_module_version": "1.1.0",
      "model_name": "LayoutModel",
      "state": {}
     },
     "a01ef11759334482a264aea950f91b4d": {
      "model_module": "@jupyter-widgets/controls",
      "model_module_version": "1.4.0",
      "model_name": "VBoxModel",
      "state": {
       "_dom_classes": [
        "widget-interact"
       ],
       "children": [
        "IPY_MODEL_467abf0c84b746629cc02d043f510b3b",
        "IPY_MODEL_f03c702063304900a21b86a1cfc1bc6a",
        "IPY_MODEL_ff2acae77452485ab84e18b41091ce82",
        "IPY_MODEL_85f59b8ac04841dfaa02b062d28f402e",
        "IPY_MODEL_3dc6b39299cb45bd85928756dfe5f459",
        "IPY_MODEL_68d6a562e1904abab58ed04cfe99b19c",
        "IPY_MODEL_8fff40f93750435aa3ec486f0250c736",
        "IPY_MODEL_c1578d17cde34390a10ea30c137e9f27",
        "IPY_MODEL_583c9e86be7d49f3b6ac4cb767e1e688",
        "IPY_MODEL_aa07063666e443dc97ea0bba6dfee03b",
        "IPY_MODEL_d64ebb419a7d4757b8a3499a0e4c07ab",
        "IPY_MODEL_88ba9983c9f2410d9513f064b2bd0a4e",
        "IPY_MODEL_4732a9d1bbf74747993edc5f3be4b325",
        "IPY_MODEL_6a94faccf3c34e84820a75d4ac624fa2",
        "IPY_MODEL_dc8b693a0380475a9521504abae7880f",
        "IPY_MODEL_a9a95b7794494c03aa8ae55a9c888072"
       ],
       "layout": "IPY_MODEL_22a3b8a6b2914397a1fe129bec745e6b"
      }
     },
     "a0728c8c09404ff3b011f7103130a9e5": {
      "model_module": "@jupyter-widgets/controls",
      "model_module_version": "1.4.0",
      "model_name": "VBoxModel",
      "state": {
       "children": [
        "IPY_MODEL_467abf0c84b746629cc02d043f510b3b",
        "IPY_MODEL_f03c702063304900a21b86a1cfc1bc6a",
        "IPY_MODEL_ff2acae77452485ab84e18b41091ce82",
        "IPY_MODEL_85f59b8ac04841dfaa02b062d28f402e",
        "IPY_MODEL_3dc6b39299cb45bd85928756dfe5f459",
        "IPY_MODEL_68d6a562e1904abab58ed04cfe99b19c",
        "IPY_MODEL_8fff40f93750435aa3ec486f0250c736"
       ],
       "layout": "IPY_MODEL_338c2ed3c04846738a147896f84a8248"
      }
     },
     "a0d5e4e503b2455f99faeac98c311873": {
      "model_module": "@jupyter-widgets/base",
      "model_module_version": "1.1.0",
      "model_name": "LayoutModel",
      "state": {}
     },
     "a143867cd03a4d6181b252a536a3ec9c": {
      "model_module": "@jupyter-widgets/controls",
      "model_module_version": "1.4.0",
      "model_name": "VBoxModel",
      "state": {
       "children": [
        "IPY_MODEL_467abf0c84b746629cc02d043f510b3b",
        "IPY_MODEL_f03c702063304900a21b86a1cfc1bc6a",
        "IPY_MODEL_ff2acae77452485ab84e18b41091ce82",
        "IPY_MODEL_85f59b8ac04841dfaa02b062d28f402e",
        "IPY_MODEL_3dc6b39299cb45bd85928756dfe5f459",
        "IPY_MODEL_68d6a562e1904abab58ed04cfe99b19c",
        "IPY_MODEL_8fff40f93750435aa3ec486f0250c736"
       ],
       "layout": "IPY_MODEL_7f1430a645eb4e68bf047b4759201701"
      }
     },
     "a19d6af003b64dc59f4a5340b280c910": {
      "model_module": "@jupyter-widgets/base",
      "model_module_version": "1.1.0",
      "model_name": "LayoutModel",
      "state": {}
     },
     "a1e8865c937746c59e1573e4acc1aa0f": {
      "model_module": "@jupyter-widgets/base",
      "model_module_version": "1.1.0",
      "model_name": "LayoutModel",
      "state": {}
     },
     "a1f84e2e4e1c4894b554f1c2c4edf275": {
      "model_module": "@jupyter-widgets/base",
      "model_module_version": "1.1.0",
      "model_name": "LayoutModel",
      "state": {}
     },
     "a200bfc1b19b411a9d79a4de8403dff6": {
      "model_module": "@jupyter-widgets/base",
      "model_module_version": "1.1.0",
      "model_name": "LayoutModel",
      "state": {}
     },
     "a22609afd3dc4596b1523d681a52cd9e": {
      "model_module": "@jupyter-widgets/controls",
      "model_module_version": "1.4.0",
      "model_name": "ButtonModel",
      "state": {
       "description": "Run algorithm",
       "layout": "IPY_MODEL_f8e54083181b4ce1823f83618a92b588",
       "style": "IPY_MODEL_afce4ebd6f9343f694b0137623fa7c50"
      }
     },
     "a2560e6054d64a32a6270f3ca1de09bf": {
      "model_module": "@jupyter-widgets/controls",
      "model_module_version": "1.4.0",
      "model_name": "FloatTextModel",
      "state": {
       "description": "$PT_{Heparinase} (s)$",
       "layout": "IPY_MODEL_36c3e0273bed41c1966dca1d1058cd52",
       "step": null,
       "style": "IPY_MODEL_9772f53c13a34bc3afdc23cb15a97e99",
       "value": "nan"
      }
     },
     "a2921d5e1ed6450fa73a4cf316e63109": {
      "model_module": "@jupyter-widgets/base",
      "model_module_version": "1.1.0",
      "model_name": "LayoutModel",
      "state": {}
     },
     "a29c635fc49144658ec2790312106616": {
      "model_module": "@jupyter-widgets/controls",
      "model_module_version": "1.4.0",
      "model_name": "ButtonModel",
      "state": {
       "description": "Run algorithm",
       "layout": "IPY_MODEL_24a71cedea9644448dce13f93ee2f39c",
       "style": "IPY_MODEL_971712a10b8c4d4c8822f354cb2fb976"
      }
     },
     "a29de1dc2255428d9d5a96457b6c4510": {
      "model_module": "@jupyter-widgets/output",
      "model_module_version": "1.0.0",
      "model_name": "OutputModel",
      "state": {
       "layout": "IPY_MODEL_819404f3828b48739cb2af094c8bf213"
      }
     },
     "a2caa09163a641f39d690a9eb3e5dad0": {
      "model_module": "@jupyter-widgets/controls",
      "model_module_version": "1.4.0",
      "model_name": "AccordionModel",
      "state": {
       "_titles": {
        "0": "Procedure",
        "1": "Parameters"
       },
       "children": [
        "IPY_MODEL_d8dade967e044d2f8648d3069f1768f9",
        "IPY_MODEL_13dfdfbc58034fef879b0c373ca57d23"
       ],
       "layout": "IPY_MODEL_7ae729c38d3642d5a9a524f57dd9843f",
       "selected_index": 1
      }
     },
     "a30587335326423da4a31adfd9b803fd": {
      "model_module": "@jupyter-widgets/output",
      "model_module_version": "1.0.0",
      "model_name": "OutputModel",
      "state": {
       "layout": "IPY_MODEL_22dd8639938547edb259ba332f27ca9d"
      }
     },
     "a3208641931f4afb9b6f9cfb1c49c1cc": {
      "model_module": "@jupyter-widgets/base",
      "model_module_version": "1.1.0",
      "model_name": "LayoutModel",
      "state": {}
     },
     "a32cdf91ea2145dc83326d8e6b473319": {
      "model_module": "@jupyter-widgets/output",
      "model_module_version": "1.0.0",
      "model_name": "OutputModel",
      "state": {
       "layout": "IPY_MODEL_50c9cc34f4224bc19df347e984780baf"
      }
     },
     "a368212c4e574696967f4ed5eedd5ec0": {
      "model_module": "@jupyter-widgets/base",
      "model_module_version": "1.1.0",
      "model_name": "LayoutModel",
      "state": {}
     },
     "a398c126a29d451eaa628ba161d2d359": {
      "model_module": "@jupyter-widgets/controls",
      "model_module_version": "1.4.0",
      "model_name": "ButtonStyleModel",
      "state": {}
     },
     "a3a1e5f3d2a44056a5ca9d60ce4329d0": {
      "model_module": "@jupyter-widgets/base",
      "model_module_version": "1.1.0",
      "model_name": "LayoutModel",
      "state": {}
     },
     "a3cbcc85b1e34e499570aba8786e97b3": {
      "model_module": "@jupyter-widgets/controls",
      "model_module_version": "1.4.0",
      "model_name": "VBoxModel",
      "state": {
       "children": [
        "IPY_MODEL_467abf0c84b746629cc02d043f510b3b",
        "IPY_MODEL_f03c702063304900a21b86a1cfc1bc6a",
        "IPY_MODEL_ff2acae77452485ab84e18b41091ce82",
        "IPY_MODEL_85f59b8ac04841dfaa02b062d28f402e",
        "IPY_MODEL_3dc6b39299cb45bd85928756dfe5f459",
        "IPY_MODEL_68d6a562e1904abab58ed04cfe99b19c",
        "IPY_MODEL_8fff40f93750435aa3ec486f0250c736"
       ],
       "layout": "IPY_MODEL_d3988ae859724202b39b068c12b28e2a"
      }
     },
     "a3ebc514af1445e0bf8a28f5e0e8b605": {
      "model_module": "@jupyter-widgets/base",
      "model_module_version": "1.1.0",
      "model_name": "LayoutModel",
      "state": {}
     },
     "a4051002e494411dabf558e924004cd9": {
      "model_module": "@jupyter-widgets/base",
      "model_module_version": "1.1.0",
      "model_name": "LayoutModel",
      "state": {}
     },
     "a412404b60294cbe9b80a59f6a3ef034": {
      "model_module": "@jupyter-widgets/base",
      "model_module_version": "1.1.0",
      "model_name": "LayoutModel",
      "state": {}
     },
     "a4174c1313b54bdaa1d23805b957e92e": {
      "model_module": "@jupyter-widgets/base",
      "model_module_version": "1.1.0",
      "model_name": "LayoutModel",
      "state": {}
     },
     "a4186a58465f4fc6a3c14cbe0ca364d8": {
      "model_module": "@jupyter-widgets/controls",
      "model_module_version": "1.4.0",
      "model_name": "VBoxModel",
      "state": {
       "children": [
        "IPY_MODEL_adb1524dbc9446f88500930b1cbae126",
        "IPY_MODEL_e2f9b28d2b0044b0bbe579fcaf1539de",
        "IPY_MODEL_aacaa0400e6243419a526a1a81728ee1",
        "IPY_MODEL_da2283904ce54cae83eb251736dc789e",
        "IPY_MODEL_1d293bac518844ab98f80e608d5e1ac5",
        "IPY_MODEL_d299703f46714aab8fb53de70fddf595",
        "IPY_MODEL_2346e45bf6d246dca8bc952045fc3e37",
        "IPY_MODEL_279ca9eda5f24edd85429db6823040ba"
       ],
       "layout": "IPY_MODEL_8a4b2904bf394438a3f585d57768ffb9"
      }
     },
     "a418cb0021cb4187b843dc329602bbd6": {
      "model_module": "@jupyter-widgets/controls",
      "model_module_version": "1.4.0",
      "model_name": "ButtonModel",
      "state": {
       "description": "Run algorithm",
       "layout": "IPY_MODEL_6fda3ed142d9422d864efd209b72b8bf",
       "style": "IPY_MODEL_961b75ad84164c8cbe21abf1b0a8beb5"
      }
     },
     "a441b40d1dd642da934c0f7d91fe45c6": {
      "model_module": "@jupyter-widgets/base",
      "model_module_version": "1.1.0",
      "model_name": "LayoutModel",
      "state": {}
     },
     "a4724ceee9c04a1ca2926654d3b11e31": {
      "model_module": "@jupyter-widgets/controls",
      "model_module_version": "1.4.0",
      "model_name": "ButtonModel",
      "state": {
       "description": "Run algorithm",
       "layout": "IPY_MODEL_e7477857836e41288f129415e3c7d6ed",
       "style": "IPY_MODEL_c54adef991c5454e9446cd677bb9e9ce"
      }
     },
     "a478b4edfd4140efa34f1ab302ba36ce": {
      "model_module": "@jupyter-widgets/base",
      "model_module_version": "1.1.0",
      "model_name": "LayoutModel",
      "state": {}
     },
     "a47c2547000544e0bdb992845eca479f": {
      "model_module": "@jupyter-widgets/base",
      "model_module_version": "1.1.0",
      "model_name": "LayoutModel",
      "state": {}
     },
     "a49391b667ec453e9998d2a4afb859d6": {
      "model_module": "@jupyter-widgets/base",
      "model_module_version": "1.1.0",
      "model_name": "LayoutModel",
      "state": {}
     },
     "a4e46472763d492a8deb3158916abfe3": {
      "model_module": "@jupyter-widgets/base",
      "model_module_version": "1.1.0",
      "model_name": "LayoutModel",
      "state": {}
     },
     "a4e643439b854630ba34c13c424b9542": {
      "model_module": "@jupyter-widgets/controls",
      "model_module_version": "1.4.0",
      "model_name": "DescriptionStyleModel",
      "state": {
       "description_width": "initial"
      }
     },
     "a505aa11b713414890cfce7d66e5d8cd": {
      "model_module": "@jupyter-widgets/controls",
      "model_module_version": "1.4.0",
      "model_name": "VBoxModel",
      "state": {
       "_dom_classes": [
        "widget-interact"
       ],
       "children": [
        "IPY_MODEL_7cdaba6e204f4851840686529a909bcb",
        "IPY_MODEL_7ef3128732c740489c12676a641771b5",
        "IPY_MODEL_b6dc2bf3f08b436e8680cce06e586970"
       ],
       "layout": "IPY_MODEL_f48f7fb51cad43a49491a5feffa16763"
      }
     },
     "a53fdb09e23a429ea9015c081e4a7923": {
      "model_module": "@jupyter-widgets/output",
      "model_module_version": "1.0.0",
      "model_name": "OutputModel",
      "state": {
       "layout": "IPY_MODEL_1d17bb86b1db4365981c7c71522e1814"
      }
     },
     "a55bdfde891342ab8e6a55508bcef3fe": {
      "model_module": "@jupyter-widgets/controls",
      "model_module_version": "1.4.0",
      "model_name": "DescriptionStyleModel",
      "state": {
       "description_width": "initial"
      }
     },
     "a565a51606a045c0a37355a25224b298": {
      "model_module": "@jupyter-widgets/base",
      "model_module_version": "1.1.0",
      "model_name": "LayoutModel",
      "state": {}
     },
     "a583f025e00947f8a09997ddd396ba45": {
      "model_module": "@jupyter-widgets/controls",
      "model_module_version": "1.4.0",
      "model_name": "ToggleButtonsModel",
      "state": {
       "_options_labels": [
        "pre",
        "intra",
        "post",
        "IC",
        "IORT"
       ],
       "button_style": "",
       "description": "Type:",
       "icons": [],
       "index": 0,
       "layout": "IPY_MODEL_47e0c3e0324448deae194e350295dddc",
       "style": "IPY_MODEL_cb8379753f4d405fa9505f89de6b11a6",
       "tooltips": []
      }
     },
     "a5b11024e92a431f8248e948a575d79b": {
      "model_module": "@jupyter-widgets/controls",
      "model_module_version": "1.4.0",
      "model_name": "VBoxModel",
      "state": {
       "_dom_classes": [
        "widget-interact"
       ],
       "children": [
        "IPY_MODEL_467abf0c84b746629cc02d043f510b3b",
        "IPY_MODEL_f03c702063304900a21b86a1cfc1bc6a",
        "IPY_MODEL_ff2acae77452485ab84e18b41091ce82",
        "IPY_MODEL_85f59b8ac04841dfaa02b062d28f402e",
        "IPY_MODEL_3dc6b39299cb45bd85928756dfe5f459",
        "IPY_MODEL_68d6a562e1904abab58ed04cfe99b19c",
        "IPY_MODEL_8fff40f93750435aa3ec486f0250c736",
        "IPY_MODEL_c1578d17cde34390a10ea30c137e9f27",
        "IPY_MODEL_583c9e86be7d49f3b6ac4cb767e1e688",
        "IPY_MODEL_aa07063666e443dc97ea0bba6dfee03b",
        "IPY_MODEL_d64ebb419a7d4757b8a3499a0e4c07ab",
        "IPY_MODEL_88ba9983c9f2410d9513f064b2bd0a4e",
        "IPY_MODEL_4732a9d1bbf74747993edc5f3be4b325",
        "IPY_MODEL_6a94faccf3c34e84820a75d4ac624fa2",
        "IPY_MODEL_dc8b693a0380475a9521504abae7880f",
        "IPY_MODEL_3067a26c5c7242f39bde544868df7f6e"
       ],
       "layout": "IPY_MODEL_eb9765307dc8474eab62a8d12adb5e53"
      }
     },
     "a5c9a14da60a4f4493afda8d48d465dc": {
      "model_module": "@jupyter-widgets/base",
      "model_module_version": "1.1.0",
      "model_name": "LayoutModel",
      "state": {}
     },
     "a5dca370b6d74dc68f5841371e0d831f": {
      "model_module": "@jupyter-widgets/output",
      "model_module_version": "1.0.0",
      "model_name": "OutputModel",
      "state": {
       "layout": "IPY_MODEL_272040845b5a4a599b171e632103541f"
      }
     },
     "a600dc4bcb5043ac8cdd84edb2082c1b": {
      "model_module": "@jupyter-widgets/base",
      "model_module_version": "1.1.0",
      "model_name": "LayoutModel",
      "state": {}
     },
     "a60ae1678e9144ccbd87d20746bced76": {
      "model_module": "@jupyter-widgets/controls",
      "model_module_version": "1.4.0",
      "model_name": "VBoxModel",
      "state": {
       "children": [
        "IPY_MODEL_62321a24db3b44799bd8e5770108e3da",
        "IPY_MODEL_074b83c8549742ef9b6902fccc5b9d37"
       ],
       "layout": "IPY_MODEL_737c86f4a0e44856a10ab535b498c6c9"
      }
     },
     "a6106d85591247019177bbca660ccb05": {
      "model_module": "@jupyter-widgets/output",
      "model_module_version": "1.0.0",
      "model_name": "OutputModel",
      "state": {
       "layout": "IPY_MODEL_f5c9e6c795b64d738ee1aa4270c3bed4"
      }
     },
     "a63800f51be347d88657e6eb8e8bddef": {
      "model_module": "@jupyter-widgets/controls",
      "model_module_version": "1.4.0",
      "model_name": "HBoxModel",
      "state": {
       "children": [
        "IPY_MODEL_00e995ba336940bd81f5864b88eb7232",
        "IPY_MODEL_a0728c8c09404ff3b011f7103130a9e5"
       ],
       "layout": "IPY_MODEL_b95904610fb34eafa7b245ae609dc892"
      }
     },
     "a643f840d90d49858edfbc0c36d675d7": {
      "model_module": "@jupyter-widgets/base",
      "model_module_version": "1.1.0",
      "model_name": "LayoutModel",
      "state": {}
     },
     "a646b578e15644f4ad25b84071416017": {
      "model_module": "@jupyter-widgets/base",
      "model_module_version": "1.1.0",
      "model_name": "LayoutModel",
      "state": {}
     },
     "a6524cb500744ebc901165337e802953": {
      "model_module": "@jupyter-widgets/base",
      "model_module_version": "1.1.0",
      "model_name": "LayoutModel",
      "state": {}
     },
     "a6667dd879844511913a69056e533508": {
      "model_module": "@jupyter-widgets/controls",
      "model_module_version": "1.4.0",
      "model_name": "VBoxModel",
      "state": {
       "children": [
        "IPY_MODEL_467abf0c84b746629cc02d043f510b3b",
        "IPY_MODEL_f03c702063304900a21b86a1cfc1bc6a",
        "IPY_MODEL_ff2acae77452485ab84e18b41091ce82",
        "IPY_MODEL_85f59b8ac04841dfaa02b062d28f402e",
        "IPY_MODEL_3dc6b39299cb45bd85928756dfe5f459",
        "IPY_MODEL_68d6a562e1904abab58ed04cfe99b19c",
        "IPY_MODEL_8fff40f93750435aa3ec486f0250c736"
       ],
       "layout": "IPY_MODEL_43c2663fa2f147918c947ffd955814a3"
      }
     },
     "a669dfae956343a083c2ed7f402bc2e7": {
      "model_module": "@jupyter-widgets/base",
      "model_module_version": "1.1.0",
      "model_name": "LayoutModel",
      "state": {}
     },
     "a6b93a7ed56743789cb74f88d6b8e280": {
      "model_module": "@jupyter-widgets/base",
      "model_module_version": "1.1.0",
      "model_name": "LayoutModel",
      "state": {}
     },
     "a6d1ef8a883840778737e2318420d2a1": {
      "model_module": "@jupyter-widgets/output",
      "model_module_version": "1.0.0",
      "model_name": "OutputModel",
      "state": {
       "layout": "IPY_MODEL_3407c7c5259c451faba1bc269a5d016c"
      }
     },
     "a6eaf0aab6484c71a7ba7addbaecafc6": {
      "model_module": "@jupyter-widgets/controls",
      "model_module_version": "1.4.0",
      "model_name": "VBoxModel",
      "state": {
       "children": [
        "IPY_MODEL_c1578d17cde34390a10ea30c137e9f27",
        "IPY_MODEL_583c9e86be7d49f3b6ac4cb767e1e688",
        "IPY_MODEL_aa07063666e443dc97ea0bba6dfee03b",
        "IPY_MODEL_d64ebb419a7d4757b8a3499a0e4c07ab",
        "IPY_MODEL_88ba9983c9f2410d9513f064b2bd0a4e",
        "IPY_MODEL_4732a9d1bbf74747993edc5f3be4b325",
        "IPY_MODEL_6a94faccf3c34e84820a75d4ac624fa2",
        "IPY_MODEL_dc8b693a0380475a9521504abae7880f"
       ],
       "layout": "IPY_MODEL_62e94b1007ce48ddb2632913bde1f0bf"
      }
     },
     "a6f8701831cb4734818004b0b96a9fa2": {
      "model_module": "@jupyter-widgets/controls",
      "model_module_version": "1.4.0",
      "model_name": "VBoxModel",
      "state": {
       "_dom_classes": [
        "widget-interact"
       ],
       "children": [
        "IPY_MODEL_467abf0c84b746629cc02d043f510b3b",
        "IPY_MODEL_f03c702063304900a21b86a1cfc1bc6a",
        "IPY_MODEL_ff2acae77452485ab84e18b41091ce82",
        "IPY_MODEL_85f59b8ac04841dfaa02b062d28f402e",
        "IPY_MODEL_3dc6b39299cb45bd85928756dfe5f459",
        "IPY_MODEL_68d6a562e1904abab58ed04cfe99b19c",
        "IPY_MODEL_8fff40f93750435aa3ec486f0250c736",
        "IPY_MODEL_c1578d17cde34390a10ea30c137e9f27",
        "IPY_MODEL_583c9e86be7d49f3b6ac4cb767e1e688",
        "IPY_MODEL_aa07063666e443dc97ea0bba6dfee03b",
        "IPY_MODEL_d64ebb419a7d4757b8a3499a0e4c07ab",
        "IPY_MODEL_88ba9983c9f2410d9513f064b2bd0a4e",
        "IPY_MODEL_4732a9d1bbf74747993edc5f3be4b325",
        "IPY_MODEL_6a94faccf3c34e84820a75d4ac624fa2",
        "IPY_MODEL_dc8b693a0380475a9521504abae7880f",
        "IPY_MODEL_88edd6ee6b654e409e78134647dc3563"
       ],
       "layout": "IPY_MODEL_d8a93bdb3a1d4c3faf9006c5bac46465"
      }
     },
     "a74899495d054987b6973ef4fd19ad46": {
      "model_module": "@jupyter-widgets/controls",
      "model_module_version": "1.4.0",
      "model_name": "VBoxModel",
      "state": {
       "_dom_classes": [
        "widget-interact"
       ],
       "children": [
        "IPY_MODEL_467abf0c84b746629cc02d043f510b3b",
        "IPY_MODEL_f03c702063304900a21b86a1cfc1bc6a",
        "IPY_MODEL_ff2acae77452485ab84e18b41091ce82",
        "IPY_MODEL_85f59b8ac04841dfaa02b062d28f402e",
        "IPY_MODEL_3dc6b39299cb45bd85928756dfe5f459",
        "IPY_MODEL_68d6a562e1904abab58ed04cfe99b19c",
        "IPY_MODEL_8fff40f93750435aa3ec486f0250c736",
        "IPY_MODEL_c1578d17cde34390a10ea30c137e9f27",
        "IPY_MODEL_583c9e86be7d49f3b6ac4cb767e1e688",
        "IPY_MODEL_aa07063666e443dc97ea0bba6dfee03b",
        "IPY_MODEL_d64ebb419a7d4757b8a3499a0e4c07ab",
        "IPY_MODEL_88ba9983c9f2410d9513f064b2bd0a4e",
        "IPY_MODEL_4732a9d1bbf74747993edc5f3be4b325",
        "IPY_MODEL_6a94faccf3c34e84820a75d4ac624fa2",
        "IPY_MODEL_dc8b693a0380475a9521504abae7880f",
        "IPY_MODEL_84e72b747170448cae8be99d0c0f2179"
       ],
       "layout": "IPY_MODEL_603a36fbdfb64389a15f27f373776002"
      }
     },
     "a752dd807fbd437d9fca031aa95aaa38": {
      "model_module": "@jupyter-widgets/base",
      "model_module_version": "1.1.0",
      "model_name": "LayoutModel",
      "state": {}
     },
     "a7703b5e06ba4d8c9e82cd5b1a6c3257": {
      "model_module": "@jupyter-widgets/controls",
      "model_module_version": "1.4.0",
      "model_name": "VBoxModel",
      "state": {
       "children": [
        "IPY_MODEL_467abf0c84b746629cc02d043f510b3b",
        "IPY_MODEL_f03c702063304900a21b86a1cfc1bc6a",
        "IPY_MODEL_ff2acae77452485ab84e18b41091ce82",
        "IPY_MODEL_85f59b8ac04841dfaa02b062d28f402e",
        "IPY_MODEL_3dc6b39299cb45bd85928756dfe5f459",
        "IPY_MODEL_68d6a562e1904abab58ed04cfe99b19c",
        "IPY_MODEL_8fff40f93750435aa3ec486f0250c736"
       ],
       "layout": "IPY_MODEL_c8fac3d59de441f0a02a0e4b0ab1fe70"
      }
     },
     "a85256645d5c415e84421ea2c3141a10": {
      "model_module": "@jupyter-widgets/controls",
      "model_module_version": "1.4.0",
      "model_name": "ButtonStyleModel",
      "state": {}
     },
     "a8857b337f2542069da975450902b29d": {
      "model_module": "@jupyter-widgets/base",
      "model_module_version": "1.1.0",
      "model_name": "LayoutModel",
      "state": {}
     },
     "a88fbe2bcf2b48f9a1eed16d0088872b": {
      "model_module": "@jupyter-widgets/controls",
      "model_module_version": "1.4.0",
      "model_name": "HBoxModel",
      "state": {
       "children": [
        "IPY_MODEL_7177f2406f234b38ac18be4da526e8f9",
        "IPY_MODEL_a6667dd879844511913a69056e533508"
       ],
       "layout": "IPY_MODEL_16e119f97c374fc1bca8e93b8869aa37"
      }
     },
     "a8c0b85a547f46078631ec8f404774d3": {
      "model_module": "@jupyter-widgets/controls",
      "model_module_version": "1.4.0",
      "model_name": "HBoxModel",
      "state": {
       "children": [
        "IPY_MODEL_0bc4ae9adc6a4a1bb1ac93657219c97c",
        "IPY_MODEL_2463e03aa5da4b57a77c322acaf20469"
       ],
       "layout": "IPY_MODEL_93c8d112df9743af95eef6e264d24a41"
      }
     },
     "a8c5aa1e838c40dc9578e0ca372d4fb6": {
      "model_module": "@jupyter-widgets/base",
      "model_module_version": "1.1.0",
      "model_name": "LayoutModel",
      "state": {}
     },
     "a8d32187d64a43ef96aa3e1580dfceed": {
      "model_module": "@jupyter-widgets/base",
      "model_module_version": "1.1.0",
      "model_name": "LayoutModel",
      "state": {}
     },
     "a910360272764fb68f0ca7e916fc302c": {
      "model_module": "@jupyter-widgets/base",
      "model_module_version": "1.1.0",
      "model_name": "LayoutModel",
      "state": {}
     },
     "a9233e65026049269dc7bb6ac9288e49": {
      "model_module": "@jupyter-widgets/base",
      "model_module_version": "1.1.0",
      "model_name": "LayoutModel",
      "state": {}
     },
     "a92a8a624ffb40739df39808d89afbe3": {
      "model_module": "@jupyter-widgets/controls",
      "model_module_version": "1.4.0",
      "model_name": "VBoxModel",
      "state": {
       "children": [
        "IPY_MODEL_467abf0c84b746629cc02d043f510b3b",
        "IPY_MODEL_f03c702063304900a21b86a1cfc1bc6a",
        "IPY_MODEL_ff2acae77452485ab84e18b41091ce82",
        "IPY_MODEL_85f59b8ac04841dfaa02b062d28f402e",
        "IPY_MODEL_3dc6b39299cb45bd85928756dfe5f459",
        "IPY_MODEL_68d6a562e1904abab58ed04cfe99b19c",
        "IPY_MODEL_8fff40f93750435aa3ec486f0250c736"
       ],
       "layout": "IPY_MODEL_25f35b27a33c4b86b9d3aadd0aec31e2"
      }
     },
     "a9365c9ebc4d4dd9a14d54490e2fe556": {
      "model_module": "@jupyter-widgets/controls",
      "model_module_version": "1.4.0",
      "model_name": "VBoxModel",
      "state": {
       "children": [
        "IPY_MODEL_c1578d17cde34390a10ea30c137e9f27",
        "IPY_MODEL_583c9e86be7d49f3b6ac4cb767e1e688",
        "IPY_MODEL_aa07063666e443dc97ea0bba6dfee03b",
        "IPY_MODEL_d64ebb419a7d4757b8a3499a0e4c07ab",
        "IPY_MODEL_88ba9983c9f2410d9513f064b2bd0a4e",
        "IPY_MODEL_4732a9d1bbf74747993edc5f3be4b325",
        "IPY_MODEL_6a94faccf3c34e84820a75d4ac624fa2",
        "IPY_MODEL_dc8b693a0380475a9521504abae7880f"
       ],
       "layout": "IPY_MODEL_fd4574bda58b487e8d85bcf08ed4d587"
      }
     },
     "a99c7097b5dc45669ee12581c5901214": {
      "model_module": "@jupyter-widgets/base",
      "model_module_version": "1.1.0",
      "model_name": "LayoutModel",
      "state": {}
     },
     "a9a95b7794494c03aa8ae55a9c888072": {
      "model_module": "@jupyter-widgets/output",
      "model_module_version": "1.0.0",
      "model_name": "OutputModel",
      "state": {
       "layout": "IPY_MODEL_ce44df80580f4169b56f8f4f0e6044b4"
      }
     },
     "a9c68ea9be5e4d7da7aaeb1a51808249": {
      "model_module": "@jupyter-widgets/base",
      "model_module_version": "1.1.0",
      "model_name": "LayoutModel",
      "state": {}
     },
     "a9df83a9f18f4502a40796c6a108cdce": {
      "model_module": "@jupyter-widgets/controls",
      "model_module_version": "1.4.0",
      "model_name": "VBoxModel",
      "state": {
       "children": [
        "IPY_MODEL_913ebadc462449048307c24a469389ca",
        "IPY_MODEL_d5f89cfae2c44d22abeda2a682d0fbe0"
       ],
       "layout": "IPY_MODEL_a646b578e15644f4ad25b84071416017"
      }
     },
     "aa07063666e443dc97ea0bba6dfee03b": {
      "model_module": "@jupyter-widgets/controls",
      "model_module_version": "1.4.0",
      "model_name": "FloatTextModel",
      "state": {
       "description": "$A10_{Fibtem} (mm)$",
       "layout": "IPY_MODEL_c28093c1b1bd445cba693741159dad6c",
       "step": null,
       "style": "IPY_MODEL_fb90ad9aeaf544b695bab0cd43449888",
       "value": 12
      }
     },
     "aa55aa8ee8a74d8d8875bb8900d8665d": {
      "model_module": "@jupyter-widgets/controls",
      "model_module_version": "1.4.0",
      "model_name": "VBoxModel",
      "state": {
       "children": [
        "IPY_MODEL_c1578d17cde34390a10ea30c137e9f27",
        "IPY_MODEL_583c9e86be7d49f3b6ac4cb767e1e688",
        "IPY_MODEL_aa07063666e443dc97ea0bba6dfee03b",
        "IPY_MODEL_d64ebb419a7d4757b8a3499a0e4c07ab",
        "IPY_MODEL_88ba9983c9f2410d9513f064b2bd0a4e",
        "IPY_MODEL_4732a9d1bbf74747993edc5f3be4b325",
        "IPY_MODEL_6a94faccf3c34e84820a75d4ac624fa2",
        "IPY_MODEL_dc8b693a0380475a9521504abae7880f"
       ],
       "layout": "IPY_MODEL_f567a34e5f5547f884e69f98f9154173"
      }
     },
     "aac467ac97d9464fb1a297bbd6f7f618": {
      "model_module": "@jupyter-widgets/controls",
      "model_module_version": "1.4.0",
      "model_name": "ButtonModel",
      "state": {
       "description": "Run algorithm",
       "layout": "IPY_MODEL_9f028bc0d0d34102aca9e1b31d9dc6fb",
       "style": "IPY_MODEL_b08a62f54d27497283cc021191192915"
      }
     },
     "aacaa0400e6243419a526a1a81728ee1": {
      "model_module": "@jupyter-widgets/controls",
      "model_module_version": "1.4.0",
      "model_name": "FloatTextModel",
      "state": {
       "description": "$A10_{Fibtem} (mm)$",
       "layout": "IPY_MODEL_238c202e714b46a18bcc44c5e02480b7",
       "step": null,
       "style": "IPY_MODEL_2bee020e87a347cda59a59f87bddb1d3",
       "value": 10
      }
     },
     "aadc4db50eb0486da7467b8cf01c7913": {
      "model_module": "@jupyter-widgets/controls",
      "model_module_version": "1.4.0",
      "model_name": "FloatTextModel",
      "state": {
       "description": "$MEA_{ADP} (U)$",
       "layout": "IPY_MODEL_0754d972bd99466291481bc2e346a86f",
       "step": null,
       "style": "IPY_MODEL_30e7db8e35f04e0e97863574430fbdb1",
       "value": "nan"
      }
     },
     "aaec859cb4a64734957929930d986599": {
      "model_module": "@jupyter-widgets/base",
      "model_module_version": "1.1.0",
      "model_name": "LayoutModel",
      "state": {}
     },
     "aaf77b3f2b00483e813b5572abaa9d3f": {
      "model_module": "@jupyter-widgets/base",
      "model_module_version": "1.1.0",
      "model_name": "LayoutModel",
      "state": {}
     },
     "ab3419a4a56245f78975fc9422a1e08e": {
      "model_module": "@jupyter-widgets/controls",
      "model_module_version": "1.4.0",
      "model_name": "VBoxModel",
      "state": {
       "children": [
        "IPY_MODEL_c1578d17cde34390a10ea30c137e9f27",
        "IPY_MODEL_583c9e86be7d49f3b6ac4cb767e1e688",
        "IPY_MODEL_aa07063666e443dc97ea0bba6dfee03b",
        "IPY_MODEL_d64ebb419a7d4757b8a3499a0e4c07ab",
        "IPY_MODEL_88ba9983c9f2410d9513f064b2bd0a4e",
        "IPY_MODEL_4732a9d1bbf74747993edc5f3be4b325",
        "IPY_MODEL_6a94faccf3c34e84820a75d4ac624fa2",
        "IPY_MODEL_dc8b693a0380475a9521504abae7880f"
       ],
       "layout": "IPY_MODEL_f8d04adf33bd4419be428201286c2038"
      }
     },
     "ab414317a3894448b6ca63904c94b69e": {
      "model_module": "@jupyter-widgets/output",
      "model_module_version": "1.0.0",
      "model_name": "OutputModel",
      "state": {
       "layout": "IPY_MODEL_fbfb3298fbf34637ad51d3a64bd429d4"
      }
     },
     "ab43b5cbc51c40e284dcfc7f4a2eea26": {
      "model_module": "@jupyter-widgets/controls",
      "model_module_version": "1.4.0",
      "model_name": "VBoxModel",
      "state": {
       "_dom_classes": [
        "widget-interact"
       ],
       "children": [
        "IPY_MODEL_7cdaba6e204f4851840686529a909bcb",
        "IPY_MODEL_7ef3128732c740489c12676a641771b5",
        "IPY_MODEL_bdc1cf3b6fb34c8393f1cba65a4b2054"
       ],
       "layout": "IPY_MODEL_03ad106be3c94174bd11bd9d5505feaf"
      }
     },
     "ab8753a021e14f5e96bf4e81749d884c": {
      "model_module": "@jupyter-widgets/base",
      "model_module_version": "1.1.0",
      "model_name": "LayoutModel",
      "state": {}
     },
     "ab9c445735154d8b9296d6a9f299b2c1": {
      "model_module": "@jupyter-widgets/base",
      "model_module_version": "1.1.0",
      "model_name": "LayoutModel",
      "state": {}
     },
     "abbd3de53f594e93afd6794cba10bd86": {
      "model_module": "@jupyter-widgets/base",
      "model_module_version": "1.1.0",
      "model_name": "LayoutModel",
      "state": {}
     },
     "abd2f540915a40719249df6c7199a319": {
      "model_module": "@jupyter-widgets/controls",
      "model_module_version": "1.4.0",
      "model_name": "AccordionModel",
      "state": {
       "_titles": {
        "0": "Procedure",
        "1": "Parameters"
       },
       "children": [
        "IPY_MODEL_f0445817c2d54a9fa893f3b2b36b0105",
        "IPY_MODEL_a88fbe2bcf2b48f9a1eed16d0088872b"
       ],
       "layout": "IPY_MODEL_f4e8f4ca27c2480e9a70f366477d36a9",
       "selected_index": 1
      }
     },
     "abdb50d5808f4ee08f92260131f6fcd5": {
      "model_module": "@jupyter-widgets/base",
      "model_module_version": "1.1.0",
      "model_name": "LayoutModel",
      "state": {}
     },
     "ac01fa8ac6da4ee986fbf3f65b7e4d99": {
      "model_module": "@jupyter-widgets/controls",
      "model_module_version": "1.4.0",
      "model_name": "VBoxModel",
      "state": {
       "_dom_classes": [
        "widget-interact"
       ],
       "children": [
        "IPY_MODEL_467abf0c84b746629cc02d043f510b3b",
        "IPY_MODEL_f03c702063304900a21b86a1cfc1bc6a",
        "IPY_MODEL_ff2acae77452485ab84e18b41091ce82",
        "IPY_MODEL_85f59b8ac04841dfaa02b062d28f402e",
        "IPY_MODEL_3dc6b39299cb45bd85928756dfe5f459",
        "IPY_MODEL_68d6a562e1904abab58ed04cfe99b19c",
        "IPY_MODEL_8fff40f93750435aa3ec486f0250c736",
        "IPY_MODEL_c1578d17cde34390a10ea30c137e9f27",
        "IPY_MODEL_583c9e86be7d49f3b6ac4cb767e1e688",
        "IPY_MODEL_aa07063666e443dc97ea0bba6dfee03b",
        "IPY_MODEL_d64ebb419a7d4757b8a3499a0e4c07ab",
        "IPY_MODEL_88ba9983c9f2410d9513f064b2bd0a4e",
        "IPY_MODEL_4732a9d1bbf74747993edc5f3be4b325",
        "IPY_MODEL_6a94faccf3c34e84820a75d4ac624fa2",
        "IPY_MODEL_dc8b693a0380475a9521504abae7880f",
        "IPY_MODEL_60f9a5869bb74ee78b070ba904bc1d1c"
       ],
       "layout": "IPY_MODEL_eb92dd85f1014b08af4e1885c959ef4f"
      }
     },
     "ac2edcbedbfe49e0a2be2276f496e17a": {
      "model_module": "@jupyter-widgets/controls",
      "model_module_version": "1.4.0",
      "model_name": "VBoxModel",
      "state": {
       "_dom_classes": [
        "widget-interact"
       ],
       "children": [
        "IPY_MODEL_467abf0c84b746629cc02d043f510b3b",
        "IPY_MODEL_f03c702063304900a21b86a1cfc1bc6a",
        "IPY_MODEL_ff2acae77452485ab84e18b41091ce82",
        "IPY_MODEL_85f59b8ac04841dfaa02b062d28f402e",
        "IPY_MODEL_3dc6b39299cb45bd85928756dfe5f459",
        "IPY_MODEL_68d6a562e1904abab58ed04cfe99b19c",
        "IPY_MODEL_8fff40f93750435aa3ec486f0250c736",
        "IPY_MODEL_c1578d17cde34390a10ea30c137e9f27",
        "IPY_MODEL_583c9e86be7d49f3b6ac4cb767e1e688",
        "IPY_MODEL_aa07063666e443dc97ea0bba6dfee03b",
        "IPY_MODEL_d64ebb419a7d4757b8a3499a0e4c07ab",
        "IPY_MODEL_88ba9983c9f2410d9513f064b2bd0a4e",
        "IPY_MODEL_4732a9d1bbf74747993edc5f3be4b325",
        "IPY_MODEL_6a94faccf3c34e84820a75d4ac624fa2",
        "IPY_MODEL_dc8b693a0380475a9521504abae7880f",
        "IPY_MODEL_6a050bf2c9ae4f45bce9db2068d8a091"
       ],
       "layout": "IPY_MODEL_775e6b07218943a3b9ccef3772b23230"
      }
     },
     "ac491fddb321424ca25ec2e89f87229b": {
      "model_module": "@jupyter-widgets/base",
      "model_module_version": "1.1.0",
      "model_name": "LayoutModel",
      "state": {}
     },
     "ac752aff239045ef9b86283ae5d484a5": {
      "model_module": "@jupyter-widgets/base",
      "model_module_version": "1.1.0",
      "model_name": "LayoutModel",
      "state": {}
     },
     "ac95a09f0b644c82856358fd5198d3c7": {
      "model_module": "@jupyter-widgets/base",
      "model_module_version": "1.1.0",
      "model_name": "LayoutModel",
      "state": {}
     },
     "ac9a092a263c449281ae7fd0db68bea7": {
      "model_module": "@jupyter-widgets/base",
      "model_module_version": "1.1.0",
      "model_name": "LayoutModel",
      "state": {}
     },
     "acad0169c45644ad9a56d4c420ad72be": {
      "model_module": "@jupyter-widgets/base",
      "model_module_version": "1.1.0",
      "model_name": "LayoutModel",
      "state": {}
     },
     "acf11a984a9d4c289863d43b2ee38a3a": {
      "model_module": "@jupyter-widgets/controls",
      "model_module_version": "1.4.0",
      "model_name": "VBoxModel",
      "state": {
       "children": [
        "IPY_MODEL_467abf0c84b746629cc02d043f510b3b",
        "IPY_MODEL_f03c702063304900a21b86a1cfc1bc6a",
        "IPY_MODEL_ff2acae77452485ab84e18b41091ce82",
        "IPY_MODEL_85f59b8ac04841dfaa02b062d28f402e",
        "IPY_MODEL_3dc6b39299cb45bd85928756dfe5f459",
        "IPY_MODEL_68d6a562e1904abab58ed04cfe99b19c",
        "IPY_MODEL_8fff40f93750435aa3ec486f0250c736"
       ],
       "layout": "IPY_MODEL_cdb34c91c2004325aee0d5d28688de92"
      }
     },
     "ad5050cd1b2a43578be1a1d59a1ae32c": {
      "model_module": "@jupyter-widgets/controls",
      "model_module_version": "1.4.0",
      "model_name": "VBoxModel",
      "state": {
       "children": [
        "IPY_MODEL_c1578d17cde34390a10ea30c137e9f27",
        "IPY_MODEL_583c9e86be7d49f3b6ac4cb767e1e688",
        "IPY_MODEL_aa07063666e443dc97ea0bba6dfee03b",
        "IPY_MODEL_d64ebb419a7d4757b8a3499a0e4c07ab",
        "IPY_MODEL_88ba9983c9f2410d9513f064b2bd0a4e",
        "IPY_MODEL_4732a9d1bbf74747993edc5f3be4b325",
        "IPY_MODEL_6a94faccf3c34e84820a75d4ac624fa2",
        "IPY_MODEL_dc8b693a0380475a9521504abae7880f"
       ],
       "layout": "IPY_MODEL_d178d6653ede4dc3b5d9501b0e60fc2a"
      }
     },
     "ad71c4a71a2a4b5895ce34b51fd5e872": {
      "model_module": "@jupyter-widgets/base",
      "model_module_version": "1.1.0",
      "model_name": "LayoutModel",
      "state": {}
     },
     "ad89d7f0745047189685622953aa57d9": {
      "model_module": "@jupyter-widgets/controls",
      "model_module_version": "1.4.0",
      "model_name": "VBoxModel",
      "state": {
       "children": [
        "IPY_MODEL_c1578d17cde34390a10ea30c137e9f27",
        "IPY_MODEL_583c9e86be7d49f3b6ac4cb767e1e688",
        "IPY_MODEL_aa07063666e443dc97ea0bba6dfee03b",
        "IPY_MODEL_d64ebb419a7d4757b8a3499a0e4c07ab",
        "IPY_MODEL_88ba9983c9f2410d9513f064b2bd0a4e",
        "IPY_MODEL_4732a9d1bbf74747993edc5f3be4b325",
        "IPY_MODEL_6a94faccf3c34e84820a75d4ac624fa2",
        "IPY_MODEL_dc8b693a0380475a9521504abae7880f"
       ],
       "layout": "IPY_MODEL_5262a2a999c74668b87a826f59ce731e"
      }
     },
     "adb1524dbc9446f88500930b1cbae126": {
      "model_module": "@jupyter-widgets/controls",
      "model_module_version": "1.4.0",
      "model_name": "FloatTextModel",
      "state": {
       "description": "$Fibrinogen (g/L)$",
       "layout": "IPY_MODEL_1e645801b81b430895eb6efa849e6603",
       "step": null,
       "style": "IPY_MODEL_4e0c3bc7e9f14a9ea2ad62a2cb878856",
       "value": 1.88
      }
     },
     "adcb0230243446f79bbeca71f26dd01c": {
      "model_module": "@jupyter-widgets/controls",
      "model_module_version": "1.4.0",
      "model_name": "ButtonStyleModel",
      "state": {}
     },
     "ade61f8ca96c4bc586c8e59eb74848df": {
      "model_module": "@jupyter-widgets/controls",
      "model_module_version": "1.4.0",
      "model_name": "FloatTextModel",
      "state": {
       "description": "$CT_{Heptem} (s)$",
       "layout": "IPY_MODEL_8e730110a4944a7ba0a7398c31d5c0ae",
       "step": null,
       "style": "IPY_MODEL_bf9ca0a6328749b18950313be34018e8",
       "value": "nan"
      }
     },
     "ae25cf2e52cc4bdfb3f028ad950f81fc": {
      "model_module": "@jupyter-widgets/controls",
      "model_module_version": "1.4.0",
      "model_name": "VBoxModel",
      "state": {
       "_dom_classes": [
        "widget-interact"
       ],
       "children": [
        "IPY_MODEL_913ebadc462449048307c24a469389ca",
        "IPY_MODEL_d5f89cfae2c44d22abeda2a682d0fbe0",
        "IPY_MODEL_6f9cd7701864476085e4394098e42bb4"
       ],
       "layout": "IPY_MODEL_5d998826798f4354bf0f14a472b530e1"
      }
     },
     "ae634362282f4bb19270496041443fd2": {
      "model_module": "@jupyter-widgets/base",
      "model_module_version": "1.1.0",
      "model_name": "LayoutModel",
      "state": {}
     },
     "ae8b6ecd9a584422b704adf64d6497e3": {
      "model_module": "@jupyter-widgets/base",
      "model_module_version": "1.1.0",
      "model_name": "LayoutModel",
      "state": {}
     },
     "ae9f97e70acc4a838160a89e21e28967": {
      "model_module": "@jupyter-widgets/controls",
      "model_module_version": "1.4.0",
      "model_name": "VBoxModel",
      "state": {
       "children": [
        "IPY_MODEL_7cdaba6e204f4851840686529a909bcb",
        "IPY_MODEL_7ef3128732c740489c12676a641771b5"
       ],
       "layout": "IPY_MODEL_56dcb4f0c4ac4b7295a214113ff59d1f"
      }
     },
     "aed8084948a34d8da71f980d8d58ae5d": {
      "model_module": "@jupyter-widgets/base",
      "model_module_version": "1.1.0",
      "model_name": "LayoutModel",
      "state": {}
     },
     "aedaa98421e44135be037bb00781aa9b": {
      "model_module": "@jupyter-widgets/base",
      "model_module_version": "1.1.0",
      "model_name": "LayoutModel",
      "state": {}
     },
     "aee253a047b64bc1bf3e961736f4dff7": {
      "model_module": "@jupyter-widgets/base",
      "model_module_version": "1.1.0",
      "model_name": "LayoutModel",
      "state": {}
     },
     "aef2f6451613408fbd39b1d8d471c0f8": {
      "model_module": "@jupyter-widgets/base",
      "model_module_version": "1.1.0",
      "model_name": "LayoutModel",
      "state": {}
     },
     "af5cd4fb13e1419d9ec396aa67098077": {
      "model_module": "@jupyter-widgets/base",
      "model_module_version": "1.1.0",
      "model_name": "LayoutModel",
      "state": {}
     },
     "af73c08bcf864186b6c5a59e84490367": {
      "model_module": "@jupyter-widgets/controls",
      "model_module_version": "1.4.0",
      "model_name": "VBoxModel",
      "state": {
       "children": [
        "IPY_MODEL_7cdaba6e204f4851840686529a909bcb",
        "IPY_MODEL_7ef3128732c740489c12676a641771b5"
       ],
       "layout": "IPY_MODEL_35ebe758bbde4d0e8b6a255b421885ea"
      }
     },
     "af86a44cc4d947e18794c89f757faa1a": {
      "model_module": "@jupyter-widgets/controls",
      "model_module_version": "1.4.0",
      "model_name": "ButtonStyleModel",
      "state": {}
     },
     "afaaba991d9c4a36984e8d8f1924c984": {
      "model_module": "@jupyter-widgets/controls",
      "model_module_version": "1.4.0",
      "model_name": "VBoxModel",
      "state": {
       "children": [
        "IPY_MODEL_4d5ebffe514b47b3a37cb4cb80b7ccf6",
        "IPY_MODEL_9870e79785ab4352b909e91bba9d27e5"
       ],
       "layout": "IPY_MODEL_fbc4ba7613e4495f935c278cbc7efeb2"
      }
     },
     "afba85157eb84419854bc97f60d6582a": {
      "model_module": "@jupyter-widgets/controls",
      "model_module_version": "1.4.0",
      "model_name": "DescriptionStyleModel",
      "state": {
       "description_width": "initial"
      }
     },
     "afc64700140f487cb62d6c0987f7f06e": {
      "model_module": "@jupyter-widgets/base",
      "model_module_version": "1.1.0",
      "model_name": "LayoutModel",
      "state": {}
     },
     "afc963137d14407b81f48aa6f7aa4be7": {
      "model_module": "@jupyter-widgets/base",
      "model_module_version": "1.1.0",
      "model_name": "LayoutModel",
      "state": {}
     },
     "afce4ebd6f9343f694b0137623fa7c50": {
      "model_module": "@jupyter-widgets/controls",
      "model_module_version": "1.4.0",
      "model_name": "ButtonStyleModel",
      "state": {}
     },
     "affc6fe0f8cd407697c616e31c5bb541": {
      "model_module": "@jupyter-widgets/base",
      "model_module_version": "1.1.0",
      "model_name": "LayoutModel",
      "state": {}
     },
     "b007022f7956436f84de659c833b3ec2": {
      "model_module": "@jupyter-widgets/base",
      "model_module_version": "1.1.0",
      "model_name": "LayoutModel",
      "state": {}
     },
     "b04ab4cf0d4646f08e9cf6874263b6be": {
      "model_module": "@jupyter-widgets/controls",
      "model_module_version": "1.4.0",
      "model_name": "HBoxModel",
      "state": {
       "children": [
        "IPY_MODEL_bb4d5c45efed4546927a4571e12f74f3"
       ],
       "layout": "IPY_MODEL_bd04e4885bbd42af89c3956a6a2655e8"
      }
     },
     "b06285aa33904c12bc57f92725be463f": {
      "model_module": "@jupyter-widgets/base",
      "model_module_version": "1.1.0",
      "model_name": "LayoutModel",
      "state": {}
     },
     "b071e5463e0f41aba93b0b38b147eb50": {
      "model_module": "@jupyter-widgets/controls",
      "model_module_version": "1.4.0",
      "model_name": "VBoxModel",
      "state": {
       "children": [
        "IPY_MODEL_913ebadc462449048307c24a469389ca",
        "IPY_MODEL_d5f89cfae2c44d22abeda2a682d0fbe0"
       ],
       "layout": "IPY_MODEL_d676c9c7ac5241be98cb5a3dc2b56e78"
      }
     },
     "b08a62f54d27497283cc021191192915": {
      "model_module": "@jupyter-widgets/controls",
      "model_module_version": "1.4.0",
      "model_name": "ButtonStyleModel",
      "state": {}
     },
     "b09003e779754d49bd6edb4f282ad7ff": {
      "model_module": "@jupyter-widgets/output",
      "model_module_version": "1.0.0",
      "model_name": "OutputModel",
      "state": {
       "layout": "IPY_MODEL_f8e0454374124352b93122e9d9d6de9a"
      }
     },
     "b0aa3e1a07fd443fba3f0b5fa1337610": {
      "model_module": "@jupyter-widgets/base",
      "model_module_version": "1.1.0",
      "model_name": "LayoutModel",
      "state": {}
     },
     "b0cb090a31d541338ec49aba01bf62ed": {
      "model_module": "@jupyter-widgets/base",
      "model_module_version": "1.1.0",
      "model_name": "LayoutModel",
      "state": {}
     },
     "b0e69893da7941fa9b557b15cfae82fe": {
      "model_module": "@jupyter-widgets/base",
      "model_module_version": "1.1.0",
      "model_name": "LayoutModel",
      "state": {}
     },
     "b0f7a24049734f43a0e607adcc660124": {
      "model_module": "@jupyter-widgets/base",
      "model_module_version": "1.1.0",
      "model_name": "LayoutModel",
      "state": {}
     },
     "b17a0dcdcf8c4908a74af10627c18520": {
      "model_module": "@jupyter-widgets/base",
      "model_module_version": "1.1.0",
      "model_name": "LayoutModel",
      "state": {}
     },
     "b197b3f0c833413b91268ff5d15e326d": {
      "model_module": "@jupyter-widgets/base",
      "model_module_version": "1.1.0",
      "model_name": "LayoutModel",
      "state": {}
     },
     "b1aa2bb0d83d4d1da6e3ecac84045cbf": {
      "model_module": "@jupyter-widgets/controls",
      "model_module_version": "1.4.0",
      "model_name": "VBoxModel",
      "state": {
       "_dom_classes": [
        "widget-interact"
       ],
       "children": [
        "IPY_MODEL_7cdaba6e204f4851840686529a909bcb",
        "IPY_MODEL_7ef3128732c740489c12676a641771b5",
        "IPY_MODEL_d10d980b030f4bf294ce8335b64b1160"
       ],
       "layout": "IPY_MODEL_996b8256698242e8bce5cf3285300e35"
      }
     },
     "b1b82e9a0a7b4b03bd7fdad25b52f8d7": {
      "model_module": "@jupyter-widgets/base",
      "model_module_version": "1.1.0",
      "model_name": "LayoutModel",
      "state": {}
     },
     "b2c069a1e7a94726b19b0cdc01222e38": {
      "model_module": "@jupyter-widgets/base",
      "model_module_version": "1.1.0",
      "model_name": "LayoutModel",
      "state": {}
     },
     "b2d4fb44a9014bf7962fb1790ca11bfa": {
      "model_module": "@jupyter-widgets/base",
      "model_module_version": "1.1.0",
      "model_name": "LayoutModel",
      "state": {}
     },
     "b37c369c391c4ca3b56fd85a43a89915": {
      "model_module": "@jupyter-widgets/base",
      "model_module_version": "1.1.0",
      "model_name": "LayoutModel",
      "state": {}
     },
     "b38e0833b51a4c12991868b0adbd4779": {
      "model_module": "@jupyter-widgets/base",
      "model_module_version": "1.1.0",
      "model_name": "LayoutModel",
      "state": {}
     },
     "b3c2f37c254c40e7bc004129def64312": {
      "model_module": "@jupyter-widgets/controls",
      "model_module_version": "1.4.0",
      "model_name": "VBoxModel",
      "state": {
       "children": [
        "IPY_MODEL_6aca9273dd544413aacc788b63ee8a06",
        "IPY_MODEL_a22609afd3dc4596b1523d681a52cd9e"
       ],
       "layout": "IPY_MODEL_5da3a2361e044bcd89de43bc27541897"
      }
     },
     "b3d1654abdd54d10b663c20ecc552944": {
      "model_module": "@jupyter-widgets/controls",
      "model_module_version": "1.4.0",
      "model_name": "VBoxModel",
      "state": {
       "_dom_classes": [
        "widget-interact"
       ],
       "children": [
        "IPY_MODEL_7cdaba6e204f4851840686529a909bcb",
        "IPY_MODEL_7ef3128732c740489c12676a641771b5",
        "IPY_MODEL_5fdbf245f99c476f9feb8a254c5f9e77"
       ],
       "layout": "IPY_MODEL_d3b0a10ff98d4e4083f29b66da336d5d"
      }
     },
     "b3d5c025953a462aaaec6fe4d206ce39": {
      "model_module": "@jupyter-widgets/output",
      "model_module_version": "1.0.0",
      "model_name": "OutputModel",
      "state": {
       "layout": "IPY_MODEL_72dbe41c397f417099ddc97866bdc5b3"
      }
     },
     "b3d5d37185df404789f8caea26744170": {
      "model_module": "@jupyter-widgets/controls",
      "model_module_version": "1.4.0",
      "model_name": "DescriptionStyleModel",
      "state": {
       "description_width": "initial"
      }
     },
     "b3e08182a62f443d8d0093c3ca053824": {
      "model_module": "@jupyter-widgets/base",
      "model_module_version": "1.1.0",
      "model_name": "LayoutModel",
      "state": {}
     },
     "b3f43ab5ffbf46bea610da539821c937": {
      "model_module": "@jupyter-widgets/controls",
      "model_module_version": "1.4.0",
      "model_name": "VBoxModel",
      "state": {
       "children": [
        "IPY_MODEL_7cdaba6e204f4851840686529a909bcb",
        "IPY_MODEL_7ef3128732c740489c12676a641771b5"
       ],
       "layout": "IPY_MODEL_593df5742bf74c81ab94da32455fb55f"
      }
     },
     "b42f41f1afb843d0b63d04e0538eeb07": {
      "model_module": "@jupyter-widgets/base",
      "model_module_version": "1.1.0",
      "model_name": "LayoutModel",
      "state": {}
     },
     "b4826744b7124a9a8d7eaf6049c63951": {
      "model_module": "@jupyter-widgets/controls",
      "model_module_version": "1.4.0",
      "model_name": "VBoxModel",
      "state": {
       "children": [
        "IPY_MODEL_fdcca182a4fe48979c3a0cd8a9ce8401",
        "IPY_MODEL_cfe2bd8690994a7b874833aad740b887"
       ],
       "layout": "IPY_MODEL_a5c9a14da60a4f4493afda8d48d465dc"
      }
     },
     "b48970bdff7e477b8112dd5e8daeca19": {
      "model_module": "@jupyter-widgets/base",
      "model_module_version": "1.1.0",
      "model_name": "LayoutModel",
      "state": {}
     },
     "b49ce2d84fa9455db216ba04807bede4": {
      "model_module": "@jupyter-widgets/controls",
      "model_module_version": "1.4.0",
      "model_name": "VBoxModel",
      "state": {
       "children": [
        "IPY_MODEL_467abf0c84b746629cc02d043f510b3b",
        "IPY_MODEL_f03c702063304900a21b86a1cfc1bc6a",
        "IPY_MODEL_ff2acae77452485ab84e18b41091ce82",
        "IPY_MODEL_85f59b8ac04841dfaa02b062d28f402e",
        "IPY_MODEL_3dc6b39299cb45bd85928756dfe5f459",
        "IPY_MODEL_68d6a562e1904abab58ed04cfe99b19c",
        "IPY_MODEL_8fff40f93750435aa3ec486f0250c736"
       ],
       "layout": "IPY_MODEL_08b206fdc0434f21bb6888b247c240a2"
      }
     },
     "b4a8c7ebb21e49a9a0f83ca55fe021f1": {
      "model_module": "@jupyter-widgets/output",
      "model_module_version": "1.0.0",
      "model_name": "OutputModel",
      "state": {
       "layout": "IPY_MODEL_24c2e189a9e44587bdd7e8c5410bb50e"
      }
     },
     "b4c2382cc0694020b0454bf6880661f2": {
      "model_module": "@jupyter-widgets/controls",
      "model_module_version": "1.4.0",
      "model_name": "VBoxModel",
      "state": {
       "_dom_classes": [
        "widget-interact"
       ],
       "children": [
        "IPY_MODEL_467abf0c84b746629cc02d043f510b3b",
        "IPY_MODEL_f03c702063304900a21b86a1cfc1bc6a",
        "IPY_MODEL_ff2acae77452485ab84e18b41091ce82",
        "IPY_MODEL_85f59b8ac04841dfaa02b062d28f402e",
        "IPY_MODEL_3dc6b39299cb45bd85928756dfe5f459",
        "IPY_MODEL_68d6a562e1904abab58ed04cfe99b19c",
        "IPY_MODEL_8fff40f93750435aa3ec486f0250c736",
        "IPY_MODEL_c1578d17cde34390a10ea30c137e9f27",
        "IPY_MODEL_583c9e86be7d49f3b6ac4cb767e1e688",
        "IPY_MODEL_aa07063666e443dc97ea0bba6dfee03b",
        "IPY_MODEL_d64ebb419a7d4757b8a3499a0e4c07ab",
        "IPY_MODEL_88ba9983c9f2410d9513f064b2bd0a4e",
        "IPY_MODEL_4732a9d1bbf74747993edc5f3be4b325",
        "IPY_MODEL_6a94faccf3c34e84820a75d4ac624fa2",
        "IPY_MODEL_dc8b693a0380475a9521504abae7880f",
        "IPY_MODEL_bcfb5a5ebdf947bd904c3eca29a14538"
       ],
       "layout": "IPY_MODEL_98c355eb261e40028b009510a28becf8"
      }
     },
     "b4cd0a1f7eb641ebaafb9ab17bfe48c8": {
      "model_module": "@jupyter-widgets/controls",
      "model_module_version": "1.4.0",
      "model_name": "VBoxModel",
      "state": {
       "children": [
        "IPY_MODEL_f18cc5c5d8ce4ecfb37036a9ce386985",
        "IPY_MODEL_9080d419a1ce45f4b2ef1c204c793d27"
       ],
       "layout": "IPY_MODEL_d6a7f34608a64901ae603a01068ce2f2"
      }
     },
     "b4dfc5529f1d4f6ba330532759f4a6bf": {
      "model_module": "@jupyter-widgets/base",
      "model_module_version": "1.1.0",
      "model_name": "LayoutModel",
      "state": {}
     },
     "b51820f57f7c44fa8d654a1e48c90392": {
      "model_module": "@jupyter-widgets/controls",
      "model_module_version": "1.4.0",
      "model_name": "VBoxModel",
      "state": {
       "children": [
        "IPY_MODEL_11665ca80fd143e9b2a2f77bac60da9b",
        "IPY_MODEL_83839ffcfd884e3b890f838fb7457f1f"
       ],
       "layout": "IPY_MODEL_3ceab34fe7054cfdad5c2ae9ab24c7ee"
      }
     },
     "b5603f5f25e34ef186095d48e4102685": {
      "model_module": "@jupyter-widgets/base",
      "model_module_version": "1.1.0",
      "model_name": "LayoutModel",
      "state": {}
     },
     "b572738d94f6455dbdf2d6f6e0d4bc39": {
      "model_module": "@jupyter-widgets/base",
      "model_module_version": "1.1.0",
      "model_name": "LayoutModel",
      "state": {}
     },
     "b5eb4cf65d6240b7ae16d370f25fee78": {
      "model_module": "@jupyter-widgets/output",
      "model_module_version": "1.0.0",
      "model_name": "OutputModel",
      "state": {
       "layout": "IPY_MODEL_ca9f7638b88c4e57917c2ef04244a275"
      }
     },
     "b5fa7da666754ee2ac8112a0543f897f": {
      "model_module": "@jupyter-widgets/base",
      "model_module_version": "1.1.0",
      "model_name": "LayoutModel",
      "state": {}
     },
     "b606ba694eae475d8d8374a133696fc6": {
      "model_module": "@jupyter-widgets/base",
      "model_module_version": "1.1.0",
      "model_name": "LayoutModel",
      "state": {}
     },
     "b640ef4716014fa79ad6f4d2d3235d34": {
      "model_module": "@jupyter-widgets/output",
      "model_module_version": "1.0.0",
      "model_name": "OutputModel",
      "state": {
       "layout": "IPY_MODEL_89e56c4e530746dfb17a51e31c55b0f9"
      }
     },
     "b6557597e8a94c31ac838f154589d75b": {
      "model_module": "@jupyter-widgets/output",
      "model_module_version": "1.0.0",
      "model_name": "OutputModel",
      "state": {
       "layout": "IPY_MODEL_338cf9c1769544e68c2030a2fb8d4733"
      }
     },
     "b658ac2da67740ccaddf4ddaaf6cb9bc": {
      "model_module": "@jupyter-widgets/controls",
      "model_module_version": "1.4.0",
      "model_name": "VBoxModel",
      "state": {
       "children": [
        "IPY_MODEL_c1578d17cde34390a10ea30c137e9f27",
        "IPY_MODEL_583c9e86be7d49f3b6ac4cb767e1e688",
        "IPY_MODEL_aa07063666e443dc97ea0bba6dfee03b",
        "IPY_MODEL_d64ebb419a7d4757b8a3499a0e4c07ab",
        "IPY_MODEL_88ba9983c9f2410d9513f064b2bd0a4e",
        "IPY_MODEL_4732a9d1bbf74747993edc5f3be4b325",
        "IPY_MODEL_6a94faccf3c34e84820a75d4ac624fa2",
        "IPY_MODEL_dc8b693a0380475a9521504abae7880f"
       ],
       "layout": "IPY_MODEL_9470d6b0f2774c2d97bcec7376411047"
      }
     },
     "b672f6f3be5842bd86010b3b8f316806": {
      "model_module": "@jupyter-widgets/controls",
      "model_module_version": "1.4.0",
      "model_name": "VBoxModel",
      "state": {
       "_dom_classes": [
        "widget-interact"
       ],
       "children": [
        "IPY_MODEL_f61d435117d74573bc3d4630b0f84dba",
        "IPY_MODEL_aadc4db50eb0486da7467b8cf01c7913",
        "IPY_MODEL_ee5c3b89271e4608976d431a63a66ab1",
        "IPY_MODEL_b9e1291c6cb94a86a598c059b30fe761",
        "IPY_MODEL_d6c2ca28bfdc4a3f8c49d4233989c585",
        "IPY_MODEL_49205334f4d94208a07fb8687d17b460",
        "IPY_MODEL_cbac82ff859a4943b528daff0881c889",
        "IPY_MODEL_57106549157e433ba7939561636faf0b",
        "IPY_MODEL_dfe9e47f47944fe79762182e8dc2c13a",
        "IPY_MODEL_3049bec3d2124036b3443a98a7034dbd",
        "IPY_MODEL_bace60e7af514f8a9916961e83a521a3",
        "IPY_MODEL_575abbdf30a84fcf9b0f7c574054fb8f",
        "IPY_MODEL_6ecad1f2f5b048f4b6d8f9615c52d17c",
        "IPY_MODEL_ade61f8ca96c4bc586c8e59eb74848df",
        "IPY_MODEL_cca88d1e773e49f0ac95098836c645fa",
        "IPY_MODEL_b3d5c025953a462aaaec6fe4d206ce39"
       ],
       "layout": "IPY_MODEL_78996ead99494ec08574948a3b1e9dec"
      }
     },
     "b6dc2bf3f08b436e8680cce06e586970": {
      "model_module": "@jupyter-widgets/output",
      "model_module_version": "1.0.0",
      "model_name": "OutputModel",
      "state": {
       "layout": "IPY_MODEL_aee253a047b64bc1bf3e961736f4dff7"
      }
     },
     "b778d0ecb79747669c41c19657707809": {
      "model_module": "@jupyter-widgets/controls",
      "model_module_version": "1.4.0",
      "model_name": "ButtonModel",
      "state": {
       "description": "Run algorithm",
       "layout": "IPY_MODEL_d41377fb2c394e5ca49a0b6052b18d6f",
       "style": "IPY_MODEL_4e0f71e567e3430c84bd8acb2841c4f2"
      }
     },
     "b789d5cf881f43a183eb74822a5edc7b": {
      "model_module": "@jupyter-widgets/controls",
      "model_module_version": "1.4.0",
      "model_name": "VBoxModel",
      "state": {
       "children": [
        "IPY_MODEL_c1578d17cde34390a10ea30c137e9f27",
        "IPY_MODEL_583c9e86be7d49f3b6ac4cb767e1e688",
        "IPY_MODEL_aa07063666e443dc97ea0bba6dfee03b",
        "IPY_MODEL_d64ebb419a7d4757b8a3499a0e4c07ab",
        "IPY_MODEL_88ba9983c9f2410d9513f064b2bd0a4e",
        "IPY_MODEL_4732a9d1bbf74747993edc5f3be4b325",
        "IPY_MODEL_6a94faccf3c34e84820a75d4ac624fa2",
        "IPY_MODEL_dc8b693a0380475a9521504abae7880f"
       ],
       "layout": "IPY_MODEL_1992d7b07ecc4119855c1b4d810c3754"
      }
     },
     "b79be748df2f4ac999be491e612ef2ca": {
      "model_module": "@jupyter-widgets/base",
      "model_module_version": "1.1.0",
      "model_name": "LayoutModel",
      "state": {}
     },
     "b7bc99c8a12a4571b9d2e870c9068312": {
      "model_module": "@jupyter-widgets/controls",
      "model_module_version": "1.4.0",
      "model_name": "VBoxModel",
      "state": {
       "children": [
        "IPY_MODEL_c1578d17cde34390a10ea30c137e9f27",
        "IPY_MODEL_583c9e86be7d49f3b6ac4cb767e1e688",
        "IPY_MODEL_aa07063666e443dc97ea0bba6dfee03b",
        "IPY_MODEL_d64ebb419a7d4757b8a3499a0e4c07ab",
        "IPY_MODEL_88ba9983c9f2410d9513f064b2bd0a4e",
        "IPY_MODEL_4732a9d1bbf74747993edc5f3be4b325",
        "IPY_MODEL_6a94faccf3c34e84820a75d4ac624fa2",
        "IPY_MODEL_dc8b693a0380475a9521504abae7880f"
       ],
       "layout": "IPY_MODEL_3d61936a2118461c87b8c11f5c5bbd2c"
      }
     },
     "b7bcf863416f4f3cb08c654144ccfb49": {
      "model_module": "@jupyter-widgets/controls",
      "model_module_version": "1.4.0",
      "model_name": "ButtonStyleModel",
      "state": {}
     },
     "b7d035ee99574155b73a2cb09c36377c": {
      "model_module": "@jupyter-widgets/controls",
      "model_module_version": "1.4.0",
      "model_name": "VBoxModel",
      "state": {
       "children": [
        "IPY_MODEL_18fa32deede1422eba2a79ea8841561c",
        "IPY_MODEL_f41995e359664295b24f04f77f63e726"
       ],
       "layout": "IPY_MODEL_7ce21af6b632481391ed1a19e00585ac"
      }
     },
     "b7deaca5cccd4a7798f308eed3c2b048": {
      "model_module": "@jupyter-widgets/output",
      "model_module_version": "1.0.0",
      "model_name": "OutputModel",
      "state": {
       "layout": "IPY_MODEL_5aba38c78dce43e191ef60fddeb9f85f"
      }
     },
     "b810bd13c2dd4784b697600525dd3580": {
      "model_module": "@jupyter-widgets/base",
      "model_module_version": "1.1.0",
      "model_name": "LayoutModel",
      "state": {}
     },
     "b8392f28fa1c475196a456f8bc8b996c": {
      "model_module": "@jupyter-widgets/base",
      "model_module_version": "1.1.0",
      "model_name": "LayoutModel",
      "state": {}
     },
     "b84805e6bef74feea9eac9e4a6e5a40e": {
      "model_module": "@jupyter-widgets/controls",
      "model_module_version": "1.4.0",
      "model_name": "HBoxModel",
      "state": {
       "children": [
        "IPY_MODEL_37258f405fe542c0b7e63f3ed614086f",
        "IPY_MODEL_e9e02cb131444bcdb876165295e17791"
       ],
       "layout": "IPY_MODEL_afc64700140f487cb62d6c0987f7f06e"
      }
     },
     "b86364070caf4f3485ec3db0cc7d250f": {
      "model_module": "@jupyter-widgets/controls",
      "model_module_version": "1.4.0",
      "model_name": "VBoxModel",
      "state": {
       "_dom_classes": [
        "widget-interact"
       ],
       "children": [
        "IPY_MODEL_467abf0c84b746629cc02d043f510b3b",
        "IPY_MODEL_f03c702063304900a21b86a1cfc1bc6a",
        "IPY_MODEL_ff2acae77452485ab84e18b41091ce82",
        "IPY_MODEL_85f59b8ac04841dfaa02b062d28f402e",
        "IPY_MODEL_3dc6b39299cb45bd85928756dfe5f459",
        "IPY_MODEL_68d6a562e1904abab58ed04cfe99b19c",
        "IPY_MODEL_8fff40f93750435aa3ec486f0250c736",
        "IPY_MODEL_c1578d17cde34390a10ea30c137e9f27",
        "IPY_MODEL_583c9e86be7d49f3b6ac4cb767e1e688",
        "IPY_MODEL_aa07063666e443dc97ea0bba6dfee03b",
        "IPY_MODEL_d64ebb419a7d4757b8a3499a0e4c07ab",
        "IPY_MODEL_88ba9983c9f2410d9513f064b2bd0a4e",
        "IPY_MODEL_4732a9d1bbf74747993edc5f3be4b325",
        "IPY_MODEL_6a94faccf3c34e84820a75d4ac624fa2",
        "IPY_MODEL_dc8b693a0380475a9521504abae7880f",
        "IPY_MODEL_10e0fe37c4d4490ba3d504827e343e71"
       ],
       "layout": "IPY_MODEL_94adc17158844eea81eb4373b06bef76"
      }
     },
     "b8640df07e5847aeb4eda7b54714b370": {
      "model_module": "@jupyter-widgets/base",
      "model_module_version": "1.1.0",
      "model_name": "LayoutModel",
      "state": {}
     },
     "b87d5f04f7c94ad2b4240bef62c3d149": {
      "model_module": "@jupyter-widgets/controls",
      "model_module_version": "1.4.0",
      "model_name": "VBoxModel",
      "state": {
       "children": [
        "IPY_MODEL_7cdaba6e204f4851840686529a909bcb",
        "IPY_MODEL_7ef3128732c740489c12676a641771b5"
       ],
       "layout": "IPY_MODEL_f8ac9c4574c84f27a99bfdf74eeca686"
      }
     },
     "b88b27221d1e4929ad7020a761d1a120": {
      "model_module": "@jupyter-widgets/base",
      "model_module_version": "1.1.0",
      "model_name": "LayoutModel",
      "state": {}
     },
     "b8bc55ebffef485da1173ccba0774a68": {
      "model_module": "@jupyter-widgets/base",
      "model_module_version": "1.1.0",
      "model_name": "LayoutModel",
      "state": {}
     },
     "b8be440985a2478fb02edcdfa089575e": {
      "model_module": "@jupyter-widgets/base",
      "model_module_version": "1.1.0",
      "model_name": "LayoutModel",
      "state": {}
     },
     "b8c5606687ce40aa9baa37de17c72cfa": {
      "model_module": "@jupyter-widgets/base",
      "model_module_version": "1.1.0",
      "model_name": "LayoutModel",
      "state": {}
     },
     "b90cbdbcedc54b6fa6bdbd581a06b690": {
      "model_module": "@jupyter-widgets/base",
      "model_module_version": "1.1.0",
      "model_name": "LayoutModel",
      "state": {}
     },
     "b95613491a884615ba25e583d8f0230b": {
      "model_module": "@jupyter-widgets/controls",
      "model_module_version": "1.4.0",
      "model_name": "VBoxModel",
      "state": {
       "children": [
        "IPY_MODEL_c1578d17cde34390a10ea30c137e9f27",
        "IPY_MODEL_583c9e86be7d49f3b6ac4cb767e1e688",
        "IPY_MODEL_aa07063666e443dc97ea0bba6dfee03b",
        "IPY_MODEL_d64ebb419a7d4757b8a3499a0e4c07ab",
        "IPY_MODEL_88ba9983c9f2410d9513f064b2bd0a4e",
        "IPY_MODEL_4732a9d1bbf74747993edc5f3be4b325",
        "IPY_MODEL_6a94faccf3c34e84820a75d4ac624fa2",
        "IPY_MODEL_dc8b693a0380475a9521504abae7880f"
       ],
       "layout": "IPY_MODEL_f12a86d96a60404f8e9483805e5be3bc"
      }
     },
     "b95904610fb34eafa7b245ae609dc892": {
      "model_module": "@jupyter-widgets/base",
      "model_module_version": "1.1.0",
      "model_name": "LayoutModel",
      "state": {}
     },
     "b95d4d5453414a24bfc7967e0d052297": {
      "model_module": "@jupyter-widgets/base",
      "model_module_version": "1.1.0",
      "model_name": "LayoutModel",
      "state": {}
     },
     "b969ae7a704547d49e1c44868e661d29": {
      "model_module": "@jupyter-widgets/controls",
      "model_module_version": "1.4.0",
      "model_name": "VBoxModel",
      "state": {
       "_dom_classes": [
        "widget-interact"
       ],
       "children": [
        "IPY_MODEL_7cdaba6e204f4851840686529a909bcb",
        "IPY_MODEL_7ef3128732c740489c12676a641771b5",
        "IPY_MODEL_9e72ea6871ff4d64b845e371e33ca800"
       ],
       "layout": "IPY_MODEL_07fbea43b86240bdb874c8a3196a2d3b"
      }
     },
     "b9919c507aec49f5b121cb1d8ced28ec": {
      "model_module": "@jupyter-widgets/base",
      "model_module_version": "1.1.0",
      "model_name": "LayoutModel",
      "state": {}
     },
     "b9996c7403fa4f86a9c491bf00de6057": {
      "model_module": "@jupyter-widgets/controls",
      "model_module_version": "1.4.0",
      "model_name": "HBoxModel",
      "state": {
       "children": [
        "IPY_MODEL_919a0fd4730d4339a4a330746d02437b",
        "IPY_MODEL_c59b89fa2999401ca9cc42e320572b79"
       ],
       "layout": "IPY_MODEL_31f0665688cd4665889b5a523659ea06"
      }
     },
     "b9e1291c6cb94a86a598c059b30fe761": {
      "model_module": "@jupyter-widgets/controls",
      "model_module_version": "1.4.0",
      "model_name": "FloatTextModel",
      "state": {
       "description": "$APTT (s)$",
       "layout": "IPY_MODEL_3399c8e09c1c400c978f23f5b11f4a4a",
       "step": null,
       "style": "IPY_MODEL_a55bdfde891342ab8e6a55508bcef3fe",
       "value": "nan"
      }
     },
     "b9fe3abd103840239a81d75309f54eec": {
      "model_module": "@jupyter-widgets/base",
      "model_module_version": "1.1.0",
      "model_name": "LayoutModel",
      "state": {}
     },
     "ba0bff7ce45f4cb1be7a3505f1eb0d9e": {
      "model_module": "@jupyter-widgets/controls",
      "model_module_version": "1.4.0",
      "model_name": "VBoxModel",
      "state": {
       "_dom_classes": [
        "widget-interact"
       ],
       "children": [
        "IPY_MODEL_467abf0c84b746629cc02d043f510b3b",
        "IPY_MODEL_f03c702063304900a21b86a1cfc1bc6a",
        "IPY_MODEL_ff2acae77452485ab84e18b41091ce82",
        "IPY_MODEL_85f59b8ac04841dfaa02b062d28f402e",
        "IPY_MODEL_3dc6b39299cb45bd85928756dfe5f459",
        "IPY_MODEL_68d6a562e1904abab58ed04cfe99b19c",
        "IPY_MODEL_8fff40f93750435aa3ec486f0250c736",
        "IPY_MODEL_c1578d17cde34390a10ea30c137e9f27",
        "IPY_MODEL_583c9e86be7d49f3b6ac4cb767e1e688",
        "IPY_MODEL_aa07063666e443dc97ea0bba6dfee03b",
        "IPY_MODEL_d64ebb419a7d4757b8a3499a0e4c07ab",
        "IPY_MODEL_88ba9983c9f2410d9513f064b2bd0a4e",
        "IPY_MODEL_4732a9d1bbf74747993edc5f3be4b325",
        "IPY_MODEL_6a94faccf3c34e84820a75d4ac624fa2",
        "IPY_MODEL_dc8b693a0380475a9521504abae7880f",
        "IPY_MODEL_ed1dc57f8b154bf0984a6a3ab65a776c"
       ],
       "layout": "IPY_MODEL_d5ab415db54f46988a5f6b66b195de44"
      }
     },
     "ba4f2352551f4c73af2a2a808bc70ee7": {
      "model_module": "@jupyter-widgets/output",
      "model_module_version": "1.0.0",
      "model_name": "OutputModel",
      "state": {
       "layout": "IPY_MODEL_059c4f1c0ae24ea186cb7741b542ed20"
      }
     },
     "ba79155350f44bb998f66726c734d66c": {
      "model_module": "@jupyter-widgets/base",
      "model_module_version": "1.1.0",
      "model_name": "LayoutModel",
      "state": {}
     },
     "ba8ac0399e84486593826ea2cbf0eeb7": {
      "model_module": "@jupyter-widgets/controls",
      "model_module_version": "1.4.0",
      "model_name": "ButtonModel",
      "state": {
       "description": "Run algorithm",
       "layout": "IPY_MODEL_d7bb54016d7a4ef1b0e15bc53c752427",
       "style": "IPY_MODEL_40082e79f83344a5978ce808dff016bb"
      }
     },
     "ba9095cb1d194a9c835de948f114c50e": {
      "model_module": "@jupyter-widgets/base",
      "model_module_version": "1.1.0",
      "model_name": "LayoutModel",
      "state": {}
     },
     "bab439cb560e4c60bf556e32d00c54d4": {
      "model_module": "@jupyter-widgets/controls",
      "model_module_version": "1.4.0",
      "model_name": "VBoxModel",
      "state": {
       "_dom_classes": [
        "widget-interact"
       ],
       "children": [
        "IPY_MODEL_7cdaba6e204f4851840686529a909bcb",
        "IPY_MODEL_7ef3128732c740489c12676a641771b5",
        "IPY_MODEL_3225cb9b61ba4a70a430b965be5aa7b8"
       ],
       "layout": "IPY_MODEL_ebf19be41e694225a3768cdf2f99e627"
      }
     },
     "bacb19cf9db944ceaaeb4c92b4815e95": {
      "model_module": "@jupyter-widgets/controls",
      "model_module_version": "1.4.0",
      "model_name": "HBoxModel",
      "state": {
       "children": [
        "IPY_MODEL_fb4be842a35d429bbdc20187508cb8b5",
        "IPY_MODEL_55467dd1c30946ac9ebac1684ffffd10"
       ],
       "layout": "IPY_MODEL_cfce14bc99924d24b93656f9a40dd5c7"
      }
     },
     "bace60e7af514f8a9916961e83a521a3": {
      "model_module": "@jupyter-widgets/controls",
      "model_module_version": "1.4.0",
      "model_name": "FloatTextModel",
      "state": {
       "description": "$A10_{Heptem} (mm)$",
       "layout": "IPY_MODEL_c5ebb4bd4772480097dc110d9178ba0f",
       "step": null,
       "style": "IPY_MODEL_fa3ec5f57431493995d175899a72523f",
       "value": "nan"
      }
     },
     "bad3d305b8534a75a82f9123f7434ab9": {
      "model_module": "@jupyter-widgets/base",
      "model_module_version": "1.1.0",
      "model_name": "LayoutModel",
      "state": {}
     },
     "bad672d8a651403094d8a2fa7d6c0619": {
      "model_module": "@jupyter-widgets/base",
      "model_module_version": "1.1.0",
      "model_name": "LayoutModel",
      "state": {}
     },
     "bb4d5c45efed4546927a4571e12f74f3": {
      "model_module": "@jupyter-widgets/controls",
      "model_module_version": "1.4.0",
      "model_name": "VBoxModel",
      "state": {
       "children": [
        "IPY_MODEL_4bc522dc237d4bc6b1770680889ef3b8",
        "IPY_MODEL_58e964e7f85a4e838a71af0a7b1a2caa"
       ],
       "layout": "IPY_MODEL_6d83a0e3091142f7ba3be0e438c44d0b"
      }
     },
     "bb63322941664ff2a09438d9e87da5cc": {
      "model_module": "@jupyter-widgets/controls",
      "model_module_version": "1.4.0",
      "model_name": "VBoxModel",
      "state": {
       "children": [
        "IPY_MODEL_2dd80b119d1247b8b8da6d29d13a8556",
        "IPY_MODEL_b778d0ecb79747669c41c19657707809"
       ],
       "layout": "IPY_MODEL_50ee1d41af5941ccba20bab96e15b90d"
      }
     },
     "bb6ee94f09bc41868669643b2bf2b5d2": {
      "model_module": "@jupyter-widgets/controls",
      "model_module_version": "1.4.0",
      "model_name": "AccordionModel",
      "state": {
       "_titles": {
        "0": "Procedure",
        "1": "Parameters"
       },
       "children": [
        "IPY_MODEL_f9561ffdc4844f3d98c4e0bb942fb766",
        "IPY_MODEL_f934b42896c24807b94af25e4c8e778c"
       ],
       "layout": "IPY_MODEL_55b2cbeccd28406f9d37ab3a8ca27064",
       "selected_index": 1
      }
     },
     "bb769b2b7ff74656af895fd138e3f199": {
      "model_module": "@jupyter-widgets/base",
      "model_module_version": "1.1.0",
      "model_name": "LayoutModel",
      "state": {}
     },
     "bba90e20b27347cd8017ead910607a7d": {
      "model_module": "@jupyter-widgets/base",
      "model_module_version": "1.1.0",
      "model_name": "LayoutModel",
      "state": {}
     },
     "bbaf2fa8fd6c45b1a4a51ab1b113990c": {
      "model_module": "@jupyter-widgets/base",
      "model_module_version": "1.1.0",
      "model_name": "LayoutModel",
      "state": {}
     },
     "bbd6edc35dec4195999b719b4e7e9ae0": {
      "model_module": "@jupyter-widgets/base",
      "model_module_version": "1.1.0",
      "model_name": "LayoutModel",
      "state": {}
     },
     "bc67a60d1ced4d04bbffcb1692cf4f32": {
      "model_module": "@jupyter-widgets/base",
      "model_module_version": "1.1.0",
      "model_name": "LayoutModel",
      "state": {}
     },
     "bc88a412961d444a94d59d33c5a74dda": {
      "model_module": "@jupyter-widgets/controls",
      "model_module_version": "1.4.0",
      "model_name": "ButtonModel",
      "state": {
       "description": "Run algorithm",
       "layout": "IPY_MODEL_d0fa33cc0d5b441389874befce9eb1e5",
       "style": "IPY_MODEL_c7b893a949b64086865fe7f81f196738"
      }
     },
     "bca1519970d24abfa8d648d58187e905": {
      "model_module": "@jupyter-widgets/controls",
      "model_module_version": "1.4.0",
      "model_name": "VBoxModel",
      "state": {
       "children": [
        "IPY_MODEL_7cdaba6e204f4851840686529a909bcb",
        "IPY_MODEL_7ef3128732c740489c12676a641771b5"
       ],
       "layout": "IPY_MODEL_f757583bd9924e0384af70b6b06ebf10"
      }
     },
     "bca32bbbaf254d228d60329fc20d1177": {
      "model_module": "@jupyter-widgets/base",
      "model_module_version": "1.1.0",
      "model_name": "LayoutModel",
      "state": {}
     },
     "bcaa2a285cda44bfa3817150199f98ce": {
      "model_module": "@jupyter-widgets/base",
      "model_module_version": "1.1.0",
      "model_name": "LayoutModel",
      "state": {}
     },
     "bccb2496edb84c61afd277e9190bba1e": {
      "model_module": "@jupyter-widgets/controls",
      "model_module_version": "1.4.0",
      "model_name": "AccordionModel",
      "state": {
       "_titles": {
        "0": "Procedure",
        "1": "Parameters"
       },
       "children": [
        "IPY_MODEL_07ef923de47c4cdf820de7231d405d16",
        "IPY_MODEL_1cb49e68a33e469dba369972ac927f30"
       ],
       "layout": "IPY_MODEL_0995624b9d6a46c2832c01c25143c355",
       "selected_index": 1
      }
     },
     "bce8a59886db429fb157017a7388e72f": {
      "model_module": "@jupyter-widgets/controls",
      "model_module_version": "1.4.0",
      "model_name": "VBoxModel",
      "state": {
       "children": [
        "IPY_MODEL_58ba49cb1c6c4cdba33faf700883dcd3",
        "IPY_MODEL_f1123acecf8d4231831c55e3e25f2a05"
       ],
       "layout": "IPY_MODEL_c9b9051ba45b4afe95e6362f13552820"
      }
     },
     "bce969f6bacb46819cb029ee31ad1bb7": {
      "model_module": "@jupyter-widgets/base",
      "model_module_version": "1.1.0",
      "model_name": "LayoutModel",
      "state": {}
     },
     "bcfb5a5ebdf947bd904c3eca29a14538": {
      "model_module": "@jupyter-widgets/output",
      "model_module_version": "1.0.0",
      "model_name": "OutputModel",
      "state": {
       "layout": "IPY_MODEL_ce730754fd604df5ac532a97dc6087b3"
      }
     },
     "bd04e4885bbd42af89c3956a6a2655e8": {
      "model_module": "@jupyter-widgets/base",
      "model_module_version": "1.1.0",
      "model_name": "LayoutModel",
      "state": {}
     },
     "bd0f11bf05d3417f8962a64b7d3b10d9": {
      "model_module": "@jupyter-widgets/base",
      "model_module_version": "1.1.0",
      "model_name": "LayoutModel",
      "state": {}
     },
     "bd261ddec1944c638cf0f36c29e4449b": {
      "model_module": "@jupyter-widgets/base",
      "model_module_version": "1.1.0",
      "model_name": "LayoutModel",
      "state": {}
     },
     "bd3f485467c54793b459165a39541b49": {
      "model_module": "@jupyter-widgets/base",
      "model_module_version": "1.1.0",
      "model_name": "LayoutModel",
      "state": {}
     },
     "bd639630e862480ca445a398f5c634b8": {
      "model_module": "@jupyter-widgets/controls",
      "model_module_version": "1.4.0",
      "model_name": "ButtonStyleModel",
      "state": {}
     },
     "bdb7ab12ffb64109ac86ca096385a086": {
      "model_module": "@jupyter-widgets/base",
      "model_module_version": "1.1.0",
      "model_name": "LayoutModel",
      "state": {}
     },
     "bdc1cf3b6fb34c8393f1cba65a4b2054": {
      "model_module": "@jupyter-widgets/output",
      "model_module_version": "1.0.0",
      "model_name": "OutputModel",
      "state": {
       "layout": "IPY_MODEL_9dd91e2dc56945f2b475af3adf2f867e"
      }
     },
     "bdcece90695f4cd3b9a58dd9746d3ad9": {
      "model_module": "@jupyter-widgets/controls",
      "model_module_version": "1.4.0",
      "model_name": "AccordionModel",
      "state": {
       "_titles": {
        "0": "Procedure",
        "1": "Parameters"
       },
       "children": [
        "IPY_MODEL_0483421836b74344b018b41d2f83f86e",
        "IPY_MODEL_6b47e3ee9caa453aad3800a6741edbc4"
       ],
       "layout": "IPY_MODEL_8e3e455307154097806d8a3a703445d7",
       "selected_index": 1
      }
     },
     "bdd2c7c2561748839301a041ac0ef04c": {
      "model_module": "@jupyter-widgets/base",
      "model_module_version": "1.1.0",
      "model_name": "LayoutModel",
      "state": {}
     },
     "be24ccdd13544c27acfeb3bd4d89d1df": {
      "model_module": "@jupyter-widgets/base",
      "model_module_version": "1.1.0",
      "model_name": "LayoutModel",
      "state": {}
     },
     "be46cf2b6206462ca03787d471de08ca": {
      "model_module": "@jupyter-widgets/base",
      "model_module_version": "1.1.0",
      "model_name": "LayoutModel",
      "state": {}
     },
     "bed5134c10804698b5c552f05a4ab94e": {
      "model_module": "@jupyter-widgets/controls",
      "model_module_version": "1.4.0",
      "model_name": "AccordionModel",
      "state": {
       "_titles": {
        "0": "Procedure",
        "1": "Parameters"
       },
       "children": [
        "IPY_MODEL_31d5199a4e67439b8fcba3e13279d716",
        "IPY_MODEL_4f0b6e4c1263495db06fc1d095daa04f"
       ],
       "layout": "IPY_MODEL_0ce1773351c045d38d34646b44d8c071",
       "selected_index": 1
      }
     },
     "bf13c7be0e7f460caab37a034d2a83a9": {
      "model_module": "@jupyter-widgets/output",
      "model_module_version": "1.0.0",
      "model_name": "OutputModel",
      "state": {
       "layout": "IPY_MODEL_5376b14bc7624cc7859cb250890d14f2"
      }
     },
     "bf3cd47879d04a959ef89184520dc164": {
      "model_module": "@jupyter-widgets/base",
      "model_module_version": "1.1.0",
      "model_name": "LayoutModel",
      "state": {}
     },
     "bf485561dabc4af8bef572799e5c8769": {
      "model_module": "@jupyter-widgets/controls",
      "model_module_version": "1.4.0",
      "model_name": "VBoxModel",
      "state": {
       "children": [
        "IPY_MODEL_467abf0c84b746629cc02d043f510b3b",
        "IPY_MODEL_f03c702063304900a21b86a1cfc1bc6a",
        "IPY_MODEL_ff2acae77452485ab84e18b41091ce82",
        "IPY_MODEL_85f59b8ac04841dfaa02b062d28f402e",
        "IPY_MODEL_3dc6b39299cb45bd85928756dfe5f459",
        "IPY_MODEL_68d6a562e1904abab58ed04cfe99b19c",
        "IPY_MODEL_8fff40f93750435aa3ec486f0250c736"
       ],
       "layout": "IPY_MODEL_3cd93a2f38fb4e09bf1b85c81fa56f64"
      }
     },
     "bf9ca0a6328749b18950313be34018e8": {
      "model_module": "@jupyter-widgets/controls",
      "model_module_version": "1.4.0",
      "model_name": "DescriptionStyleModel",
      "state": {
       "description_width": "initial"
      }
     },
     "bfb8a4d226184976bbc216fa9cdea337": {
      "model_module": "@jupyter-widgets/base",
      "model_module_version": "1.1.0",
      "model_name": "LayoutModel",
      "state": {}
     },
     "bfc656ef4db847daa1243a5eac3abd4d": {
      "model_module": "@jupyter-widgets/controls",
      "model_module_version": "1.4.0",
      "model_name": "VBoxModel",
      "state": {
       "children": [
        "IPY_MODEL_467abf0c84b746629cc02d043f510b3b",
        "IPY_MODEL_f03c702063304900a21b86a1cfc1bc6a",
        "IPY_MODEL_ff2acae77452485ab84e18b41091ce82",
        "IPY_MODEL_85f59b8ac04841dfaa02b062d28f402e",
        "IPY_MODEL_3dc6b39299cb45bd85928756dfe5f459",
        "IPY_MODEL_68d6a562e1904abab58ed04cfe99b19c",
        "IPY_MODEL_8fff40f93750435aa3ec486f0250c736"
       ],
       "layout": "IPY_MODEL_39267897a56a4f3caf522426bbde855b"
      }
     },
     "bfe7a58553d24ca6b02f2f0bfd2a2393": {
      "model_module": "@jupyter-widgets/controls",
      "model_module_version": "1.4.0",
      "model_name": "HBoxModel",
      "state": {
       "children": [
        "IPY_MODEL_34b6daaf750d453ca8178d643997ba23"
       ],
       "layout": "IPY_MODEL_dae09e3efc80464293d9e9c92ddf4d4a"
      }
     },
     "c0149b2d9c3f418ca2f66fb0e8c82118": {
      "model_module": "@jupyter-widgets/controls",
      "model_module_version": "1.4.0",
      "model_name": "VBoxModel",
      "state": {
       "children": [
        "IPY_MODEL_2c91f87a765e442aad6938a7b8c16735",
        "IPY_MODEL_ff40768c407a4c2fabb76e709b747646"
       ],
       "layout": "IPY_MODEL_bc67a60d1ced4d04bbffcb1692cf4f32"
      }
     },
     "c018718cd4cd47fa94b2c553b00fcf50": {
      "model_module": "@jupyter-widgets/controls",
      "model_module_version": "1.4.0",
      "model_name": "HBoxModel",
      "state": {
       "children": [
        "IPY_MODEL_514e330f190a45a299314cfc988624be",
        "IPY_MODEL_d885a237ca254fad9a29a7d6adf2b1f7"
       ],
       "layout": "IPY_MODEL_567a2cdca55f4afcb5648cd16393d278"
      }
     },
     "c01e2833eed84f02beba23e6e0cb5a26": {
      "model_module": "@jupyter-widgets/controls",
      "model_module_version": "1.4.0",
      "model_name": "HBoxModel",
      "state": {
       "children": [
        "IPY_MODEL_19422413f46c4380bb60e5574e865dbf",
        "IPY_MODEL_073e64f3c99e4d53aa2f49c5c9469505"
       ],
       "layout": "IPY_MODEL_217e1a18c9c44c45bc43b35dbfd4bad3"
      }
     },
     "c03901949d5940e7b33ec733c6ebdfa3": {
      "model_module": "@jupyter-widgets/controls",
      "model_module_version": "1.4.0",
      "model_name": "VBoxModel",
      "state": {
       "children": [
        "IPY_MODEL_467abf0c84b746629cc02d043f510b3b",
        "IPY_MODEL_f03c702063304900a21b86a1cfc1bc6a",
        "IPY_MODEL_ff2acae77452485ab84e18b41091ce82",
        "IPY_MODEL_85f59b8ac04841dfaa02b062d28f402e",
        "IPY_MODEL_3dc6b39299cb45bd85928756dfe5f459",
        "IPY_MODEL_68d6a562e1904abab58ed04cfe99b19c",
        "IPY_MODEL_8fff40f93750435aa3ec486f0250c736"
       ],
       "layout": "IPY_MODEL_b572738d94f6455dbdf2d6f6e0d4bc39"
      }
     },
     "c0531a479d474c1e8425724bb2e027ae": {
      "model_module": "@jupyter-widgets/base",
      "model_module_version": "1.1.0",
      "model_name": "LayoutModel",
      "state": {}
     },
     "c0561350ce134538be6438a0dd204870": {
      "model_module": "@jupyter-widgets/base",
      "model_module_version": "1.1.0",
      "model_name": "LayoutModel",
      "state": {}
     },
     "c08b429d895d4cac92f575f482d83e0f": {
      "model_module": "@jupyter-widgets/controls",
      "model_module_version": "1.4.0",
      "model_name": "FloatTextModel",
      "state": {
       "description": "$APTT (s)$",
       "layout": "IPY_MODEL_b79be748df2f4ac999be491e612ef2ca",
       "step": null,
       "style": "IPY_MODEL_9f06ebfee29c4640b0ee9107e01c21be",
       "value": "nan"
      }
     },
     "c0f3cefa349e40808b7ae8ea1b4863b3": {
      "model_module": "@jupyter-widgets/controls",
      "model_module_version": "1.4.0",
      "model_name": "AccordionModel",
      "state": {
       "_titles": {
        "0": "Procedure",
        "1": "Parameters"
       },
       "children": [
        "IPY_MODEL_3a55f60c47cf4a9b9f91689511500535",
        "IPY_MODEL_b9996c7403fa4f86a9c491bf00de6057"
       ],
       "layout": "IPY_MODEL_bce969f6bacb46819cb029ee31ad1bb7",
       "selected_index": 1
      }
     },
     "c11e2e3ccee241b1926586270f5a64da": {
      "model_module": "@jupyter-widgets/output",
      "model_module_version": "1.0.0",
      "model_name": "OutputModel",
      "state": {
       "layout": "IPY_MODEL_b1b82e9a0a7b4b03bd7fdad25b52f8d7"
      }
     },
     "c14922a826284902ac347e81edcc418b": {
      "model_module": "@jupyter-widgets/base",
      "model_module_version": "1.1.0",
      "model_name": "LayoutModel",
      "state": {}
     },
     "c1578d17cde34390a10ea30c137e9f27": {
      "model_module": "@jupyter-widgets/controls",
      "model_module_version": "1.4.0",
      "model_name": "FloatTextModel",
      "state": {
       "description": "$Fibrinogen (g/L)$",
       "layout": "IPY_MODEL_74c3201760234ffd97bf2727d96340c6",
       "step": null,
       "style": "IPY_MODEL_5d1e18861c6d414aa869d85ce342c859",
       "value": 2.04
      }
     },
     "c196a85d74d84968b0659140cc6a6586": {
      "model_module": "@jupyter-widgets/controls",
      "model_module_version": "1.4.0",
      "model_name": "VBoxModel",
      "state": {
       "children": [
        "IPY_MODEL_64e0b5d82afb46ac87de19dff69373ef",
        "IPY_MODEL_9bb96400758e4b4cb3f4ece0789d9f26"
       ],
       "layout": "IPY_MODEL_f64df9559ab84e94b919f3fe92d6e425"
      }
     },
     "c1f1f88dc7d54b448690702b7bc1ccd1": {
      "model_module": "@jupyter-widgets/base",
      "model_module_version": "1.1.0",
      "model_name": "LayoutModel",
      "state": {}
     },
     "c1f3554aa43a4d5d9e3a09c1076fc02b": {
      "model_module": "@jupyter-widgets/output",
      "model_module_version": "1.0.0",
      "model_name": "OutputModel",
      "state": {
       "layout": "IPY_MODEL_61ffd5e16db947c2aaa47a70ccce1a65"
      }
     },
     "c1f939b266b149078cc85ad02aadcf6a": {
      "model_module": "@jupyter-widgets/controls",
      "model_module_version": "1.4.0",
      "model_name": "VBoxModel",
      "state": {
       "_dom_classes": [
        "widget-interact"
       ],
       "children": [
        "IPY_MODEL_467abf0c84b746629cc02d043f510b3b",
        "IPY_MODEL_f03c702063304900a21b86a1cfc1bc6a",
        "IPY_MODEL_ff2acae77452485ab84e18b41091ce82",
        "IPY_MODEL_85f59b8ac04841dfaa02b062d28f402e",
        "IPY_MODEL_3dc6b39299cb45bd85928756dfe5f459",
        "IPY_MODEL_68d6a562e1904abab58ed04cfe99b19c",
        "IPY_MODEL_8fff40f93750435aa3ec486f0250c736",
        "IPY_MODEL_c1578d17cde34390a10ea30c137e9f27",
        "IPY_MODEL_583c9e86be7d49f3b6ac4cb767e1e688",
        "IPY_MODEL_aa07063666e443dc97ea0bba6dfee03b",
        "IPY_MODEL_d64ebb419a7d4757b8a3499a0e4c07ab",
        "IPY_MODEL_88ba9983c9f2410d9513f064b2bd0a4e",
        "IPY_MODEL_4732a9d1bbf74747993edc5f3be4b325",
        "IPY_MODEL_6a94faccf3c34e84820a75d4ac624fa2",
        "IPY_MODEL_dc8b693a0380475a9521504abae7880f",
        "IPY_MODEL_6f720c43a3de44f7aed5caeea1fce42b"
       ],
       "layout": "IPY_MODEL_869f23268a6749c498e0681b6923ad2f"
      }
     },
     "c2506684fe3d46b8b3b71a8f8f6ca5e3": {
      "model_module": "@jupyter-widgets/base",
      "model_module_version": "1.1.0",
      "model_name": "LayoutModel",
      "state": {}
     },
     "c25c670344484a3eab21775f86d7a8d6": {
      "model_module": "@jupyter-widgets/base",
      "model_module_version": "1.1.0",
      "model_name": "LayoutModel",
      "state": {}
     },
     "c28093c1b1bd445cba693741159dad6c": {
      "model_module": "@jupyter-widgets/base",
      "model_module_version": "1.1.0",
      "model_name": "LayoutModel",
      "state": {}
     },
     "c2821814f876423490bc2cd184796a31": {
      "model_module": "@jupyter-widgets/base",
      "model_module_version": "1.1.0",
      "model_name": "LayoutModel",
      "state": {}
     },
     "c2cd408f5ef044a38c388f6652614c69": {
      "model_module": "@jupyter-widgets/controls",
      "model_module_version": "1.4.0",
      "model_name": "VBoxModel",
      "state": {
       "children": [
        "IPY_MODEL_c1578d17cde34390a10ea30c137e9f27",
        "IPY_MODEL_583c9e86be7d49f3b6ac4cb767e1e688",
        "IPY_MODEL_aa07063666e443dc97ea0bba6dfee03b",
        "IPY_MODEL_d64ebb419a7d4757b8a3499a0e4c07ab",
        "IPY_MODEL_88ba9983c9f2410d9513f064b2bd0a4e",
        "IPY_MODEL_4732a9d1bbf74747993edc5f3be4b325",
        "IPY_MODEL_6a94faccf3c34e84820a75d4ac624fa2",
        "IPY_MODEL_dc8b693a0380475a9521504abae7880f"
       ],
       "layout": "IPY_MODEL_38fdf769164043309ad45e705cb4a5a0"
      }
     },
     "c31270df1b924563b7cf372dd7c85672": {
      "model_module": "@jupyter-widgets/controls",
      "model_module_version": "1.4.0",
      "model_name": "DescriptionStyleModel",
      "state": {
       "description_width": "initial"
      }
     },
     "c3568e1fd01445f298b50ee6d87cabd3": {
      "model_module": "@jupyter-widgets/controls",
      "model_module_version": "1.4.0",
      "model_name": "AccordionModel",
      "state": {
       "_titles": {
        "0": "Procedure",
        "1": "Parameters"
       },
       "children": [
        "IPY_MODEL_c196a85d74d84968b0659140cc6a6586",
        "IPY_MODEL_a8c0b85a547f46078631ec8f404774d3"
       ],
       "layout": "IPY_MODEL_98d41bfa5a9043b2a790e5448ce9844a"
      }
     },
     "c35a049241b0406d9df5e6f6b298cb09": {
      "model_module": "@jupyter-widgets/output",
      "model_module_version": "1.0.0",
      "model_name": "OutputModel",
      "state": {
       "layout": "IPY_MODEL_796be367a16e401ea5f227d216ea1758"
      }
     },
     "c38019229b7145c4af15473afa9f98b4": {
      "model_module": "@jupyter-widgets/controls",
      "model_module_version": "1.4.0",
      "model_name": "VBoxModel",
      "state": {
       "children": [
        "IPY_MODEL_467abf0c84b746629cc02d043f510b3b",
        "IPY_MODEL_f03c702063304900a21b86a1cfc1bc6a",
        "IPY_MODEL_ff2acae77452485ab84e18b41091ce82",
        "IPY_MODEL_85f59b8ac04841dfaa02b062d28f402e",
        "IPY_MODEL_3dc6b39299cb45bd85928756dfe5f459",
        "IPY_MODEL_68d6a562e1904abab58ed04cfe99b19c",
        "IPY_MODEL_8fff40f93750435aa3ec486f0250c736"
       ],
       "layout": "IPY_MODEL_a9c68ea9be5e4d7da7aaeb1a51808249"
      }
     },
     "c3a6c887086947aebb205d3f666b908e": {
      "model_module": "@jupyter-widgets/base",
      "model_module_version": "1.1.0",
      "model_name": "LayoutModel",
      "state": {}
     },
     "c3b50260fcf14baabf83cdfcb5d8e2d2": {
      "model_module": "@jupyter-widgets/controls",
      "model_module_version": "1.4.0",
      "model_name": "ButtonModel",
      "state": {
       "description": "Run algorithm",
       "layout": "IPY_MODEL_00c6d0d7cfd34bf2a8b1a51660a1956a",
       "style": "IPY_MODEL_1411ce46744d485a94a215bb02bd87fb"
      }
     },
     "c3d0bf06780943a9802e45620f96c8ec": {
      "model_module": "@jupyter-widgets/base",
      "model_module_version": "1.1.0",
      "model_name": "LayoutModel",
      "state": {}
     },
     "c4024b8dc33744a2b20bf6fd78ae9feb": {
      "model_module": "@jupyter-widgets/base",
      "model_module_version": "1.1.0",
      "model_name": "LayoutModel",
      "state": {}
     },
     "c43dd94add8c412da7a6e3d396230a53": {
      "model_module": "@jupyter-widgets/base",
      "model_module_version": "1.1.0",
      "model_name": "LayoutModel",
      "state": {}
     },
     "c45ed3dda2b44cd5a9ba03ebc786551c": {
      "model_module": "@jupyter-widgets/base",
      "model_module_version": "1.1.0",
      "model_name": "LayoutModel",
      "state": {}
     },
     "c54adef991c5454e9446cd677bb9e9ce": {
      "model_module": "@jupyter-widgets/controls",
      "model_module_version": "1.4.0",
      "model_name": "ButtonStyleModel",
      "state": {}
     },
     "c57ea126b74c4b94b3f7e7bccd4e4f1c": {
      "model_module": "@jupyter-widgets/controls",
      "model_module_version": "1.4.0",
      "model_name": "VBoxModel",
      "state": {
       "children": [
        "IPY_MODEL_7cdaba6e204f4851840686529a909bcb",
        "IPY_MODEL_7ef3128732c740489c12676a641771b5"
       ],
       "layout": "IPY_MODEL_ea58988ebbcb414981bf51c6a32f3714"
      }
     },
     "c58abe6418004d30b3cc7ced3e30d1a0": {
      "model_module": "@jupyter-widgets/base",
      "model_module_version": "1.1.0",
      "model_name": "LayoutModel",
      "state": {}
     },
     "c59b89fa2999401ca9cc42e320572b79": {
      "model_module": "@jupyter-widgets/controls",
      "model_module_version": "1.4.0",
      "model_name": "VBoxModel",
      "state": {
       "children": [
        "IPY_MODEL_467abf0c84b746629cc02d043f510b3b",
        "IPY_MODEL_f03c702063304900a21b86a1cfc1bc6a",
        "IPY_MODEL_ff2acae77452485ab84e18b41091ce82",
        "IPY_MODEL_85f59b8ac04841dfaa02b062d28f402e",
        "IPY_MODEL_3dc6b39299cb45bd85928756dfe5f459",
        "IPY_MODEL_68d6a562e1904abab58ed04cfe99b19c",
        "IPY_MODEL_8fff40f93750435aa3ec486f0250c736"
       ],
       "layout": "IPY_MODEL_aef2f6451613408fbd39b1d8d471c0f8"
      }
     },
     "c59cff6b68fc4f35b7d573f73487dc7a": {
      "model_module": "@jupyter-widgets/controls",
      "model_module_version": "1.4.0",
      "model_name": "VBoxModel",
      "state": {
       "children": [
        "IPY_MODEL_467abf0c84b746629cc02d043f510b3b",
        "IPY_MODEL_f03c702063304900a21b86a1cfc1bc6a",
        "IPY_MODEL_ff2acae77452485ab84e18b41091ce82",
        "IPY_MODEL_85f59b8ac04841dfaa02b062d28f402e",
        "IPY_MODEL_3dc6b39299cb45bd85928756dfe5f459",
        "IPY_MODEL_68d6a562e1904abab58ed04cfe99b19c",
        "IPY_MODEL_8fff40f93750435aa3ec486f0250c736"
       ],
       "layout": "IPY_MODEL_10a505e992f1444d8ba4c815288a72fb"
      }
     },
     "c5b9a2811b0e4ab586b9cec0d6701345": {
      "model_module": "@jupyter-widgets/base",
      "model_module_version": "1.1.0",
      "model_name": "LayoutModel",
      "state": {}
     },
     "c5d35e1c1f7244c29d9797134d5faaa7": {
      "model_module": "@jupyter-widgets/base",
      "model_module_version": "1.1.0",
      "model_name": "LayoutModel",
      "state": {}
     },
     "c5ebb4bd4772480097dc110d9178ba0f": {
      "model_module": "@jupyter-widgets/base",
      "model_module_version": "1.1.0",
      "model_name": "LayoutModel",
      "state": {}
     },
     "c618b190fa1a42d1bdca27bcdc1c1ac8": {
      "model_module": "@jupyter-widgets/output",
      "model_module_version": "1.0.0",
      "model_name": "OutputModel",
      "state": {
       "layout": "IPY_MODEL_20290f03a46946b99317d98056121ad5"
      }
     },
     "c631c37e791d4adf9caae54a6900888d": {
      "model_module": "@jupyter-widgets/controls",
      "model_module_version": "1.4.0",
      "model_name": "VBoxModel",
      "state": {
       "children": [
        "IPY_MODEL_7cdaba6e204f4851840686529a909bcb",
        "IPY_MODEL_7ef3128732c740489c12676a641771b5"
       ],
       "layout": "IPY_MODEL_34a4631fa83845bbab18ce0d5866e577"
      }
     },
     "c676a4ba1f66455b8fbd78ef463310c1": {
      "model_module": "@jupyter-widgets/output",
      "model_module_version": "1.0.0",
      "model_name": "OutputModel",
      "state": {
       "layout": "IPY_MODEL_019b1dfd25c1456197f9bd0962aed9be"
      }
     },
     "c6ba7d4d2791487cadb98fbf543a253a": {
      "model_module": "@jupyter-widgets/controls",
      "model_module_version": "1.4.0",
      "model_name": "VBoxModel",
      "state": {
       "_dom_classes": [
        "widget-interact"
       ],
       "children": [
        "IPY_MODEL_7cdaba6e204f4851840686529a909bcb",
        "IPY_MODEL_7ef3128732c740489c12676a641771b5",
        "IPY_MODEL_661c3610a9b24ca38c8925fe9438e754"
       ],
       "layout": "IPY_MODEL_773dcd103ab0481692ac69fbf26ba145"
      }
     },
     "c6cff5e29f574a1a8a0a7d6ac15c6658": {
      "model_module": "@jupyter-widgets/base",
      "model_module_version": "1.1.0",
      "model_name": "LayoutModel",
      "state": {}
     },
     "c6f4773777774c3297f6cd001c685bc0": {
      "model_module": "@jupyter-widgets/controls",
      "model_module_version": "1.4.0",
      "model_name": "VBoxModel",
      "state": {
       "_dom_classes": [
        "widget-interact"
       ],
       "children": [
        "IPY_MODEL_467abf0c84b746629cc02d043f510b3b",
        "IPY_MODEL_f03c702063304900a21b86a1cfc1bc6a",
        "IPY_MODEL_ff2acae77452485ab84e18b41091ce82",
        "IPY_MODEL_85f59b8ac04841dfaa02b062d28f402e",
        "IPY_MODEL_3dc6b39299cb45bd85928756dfe5f459",
        "IPY_MODEL_68d6a562e1904abab58ed04cfe99b19c",
        "IPY_MODEL_8fff40f93750435aa3ec486f0250c736",
        "IPY_MODEL_c1578d17cde34390a10ea30c137e9f27",
        "IPY_MODEL_583c9e86be7d49f3b6ac4cb767e1e688",
        "IPY_MODEL_aa07063666e443dc97ea0bba6dfee03b",
        "IPY_MODEL_d64ebb419a7d4757b8a3499a0e4c07ab",
        "IPY_MODEL_88ba9983c9f2410d9513f064b2bd0a4e",
        "IPY_MODEL_4732a9d1bbf74747993edc5f3be4b325",
        "IPY_MODEL_6a94faccf3c34e84820a75d4ac624fa2",
        "IPY_MODEL_dc8b693a0380475a9521504abae7880f",
        "IPY_MODEL_a6d1ef8a883840778737e2318420d2a1"
       ],
       "layout": "IPY_MODEL_80f0adcc3bf34fed9c7914d5d4819f11"
      }
     },
     "c6f5583f867e46ff9170a5f3d7876cac": {
      "model_module": "@jupyter-widgets/base",
      "model_module_version": "1.1.0",
      "model_name": "LayoutModel",
      "state": {}
     },
     "c73183ebab034fd6b85acd07f3a513f6": {
      "model_module": "@jupyter-widgets/output",
      "model_module_version": "1.0.0",
      "model_name": "OutputModel",
      "state": {
       "layout": "IPY_MODEL_75bd41701b8347d8bb8d7c73d61545b7"
      }
     },
     "c752a1e475d34fe89314985f6b27b6da": {
      "model_module": "@jupyter-widgets/controls",
      "model_module_version": "1.4.0",
      "model_name": "VBoxModel",
      "state": {
       "children": [
        "IPY_MODEL_c1578d17cde34390a10ea30c137e9f27",
        "IPY_MODEL_583c9e86be7d49f3b6ac4cb767e1e688",
        "IPY_MODEL_aa07063666e443dc97ea0bba6dfee03b",
        "IPY_MODEL_d64ebb419a7d4757b8a3499a0e4c07ab",
        "IPY_MODEL_88ba9983c9f2410d9513f064b2bd0a4e",
        "IPY_MODEL_4732a9d1bbf74747993edc5f3be4b325",
        "IPY_MODEL_6a94faccf3c34e84820a75d4ac624fa2",
        "IPY_MODEL_dc8b693a0380475a9521504abae7880f"
       ],
       "layout": "IPY_MODEL_0b450072b6554426ad0ca21004970adf"
      }
     },
     "c7960cc4cf77471390f18c3976e67ab8": {
      "model_module": "@jupyter-widgets/output",
      "model_module_version": "1.0.0",
      "model_name": "OutputModel",
      "state": {
       "layout": "IPY_MODEL_d8691abff1ce4f16a64c5abe05fb8901"
      }
     },
     "c79bc45f02b44afa9e62ef7289f0ecf2": {
      "model_module": "@jupyter-widgets/base",
      "model_module_version": "1.1.0",
      "model_name": "LayoutModel",
      "state": {}
     },
     "c79d86a79eda4bfe8551ae22c0a8c4f8": {
      "model_module": "@jupyter-widgets/output",
      "model_module_version": "1.0.0",
      "model_name": "OutputModel",
      "state": {
       "layout": "IPY_MODEL_2f7653bf2c8d42abba5b063e1d8ef0c7"
      }
     },
     "c7b6fe44779f45128b2e6faed714ec8e": {
      "model_module": "@jupyter-widgets/controls",
      "model_module_version": "1.4.0",
      "model_name": "VBoxModel",
      "state": {
       "_dom_classes": [
        "widget-interact"
       ],
       "children": [
        "IPY_MODEL_7cdaba6e204f4851840686529a909bcb",
        "IPY_MODEL_7ef3128732c740489c12676a641771b5",
        "IPY_MODEL_0440407737774f2192553d7ca93485db"
       ],
       "layout": "IPY_MODEL_572c94d15a274a1eacf5a5235eeeba80"
      }
     },
     "c7b893a949b64086865fe7f81f196738": {
      "model_module": "@jupyter-widgets/controls",
      "model_module_version": "1.4.0",
      "model_name": "ButtonStyleModel",
      "state": {}
     },
     "c7ba1bff09954c8fa326983ad8e4686d": {
      "model_module": "@jupyter-widgets/base",
      "model_module_version": "1.1.0",
      "model_name": "LayoutModel",
      "state": {}
     },
     "c7d6b3ebb11045c186ea2fa696c230b4": {
      "model_module": "@jupyter-widgets/output",
      "model_module_version": "1.0.0",
      "model_name": "OutputModel",
      "state": {
       "layout": "IPY_MODEL_bbaf2fa8fd6c45b1a4a51ab1b113990c"
      }
     },
     "c867f25f60124082be8c0df6242ae1b4": {
      "model_module": "@jupyter-widgets/controls",
      "model_module_version": "1.4.0",
      "model_name": "ButtonStyleModel",
      "state": {}
     },
     "c88043e6bd624a1c83e5b8fe8a256fc0": {
      "model_module": "@jupyter-widgets/controls",
      "model_module_version": "1.4.0",
      "model_name": "DescriptionStyleModel",
      "state": {
       "description_width": "initial"
      }
     },
     "c8ad5e86b56c406e8458aca092c8a6b1": {
      "model_module": "@jupyter-widgets/base",
      "model_module_version": "1.1.0",
      "model_name": "LayoutModel",
      "state": {}
     },
     "c8bba5f761d742d5a047a83ff4a19c7f": {
      "model_module": "@jupyter-widgets/controls",
      "model_module_version": "1.4.0",
      "model_name": "DescriptionStyleModel",
      "state": {
       "description_width": "initial"
      }
     },
     "c8ecbadaf1e346d9b090c009b2d4f6c7": {
      "model_module": "@jupyter-widgets/output",
      "model_module_version": "1.0.0",
      "model_name": "OutputModel",
      "state": {
       "layout": "IPY_MODEL_bba90e20b27347cd8017ead910607a7d"
      }
     },
     "c8fac3d59de441f0a02a0e4b0ab1fe70": {
      "model_module": "@jupyter-widgets/base",
      "model_module_version": "1.1.0",
      "model_name": "LayoutModel",
      "state": {}
     },
     "c9767acf83104e4b94ad13a60136527e": {
      "model_module": "@jupyter-widgets/controls",
      "model_module_version": "1.4.0",
      "model_name": "VBoxModel",
      "state": {
       "children": [
        "IPY_MODEL_467abf0c84b746629cc02d043f510b3b",
        "IPY_MODEL_f03c702063304900a21b86a1cfc1bc6a",
        "IPY_MODEL_ff2acae77452485ab84e18b41091ce82",
        "IPY_MODEL_85f59b8ac04841dfaa02b062d28f402e",
        "IPY_MODEL_3dc6b39299cb45bd85928756dfe5f459",
        "IPY_MODEL_68d6a562e1904abab58ed04cfe99b19c",
        "IPY_MODEL_8fff40f93750435aa3ec486f0250c736"
       ],
       "layout": "IPY_MODEL_94a53b25c3674d9c915af107b6335ff1"
      }
     },
     "c9773e5307d44b18a97f5f2269db1aa5": {
      "model_module": "@jupyter-widgets/base",
      "model_module_version": "1.1.0",
      "model_name": "LayoutModel",
      "state": {}
     },
     "c9b9051ba45b4afe95e6362f13552820": {
      "model_module": "@jupyter-widgets/base",
      "model_module_version": "1.1.0",
      "model_name": "LayoutModel",
      "state": {}
     },
     "ca0cbc4e8d0c437681a0a80e525df4c5": {
      "model_module": "@jupyter-widgets/base",
      "model_module_version": "1.1.0",
      "model_name": "LayoutModel",
      "state": {}
     },
     "ca47df8710474f25b16c6af8d217836a": {
      "model_module": "@jupyter-widgets/base",
      "model_module_version": "1.1.0",
      "model_name": "LayoutModel",
      "state": {}
     },
     "ca69ed64fb41465cbfeb7ad69219a7b4": {
      "model_module": "@jupyter-widgets/controls",
      "model_module_version": "1.4.0",
      "model_name": "VBoxModel",
      "state": {
       "_dom_classes": [
        "widget-interact"
       ],
       "children": [
        "IPY_MODEL_7cdaba6e204f4851840686529a909bcb",
        "IPY_MODEL_7ef3128732c740489c12676a641771b5",
        "IPY_MODEL_6f039c6988354bfa875482d42e2ab504"
       ],
       "layout": "IPY_MODEL_e81277e935094fb1bcca252615502c94"
      }
     },
     "ca9f7638b88c4e57917c2ef04244a275": {
      "model_module": "@jupyter-widgets/base",
      "model_module_version": "1.1.0",
      "model_name": "LayoutModel",
      "state": {}
     },
     "cae85a5d857d40e7b8fda1bb0893c865": {
      "model_module": "@jupyter-widgets/controls",
      "model_module_version": "1.4.0",
      "model_name": "ButtonModel",
      "state": {
       "description": "Run algorithm",
       "layout": "IPY_MODEL_9bcdc51a97514b159e081b8681615cbd",
       "style": "IPY_MODEL_81132655ae324132910407c6af0ba9b1"
      }
     },
     "caf57c73f6044d678efb372b424eb171": {
      "model_module": "@jupyter-widgets/controls",
      "model_module_version": "1.4.0",
      "model_name": "VBoxModel",
      "state": {
       "_dom_classes": [
        "widget-interact"
       ],
       "children": [
        "IPY_MODEL_467abf0c84b746629cc02d043f510b3b",
        "IPY_MODEL_f03c702063304900a21b86a1cfc1bc6a",
        "IPY_MODEL_ff2acae77452485ab84e18b41091ce82",
        "IPY_MODEL_85f59b8ac04841dfaa02b062d28f402e",
        "IPY_MODEL_3dc6b39299cb45bd85928756dfe5f459",
        "IPY_MODEL_68d6a562e1904abab58ed04cfe99b19c",
        "IPY_MODEL_8fff40f93750435aa3ec486f0250c736",
        "IPY_MODEL_c1578d17cde34390a10ea30c137e9f27",
        "IPY_MODEL_583c9e86be7d49f3b6ac4cb767e1e688",
        "IPY_MODEL_aa07063666e443dc97ea0bba6dfee03b",
        "IPY_MODEL_d64ebb419a7d4757b8a3499a0e4c07ab",
        "IPY_MODEL_88ba9983c9f2410d9513f064b2bd0a4e",
        "IPY_MODEL_4732a9d1bbf74747993edc5f3be4b325",
        "IPY_MODEL_6a94faccf3c34e84820a75d4ac624fa2",
        "IPY_MODEL_dc8b693a0380475a9521504abae7880f",
        "IPY_MODEL_3868a378b4ef4786862a350441fcbc6c"
       ],
       "layout": "IPY_MODEL_38f4f8c519984c06acb1106e3c4ebff1"
      }
     },
     "cb1a1e71b4b84204a8ab46d125b4753a": {
      "model_module": "@jupyter-widgets/base",
      "model_module_version": "1.1.0",
      "model_name": "LayoutModel",
      "state": {}
     },
     "cb708900a6f94b99b229d02ebcf13f32": {
      "model_module": "@jupyter-widgets/base",
      "model_module_version": "1.1.0",
      "model_name": "LayoutModel",
      "state": {}
     },
     "cb74f10f9b3b4e71b59e0f0961c4f1de": {
      "model_module": "@jupyter-widgets/base",
      "model_module_version": "1.1.0",
      "model_name": "LayoutModel",
      "state": {}
     },
     "cb8379753f4d405fa9505f89de6b11a6": {
      "model_module": "@jupyter-widgets/controls",
      "model_module_version": "1.4.0",
      "model_name": "ToggleButtonsStyleModel",
      "state": {
       "button_width": "",
       "description_width": ""
      }
     },
     "cb9f8925a9a8430594f1b46d256f94e3": {
      "model_module": "@jupyter-widgets/controls",
      "model_module_version": "1.4.0",
      "model_name": "VBoxModel",
      "state": {
       "children": [
        "IPY_MODEL_238a443160cf48c8bc38258c1f3931b5",
        "IPY_MODEL_d0a00e242989490d913fa737476ea8d9"
       ],
       "layout": "IPY_MODEL_6748092b77d54fcd9b5082961d63385b"
      }
     },
     "cbac82ff859a4943b528daff0881c889": {
      "model_module": "@jupyter-widgets/controls",
      "model_module_version": "1.4.0",
      "model_name": "FloatTextModel",
      "state": {
       "description": "$PT_{Heparinase} (s)$",
       "layout": "IPY_MODEL_c3a6c887086947aebb205d3f666b908e",
       "step": null,
       "style": "IPY_MODEL_93627c6297494e6897fe1bc2b80e2bd7",
       "value": "nan"
      }
     },
     "cbcd46f43b424d71af3a1f9c5fab62ba": {
      "model_module": "@jupyter-widgets/base",
      "model_module_version": "1.1.0",
      "model_name": "LayoutModel",
      "state": {}
     },
     "cbe15c7d58b74180968b18d5c7734fe7": {
      "model_module": "@jupyter-widgets/base",
      "model_module_version": "1.1.0",
      "model_name": "LayoutModel",
      "state": {}
     },
     "cbe762863a3d4c419b4b3558f7545e88": {
      "model_module": "@jupyter-widgets/base",
      "model_module_version": "1.1.0",
      "model_name": "LayoutModel",
      "state": {}
     },
     "cc1da2ebede54fbb92fb4ad28ffc6db4": {
      "model_module": "@jupyter-widgets/controls",
      "model_module_version": "1.4.0",
      "model_name": "HBoxModel",
      "state": {
       "children": [
        "IPY_MODEL_8a7206430e864ff8822b06eb5035a5a0",
        "IPY_MODEL_898c6d4bf3814dd3b78c130db6a85a4c"
       ],
       "layout": "IPY_MODEL_215d8a4574e24c038b713af2fc877ad3"
      }
     },
     "cc6ca240891644089ec74feb5af8ab05": {
      "model_module": "@jupyter-widgets/base",
      "model_module_version": "1.1.0",
      "model_name": "LayoutModel",
      "state": {}
     },
     "cc7eaa6ceea3473bb6fd1295648404a2": {
      "model_module": "@jupyter-widgets/controls",
      "model_module_version": "1.4.0",
      "model_name": "VBoxModel",
      "state": {
       "children": [
        "IPY_MODEL_7cdaba6e204f4851840686529a909bcb",
        "IPY_MODEL_7ef3128732c740489c12676a641771b5"
       ],
       "layout": "IPY_MODEL_2367fbb80ec04aa7b4784d876ced3782"
      }
     },
     "cca88d1e773e49f0ac95098836c645fa": {
      "model_module": "@jupyter-widgets/controls",
      "model_module_version": "1.4.0",
      "model_name": "FloatTextModel",
      "state": {
       "description": "$CT_{Heptem}/CT_{Intem}$",
       "layout": "IPY_MODEL_320d629c0120461784da886fbcdaad76",
       "step": null,
       "style": "IPY_MODEL_68698045c4b443118478444d8b7bd7d4",
       "value": "nan"
      }
     },
     "cd065c61a4cf44a6a1913d807228f88b": {
      "model_module": "@jupyter-widgets/base",
      "model_module_version": "1.1.0",
      "model_name": "LayoutModel",
      "state": {}
     },
     "cd073b4bc54345fd92cb0638eee0c3a0": {
      "model_module": "@jupyter-widgets/controls",
      "model_module_version": "1.4.0",
      "model_name": "VBoxModel",
      "state": {
       "children": [
        "IPY_MODEL_c1578d17cde34390a10ea30c137e9f27",
        "IPY_MODEL_583c9e86be7d49f3b6ac4cb767e1e688",
        "IPY_MODEL_aa07063666e443dc97ea0bba6dfee03b",
        "IPY_MODEL_d64ebb419a7d4757b8a3499a0e4c07ab",
        "IPY_MODEL_88ba9983c9f2410d9513f064b2bd0a4e",
        "IPY_MODEL_4732a9d1bbf74747993edc5f3be4b325",
        "IPY_MODEL_6a94faccf3c34e84820a75d4ac624fa2",
        "IPY_MODEL_dc8b693a0380475a9521504abae7880f"
       ],
       "layout": "IPY_MODEL_7927fa83ab784b4da51442ba969252e1"
      }
     },
     "cd73c331c09149a3883199f22e471e89": {
      "model_module": "@jupyter-widgets/controls",
      "model_module_version": "1.4.0",
      "model_name": "VBoxModel",
      "state": {
       "children": [
        "IPY_MODEL_c1578d17cde34390a10ea30c137e9f27",
        "IPY_MODEL_583c9e86be7d49f3b6ac4cb767e1e688",
        "IPY_MODEL_aa07063666e443dc97ea0bba6dfee03b",
        "IPY_MODEL_d64ebb419a7d4757b8a3499a0e4c07ab",
        "IPY_MODEL_88ba9983c9f2410d9513f064b2bd0a4e",
        "IPY_MODEL_4732a9d1bbf74747993edc5f3be4b325",
        "IPY_MODEL_6a94faccf3c34e84820a75d4ac624fa2",
        "IPY_MODEL_dc8b693a0380475a9521504abae7880f"
       ],
       "layout": "IPY_MODEL_6bda28d6111346e4b16e030ba4c83dc9"
      }
     },
     "cd870aa6cbf34c819b217cf13d92d499": {
      "model_module": "@jupyter-widgets/base",
      "model_module_version": "1.1.0",
      "model_name": "LayoutModel",
      "state": {}
     },
     "cd9a95ed76864c048316878234278ff4": {
      "model_module": "@jupyter-widgets/controls",
      "model_module_version": "1.4.0",
      "model_name": "HBoxModel",
      "state": {
       "children": [
        "IPY_MODEL_eaec027e45a141c9a7dfd110720908e0",
        "IPY_MODEL_80f01e9bad5f438d83eda317142fc45d"
       ],
       "layout": "IPY_MODEL_682b445191134d408eae9af9c8531ddf"
      }
     },
     "cdb34c91c2004325aee0d5d28688de92": {
      "model_module": "@jupyter-widgets/base",
      "model_module_version": "1.1.0",
      "model_name": "LayoutModel",
      "state": {}
     },
     "cdba2c3d97bb4f3cac9d9a5ee87d9286": {
      "model_module": "@jupyter-widgets/controls",
      "model_module_version": "1.4.0",
      "model_name": "VBoxModel",
      "state": {
       "children": [
        "IPY_MODEL_467abf0c84b746629cc02d043f510b3b",
        "IPY_MODEL_f03c702063304900a21b86a1cfc1bc6a",
        "IPY_MODEL_ff2acae77452485ab84e18b41091ce82",
        "IPY_MODEL_85f59b8ac04841dfaa02b062d28f402e",
        "IPY_MODEL_3dc6b39299cb45bd85928756dfe5f459",
        "IPY_MODEL_68d6a562e1904abab58ed04cfe99b19c",
        "IPY_MODEL_8fff40f93750435aa3ec486f0250c736"
       ],
       "layout": "IPY_MODEL_c3d0bf06780943a9802e45620f96c8ec"
      }
     },
     "cded467c9aa8458db1b8943d49a4f812": {
      "model_module": "@jupyter-widgets/controls",
      "model_module_version": "1.4.0",
      "model_name": "VBoxModel",
      "state": {
       "_dom_classes": [
        "widget-interact"
       ],
       "children": [
        "IPY_MODEL_7cdaba6e204f4851840686529a909bcb",
        "IPY_MODEL_7ef3128732c740489c12676a641771b5",
        "IPY_MODEL_0229e16116f3426b84f292fd48df5dbb"
       ],
       "layout": "IPY_MODEL_237bee4845654917870b8c26d305b90d"
      }
     },
     "cdeebc66d93c478baa2b70c9ea5aced5": {
      "model_module": "@jupyter-widgets/output",
      "model_module_version": "1.0.0",
      "model_name": "OutputModel",
      "state": {
       "layout": "IPY_MODEL_bd0f11bf05d3417f8962a64b7d3b10d9"
      }
     },
     "ce3853492ca64b3b982f7d86e84f6ef2": {
      "model_module": "@jupyter-widgets/base",
      "model_module_version": "1.1.0",
      "model_name": "LayoutModel",
      "state": {}
     },
     "ce44df80580f4169b56f8f4f0e6044b4": {
      "model_module": "@jupyter-widgets/base",
      "model_module_version": "1.1.0",
      "model_name": "LayoutModel",
      "state": {}
     },
     "ce730754fd604df5ac532a97dc6087b3": {
      "model_module": "@jupyter-widgets/base",
      "model_module_version": "1.1.0",
      "model_name": "LayoutModel",
      "state": {}
     },
     "ce77a2a3317a478a832def18c3f3ce29": {
      "model_module": "@jupyter-widgets/base",
      "model_module_version": "1.1.0",
      "model_name": "LayoutModel",
      "state": {}
     },
     "cea6be42cdf5482b93affe9f76c34a2b": {
      "model_module": "@jupyter-widgets/controls",
      "model_module_version": "1.4.0",
      "model_name": "VBoxModel",
      "state": {
       "children": [
        "IPY_MODEL_7cdaba6e204f4851840686529a909bcb",
        "IPY_MODEL_7ef3128732c740489c12676a641771b5"
       ],
       "layout": "IPY_MODEL_72a235e2859d43b1bb2361d22de1aa02"
      }
     },
     "ceafdd134d3d49f9a75b7c9a449272de": {
      "model_module": "@jupyter-widgets/controls",
      "model_module_version": "1.4.0",
      "model_name": "HBoxModel",
      "state": {
       "children": [
        "IPY_MODEL_8aa4c9a231bc414aad7b90fad38bd385"
       ],
       "layout": "IPY_MODEL_12bfc887fd6f480e951ed6b535a087ef"
      }
     },
     "ceb287b25e3b40e890715c3b4a094843": {
      "model_module": "@jupyter-widgets/controls",
      "model_module_version": "1.4.0",
      "model_name": "HBoxModel",
      "state": {
       "children": [
        "IPY_MODEL_60ded408cadf413faf78e1598720f995",
        "IPY_MODEL_0146635d698e47e89c8e61c42ef01b3d"
       ],
       "layout": "IPY_MODEL_601ac366ce544fbb8c8a844ac9b428e4"
      }
     },
     "ceb690a5ab1a402abcf550b6cbe504f4": {
      "model_module": "@jupyter-widgets/controls",
      "model_module_version": "1.4.0",
      "model_name": "ToggleButtonsStyleModel",
      "state": {
       "button_width": "",
       "description_width": ""
      }
     },
     "ceef7a631d6546ea818c4bfd586defe0": {
      "model_module": "@jupyter-widgets/base",
      "model_module_version": "1.1.0",
      "model_name": "LayoutModel",
      "state": {}
     },
     "cf4a7f7e1cd64b0082cca7e451ba2a32": {
      "model_module": "@jupyter-widgets/base",
      "model_module_version": "1.1.0",
      "model_name": "LayoutModel",
      "state": {}
     },
     "cf5280e3463841f3a15813e9ee0fd23e": {
      "model_module": "@jupyter-widgets/output",
      "model_module_version": "1.0.0",
      "model_name": "OutputModel",
      "state": {
       "layout": "IPY_MODEL_4e23fa0660a046d199168ac070c0c8b4"
      }
     },
     "cf93815637d14b939774d1fbe07cf83f": {
      "model_module": "@jupyter-widgets/controls",
      "model_module_version": "1.4.0",
      "model_name": "VBoxModel",
      "state": {
       "children": [
        "IPY_MODEL_c1578d17cde34390a10ea30c137e9f27",
        "IPY_MODEL_583c9e86be7d49f3b6ac4cb767e1e688",
        "IPY_MODEL_aa07063666e443dc97ea0bba6dfee03b",
        "IPY_MODEL_d64ebb419a7d4757b8a3499a0e4c07ab",
        "IPY_MODEL_88ba9983c9f2410d9513f064b2bd0a4e",
        "IPY_MODEL_4732a9d1bbf74747993edc5f3be4b325",
        "IPY_MODEL_6a94faccf3c34e84820a75d4ac624fa2",
        "IPY_MODEL_dc8b693a0380475a9521504abae7880f"
       ],
       "layout": "IPY_MODEL_18aa49cb8080400c94bdaf7bf2be2308"
      }
     },
     "cfce14bc99924d24b93656f9a40dd5c7": {
      "model_module": "@jupyter-widgets/base",
      "model_module_version": "1.1.0",
      "model_name": "LayoutModel",
      "state": {}
     },
     "cfd7404d2eb34872b8a7f41c4035a2ee": {
      "model_module": "@jupyter-widgets/controls",
      "model_module_version": "1.4.0",
      "model_name": "ButtonModel",
      "state": {
       "description": "Run algorithm",
       "layout": "IPY_MODEL_4dc1be9291424347a87487b0d770afef",
       "style": "IPY_MODEL_15fd1d7d509c4184bf915369d065eb7e"
      }
     },
     "cfdb2cb576e94840908b2f7bfc88718e": {
      "model_module": "@jupyter-widgets/controls",
      "model_module_version": "1.4.0",
      "model_name": "VBoxModel",
      "state": {
       "children": [
        "IPY_MODEL_0b3f762c364b4882b9901aac4ac4e6c4",
        "IPY_MODEL_dbdd580e126848b6967051d5339a309a",
        "IPY_MODEL_9ffe039643b445f19fad43330e0bbc9b",
        "IPY_MODEL_f3bb704c1b7d437784bcd24c9fc4328c",
        "IPY_MODEL_37bf47de8ebb46e7bbdaa6cb658a836b",
        "IPY_MODEL_9d64c2da1a454b0f99be8fc3a30ed8e4",
        "IPY_MODEL_78c1adf0a92940e397d9b6e635a164bf"
       ],
       "layout": "IPY_MODEL_011925891d86441187f7850ee314ccb7"
      }
     },
     "cfe2bd8690994a7b874833aad740b887": {
      "model_module": "@jupyter-widgets/controls",
      "model_module_version": "1.4.0",
      "model_name": "ButtonModel",
      "state": {
       "description": "Run algorithm",
       "layout": "IPY_MODEL_2287f5249a3d4e5d8d2cc9f2ddd95192",
       "style": "IPY_MODEL_3efe33f8d3224293ae854e359a551b2b"
      }
     },
     "cff7a46a043747feba35b4f86cf92be8": {
      "model_module": "@jupyter-widgets/base",
      "model_module_version": "1.1.0",
      "model_name": "LayoutModel",
      "state": {}
     },
     "d0236aed99794fc59a6f95276eafcfae": {
      "model_module": "@jupyter-widgets/base",
      "model_module_version": "1.1.0",
      "model_name": "LayoutModel",
      "state": {}
     },
     "d0a00e242989490d913fa737476ea8d9": {
      "model_module": "@jupyter-widgets/controls",
      "model_module_version": "1.4.0",
      "model_name": "ButtonModel",
      "state": {
       "description": "Run algorithm",
       "layout": "IPY_MODEL_fb058af3bc9944168edf5d49ff5d254e",
       "style": "IPY_MODEL_216383c2b8d84318b57bffcc4a5aa6b2"
      }
     },
     "d0a387bbc5ef4e879affbd9c0125aa86": {
      "model_module": "@jupyter-widgets/output",
      "model_module_version": "1.0.0",
      "model_name": "OutputModel",
      "state": {
       "layout": "IPY_MODEL_0f1a10b8a9c340ceb5b68b149196c0cb"
      }
     },
     "d0eb2b6db93e461d9b24b48de921ad03": {
      "model_module": "@jupyter-widgets/base",
      "model_module_version": "1.1.0",
      "model_name": "LayoutModel",
      "state": {}
     },
     "d0fa33cc0d5b441389874befce9eb1e5": {
      "model_module": "@jupyter-widgets/base",
      "model_module_version": "1.1.0",
      "model_name": "LayoutModel",
      "state": {}
     },
     "d0fa53f258324e37810556a4f6082812": {
      "model_module": "@jupyter-widgets/base",
      "model_module_version": "1.1.0",
      "model_name": "LayoutModel",
      "state": {}
     },
     "d10d980b030f4bf294ce8335b64b1160": {
      "model_module": "@jupyter-widgets/output",
      "model_module_version": "1.0.0",
      "model_name": "OutputModel",
      "state": {
       "layout": "IPY_MODEL_fc8eac7006df4947a79699a0a937b135"
      }
     },
     "d110f0502aca4f79a3ad994bbc4631c4": {
      "model_module": "@jupyter-widgets/base",
      "model_module_version": "1.1.0",
      "model_name": "LayoutModel",
      "state": {}
     },
     "d14344d862e4405f9d54c98d5fbbd07c": {
      "model_module": "@jupyter-widgets/controls",
      "model_module_version": "1.4.0",
      "model_name": "VBoxModel",
      "state": {
       "children": [
        "IPY_MODEL_c1578d17cde34390a10ea30c137e9f27",
        "IPY_MODEL_583c9e86be7d49f3b6ac4cb767e1e688",
        "IPY_MODEL_aa07063666e443dc97ea0bba6dfee03b",
        "IPY_MODEL_d64ebb419a7d4757b8a3499a0e4c07ab",
        "IPY_MODEL_88ba9983c9f2410d9513f064b2bd0a4e",
        "IPY_MODEL_4732a9d1bbf74747993edc5f3be4b325",
        "IPY_MODEL_6a94faccf3c34e84820a75d4ac624fa2",
        "IPY_MODEL_dc8b693a0380475a9521504abae7880f"
       ],
       "layout": "IPY_MODEL_5877d355a54845ab91333c77c3620078"
      }
     },
     "d16363a4ebeb49999855a139c7027d58": {
      "model_module": "@jupyter-widgets/controls",
      "model_module_version": "1.4.0",
      "model_name": "DescriptionStyleModel",
      "state": {
       "description_width": "initial"
      }
     },
     "d169312eaf094f49b1e1400e726a7827": {
      "model_module": "@jupyter-widgets/controls",
      "model_module_version": "1.4.0",
      "model_name": "ButtonModel",
      "state": {
       "description": "Run algorithm",
       "layout": "IPY_MODEL_d3c7b47386f7464d8e99676956899ad1",
       "style": "IPY_MODEL_5e5a8776c1f34abdbc9479fb5db466ce"
      }
     },
     "d178d6653ede4dc3b5d9501b0e60fc2a": {
      "model_module": "@jupyter-widgets/base",
      "model_module_version": "1.1.0",
      "model_name": "LayoutModel",
      "state": {}
     },
     "d17d3b38c3ce464a88557aa94ba3ef13": {
      "model_module": "@jupyter-widgets/controls",
      "model_module_version": "1.4.0",
      "model_name": "VBoxModel",
      "state": {
       "_dom_classes": [
        "widget-interact"
       ],
       "children": [
        "IPY_MODEL_467abf0c84b746629cc02d043f510b3b",
        "IPY_MODEL_f03c702063304900a21b86a1cfc1bc6a",
        "IPY_MODEL_ff2acae77452485ab84e18b41091ce82",
        "IPY_MODEL_85f59b8ac04841dfaa02b062d28f402e",
        "IPY_MODEL_3dc6b39299cb45bd85928756dfe5f459",
        "IPY_MODEL_68d6a562e1904abab58ed04cfe99b19c",
        "IPY_MODEL_8fff40f93750435aa3ec486f0250c736",
        "IPY_MODEL_c1578d17cde34390a10ea30c137e9f27",
        "IPY_MODEL_583c9e86be7d49f3b6ac4cb767e1e688",
        "IPY_MODEL_aa07063666e443dc97ea0bba6dfee03b",
        "IPY_MODEL_d64ebb419a7d4757b8a3499a0e4c07ab",
        "IPY_MODEL_88ba9983c9f2410d9513f064b2bd0a4e",
        "IPY_MODEL_4732a9d1bbf74747993edc5f3be4b325",
        "IPY_MODEL_6a94faccf3c34e84820a75d4ac624fa2",
        "IPY_MODEL_dc8b693a0380475a9521504abae7880f",
        "IPY_MODEL_567fd04b510f4faa8f92123ba45b447f"
       ],
       "layout": "IPY_MODEL_973adb1c344143d596cbfa1b40358132"
      }
     },
     "d18d7776f11e4aa99142e24afe2de0d9": {
      "model_module": "@jupyter-widgets/base",
      "model_module_version": "1.1.0",
      "model_name": "LayoutModel",
      "state": {}
     },
     "d1a1402c49674ba98b4a5afb0d387341": {
      "model_module": "@jupyter-widgets/base",
      "model_module_version": "1.1.0",
      "model_name": "LayoutModel",
      "state": {}
     },
     "d1cfff60cc224be3a52690a5bfff4219": {
      "model_module": "@jupyter-widgets/controls",
      "model_module_version": "1.4.0",
      "model_name": "HBoxModel",
      "state": {
       "children": [
        "IPY_MODEL_e3a15c5b91e54f91b23fd1df549c7c46",
        "IPY_MODEL_4b21db4d7f0a463da8babf725862fd10"
       ],
       "layout": "IPY_MODEL_bd3f485467c54793b459165a39541b49"
      }
     },
     "d1e9a380e0ce4603b50f25123348be7c": {
      "model_module": "@jupyter-widgets/base",
      "model_module_version": "1.1.0",
      "model_name": "LayoutModel",
      "state": {}
     },
     "d2017b4fe2f94105a7ed2b0a52ba4077": {
      "model_module": "@jupyter-widgets/controls",
      "model_module_version": "1.4.0",
      "model_name": "VBoxModel",
      "state": {
       "children": [
        "IPY_MODEL_7cdaba6e204f4851840686529a909bcb",
        "IPY_MODEL_7ef3128732c740489c12676a641771b5"
       ],
       "layout": "IPY_MODEL_40121219195f4689afde4136304bea9d"
      }
     },
     "d2921448cbd54518a4d3436cf1be3f82": {
      "model_module": "@jupyter-widgets/base",
      "model_module_version": "1.1.0",
      "model_name": "LayoutModel",
      "state": {}
     },
     "d298b7028b244c4f9d42ee2199249a13": {
      "model_module": "@jupyter-widgets/base",
      "model_module_version": "1.1.0",
      "model_name": "LayoutModel",
      "state": {}
     },
     "d299703f46714aab8fb53de70fddf595": {
      "model_module": "@jupyter-widgets/controls",
      "model_module_version": "1.4.0",
      "model_name": "FloatTextModel",
      "state": {
       "description": "$CT_{Extem} (s)$",
       "layout": "IPY_MODEL_5f9e927c672c451cb3a7b2e7a2853e1c",
       "step": null,
       "style": "IPY_MODEL_95b8381fc77d405a84a56bd465525299",
       "value": 84
      }
     },
     "d2a011c4d6e04fb2aff8c9a2a37e13d1": {
      "model_module": "@jupyter-widgets/base",
      "model_module_version": "1.1.0",
      "model_name": "LayoutModel",
      "state": {}
     },
     "d2af2b82a7224eeb93ebe9fb09ca63b2": {
      "model_module": "@jupyter-widgets/controls",
      "model_module_version": "1.4.0",
      "model_name": "HBoxModel",
      "state": {
       "children": [
        "IPY_MODEL_df3beed9930847f1b285a36798335500"
       ],
       "layout": "IPY_MODEL_e1e96e99e60b40f7b3551afedf8e781a"
      }
     },
     "d2c9467874964cd4b63127aa3a15f82a": {
      "model_module": "@jupyter-widgets/controls",
      "model_module_version": "1.4.0",
      "model_name": "VBoxModel",
      "state": {
       "children": [
        "IPY_MODEL_c1578d17cde34390a10ea30c137e9f27",
        "IPY_MODEL_583c9e86be7d49f3b6ac4cb767e1e688",
        "IPY_MODEL_aa07063666e443dc97ea0bba6dfee03b",
        "IPY_MODEL_d64ebb419a7d4757b8a3499a0e4c07ab",
        "IPY_MODEL_88ba9983c9f2410d9513f064b2bd0a4e",
        "IPY_MODEL_4732a9d1bbf74747993edc5f3be4b325",
        "IPY_MODEL_6a94faccf3c34e84820a75d4ac624fa2",
        "IPY_MODEL_dc8b693a0380475a9521504abae7880f"
       ],
       "layout": "IPY_MODEL_768ec8b9654b422ca49ea2b77527c114"
      }
     },
     "d2f68c259e774deca9bf86e891da7cca": {
      "model_module": "@jupyter-widgets/base",
      "model_module_version": "1.1.0",
      "model_name": "LayoutModel",
      "state": {}
     },
     "d3079f6c44d647c796babef73b1dadb8": {
      "model_module": "@jupyter-widgets/output",
      "model_module_version": "1.0.0",
      "model_name": "OutputModel",
      "state": {
       "layout": "IPY_MODEL_2383c1dfbe254022947b88da2d71182b"
      }
     },
     "d30836045d934429b65d71b37ca14d29": {
      "model_module": "@jupyter-widgets/controls",
      "model_module_version": "1.4.0",
      "model_name": "ButtonStyleModel",
      "state": {}
     },
     "d3556e32dd514392943d5bfceda1e6ad": {
      "model_module": "@jupyter-widgets/base",
      "model_module_version": "1.1.0",
      "model_name": "LayoutModel",
      "state": {}
     },
     "d3988ae859724202b39b068c12b28e2a": {
      "model_module": "@jupyter-widgets/base",
      "model_module_version": "1.1.0",
      "model_name": "LayoutModel",
      "state": {}
     },
     "d3b0a10ff98d4e4083f29b66da336d5d": {
      "model_module": "@jupyter-widgets/base",
      "model_module_version": "1.1.0",
      "model_name": "LayoutModel",
      "state": {}
     },
     "d3c7b47386f7464d8e99676956899ad1": {
      "model_module": "@jupyter-widgets/base",
      "model_module_version": "1.1.0",
      "model_name": "LayoutModel",
      "state": {}
     },
     "d41377fb2c394e5ca49a0b6052b18d6f": {
      "model_module": "@jupyter-widgets/base",
      "model_module_version": "1.1.0",
      "model_name": "LayoutModel",
      "state": {}
     },
     "d42d9ef3b8534719a26958112d85b625": {
      "model_module": "@jupyter-widgets/controls",
      "model_module_version": "1.4.0",
      "model_name": "HBoxModel",
      "state": {
       "children": [
        "IPY_MODEL_95e867b701a246a98c5ee53b623a65eb"
       ],
       "layout": "IPY_MODEL_d3556e32dd514392943d5bfceda1e6ad"
      }
     },
     "d4db148080c74bd7aed6f02aa4e11392": {
      "model_module": "@jupyter-widgets/controls",
      "model_module_version": "1.4.0",
      "model_name": "VBoxModel",
      "state": {
       "children": [
        "IPY_MODEL_7cdaba6e204f4851840686529a909bcb",
        "IPY_MODEL_7ef3128732c740489c12676a641771b5"
       ],
       "layout": "IPY_MODEL_bd261ddec1944c638cf0f36c29e4449b"
      }
     },
     "d4e8e14425e34652b99c3ebae27b43c6": {
      "model_module": "@jupyter-widgets/output",
      "model_module_version": "1.0.0",
      "model_name": "OutputModel",
      "state": {
       "layout": "IPY_MODEL_b3e08182a62f443d8d0093c3ca053824"
      }
     },
     "d544b01759564e45928f56b9d683aeae": {
      "model_module": "@jupyter-widgets/controls",
      "model_module_version": "1.4.0",
      "model_name": "VBoxModel",
      "state": {
       "children": [
        "IPY_MODEL_467abf0c84b746629cc02d043f510b3b",
        "IPY_MODEL_f03c702063304900a21b86a1cfc1bc6a",
        "IPY_MODEL_ff2acae77452485ab84e18b41091ce82",
        "IPY_MODEL_85f59b8ac04841dfaa02b062d28f402e",
        "IPY_MODEL_3dc6b39299cb45bd85928756dfe5f459",
        "IPY_MODEL_68d6a562e1904abab58ed04cfe99b19c",
        "IPY_MODEL_8fff40f93750435aa3ec486f0250c736"
       ],
       "layout": "IPY_MODEL_c6f5583f867e46ff9170a5f3d7876cac"
      }
     },
     "d5a05868f9bf4680be44337f50fb5b63": {
      "model_module": "@jupyter-widgets/base",
      "model_module_version": "1.1.0",
      "model_name": "LayoutModel",
      "state": {}
     },
     "d5ab415db54f46988a5f6b66b195de44": {
      "model_module": "@jupyter-widgets/base",
      "model_module_version": "1.1.0",
      "model_name": "LayoutModel",
      "state": {}
     },
     "d5bcfc9bcd3d4055849d392ce6e6f721": {
      "model_module": "@jupyter-widgets/base",
      "model_module_version": "1.1.0",
      "model_name": "LayoutModel",
      "state": {}
     },
     "d5d0c6aab81748fbbd2ea6060e4efaa6": {
      "model_module": "@jupyter-widgets/base",
      "model_module_version": "1.1.0",
      "model_name": "LayoutModel",
      "state": {}
     },
     "d5ecefe3f67c4997a49b1ee497cdea80": {
      "model_module": "@jupyter-widgets/base",
      "model_module_version": "1.1.0",
      "model_name": "LayoutModel",
      "state": {}
     },
     "d5f89cfae2c44d22abeda2a682d0fbe0": {
      "model_module": "@jupyter-widgets/controls",
      "model_module_version": "1.4.0",
      "model_name": "ToggleButtonsModel",
      "state": {
       "_options_labels": [
        "HD unstable",
        "HD stable"
       ],
       "button_style": "",
       "description": "Type:",
       "icons": [],
       "index": 1,
       "layout": "IPY_MODEL_63c029ff56c542fc8799ebfbbe9dc9e9",
       "style": "IPY_MODEL_6bc3b66586834bea8eb4a4173ccc8acd",
       "tooltips": []
      }
     },
     "d64377b8bed34cffa79d3960541956a1": {
      "model_module": "@jupyter-widgets/output",
      "model_module_version": "1.0.0",
      "model_name": "OutputModel",
      "state": {
       "layout": "IPY_MODEL_192cb1329b524ca982e1df6349bbf84d"
      }
     },
     "d64ebb419a7d4757b8a3499a0e4c07ab": {
      "model_module": "@jupyter-widgets/controls",
      "model_module_version": "1.4.0",
      "model_name": "FloatTextModel",
      "state": {
       "description": "$A10_{Heptem} (mm)$",
       "layout": "IPY_MODEL_ceef7a631d6546ea818c4bfd586defe0",
       "step": null,
       "style": "IPY_MODEL_fa81c1d37de04b5195edb45613f69229",
       "value": 44
      }
     },
     "d676c9c7ac5241be98cb5a3dc2b56e78": {
      "model_module": "@jupyter-widgets/base",
      "model_module_version": "1.1.0",
      "model_name": "LayoutModel",
      "state": {}
     },
     "d6918abba0934407a9f5dae6131a627d": {
      "model_module": "@jupyter-widgets/controls",
      "model_module_version": "1.4.0",
      "model_name": "FloatTextModel",
      "state": {
       "description": "$Thrombocytes (nl)$",
       "layout": "IPY_MODEL_fbf15979c7eb402eb541097ac40229ec",
       "step": null,
       "style": "IPY_MODEL_2d0daabaa9ce4b8299c731ae338a184b",
       "value": "nan"
      }
     },
     "d6a3943af0a747ce9f932d70c916d410": {
      "model_module": "@jupyter-widgets/base",
      "model_module_version": "1.1.0",
      "model_name": "LayoutModel",
      "state": {}
     },
     "d6a7f34608a64901ae603a01068ce2f2": {
      "model_module": "@jupyter-widgets/base",
      "model_module_version": "1.1.0",
      "model_name": "LayoutModel",
      "state": {}
     },
     "d6c2ca28bfdc4a3f8c49d4233989c585": {
      "model_module": "@jupyter-widgets/controls",
      "model_module_version": "1.4.0",
      "model_name": "FloatTextModel",
      "state": {
       "description": "$APTT_{Heparinase} (s)$",
       "layout": "IPY_MODEL_07da2d5af43a4d72aa62067079925b84",
       "step": null,
       "style": "IPY_MODEL_e183909ad33f4737995e87f50d8f5ac0",
       "value": "nan"
      }
     },
     "d6c5e0cd254546a7867fe202ffb4e0e9": {
      "model_module": "@jupyter-widgets/base",
      "model_module_version": "1.1.0",
      "model_name": "LayoutModel",
      "state": {}
     },
     "d6e9b7df5c2940928cb9fc8f34836e4b": {
      "model_module": "@jupyter-widgets/base",
      "model_module_version": "1.1.0",
      "model_name": "LayoutModel",
      "state": {}
     },
     "d706e9ce6d2f485c80c070ed36022219": {
      "model_module": "@jupyter-widgets/base",
      "model_module_version": "1.1.0",
      "model_name": "LayoutModel",
      "state": {}
     },
     "d784d4ccd6a8414cb8c05f1ce25440ff": {
      "model_module": "@jupyter-widgets/controls",
      "model_module_version": "1.4.0",
      "model_name": "VBoxModel",
      "state": {
       "_dom_classes": [
        "widget-interact"
       ],
       "children": [
        "IPY_MODEL_467abf0c84b746629cc02d043f510b3b",
        "IPY_MODEL_f03c702063304900a21b86a1cfc1bc6a",
        "IPY_MODEL_ff2acae77452485ab84e18b41091ce82",
        "IPY_MODEL_85f59b8ac04841dfaa02b062d28f402e",
        "IPY_MODEL_3dc6b39299cb45bd85928756dfe5f459",
        "IPY_MODEL_68d6a562e1904abab58ed04cfe99b19c",
        "IPY_MODEL_8fff40f93750435aa3ec486f0250c736",
        "IPY_MODEL_c1578d17cde34390a10ea30c137e9f27",
        "IPY_MODEL_583c9e86be7d49f3b6ac4cb767e1e688",
        "IPY_MODEL_aa07063666e443dc97ea0bba6dfee03b",
        "IPY_MODEL_d64ebb419a7d4757b8a3499a0e4c07ab",
        "IPY_MODEL_88ba9983c9f2410d9513f064b2bd0a4e",
        "IPY_MODEL_4732a9d1bbf74747993edc5f3be4b325",
        "IPY_MODEL_6a94faccf3c34e84820a75d4ac624fa2",
        "IPY_MODEL_dc8b693a0380475a9521504abae7880f",
        "IPY_MODEL_771aa6fb27ed41daa006564165d61f43"
       ],
       "layout": "IPY_MODEL_cff7a46a043747feba35b4f86cf92be8"
      }
     },
     "d7a57eb886554d78ad42883def6d040e": {
      "model_module": "@jupyter-widgets/base",
      "model_module_version": "1.1.0",
      "model_name": "LayoutModel",
      "state": {}
     },
     "d7a8852353814694828aae9be209418b": {
      "model_module": "@jupyter-widgets/base",
      "model_module_version": "1.1.0",
      "model_name": "LayoutModel",
      "state": {}
     },
     "d7adad291f42486dba461114d54d2b10": {
      "model_module": "@jupyter-widgets/controls",
      "model_module_version": "1.4.0",
      "model_name": "VBoxModel",
      "state": {
       "children": [
        "IPY_MODEL_c1578d17cde34390a10ea30c137e9f27",
        "IPY_MODEL_583c9e86be7d49f3b6ac4cb767e1e688",
        "IPY_MODEL_aa07063666e443dc97ea0bba6dfee03b",
        "IPY_MODEL_d64ebb419a7d4757b8a3499a0e4c07ab",
        "IPY_MODEL_88ba9983c9f2410d9513f064b2bd0a4e",
        "IPY_MODEL_4732a9d1bbf74747993edc5f3be4b325",
        "IPY_MODEL_6a94faccf3c34e84820a75d4ac624fa2",
        "IPY_MODEL_dc8b693a0380475a9521504abae7880f"
       ],
       "layout": "IPY_MODEL_3a44e28eb77e46939bde8dbde8d55663"
      }
     },
     "d7bb54016d7a4ef1b0e15bc53c752427": {
      "model_module": "@jupyter-widgets/base",
      "model_module_version": "1.1.0",
      "model_name": "LayoutModel",
      "state": {}
     },
     "d7d01d10402d4656ab294db4ce879e7f": {
      "model_module": "@jupyter-widgets/controls",
      "model_module_version": "1.4.0",
      "model_name": "ButtonStyleModel",
      "state": {}
     },
     "d7eb6a857b7c4ea990e898ac68b47d81": {
      "model_module": "@jupyter-widgets/base",
      "model_module_version": "1.1.0",
      "model_name": "LayoutModel",
      "state": {}
     },
     "d7ec8561d0154dfea2875b5b9fadc7ea": {
      "model_module": "@jupyter-widgets/controls",
      "model_module_version": "1.4.0",
      "model_name": "ButtonStyleModel",
      "state": {}
     },
     "d8006670438b405bb33c8046baf228e5": {
      "model_module": "@jupyter-widgets/base",
      "model_module_version": "1.1.0",
      "model_name": "LayoutModel",
      "state": {}
     },
     "d82ec29498b44dcda9e45d7e7f09fbd5": {
      "model_module": "@jupyter-widgets/controls",
      "model_module_version": "1.4.0",
      "model_name": "VBoxModel",
      "state": {
       "_dom_classes": [
        "widget-interact"
       ],
       "children": [
        "IPY_MODEL_467abf0c84b746629cc02d043f510b3b",
        "IPY_MODEL_f03c702063304900a21b86a1cfc1bc6a",
        "IPY_MODEL_ff2acae77452485ab84e18b41091ce82",
        "IPY_MODEL_85f59b8ac04841dfaa02b062d28f402e",
        "IPY_MODEL_3dc6b39299cb45bd85928756dfe5f459",
        "IPY_MODEL_68d6a562e1904abab58ed04cfe99b19c",
        "IPY_MODEL_8fff40f93750435aa3ec486f0250c736",
        "IPY_MODEL_c1578d17cde34390a10ea30c137e9f27",
        "IPY_MODEL_583c9e86be7d49f3b6ac4cb767e1e688",
        "IPY_MODEL_aa07063666e443dc97ea0bba6dfee03b",
        "IPY_MODEL_d64ebb419a7d4757b8a3499a0e4c07ab",
        "IPY_MODEL_88ba9983c9f2410d9513f064b2bd0a4e",
        "IPY_MODEL_4732a9d1bbf74747993edc5f3be4b325",
        "IPY_MODEL_6a94faccf3c34e84820a75d4ac624fa2",
        "IPY_MODEL_dc8b693a0380475a9521504abae7880f",
        "IPY_MODEL_cdeebc66d93c478baa2b70c9ea5aced5"
       ],
       "layout": "IPY_MODEL_95fc5cbf4c7f490db56a170adad30179"
      }
     },
     "d84cd920b0d44c29996b69a1c68da256": {
      "model_module": "@jupyter-widgets/output",
      "model_module_version": "1.0.0",
      "model_name": "OutputModel",
      "state": {
       "layout": "IPY_MODEL_41e7ed10ec154e46b765726275745fdf"
      }
     },
     "d857eb5388bd4600882575b7770f6db4": {
      "model_module": "@jupyter-widgets/base",
      "model_module_version": "1.1.0",
      "model_name": "LayoutModel",
      "state": {}
     },
     "d8691abff1ce4f16a64c5abe05fb8901": {
      "model_module": "@jupyter-widgets/base",
      "model_module_version": "1.1.0",
      "model_name": "LayoutModel",
      "state": {}
     },
     "d86d6617d9374497952147d494cf5597": {
      "model_module": "@jupyter-widgets/controls",
      "model_module_version": "1.4.0",
      "model_name": "VBoxModel",
      "state": {
       "children": [
        "IPY_MODEL_467abf0c84b746629cc02d043f510b3b",
        "IPY_MODEL_f03c702063304900a21b86a1cfc1bc6a",
        "IPY_MODEL_ff2acae77452485ab84e18b41091ce82",
        "IPY_MODEL_85f59b8ac04841dfaa02b062d28f402e",
        "IPY_MODEL_3dc6b39299cb45bd85928756dfe5f459",
        "IPY_MODEL_68d6a562e1904abab58ed04cfe99b19c",
        "IPY_MODEL_8fff40f93750435aa3ec486f0250c736"
       ],
       "layout": "IPY_MODEL_06235876c3a24493887d9d0718008dac"
      }
     },
     "d885a237ca254fad9a29a7d6adf2b1f7": {
      "model_module": "@jupyter-widgets/controls",
      "model_module_version": "1.4.0",
      "model_name": "VBoxModel",
      "state": {
       "children": [
        "IPY_MODEL_467abf0c84b746629cc02d043f510b3b",
        "IPY_MODEL_f03c702063304900a21b86a1cfc1bc6a",
        "IPY_MODEL_ff2acae77452485ab84e18b41091ce82",
        "IPY_MODEL_85f59b8ac04841dfaa02b062d28f402e",
        "IPY_MODEL_3dc6b39299cb45bd85928756dfe5f459",
        "IPY_MODEL_68d6a562e1904abab58ed04cfe99b19c",
        "IPY_MODEL_8fff40f93750435aa3ec486f0250c736"
       ],
       "layout": "IPY_MODEL_5f7921e15e8848acb08bff76b98e18be"
      }
     },
     "d8a93bdb3a1d4c3faf9006c5bac46465": {
      "model_module": "@jupyter-widgets/base",
      "model_module_version": "1.1.0",
      "model_name": "LayoutModel",
      "state": {}
     },
     "d8d2b310d932408a9f78a42ff5164a98": {
      "model_module": "@jupyter-widgets/controls",
      "model_module_version": "1.4.0",
      "model_name": "VBoxModel",
      "state": {
       "_dom_classes": [
        "widget-interact"
       ],
       "children": [
        "IPY_MODEL_7cdaba6e204f4851840686529a909bcb",
        "IPY_MODEL_7ef3128732c740489c12676a641771b5",
        "IPY_MODEL_c79d86a79eda4bfe8551ae22c0a8c4f8"
       ],
       "layout": "IPY_MODEL_19313eb202c6494195d28c810f96c2f9"
      }
     },
     "d8dade967e044d2f8648d3069f1768f9": {
      "model_module": "@jupyter-widgets/controls",
      "model_module_version": "1.4.0",
      "model_name": "VBoxModel",
      "state": {
       "children": [
        "IPY_MODEL_7cdaba6e204f4851840686529a909bcb",
        "IPY_MODEL_7ef3128732c740489c12676a641771b5"
       ],
       "layout": "IPY_MODEL_ff27f623e50d4cb1ba4609a1f71ab20a"
      }
     },
     "d9378e8d5001419da77aa0864145fda2": {
      "model_module": "@jupyter-widgets/controls",
      "model_module_version": "1.4.0",
      "model_name": "VBoxModel",
      "state": {
       "children": [
        "IPY_MODEL_7cdaba6e204f4851840686529a909bcb",
        "IPY_MODEL_7ef3128732c740489c12676a641771b5"
       ],
       "layout": "IPY_MODEL_bcaa2a285cda44bfa3817150199f98ce"
      }
     },
     "d9b47bbdc9174944a8827852486be01f": {
      "model_module": "@jupyter-widgets/base",
      "model_module_version": "1.1.0",
      "model_name": "LayoutModel",
      "state": {}
     },
     "d9e1d3cc42f1437ca28dcda82c075c7d": {
      "model_module": "@jupyter-widgets/base",
      "model_module_version": "1.1.0",
      "model_name": "LayoutModel",
      "state": {}
     },
     "da004d749a3247f9abe5040c247e6dbd": {
      "model_module": "@jupyter-widgets/base",
      "model_module_version": "1.1.0",
      "model_name": "LayoutModel",
      "state": {}
     },
     "da2283904ce54cae83eb251736dc789e": {
      "model_module": "@jupyter-widgets/controls",
      "model_module_version": "1.4.0",
      "model_name": "FloatTextModel",
      "state": {
       "description": "$A10_{Heptem} (mm)$",
       "layout": "IPY_MODEL_64a2d9b65dc74af79cc11448615eee4d",
       "step": null,
       "style": "IPY_MODEL_29de74bfc1b145388517e48651bf9281",
       "value": 39
      }
     },
     "da78df59e3754f088c80f94dc6cc18e2": {
      "model_module": "@jupyter-widgets/output",
      "model_module_version": "1.0.0",
      "model_name": "OutputModel",
      "state": {
       "layout": "IPY_MODEL_9d08cd6dc8184aa79c28643a9f64cf8f"
      }
     },
     "dad6bca8233b47db9597c6d4ea936956": {
      "model_module": "@jupyter-widgets/controls",
      "model_module_version": "1.4.0",
      "model_name": "VBoxModel",
      "state": {
       "children": [
        "IPY_MODEL_7cdaba6e204f4851840686529a909bcb",
        "IPY_MODEL_7ef3128732c740489c12676a641771b5"
       ],
       "layout": "IPY_MODEL_3ba399387eda43f79e8b69425ed1c85a"
      }
     },
     "dae09e3efc80464293d9e9c92ddf4d4a": {
      "model_module": "@jupyter-widgets/base",
      "model_module_version": "1.1.0",
      "model_name": "LayoutModel",
      "state": {}
     },
     "db27248ee9fe449da60acf3270bd8ea6": {
      "model_module": "@jupyter-widgets/controls",
      "model_module_version": "1.4.0",
      "model_name": "VBoxModel",
      "state": {
       "children": [
        "IPY_MODEL_7cdaba6e204f4851840686529a909bcb",
        "IPY_MODEL_7ef3128732c740489c12676a641771b5"
       ],
       "layout": "IPY_MODEL_505af99517fe4f3fbe7c602de6e0c7a4"
      }
     },
     "db4c32b730464e11929eb4eb78df0b38": {
      "model_module": "@jupyter-widgets/base",
      "model_module_version": "1.1.0",
      "model_name": "LayoutModel",
      "state": {}
     },
     "db803bb97c594c85986b691021a1a5cc": {
      "model_module": "@jupyter-widgets/base",
      "model_module_version": "1.1.0",
      "model_name": "LayoutModel",
      "state": {}
     },
     "dbcc099fd350432fba70993552a15e15": {
      "model_module": "@jupyter-widgets/controls",
      "model_module_version": "1.4.0",
      "model_name": "HBoxModel",
      "state": {
       "children": [
        "IPY_MODEL_050fd0be31954a5486dc22e3fcc6d091"
       ],
       "layout": "IPY_MODEL_2bcb969b887945e8b896e3cdb05ca3dc"
      }
     },
     "dbd72b83595c4718bca7bb69aabd5c18": {
      "model_module": "@jupyter-widgets/base",
      "model_module_version": "1.1.0",
      "model_name": "LayoutModel",
      "state": {}
     },
     "dbd98eee3bbb4161b9ec61ef8bca038e": {
      "model_module": "@jupyter-widgets/controls",
      "model_module_version": "1.4.0",
      "model_name": "VBoxModel",
      "state": {
       "children": [
        "IPY_MODEL_467abf0c84b746629cc02d043f510b3b",
        "IPY_MODEL_f03c702063304900a21b86a1cfc1bc6a",
        "IPY_MODEL_ff2acae77452485ab84e18b41091ce82",
        "IPY_MODEL_85f59b8ac04841dfaa02b062d28f402e",
        "IPY_MODEL_3dc6b39299cb45bd85928756dfe5f459",
        "IPY_MODEL_68d6a562e1904abab58ed04cfe99b19c",
        "IPY_MODEL_8fff40f93750435aa3ec486f0250c736"
       ],
       "layout": "IPY_MODEL_f54983c45c54475a9b9dbac60ba7aace"
      }
     },
     "dbdd580e126848b6967051d5339a309a": {
      "model_module": "@jupyter-widgets/controls",
      "model_module_version": "1.4.0",
      "model_name": "FloatTextModel",
      "state": {
       "description": "$MEA_{ADP} (U)$",
       "layout": "IPY_MODEL_db4c32b730464e11929eb4eb78df0b38",
       "step": null,
       "style": "IPY_MODEL_ebff34e5608b4c828c087071e690882f",
       "value": 65
      }
     },
     "dc15247117764fa18e0f32c5e4c77baf": {
      "model_module": "@jupyter-widgets/controls",
      "model_module_version": "1.4.0",
      "model_name": "VBoxModel",
      "state": {
       "children": [
        "IPY_MODEL_57106549157e433ba7939561636faf0b",
        "IPY_MODEL_dfe9e47f47944fe79762182e8dc2c13a",
        "IPY_MODEL_3049bec3d2124036b3443a98a7034dbd",
        "IPY_MODEL_bace60e7af514f8a9916961e83a521a3",
        "IPY_MODEL_575abbdf30a84fcf9b0f7c574054fb8f",
        "IPY_MODEL_6ecad1f2f5b048f4b6d8f9615c52d17c",
        "IPY_MODEL_ade61f8ca96c4bc586c8e59eb74848df",
        "IPY_MODEL_cca88d1e773e49f0ac95098836c645fa"
       ],
       "layout": "IPY_MODEL_f5da0eab7d13429faa0398c38abe1ccf"
      }
     },
     "dc3514b6aeb948e68c750556f3265fa9": {
      "model_module": "@jupyter-widgets/output",
      "model_module_version": "1.0.0",
      "model_name": "OutputModel",
      "state": {
       "layout": "IPY_MODEL_3c18f7ef460148ccba418658b0283b22"
      }
     },
     "dc4fadeb6bb643dfb7317db5eeeb292e": {
      "model_module": "@jupyter-widgets/controls",
      "model_module_version": "1.4.0",
      "model_name": "ButtonModel",
      "state": {
       "description": "Run algorithm",
       "layout": "IPY_MODEL_f2ab82c937324ae1b693866cc9b33c00",
       "style": "IPY_MODEL_5e0610a1300740ab9ba5fc5a7cc1e0c2"
      }
     },
     "dc8b693a0380475a9521504abae7880f": {
      "model_module": "@jupyter-widgets/controls",
      "model_module_version": "1.4.0",
      "model_name": "FloatTextModel",
      "state": {
       "description": "$CT_{Heptem}/CT_{Intem}$",
       "layout": "IPY_MODEL_bf3cd47879d04a959ef89184520dc164",
       "step": null,
       "style": "IPY_MODEL_2d2adf20345e456faee38c724eda73bd",
       "value": "nan"
      }
     },
     "dca27b7ffe1e4955bec8a291f779c1e1": {
      "model_module": "@jupyter-widgets/controls",
      "model_module_version": "1.4.0",
      "model_name": "HBoxModel",
      "state": {
       "children": [
        "IPY_MODEL_8921767c975c47c6a4684c836ddfc835",
        "IPY_MODEL_5e4862f8bc3e42a6815319f41caab721"
       ],
       "layout": "IPY_MODEL_3353e217a91f41dc98a2e85d1a009e4e"
      }
     },
     "dcb723c10fe046d7ba8ba5ce9d6f7c96": {
      "model_module": "@jupyter-widgets/base",
      "model_module_version": "1.1.0",
      "model_name": "LayoutModel",
      "state": {}
     },
     "dcecf5ec05564bbe9eff13996739fb46": {
      "model_module": "@jupyter-widgets/controls",
      "model_module_version": "1.4.0",
      "model_name": "DescriptionStyleModel",
      "state": {
       "description_width": "initial"
      }
     },
     "dd4079efea914fc09b9bdeef06d02791": {
      "model_module": "@jupyter-widgets/base",
      "model_module_version": "1.1.0",
      "model_name": "LayoutModel",
      "state": {}
     },
     "dd449866efcc4a3c82b4c1e61e52e499": {
      "model_module": "@jupyter-widgets/base",
      "model_module_version": "1.1.0",
      "model_name": "LayoutModel",
      "state": {}
     },
     "ddc048ede0ab4146b44f235b86e95569": {
      "model_module": "@jupyter-widgets/base",
      "model_module_version": "1.1.0",
      "model_name": "LayoutModel",
      "state": {}
     },
     "dde3e1515c9a486aa634a9ea817916e3": {
      "model_module": "@jupyter-widgets/controls",
      "model_module_version": "1.4.0",
      "model_name": "AccordionModel",
      "state": {
       "_titles": {
        "0": "Procedure",
        "1": "Parameters"
       },
       "children": [
        "IPY_MODEL_5172fd6c719f4ec9aa5468a0d0b4d1c9",
        "IPY_MODEL_cc1da2ebede54fbb92fb4ad28ffc6db4"
       ],
       "layout": "IPY_MODEL_97816aecdc5d4016854e17c58d950491",
       "selected_index": 1
      }
     },
     "de2118d3a39a4323839a4969b109609c": {
      "model_module": "@jupyter-widgets/base",
      "model_module_version": "1.1.0",
      "model_name": "LayoutModel",
      "state": {}
     },
     "de2fd6bdc8fc4283b1354356ef1deb8b": {
      "model_module": "@jupyter-widgets/controls",
      "model_module_version": "1.4.0",
      "model_name": "HBoxModel",
      "state": {
       "children": [
        "IPY_MODEL_6d39d3b2a64b473db12e54c41a7fcab1",
        "IPY_MODEL_6f219c2c238942e1a3bccd2e25866a9f"
       ],
       "layout": "IPY_MODEL_4b8c279d5a5b44aba260a58d515ea432"
      }
     },
     "de4152bc91a142e0964020c37df63442": {
      "model_module": "@jupyter-widgets/base",
      "model_module_version": "1.1.0",
      "model_name": "LayoutModel",
      "state": {}
     },
     "de48ec8b9c414a87a94902ea3b179ff5": {
      "model_module": "@jupyter-widgets/base",
      "model_module_version": "1.1.0",
      "model_name": "LayoutModel",
      "state": {}
     },
     "de5d3b97b7cf4ba5bc06d36ff6ea007d": {
      "model_module": "@jupyter-widgets/controls",
      "model_module_version": "1.4.0",
      "model_name": "VBoxModel",
      "state": {
       "_dom_classes": [
        "widget-interact"
       ],
       "children": [
        "IPY_MODEL_7cdaba6e204f4851840686529a909bcb",
        "IPY_MODEL_7ef3128732c740489c12676a641771b5",
        "IPY_MODEL_39d89e36691746c6a8a6e86a12382518"
       ],
       "layout": "IPY_MODEL_b5fa7da666754ee2ac8112a0543f897f"
      }
     },
     "de6e923f6d504d91bd4f003ca82e4359": {
      "model_module": "@jupyter-widgets/base",
      "model_module_version": "1.1.0",
      "model_name": "LayoutModel",
      "state": {}
     },
     "de7bcc300ed64fc8b3798a564fc635e8": {
      "model_module": "@jupyter-widgets/output",
      "model_module_version": "1.0.0",
      "model_name": "OutputModel",
      "state": {
       "layout": "IPY_MODEL_883c9262c3034b8f9e28c4308523bba7"
      }
     },
     "de835ce7a6ce4e9697b2234ab5f61e16": {
      "model_module": "@jupyter-widgets/output",
      "model_module_version": "1.0.0",
      "model_name": "OutputModel",
      "state": {
       "layout": "IPY_MODEL_afc963137d14407b81f48aa6f7aa4be7"
      }
     },
     "de8bb63d49294750af51d939a2d0c770": {
      "model_module": "@jupyter-widgets/base",
      "model_module_version": "1.1.0",
      "model_name": "LayoutModel",
      "state": {}
     },
     "dec030a1bab24f02acd4cde3ae81c6bd": {
      "model_module": "@jupyter-widgets/base",
      "model_module_version": "1.1.0",
      "model_name": "LayoutModel",
      "state": {}
     },
     "df3beed9930847f1b285a36798335500": {
      "model_module": "@jupyter-widgets/controls",
      "model_module_version": "1.4.0",
      "model_name": "VBoxModel",
      "state": {
       "children": [
        "IPY_MODEL_1393063e9e354fcca89ec7317c4c25b9",
        "IPY_MODEL_402c60aac8e143f8b7133afa9115c0da"
       ],
       "layout": "IPY_MODEL_04b8acb32209415485492deb5f0cdba7"
      }
     },
     "df4b4b45462d47a7be77f60a70814365": {
      "model_module": "@jupyter-widgets/controls",
      "model_module_version": "1.4.0",
      "model_name": "HBoxModel",
      "state": {
       "children": [
        "IPY_MODEL_c0149b2d9c3f418ca2f66fb0e8c82118"
       ],
       "layout": "IPY_MODEL_ad71c4a71a2a4b5895ce34b51fd5e872"
      }
     },
     "df87e04a50084619bf5f496d97902e37": {
      "model_module": "@jupyter-widgets/controls",
      "model_module_version": "1.4.0",
      "model_name": "VBoxModel",
      "state": {
       "_dom_classes": [
        "widget-interact"
       ],
       "children": [
        "IPY_MODEL_0b3f762c364b4882b9901aac4ac4e6c4",
        "IPY_MODEL_dbdd580e126848b6967051d5339a309a",
        "IPY_MODEL_9ffe039643b445f19fad43330e0bbc9b",
        "IPY_MODEL_f3bb704c1b7d437784bcd24c9fc4328c",
        "IPY_MODEL_37bf47de8ebb46e7bbdaa6cb658a836b",
        "IPY_MODEL_9d64c2da1a454b0f99be8fc3a30ed8e4",
        "IPY_MODEL_78c1adf0a92940e397d9b6e635a164bf",
        "IPY_MODEL_adb1524dbc9446f88500930b1cbae126",
        "IPY_MODEL_e2f9b28d2b0044b0bbe579fcaf1539de",
        "IPY_MODEL_aacaa0400e6243419a526a1a81728ee1",
        "IPY_MODEL_da2283904ce54cae83eb251736dc789e",
        "IPY_MODEL_1d293bac518844ab98f80e608d5e1ac5",
        "IPY_MODEL_d299703f46714aab8fb53de70fddf595",
        "IPY_MODEL_2346e45bf6d246dca8bc952045fc3e37",
        "IPY_MODEL_279ca9eda5f24edd85429db6823040ba",
        "IPY_MODEL_f0e8f0e2c2844e7c99144a72048f2db0"
       ],
       "layout": "IPY_MODEL_aedaa98421e44135be037bb00781aa9b"
      }
     },
     "df9b8aa113fb417d9262c74da3819dd7": {
      "model_module": "@jupyter-widgets/base",
      "model_module_version": "1.1.0",
      "model_name": "LayoutModel",
      "state": {}
     },
     "dfcdf136a4a646d1a7a143b39a9318e1": {
      "model_module": "@jupyter-widgets/controls",
      "model_module_version": "1.4.0",
      "model_name": "AccordionModel",
      "state": {
       "_titles": {
        "0": "Procedure",
        "1": "Parameters"
       },
       "children": [
        "IPY_MODEL_91461f03c573411d952ee4e9e8e5ec14",
        "IPY_MODEL_16f6a0a0996e430a9c7a44769d19f0fa"
       ],
       "layout": "IPY_MODEL_d1e9a380e0ce4603b50f25123348be7c",
       "selected_index": 1
      }
     },
     "dfe1bf72d84748d393d13f1ba295554d": {
      "model_module": "@jupyter-widgets/controls",
      "model_module_version": "1.4.0",
      "model_name": "DescriptionStyleModel",
      "state": {
       "description_width": "initial"
      }
     },
     "dfe9e47f47944fe79762182e8dc2c13a": {
      "model_module": "@jupyter-widgets/controls",
      "model_module_version": "1.4.0",
      "model_name": "FloatTextModel",
      "state": {
       "description": "$A10_{Extem} (mm)$",
       "layout": "IPY_MODEL_ac491fddb321424ca25ec2e89f87229b",
       "step": null,
       "style": "IPY_MODEL_2f6783971d724a18ad63fac1eaacb822",
       "value": "nan"
      }
     },
     "e02e8481d51446b592b35ca822a190b3": {
      "model_module": "@jupyter-widgets/controls",
      "model_module_version": "1.4.0",
      "model_name": "VBoxModel",
      "state": {
       "children": [
        "IPY_MODEL_7cdaba6e204f4851840686529a909bcb",
        "IPY_MODEL_7ef3128732c740489c12676a641771b5"
       ],
       "layout": "IPY_MODEL_d706e9ce6d2f485c80c070ed36022219"
      }
     },
     "e034752ded5d4146aaebef5efe0c2c85": {
      "model_module": "@jupyter-widgets/base",
      "model_module_version": "1.1.0",
      "model_name": "LayoutModel",
      "state": {}
     },
     "e05f4758628547c7926b8bdadf372616": {
      "model_module": "@jupyter-widgets/base",
      "model_module_version": "1.1.0",
      "model_name": "LayoutModel",
      "state": {}
     },
     "e0654e57385a4c359fb22b1e2e393871": {
      "model_module": "@jupyter-widgets/base",
      "model_module_version": "1.1.0",
      "model_name": "LayoutModel",
      "state": {}
     },
     "e067fefc7c7b46d3a6b7413e73a6cf01": {
      "model_module": "@jupyter-widgets/base",
      "model_module_version": "1.1.0",
      "model_name": "LayoutModel",
      "state": {}
     },
     "e0a8719058114af3b2a2aa0054f0423e": {
      "model_module": "@jupyter-widgets/base",
      "model_module_version": "1.1.0",
      "model_name": "LayoutModel",
      "state": {}
     },
     "e15f9d94150247f58c50b54fa3c5c1ee": {
      "model_module": "@jupyter-widgets/base",
      "model_module_version": "1.1.0",
      "model_name": "LayoutModel",
      "state": {}
     },
     "e183909ad33f4737995e87f50d8f5ac0": {
      "model_module": "@jupyter-widgets/controls",
      "model_module_version": "1.4.0",
      "model_name": "DescriptionStyleModel",
      "state": {
       "description_width": "initial"
      }
     },
     "e1c56a2be04d47188c44ace23bd4bf82": {
      "model_module": "@jupyter-widgets/base",
      "model_module_version": "1.1.0",
      "model_name": "LayoutModel",
      "state": {}
     },
     "e1c6883cb0e74f53bada86afa03bf7da": {
      "model_module": "@jupyter-widgets/base",
      "model_module_version": "1.1.0",
      "model_name": "LayoutModel",
      "state": {}
     },
     "e1e96e99e60b40f7b3551afedf8e781a": {
      "model_module": "@jupyter-widgets/base",
      "model_module_version": "1.1.0",
      "model_name": "LayoutModel",
      "state": {}
     },
     "e259ce91a26444c78a94e2f6e7b979b4": {
      "model_module": "@jupyter-widgets/controls",
      "model_module_version": "1.4.0",
      "model_name": "VBoxModel",
      "state": {
       "_dom_classes": [
        "widget-interact"
       ],
       "children": [
        "IPY_MODEL_467abf0c84b746629cc02d043f510b3b",
        "IPY_MODEL_f03c702063304900a21b86a1cfc1bc6a",
        "IPY_MODEL_ff2acae77452485ab84e18b41091ce82",
        "IPY_MODEL_85f59b8ac04841dfaa02b062d28f402e",
        "IPY_MODEL_3dc6b39299cb45bd85928756dfe5f459",
        "IPY_MODEL_68d6a562e1904abab58ed04cfe99b19c",
        "IPY_MODEL_8fff40f93750435aa3ec486f0250c736",
        "IPY_MODEL_c1578d17cde34390a10ea30c137e9f27",
        "IPY_MODEL_583c9e86be7d49f3b6ac4cb767e1e688",
        "IPY_MODEL_aa07063666e443dc97ea0bba6dfee03b",
        "IPY_MODEL_d64ebb419a7d4757b8a3499a0e4c07ab",
        "IPY_MODEL_88ba9983c9f2410d9513f064b2bd0a4e",
        "IPY_MODEL_4732a9d1bbf74747993edc5f3be4b325",
        "IPY_MODEL_6a94faccf3c34e84820a75d4ac624fa2",
        "IPY_MODEL_dc8b693a0380475a9521504abae7880f",
        "IPY_MODEL_62f16fcaf418435ba8664f8f326568c9"
       ],
       "layout": "IPY_MODEL_de2118d3a39a4323839a4969b109609c"
      }
     },
     "e2a0f2e920644f5bbd0198e2feb2a2e3": {
      "model_module": "@jupyter-widgets/controls",
      "model_module_version": "1.4.0",
      "model_name": "VBoxModel",
      "state": {
       "children": [
        "IPY_MODEL_7cdaba6e204f4851840686529a909bcb",
        "IPY_MODEL_7ef3128732c740489c12676a641771b5"
       ],
       "layout": "IPY_MODEL_83d919fda4eb4d95a4f2239d2fd3b0f6"
      }
     },
     "e2b03cf28cb64093906ea078d069a0b8": {
      "model_module": "@jupyter-widgets/controls",
      "model_module_version": "1.4.0",
      "model_name": "HBoxModel",
      "state": {
       "children": [
        "IPY_MODEL_7d57f8f11a69428791faab1e20046433"
       ],
       "layout": "IPY_MODEL_9bab7172405c4c5694d9504dbef80f0d"
      }
     },
     "e2db958e14bb4209955c5f2abdd0fac9": {
      "model_module": "@jupyter-widgets/base",
      "model_module_version": "1.1.0",
      "model_name": "LayoutModel",
      "state": {}
     },
     "e2f9b28d2b0044b0bbe579fcaf1539de": {
      "model_module": "@jupyter-widgets/controls",
      "model_module_version": "1.4.0",
      "model_name": "FloatTextModel",
      "state": {
       "description": "$A10_{Extem} (mm)$",
       "layout": "IPY_MODEL_3bdb552766c84dd4bb31cd3fee51933d",
       "step": null,
       "style": "IPY_MODEL_c8bba5f761d742d5a047a83ff4a19c7f",
       "value": 43
      }
     },
     "e3a15c5b91e54f91b23fd1df549c7c46": {
      "model_module": "@jupyter-widgets/controls",
      "model_module_version": "1.4.0",
      "model_name": "VBoxModel",
      "state": {
       "children": [
        "IPY_MODEL_c1578d17cde34390a10ea30c137e9f27",
        "IPY_MODEL_583c9e86be7d49f3b6ac4cb767e1e688",
        "IPY_MODEL_aa07063666e443dc97ea0bba6dfee03b",
        "IPY_MODEL_d64ebb419a7d4757b8a3499a0e4c07ab",
        "IPY_MODEL_88ba9983c9f2410d9513f064b2bd0a4e",
        "IPY_MODEL_4732a9d1bbf74747993edc5f3be4b325",
        "IPY_MODEL_6a94faccf3c34e84820a75d4ac624fa2",
        "IPY_MODEL_dc8b693a0380475a9521504abae7880f"
       ],
       "layout": "IPY_MODEL_b197b3f0c833413b91268ff5d15e326d"
      }
     },
     "e3d690d305a944a1a06d8dd669232667": {
      "model_module": "@jupyter-widgets/base",
      "model_module_version": "1.1.0",
      "model_name": "LayoutModel",
      "state": {}
     },
     "e40105802d924227ba6343e71ba16c86": {
      "model_module": "@jupyter-widgets/controls",
      "model_module_version": "1.4.0",
      "model_name": "AccordionModel",
      "state": {
       "_titles": {
        "0": "Procedure",
        "1": "Parameters"
       },
       "children": [
        "IPY_MODEL_51952ed9b253445aa3ba55f8af4d65fb",
        "IPY_MODEL_45c9583e5e764ed2912089f150ef45c3"
       ],
       "layout": "IPY_MODEL_772dc8b37d0642f78da671353cfb49d2"
      }
     },
     "e44688f6a376484b92d122d6ab8947ec": {
      "model_module": "@jupyter-widgets/base",
      "model_module_version": "1.1.0",
      "model_name": "LayoutModel",
      "state": {}
     },
     "e51ba33fa69042cebe6276843c9dc392": {
      "model_module": "@jupyter-widgets/base",
      "model_module_version": "1.1.0",
      "model_name": "LayoutModel",
      "state": {}
     },
     "e55e4a9850dd4e2fb99fa6f5825ff435": {
      "model_module": "@jupyter-widgets/output",
      "model_module_version": "1.0.0",
      "model_name": "OutputModel",
      "state": {
       "layout": "IPY_MODEL_1af9207789114015ab0b2139bdf41a37"
      }
     },
     "e561240cb48b441886600d855db9d322": {
      "model_module": "@jupyter-widgets/controls",
      "model_module_version": "1.4.0",
      "model_name": "ButtonModel",
      "state": {
       "description": "Run algorithm",
       "layout": "IPY_MODEL_b810bd13c2dd4784b697600525dd3580",
       "style": "IPY_MODEL_3c5cf63e83a542e6ac7709e88ad9275b"
      }
     },
     "e5b6d09836ec41ee8a6dd93caab61c48": {
      "model_module": "@jupyter-widgets/output",
      "model_module_version": "1.0.0",
      "model_name": "OutputModel",
      "state": {
       "layout": "IPY_MODEL_0387f7cfde5c4e919d058a4fe9823b1a"
      }
     },
     "e6084f92235b4f2d8a16d3c6178ecd08": {
      "model_module": "@jupyter-widgets/base",
      "model_module_version": "1.1.0",
      "model_name": "LayoutModel",
      "state": {}
     },
     "e719850b01d84ee49a0ca87616d9e96a": {
      "model_module": "@jupyter-widgets/output",
      "model_module_version": "1.0.0",
      "model_name": "OutputModel",
      "state": {
       "layout": "IPY_MODEL_3e5369299aea490f8d05419d851ef8f1"
      }
     },
     "e73985c2700045f7b854466a5c34969e": {
      "model_module": "@jupyter-widgets/output",
      "model_module_version": "1.0.0",
      "model_name": "OutputModel",
      "state": {
       "layout": "IPY_MODEL_ce3853492ca64b3b982f7d86e84f6ef2"
      }
     },
     "e739d0b78ade4f97b1561ead01216f65": {
      "model_module": "@jupyter-widgets/base",
      "model_module_version": "1.1.0",
      "model_name": "LayoutModel",
      "state": {}
     },
     "e7477857836e41288f129415e3c7d6ed": {
      "model_module": "@jupyter-widgets/base",
      "model_module_version": "1.1.0",
      "model_name": "LayoutModel",
      "state": {}
     },
     "e7b72b2626f04b4f9a2564ceb566f228": {
      "model_module": "@jupyter-widgets/base",
      "model_module_version": "1.1.0",
      "model_name": "LayoutModel",
      "state": {}
     },
     "e7d5738ded7d42ecb3bcc5bc2406f85e": {
      "model_module": "@jupyter-widgets/controls",
      "model_module_version": "1.4.0",
      "model_name": "AccordionModel",
      "state": {
       "_titles": {
        "0": "Procedure",
        "1": "Parameters"
       },
       "children": [
        "IPY_MODEL_4adf9eeef9f3404b96b74a13e23f2bca",
        "IPY_MODEL_b84805e6bef74feea9eac9e4a6e5a40e"
       ],
       "layout": "IPY_MODEL_0195580288ae43419e8bf12b3d6ab230",
       "selected_index": 1
      }
     },
     "e81277e935094fb1bcca252615502c94": {
      "model_module": "@jupyter-widgets/base",
      "model_module_version": "1.1.0",
      "model_name": "LayoutModel",
      "state": {}
     },
     "e824bc54417540ab82e047ba94a591fd": {
      "model_module": "@jupyter-widgets/base",
      "model_module_version": "1.1.0",
      "model_name": "LayoutModel",
      "state": {}
     },
     "e85fae9298f94bd5aaed237b9d65fdf5": {
      "model_module": "@jupyter-widgets/controls",
      "model_module_version": "1.4.0",
      "model_name": "VBoxModel",
      "state": {
       "children": [
        "IPY_MODEL_340cd20db0bc474e93c667b3f884184f",
        "IPY_MODEL_0674fcad5e4d432281043402b67b6e6b"
       ],
       "layout": "IPY_MODEL_6a8f97d0bd3a4157bfad2eebfecd6fb9"
      }
     },
     "e89b6618542e493d930bc20ec0c29f5a": {
      "model_module": "@jupyter-widgets/controls",
      "model_module_version": "1.4.0",
      "model_name": "HBoxModel",
      "state": {
       "children": [
        "IPY_MODEL_3265444623654f539855990501ab048d",
        "IPY_MODEL_1b17e50084884948945dffbdb228b1ab"
       ],
       "layout": "IPY_MODEL_3c6e71138dc64a51b431bf51f40cb25e"
      }
     },
     "e8afcbcd04454425bfbd03e825c02e41": {
      "model_module": "@jupyter-widgets/controls",
      "model_module_version": "1.4.0",
      "model_name": "VBoxModel",
      "state": {
       "children": [
        "IPY_MODEL_7cdaba6e204f4851840686529a909bcb",
        "IPY_MODEL_7ef3128732c740489c12676a641771b5"
       ],
       "layout": "IPY_MODEL_01fa9727183f4476afdc4cb22a3fc802"
      }
     },
     "e945879155e1422c8fac200bcc3e21d3": {
      "model_module": "@jupyter-widgets/base",
      "model_module_version": "1.1.0",
      "model_name": "LayoutModel",
      "state": {}
     },
     "e96b635c87504e62a9d477a730c8ce80": {
      "model_module": "@jupyter-widgets/controls",
      "model_module_version": "1.4.0",
      "model_name": "VBoxModel",
      "state": {
       "_dom_classes": [
        "widget-interact"
       ],
       "children": [
        "IPY_MODEL_467abf0c84b746629cc02d043f510b3b",
        "IPY_MODEL_f03c702063304900a21b86a1cfc1bc6a",
        "IPY_MODEL_ff2acae77452485ab84e18b41091ce82",
        "IPY_MODEL_85f59b8ac04841dfaa02b062d28f402e",
        "IPY_MODEL_3dc6b39299cb45bd85928756dfe5f459",
        "IPY_MODEL_68d6a562e1904abab58ed04cfe99b19c",
        "IPY_MODEL_8fff40f93750435aa3ec486f0250c736",
        "IPY_MODEL_c1578d17cde34390a10ea30c137e9f27",
        "IPY_MODEL_583c9e86be7d49f3b6ac4cb767e1e688",
        "IPY_MODEL_aa07063666e443dc97ea0bba6dfee03b",
        "IPY_MODEL_d64ebb419a7d4757b8a3499a0e4c07ab",
        "IPY_MODEL_88ba9983c9f2410d9513f064b2bd0a4e",
        "IPY_MODEL_4732a9d1bbf74747993edc5f3be4b325",
        "IPY_MODEL_6a94faccf3c34e84820a75d4ac624fa2",
        "IPY_MODEL_dc8b693a0380475a9521504abae7880f",
        "IPY_MODEL_92704bb2d27949d482656856f11d366b"
       ],
       "layout": "IPY_MODEL_e739d0b78ade4f97b1561ead01216f65"
      }
     },
     "e9759c40c67c485cb885dd83d2aedded": {
      "model_module": "@jupyter-widgets/controls",
      "model_module_version": "1.4.0",
      "model_name": "ButtonModel",
      "state": {
       "description": "Run algorithm",
       "layout": "IPY_MODEL_1816028f836b4592b595d2f97971cca1",
       "style": "IPY_MODEL_4142f8e49a064563a0e7c181bf4ad903"
      }
     },
     "e9e02cb131444bcdb876165295e17791": {
      "model_module": "@jupyter-widgets/controls",
      "model_module_version": "1.4.0",
      "model_name": "VBoxModel",
      "state": {
       "children": [
        "IPY_MODEL_467abf0c84b746629cc02d043f510b3b",
        "IPY_MODEL_f03c702063304900a21b86a1cfc1bc6a",
        "IPY_MODEL_ff2acae77452485ab84e18b41091ce82",
        "IPY_MODEL_85f59b8ac04841dfaa02b062d28f402e",
        "IPY_MODEL_3dc6b39299cb45bd85928756dfe5f459",
        "IPY_MODEL_68d6a562e1904abab58ed04cfe99b19c",
        "IPY_MODEL_8fff40f93750435aa3ec486f0250c736"
       ],
       "layout": "IPY_MODEL_ce77a2a3317a478a832def18c3f3ce29"
      }
     },
     "e9f727e0504c4e629eaa9b867231ee7a": {
      "model_module": "@jupyter-widgets/controls",
      "model_module_version": "1.4.0",
      "model_name": "VBoxModel",
      "state": {
       "children": [
        "IPY_MODEL_7cdaba6e204f4851840686529a909bcb",
        "IPY_MODEL_7ef3128732c740489c12676a641771b5"
       ],
       "layout": "IPY_MODEL_e824bc54417540ab82e047ba94a591fd"
      }
     },
     "ea0c05abca6d487b90ddb528c1ec4cf6": {
      "model_module": "@jupyter-widgets/controls",
      "model_module_version": "1.4.0",
      "model_name": "DescriptionStyleModel",
      "state": {
       "description_width": "initial"
      }
     },
     "ea43d787cb714991b680355ddc962a1d": {
      "model_module": "@jupyter-widgets/controls",
      "model_module_version": "1.4.0",
      "model_name": "HBoxModel",
      "state": {
       "children": [
        "IPY_MODEL_fd1dda8dede54a76b98f40408be07fdc",
        "IPY_MODEL_50d0e39ca2c246e59188e447dfd84afa"
       ],
       "layout": "IPY_MODEL_fab07a6360bd414e84af87c98e48f7ba"
      }
     },
     "ea58988ebbcb414981bf51c6a32f3714": {
      "model_module": "@jupyter-widgets/base",
      "model_module_version": "1.1.0",
      "model_name": "LayoutModel",
      "state": {}
     },
     "ea5adca66e734b5b83957b338110d52e": {
      "model_module": "@jupyter-widgets/base",
      "model_module_version": "1.1.0",
      "model_name": "LayoutModel",
      "state": {}
     },
     "ea5e8e90e879418ab59f426ab8304193": {
      "model_module": "@jupyter-widgets/controls",
      "model_module_version": "1.4.0",
      "model_name": "HBoxModel",
      "state": {
       "children": [
        "IPY_MODEL_c752a1e475d34fe89314985f6b27b6da",
        "IPY_MODEL_3ec4d8cc53e84f0bbd04086ce905bd48"
       ],
       "layout": "IPY_MODEL_fdc6030091a643ab898ef5fdad6c5aa6"
      }
     },
     "ea70d74a5dfc481facc274bee3241ff7": {
      "model_module": "@jupyter-widgets/base",
      "model_module_version": "1.1.0",
      "model_name": "LayoutModel",
      "state": {}
     },
     "ea752a4c228d4359ad3d24d506bb57f3": {
      "model_module": "@jupyter-widgets/base",
      "model_module_version": "1.1.0",
      "model_name": "LayoutModel",
      "state": {}
     },
     "eaec027e45a141c9a7dfd110720908e0": {
      "model_module": "@jupyter-widgets/controls",
      "model_module_version": "1.4.0",
      "model_name": "VBoxModel",
      "state": {
       "children": [
        "IPY_MODEL_c1578d17cde34390a10ea30c137e9f27",
        "IPY_MODEL_583c9e86be7d49f3b6ac4cb767e1e688",
        "IPY_MODEL_aa07063666e443dc97ea0bba6dfee03b",
        "IPY_MODEL_d64ebb419a7d4757b8a3499a0e4c07ab",
        "IPY_MODEL_88ba9983c9f2410d9513f064b2bd0a4e",
        "IPY_MODEL_4732a9d1bbf74747993edc5f3be4b325",
        "IPY_MODEL_6a94faccf3c34e84820a75d4ac624fa2",
        "IPY_MODEL_dc8b693a0380475a9521504abae7880f"
       ],
       "layout": "IPY_MODEL_803c967c2c684248b77cb2658b48843d"
      }
     },
     "eb03fe468aaa4d6aa417a9a3b59ec7d8": {
      "model_module": "@jupyter-widgets/base",
      "model_module_version": "1.1.0",
      "model_name": "LayoutModel",
      "state": {}
     },
     "eb0b7ad4f9b344259691af0d0d21fe02": {
      "model_module": "@jupyter-widgets/base",
      "model_module_version": "1.1.0",
      "model_name": "LayoutModel",
      "state": {}
     },
     "eb1f15bee24743e2b9b44f16eb43787a": {
      "model_module": "@jupyter-widgets/controls",
      "model_module_version": "1.4.0",
      "model_name": "VBoxModel",
      "state": {
       "_dom_classes": [
        "widget-interact"
       ],
       "children": [
        "IPY_MODEL_7cdaba6e204f4851840686529a909bcb",
        "IPY_MODEL_7ef3128732c740489c12676a641771b5",
        "IPY_MODEL_d64377b8bed34cffa79d3960541956a1"
       ],
       "layout": "IPY_MODEL_13b022a7aa3b4313bc4c482f0453e2a9"
      }
     },
     "eb6980ee6d0b4b4691ba7d9dc04ca544": {
      "model_module": "@jupyter-widgets/controls",
      "model_module_version": "1.4.0",
      "model_name": "VBoxModel",
      "state": {
       "_dom_classes": [
        "widget-interact"
       ],
       "children": [
        "IPY_MODEL_64e0b5d82afb46ac87de19dff69373ef",
        "IPY_MODEL_9bb96400758e4b4cb3f4ece0789d9f26",
        "IPY_MODEL_581ed38e1f314da6b3a68ed3ebd7ed2f"
       ],
       "layout": "IPY_MODEL_0445cb8f2a93489da1b6b3d52711092a"
      }
     },
     "eb6c778fff724575a4a42d479ad787b2": {
      "model_module": "@jupyter-widgets/controls",
      "model_module_version": "1.4.0",
      "model_name": "AccordionModel",
      "state": {
       "_titles": {
        "0": "Procedure",
        "1": "Parameters"
       },
       "children": [
        "IPY_MODEL_cea6be42cdf5482b93affe9f76c34a2b",
        "IPY_MODEL_fa83d420785c423b9b42672aea0a6415"
       ],
       "layout": "IPY_MODEL_57c16f6dc9b74522a17b56f65c96e50d"
      }
     },
     "eb758f0fc99f419f8f34a1bd4436913b": {
      "model_module": "@jupyter-widgets/controls",
      "model_module_version": "1.4.0",
      "model_name": "ButtonModel",
      "state": {
       "description": "Run algorithm",
       "layout": "IPY_MODEL_e1c6883cb0e74f53bada86afa03bf7da",
       "style": "IPY_MODEL_8338a8392ae844cf9e3a4a2c2a86f6a4"
      }
     },
     "eb92dd85f1014b08af4e1885c959ef4f": {
      "model_module": "@jupyter-widgets/base",
      "model_module_version": "1.1.0",
      "model_name": "LayoutModel",
      "state": {}
     },
     "eb9765307dc8474eab62a8d12adb5e53": {
      "model_module": "@jupyter-widgets/base",
      "model_module_version": "1.1.0",
      "model_name": "LayoutModel",
      "state": {}
     },
     "ebab33a52e0f4b2faaf38e29283c392f": {
      "model_module": "@jupyter-widgets/base",
      "model_module_version": "1.1.0",
      "model_name": "LayoutModel",
      "state": {}
     },
     "ebe793088b1f406285724dbf0f956cd8": {
      "model_module": "@jupyter-widgets/controls",
      "model_module_version": "1.4.0",
      "model_name": "ButtonStyleModel",
      "state": {}
     },
     "ebf19be41e694225a3768cdf2f99e627": {
      "model_module": "@jupyter-widgets/base",
      "model_module_version": "1.1.0",
      "model_name": "LayoutModel",
      "state": {}
     },
     "ebff34e5608b4c828c087071e690882f": {
      "model_module": "@jupyter-widgets/controls",
      "model_module_version": "1.4.0",
      "model_name": "DescriptionStyleModel",
      "state": {
       "description_width": "initial"
      }
     },
     "ec0543fa4e58439abc4b5c45a1c03e7c": {
      "model_module": "@jupyter-widgets/controls",
      "model_module_version": "1.4.0",
      "model_name": "ButtonStyleModel",
      "state": {}
     },
     "ec11201021b448e89397b7c267c30334": {
      "model_module": "@jupyter-widgets/controls",
      "model_module_version": "1.4.0",
      "model_name": "AccordionModel",
      "state": {
       "_titles": {
        "0": "Procedure",
        "1": "Parameters"
       },
       "children": [
        "IPY_MODEL_5ecf11825bdb487b82b69d74a126700d",
        "IPY_MODEL_71c2a43235b3440dac55cf699db10d47"
       ],
       "layout": "IPY_MODEL_15fe6e5dbbb44f6a90bf5409c70ffc92",
       "selected_index": 1
      }
     },
     "ed1dc57f8b154bf0984a6a3ab65a776c": {
      "model_module": "@jupyter-widgets/output",
      "model_module_version": "1.0.0",
      "model_name": "OutputModel",
      "state": {
       "layout": "IPY_MODEL_fc5fc00327df431da5dee5ff0486f89c"
      }
     },
     "ed20d12839664c3caf74ab8fe231767a": {
      "model_module": "@jupyter-widgets/output",
      "model_module_version": "1.0.0",
      "model_name": "OutputModel",
      "state": {
       "layout": "IPY_MODEL_d5ecefe3f67c4997a49b1ee497cdea80"
      }
     },
     "ed34b3cc5c7f4ced8703474fa35c32a3": {
      "model_module": "@jupyter-widgets/controls",
      "model_module_version": "1.4.0",
      "model_name": "ButtonModel",
      "state": {
       "description": "Run algorithm",
       "layout": "IPY_MODEL_affc6fe0f8cd407697c616e31c5bb541",
       "style": "IPY_MODEL_5f58e2d923754937a8adca8be8e4ba80"
      }
     },
     "ed8364ace6224a3f92c955922bb5a48e": {
      "model_module": "@jupyter-widgets/controls",
      "model_module_version": "1.4.0",
      "model_name": "ButtonStyleModel",
      "state": {}
     },
     "ed912f90867d4fca8d89fed3af2cd3bf": {
      "model_module": "@jupyter-widgets/output",
      "model_module_version": "1.0.0",
      "model_name": "OutputModel",
      "state": {
       "layout": "IPY_MODEL_a6524cb500744ebc901165337e802953"
      }
     },
     "ed9538866a104b7699b9735c73182767": {
      "model_module": "@jupyter-widgets/controls",
      "model_module_version": "1.4.0",
      "model_name": "VBoxModel",
      "state": {
       "children": [
        "IPY_MODEL_e40105802d924227ba6343e71ba16c86",
        "IPY_MODEL_526f6c2860324fae9d36b45b6353dea5"
       ],
       "layout": "IPY_MODEL_e7b72b2626f04b4f9a2564ceb566f228"
      }
     },
     "ed96e37658ce47afb8b92512e3b51264": {
      "model_module": "@jupyter-widgets/base",
      "model_module_version": "1.1.0",
      "model_name": "LayoutModel",
      "state": {}
     },
     "ee09adf81e044ef9ba00b263e92041fd": {
      "model_module": "@jupyter-widgets/base",
      "model_module_version": "1.1.0",
      "model_name": "LayoutModel",
      "state": {}
     },
     "ee2fec7de5344aa0b0486ee75bcb3223": {
      "model_module": "@jupyter-widgets/controls",
      "model_module_version": "1.4.0",
      "model_name": "AccordionModel",
      "state": {
       "_titles": {
        "0": "Procedure",
        "1": "Parameters"
       },
       "children": [
        "IPY_MODEL_c631c37e791d4adf9caae54a6900888d",
        "IPY_MODEL_208e712acce140fea0d507622c909303"
       ],
       "layout": "IPY_MODEL_2067c6f53e374542b8ba9b0c08f379f2",
       "selected_index": 1
      }
     },
     "ee5c3b89271e4608976d431a63a66ab1": {
      "model_module": "@jupyter-widgets/controls",
      "model_module_version": "1.4.0",
      "model_name": "FloatTextModel",
      "state": {
       "description": "$MEA_{TRAP} (U)$",
       "layout": "IPY_MODEL_34a4d8bac82f4db49df2b298bafaa160",
       "step": null,
       "style": "IPY_MODEL_9b744757c9fd4c5fac77e825a64507ad",
       "value": "nan"
      }
     },
     "ee87e39d3f8f41ddaa92ea0411c1e615": {
      "model_module": "@jupyter-widgets/base",
      "model_module_version": "1.1.0",
      "model_name": "LayoutModel",
      "state": {}
     },
     "ee8e57ea9b6c4f1b82771b9b18dd9191": {
      "model_module": "@jupyter-widgets/controls",
      "model_module_version": "1.4.0",
      "model_name": "VBoxModel",
      "state": {
       "children": [
        "IPY_MODEL_c1578d17cde34390a10ea30c137e9f27",
        "IPY_MODEL_583c9e86be7d49f3b6ac4cb767e1e688",
        "IPY_MODEL_aa07063666e443dc97ea0bba6dfee03b",
        "IPY_MODEL_d64ebb419a7d4757b8a3499a0e4c07ab",
        "IPY_MODEL_88ba9983c9f2410d9513f064b2bd0a4e",
        "IPY_MODEL_4732a9d1bbf74747993edc5f3be4b325",
        "IPY_MODEL_6a94faccf3c34e84820a75d4ac624fa2",
        "IPY_MODEL_dc8b693a0380475a9521504abae7880f"
       ],
       "layout": "IPY_MODEL_9f592d2e23794c0499ef2247bfaa907a"
      }
     },
     "ee91e10e09924df7b29ad5d5311509cf": {
      "model_module": "@jupyter-widgets/base",
      "model_module_version": "1.1.0",
      "model_name": "LayoutModel",
      "state": {}
     },
     "eeac02f3e4ac47f7b332028577b31810": {
      "model_module": "@jupyter-widgets/base",
      "model_module_version": "1.1.0",
      "model_name": "LayoutModel",
      "state": {}
     },
     "ef085c391fca4f6aaf4ac3fa3c0c4815": {
      "model_module": "@jupyter-widgets/base",
      "model_module_version": "1.1.0",
      "model_name": "LayoutModel",
      "state": {}
     },
     "ef0a474365574ebe9248b8df211de238": {
      "model_module": "@jupyter-widgets/controls",
      "model_module_version": "1.4.0",
      "model_name": "VBoxModel",
      "state": {
       "children": [
        "IPY_MODEL_7cdaba6e204f4851840686529a909bcb",
        "IPY_MODEL_7ef3128732c740489c12676a641771b5"
       ],
       "layout": "IPY_MODEL_ac9a092a263c449281ae7fd0db68bea7"
      }
     },
     "ef3b3d8fc49342da83496f966330e54e": {
      "model_module": "@jupyter-widgets/controls",
      "model_module_version": "1.4.0",
      "model_name": "AccordionModel",
      "state": {
       "_titles": {
        "0": "Procedure",
        "1": "Parameters"
       },
       "children": [
        "IPY_MODEL_65db046ae1a8492fb83000d715ce0928",
        "IPY_MODEL_408b77602c2143dfa960dfa892519230"
       ],
       "layout": "IPY_MODEL_cf4a7f7e1cd64b0082cca7e451ba2a32",
       "selected_index": 1
      }
     },
     "efdd7b0256ca4b918f4682b4d4ddab3d": {
      "model_module": "@jupyter-widgets/controls",
      "model_module_version": "1.4.0",
      "model_name": "VBoxModel",
      "state": {
       "_dom_classes": [
        "widget-interact"
       ],
       "children": [
        "IPY_MODEL_7cdaba6e204f4851840686529a909bcb",
        "IPY_MODEL_7ef3128732c740489c12676a641771b5",
        "IPY_MODEL_3528fee56b1b47a5946d8574f788a759"
       ],
       "layout": "IPY_MODEL_a0d5e4e503b2455f99faeac98c311873"
      }
     },
     "f03c702063304900a21b86a1cfc1bc6a": {
      "model_module": "@jupyter-widgets/controls",
      "model_module_version": "1.4.0",
      "model_name": "FloatTextModel",
      "state": {
       "description": "$MEA_{ADP} (U)$",
       "layout": "IPY_MODEL_4d8d812f652a4498972201d43e4318b2",
       "step": null,
       "style": "IPY_MODEL_f328bd181bdb4955b8fa0d2d3a8bee5e",
       "value": 15
      }
     },
     "f0445817c2d54a9fa893f3b2b36b0105": {
      "model_module": "@jupyter-widgets/controls",
      "model_module_version": "1.4.0",
      "model_name": "VBoxModel",
      "state": {
       "children": [
        "IPY_MODEL_7cdaba6e204f4851840686529a909bcb",
        "IPY_MODEL_7ef3128732c740489c12676a641771b5"
       ],
       "layout": "IPY_MODEL_e1c56a2be04d47188c44ace23bd4bf82"
      }
     },
     "f0536447635d40c38f8f6094568e11d2": {
      "model_module": "@jupyter-widgets/controls",
      "model_module_version": "1.4.0",
      "model_name": "HBoxModel",
      "state": {
       "children": [
        "IPY_MODEL_81fa5e8a4d89417794c26f237317b2ce",
        "IPY_MODEL_6cc1e51c9fa74cf7bc6d804b53f38902"
       ],
       "layout": "IPY_MODEL_cb708900a6f94b99b229d02ebcf13f32"
      }
     },
     "f0e8f0e2c2844e7c99144a72048f2db0": {
      "model_module": "@jupyter-widgets/output",
      "model_module_version": "1.0.0",
      "model_name": "OutputModel",
      "state": {
       "layout": "IPY_MODEL_ea5adca66e734b5b83957b338110d52e"
      }
     },
     "f1123acecf8d4231831c55e3e25f2a05": {
      "model_module": "@jupyter-widgets/controls",
      "model_module_version": "1.4.0",
      "model_name": "ButtonModel",
      "state": {
       "description": "Run algorithm",
       "layout": "IPY_MODEL_e15f9d94150247f58c50b54fa3c5c1ee",
       "style": "IPY_MODEL_c867f25f60124082be8c0df6242ae1b4"
      }
     },
     "f127f9abd840466ea46484b980099237": {
      "model_module": "@jupyter-widgets/base",
      "model_module_version": "1.1.0",
      "model_name": "LayoutModel",
      "state": {}
     },
     "f12a86d96a60404f8e9483805e5be3bc": {
      "model_module": "@jupyter-widgets/base",
      "model_module_version": "1.1.0",
      "model_name": "LayoutModel",
      "state": {}
     },
     "f150fd3995b340368c8cf7ce18464763": {
      "model_module": "@jupyter-widgets/controls",
      "model_module_version": "1.4.0",
      "model_name": "VBoxModel",
      "state": {
       "_dom_classes": [
        "widget-interact"
       ],
       "children": [
        "IPY_MODEL_7cdaba6e204f4851840686529a909bcb",
        "IPY_MODEL_7ef3128732c740489c12676a641771b5",
        "IPY_MODEL_27901e12675440f6b9cdaec1bab1a7cb"
       ],
       "layout": "IPY_MODEL_ae634362282f4bb19270496041443fd2"
      }
     },
     "f15b9c876d17433c970271a8708d1104": {
      "model_module": "@jupyter-widgets/base",
      "model_module_version": "1.1.0",
      "model_name": "LayoutModel",
      "state": {}
     },
     "f18cc5c5d8ce4ecfb37036a9ce386985": {
      "model_module": "@jupyter-widgets/controls",
      "model_module_version": "1.4.0",
      "model_name": "AccordionModel",
      "state": {
       "_titles": {
        "0": "Procedure",
        "1": "Parameters"
       },
       "children": [
        "IPY_MODEL_12b7e8577edb4171ab9c2df9f227a22d",
        "IPY_MODEL_f47e49e3a81e43c3a2b80f563dd3e9b8"
       ],
       "layout": "IPY_MODEL_fe34b3f09f9f4d62aaa8120a13f1491c",
       "selected_index": 1
      }
     },
     "f1b76d9cd2aa4e04a7d1a2a902afedf2": {
      "model_module": "@jupyter-widgets/controls",
      "model_module_version": "1.4.0",
      "model_name": "ButtonModel",
      "state": {
       "description": "Run algorithm",
       "layout": "IPY_MODEL_eb0b7ad4f9b344259691af0d0d21fe02",
       "style": "IPY_MODEL_3078520f30244fcdbbc54e96c70a711f"
      }
     },
     "f1ce22b19d3246cb8cd7037529659634": {
      "model_module": "@jupyter-widgets/base",
      "model_module_version": "1.1.0",
      "model_name": "LayoutModel",
      "state": {}
     },
     "f1f448c7d9ee413cba6cf6b63994cfe5": {
      "model_module": "@jupyter-widgets/base",
      "model_module_version": "1.1.0",
      "model_name": "LayoutModel",
      "state": {}
     },
     "f21066e4be04425bb95ee6d935674ef9": {
      "model_module": "@jupyter-widgets/controls",
      "model_module_version": "1.4.0",
      "model_name": "HBoxModel",
      "state": {
       "children": [
        "IPY_MODEL_b658ac2da67740ccaddf4ddaaf6cb9bc",
        "IPY_MODEL_07ed0b07582d4de2be87cd86136d17af"
       ],
       "layout": "IPY_MODEL_8c656ebf9f8b46789b2e72ce4b59f0af"
      }
     },
     "f248870eb35546d29314f533aba8c576": {
      "model_module": "@jupyter-widgets/controls",
      "model_module_version": "1.4.0",
      "model_name": "VBoxModel",
      "state": {
       "_dom_classes": [
        "widget-interact"
       ],
       "children": [
        "IPY_MODEL_467abf0c84b746629cc02d043f510b3b",
        "IPY_MODEL_f03c702063304900a21b86a1cfc1bc6a",
        "IPY_MODEL_ff2acae77452485ab84e18b41091ce82",
        "IPY_MODEL_85f59b8ac04841dfaa02b062d28f402e",
        "IPY_MODEL_3dc6b39299cb45bd85928756dfe5f459",
        "IPY_MODEL_68d6a562e1904abab58ed04cfe99b19c",
        "IPY_MODEL_8fff40f93750435aa3ec486f0250c736",
        "IPY_MODEL_c1578d17cde34390a10ea30c137e9f27",
        "IPY_MODEL_583c9e86be7d49f3b6ac4cb767e1e688",
        "IPY_MODEL_aa07063666e443dc97ea0bba6dfee03b",
        "IPY_MODEL_d64ebb419a7d4757b8a3499a0e4c07ab",
        "IPY_MODEL_88ba9983c9f2410d9513f064b2bd0a4e",
        "IPY_MODEL_4732a9d1bbf74747993edc5f3be4b325",
        "IPY_MODEL_6a94faccf3c34e84820a75d4ac624fa2",
        "IPY_MODEL_dc8b693a0380475a9521504abae7880f",
        "IPY_MODEL_5371d4b279c7442ba9dd7340edf876a4"
       ],
       "layout": "IPY_MODEL_8a0bbe81f54e45eda61463bc6cd174cf"
      }
     },
     "f24a913ef6624e2a8b0856b0966738d5": {
      "model_module": "@jupyter-widgets/output",
      "model_module_version": "1.0.0",
      "model_name": "OutputModel",
      "state": {
       "layout": "IPY_MODEL_d5d0c6aab81748fbbd2ea6060e4efaa6"
      }
     },
     "f2823bf2bbd24117a35663d88e6beea8": {
      "model_module": "@jupyter-widgets/controls",
      "model_module_version": "1.4.0",
      "model_name": "VBoxModel",
      "state": {
       "_dom_classes": [
        "widget-interact"
       ],
       "children": [
        "IPY_MODEL_467abf0c84b746629cc02d043f510b3b",
        "IPY_MODEL_f03c702063304900a21b86a1cfc1bc6a",
        "IPY_MODEL_ff2acae77452485ab84e18b41091ce82",
        "IPY_MODEL_85f59b8ac04841dfaa02b062d28f402e",
        "IPY_MODEL_3dc6b39299cb45bd85928756dfe5f459",
        "IPY_MODEL_68d6a562e1904abab58ed04cfe99b19c",
        "IPY_MODEL_8fff40f93750435aa3ec486f0250c736",
        "IPY_MODEL_c1578d17cde34390a10ea30c137e9f27",
        "IPY_MODEL_583c9e86be7d49f3b6ac4cb767e1e688",
        "IPY_MODEL_aa07063666e443dc97ea0bba6dfee03b",
        "IPY_MODEL_d64ebb419a7d4757b8a3499a0e4c07ab",
        "IPY_MODEL_88ba9983c9f2410d9513f064b2bd0a4e",
        "IPY_MODEL_4732a9d1bbf74747993edc5f3be4b325",
        "IPY_MODEL_6a94faccf3c34e84820a75d4ac624fa2",
        "IPY_MODEL_dc8b693a0380475a9521504abae7880f",
        "IPY_MODEL_e55e4a9850dd4e2fb99fa6f5825ff435"
       ],
       "layout": "IPY_MODEL_d7eb6a857b7c4ea990e898ac68b47d81"
      }
     },
     "f2ab82c937324ae1b693866cc9b33c00": {
      "model_module": "@jupyter-widgets/base",
      "model_module_version": "1.1.0",
      "model_name": "LayoutModel",
      "state": {}
     },
     "f2bf40afa87e47d7bc0992bd0dafe052": {
      "model_module": "@jupyter-widgets/controls",
      "model_module_version": "1.4.0",
      "model_name": "ButtonStyleModel",
      "state": {}
     },
     "f3213877b5214021b2a0f6e1a55a394d": {
      "model_module": "@jupyter-widgets/controls",
      "model_module_version": "1.4.0",
      "model_name": "VBoxModel",
      "state": {
       "_dom_classes": [
        "widget-interact"
       ],
       "children": [
        "IPY_MODEL_467abf0c84b746629cc02d043f510b3b",
        "IPY_MODEL_f03c702063304900a21b86a1cfc1bc6a",
        "IPY_MODEL_ff2acae77452485ab84e18b41091ce82",
        "IPY_MODEL_85f59b8ac04841dfaa02b062d28f402e",
        "IPY_MODEL_3dc6b39299cb45bd85928756dfe5f459",
        "IPY_MODEL_68d6a562e1904abab58ed04cfe99b19c",
        "IPY_MODEL_8fff40f93750435aa3ec486f0250c736",
        "IPY_MODEL_c1578d17cde34390a10ea30c137e9f27",
        "IPY_MODEL_583c9e86be7d49f3b6ac4cb767e1e688",
        "IPY_MODEL_aa07063666e443dc97ea0bba6dfee03b",
        "IPY_MODEL_d64ebb419a7d4757b8a3499a0e4c07ab",
        "IPY_MODEL_88ba9983c9f2410d9513f064b2bd0a4e",
        "IPY_MODEL_4732a9d1bbf74747993edc5f3be4b325",
        "IPY_MODEL_6a94faccf3c34e84820a75d4ac624fa2",
        "IPY_MODEL_dc8b693a0380475a9521504abae7880f",
        "IPY_MODEL_b7deaca5cccd4a7798f308eed3c2b048"
       ],
       "layout": "IPY_MODEL_90178743147548079ffd38e4a0bc10e9"
      }
     },
     "f328bd181bdb4955b8fa0d2d3a8bee5e": {
      "model_module": "@jupyter-widgets/controls",
      "model_module_version": "1.4.0",
      "model_name": "DescriptionStyleModel",
      "state": {
       "description_width": "initial"
      }
     },
     "f3370725cbcc4686984aa1e8cd4e8779": {
      "model_module": "@jupyter-widgets/controls",
      "model_module_version": "1.4.0",
      "model_name": "ButtonModel",
      "state": {
       "description": "Run algorithm",
       "layout": "IPY_MODEL_ae8b6ecd9a584422b704adf64d6497e3",
       "style": "IPY_MODEL_b7bcf863416f4f3cb08c654144ccfb49"
      }
     },
     "f37ef8bdf6694623a264ad5bc5770048": {
      "model_module": "@jupyter-widgets/controls",
      "model_module_version": "1.4.0",
      "model_name": "AccordionModel",
      "state": {
       "_titles": {
        "0": "Procedure",
        "1": "Parameters"
       },
       "children": [
        "IPY_MODEL_ae9f97e70acc4a838160a89e21e28967",
        "IPY_MODEL_f21066e4be04425bb95ee6d935674ef9"
       ],
       "layout": "IPY_MODEL_4bca6b90baf54f7e994ecf45cadd2767",
       "selected_index": 1
      }
     },
     "f39386a9015e4102927b6e15367fbeae": {
      "model_module": "@jupyter-widgets/controls",
      "model_module_version": "1.4.0",
      "model_name": "VBoxModel",
      "state": {
       "children": [
        "IPY_MODEL_7cdaba6e204f4851840686529a909bcb",
        "IPY_MODEL_7ef3128732c740489c12676a641771b5"
       ],
       "layout": "IPY_MODEL_318b46a1c4b14fd990e063716dbff01b"
      }
     },
     "f3bb704c1b7d437784bcd24c9fc4328c": {
      "model_module": "@jupyter-widgets/controls",
      "model_module_version": "1.4.0",
      "model_name": "FloatTextModel",
      "state": {
       "description": "$APTT (s)$",
       "layout": "IPY_MODEL_59a629733b554ef7b67cdb0ba8ef66cb",
       "step": null,
       "style": "IPY_MODEL_b3d5d37185df404789f8caea26744170",
       "value": 33.8
      }
     },
     "f3c72fec5e2b491482e2c84676bb7432": {
      "model_module": "@jupyter-widgets/controls",
      "model_module_version": "1.4.0",
      "model_name": "HBoxModel",
      "state": {
       "children": [
        "IPY_MODEL_48f7e4b0ce21452ea84b6695edbe8db9"
       ],
       "layout": "IPY_MODEL_a478b4edfd4140efa34f1ab302ba36ce"
      }
     },
     "f41995e359664295b24f04f77f63e726": {
      "model_module": "@jupyter-widgets/controls",
      "model_module_version": "1.4.0",
      "model_name": "ButtonModel",
      "state": {
       "description": "Run algorithm",
       "layout": "IPY_MODEL_fd32494339df45a98eeb6ca838b0b437",
       "style": "IPY_MODEL_8409e6ff955b4e7692a779d4e2acbf79"
      }
     },
     "f47e49e3a81e43c3a2b80f563dd3e9b8": {
      "model_module": "@jupyter-widgets/controls",
      "model_module_version": "1.4.0",
      "model_name": "HBoxModel",
      "state": {
       "children": [
        "IPY_MODEL_67c8680b1faa45c6b0009a617e714ff4",
        "IPY_MODEL_964b69c23a4840d8818ff9a4e35c8dea"
       ],
       "layout": "IPY_MODEL_16b1bb1f02204350be66ae9d13b06373"
      }
     },
     "f48f7fb51cad43a49491a5feffa16763": {
      "model_module": "@jupyter-widgets/base",
      "model_module_version": "1.1.0",
      "model_name": "LayoutModel",
      "state": {}
     },
     "f4a17c8dddd44b3fb9a620c7082f6159": {
      "model_module": "@jupyter-widgets/controls",
      "model_module_version": "1.4.0",
      "model_name": "ButtonStyleModel",
      "state": {}
     },
     "f4b8b05d8e6a43a18f4c2ba5f809d3d5": {
      "model_module": "@jupyter-widgets/base",
      "model_module_version": "1.1.0",
      "model_name": "LayoutModel",
      "state": {}
     },
     "f4e8f4ca27c2480e9a70f366477d36a9": {
      "model_module": "@jupyter-widgets/base",
      "model_module_version": "1.1.0",
      "model_name": "LayoutModel",
      "state": {}
     },
     "f5016a36482c415d9910603defdce2cd": {
      "model_module": "@jupyter-widgets/base",
      "model_module_version": "1.1.0",
      "model_name": "LayoutModel",
      "state": {}
     },
     "f5098ffd3b2246979c226cd9109c0920": {
      "model_module": "@jupyter-widgets/base",
      "model_module_version": "1.1.0",
      "model_name": "LayoutModel",
      "state": {}
     },
     "f51c0bbb8b23476290e85db1c4d87651": {
      "model_module": "@jupyter-widgets/controls",
      "model_module_version": "1.4.0",
      "model_name": "VBoxModel",
      "state": {
       "children": [
        "IPY_MODEL_c0f3cefa349e40808b7ae8ea1b4863b3",
        "IPY_MODEL_74fa62233d294470a78588b4ac6546fe"
       ],
       "layout": "IPY_MODEL_6ac17f17b5ee489a8018d5cf8ded52fc"
      }
     },
     "f54983c45c54475a9b9dbac60ba7aace": {
      "model_module": "@jupyter-widgets/base",
      "model_module_version": "1.1.0",
      "model_name": "LayoutModel",
      "state": {}
     },
     "f566dddb4d9a4df183aa772501c33cbc": {
      "model_module": "@jupyter-widgets/base",
      "model_module_version": "1.1.0",
      "model_name": "LayoutModel",
      "state": {}
     },
     "f567a34e5f5547f884e69f98f9154173": {
      "model_module": "@jupyter-widgets/base",
      "model_module_version": "1.1.0",
      "model_name": "LayoutModel",
      "state": {}
     },
     "f574f21bd459470e9b3b07f7b09bebb8": {
      "model_module": "@jupyter-widgets/controls",
      "model_module_version": "1.4.0",
      "model_name": "VBoxModel",
      "state": {
       "children": [
        "IPY_MODEL_bb6ee94f09bc41868669643b2bf2b5d2",
        "IPY_MODEL_786274f2f6314804b8db306ee42091a3"
       ],
       "layout": "IPY_MODEL_426fba104f474b9abd3045e7b83d8585"
      }
     },
     "f5c73a4085534036b1b15c034841bcbd": {
      "model_module": "@jupyter-widgets/base",
      "model_module_version": "1.1.0",
      "model_name": "LayoutModel",
      "state": {}
     },
     "f5c9e6c795b64d738ee1aa4270c3bed4": {
      "model_module": "@jupyter-widgets/base",
      "model_module_version": "1.1.0",
      "model_name": "LayoutModel",
      "state": {}
     },
     "f5da0eab7d13429faa0398c38abe1ccf": {
      "model_module": "@jupyter-widgets/base",
      "model_module_version": "1.1.0",
      "model_name": "LayoutModel",
      "state": {}
     },
     "f61d435117d74573bc3d4630b0f84dba": {
      "model_module": "@jupyter-widgets/controls",
      "model_module_version": "1.4.0",
      "model_name": "FloatTextModel",
      "state": {
       "description": "$Thrombocytes (nl)$",
       "layout": "IPY_MODEL_6aa051bb5d2945cf9bb8a40bb9b60502",
       "step": null,
       "style": "IPY_MODEL_82ac9db234974c4b90324eaeda02ddeb",
       "value": "nan"
      }
     },
     "f64df9559ab84e94b919f3fe92d6e425": {
      "model_module": "@jupyter-widgets/base",
      "model_module_version": "1.1.0",
      "model_name": "LayoutModel",
      "state": {}
     },
     "f681395b5d494aeb9fe0a567b1b8a479": {
      "model_module": "@jupyter-widgets/base",
      "model_module_version": "1.1.0",
      "model_name": "LayoutModel",
      "state": {}
     },
     "f6ae0d3b8a7448cf9197ff4e4f1683d9": {
      "model_module": "@jupyter-widgets/output",
      "model_module_version": "1.0.0",
      "model_name": "OutputModel",
      "state": {
       "layout": "IPY_MODEL_dd449866efcc4a3c82b4c1e61e52e499"
      }
     },
     "f6d2e2b167a64325bc9b7c501c69c0fe": {
      "model_module": "@jupyter-widgets/base",
      "model_module_version": "1.1.0",
      "model_name": "LayoutModel",
      "state": {}
     },
     "f6f6dd7217614c368e3a2e5eb4e44862": {
      "model_module": "@jupyter-widgets/controls",
      "model_module_version": "1.4.0",
      "model_name": "HBoxModel",
      "state": {
       "children": [
        "IPY_MODEL_98bb9deffb8947338c0fb48002b1a801",
        "IPY_MODEL_2572e3b99e0149b5ae8a7799e245a35c"
       ],
       "layout": "IPY_MODEL_7f3405d14e294b4dab2105066b9d14d3"
      }
     },
     "f7056c7f3e4b46b79c67256346dfad2f": {
      "model_module": "@jupyter-widgets/controls",
      "model_module_version": "1.4.0",
      "model_name": "ButtonModel",
      "state": {
       "description": "Run algorithm",
       "layout": "IPY_MODEL_7c42b1aa7c794ba2b2bc7cc2157f664d",
       "style": "IPY_MODEL_07224a68cba54976b47f03d46bc5fe4f"
      }
     },
     "f757583bd9924e0384af70b6b06ebf10": {
      "model_module": "@jupyter-widgets/base",
      "model_module_version": "1.1.0",
      "model_name": "LayoutModel",
      "state": {}
     },
     "f7cc4044dd7b4d1584df57a03e036410": {
      "model_module": "@jupyter-widgets/base",
      "model_module_version": "1.1.0",
      "model_name": "LayoutModel",
      "state": {}
     },
     "f7f032625d3c4fcebadb4da611a0ed37": {
      "model_module": "@jupyter-widgets/controls",
      "model_module_version": "1.4.0",
      "model_name": "HBoxModel",
      "state": {
       "children": [
        "IPY_MODEL_8e784ac08a1641428e78b1b2f8db525e",
        "IPY_MODEL_a92a8a624ffb40739df39808d89afbe3"
       ],
       "layout": "IPY_MODEL_a643f840d90d49858edfbc0c36d675d7"
      }
     },
     "f802a6fbf1d2439f97c689a0081cfc6a": {
      "model_module": "@jupyter-widgets/base",
      "model_module_version": "1.1.0",
      "model_name": "LayoutModel",
      "state": {}
     },
     "f85438f396114714b911210587ab0a83": {
      "model_module": "@jupyter-widgets/controls",
      "model_module_version": "1.4.0",
      "model_name": "ButtonModel",
      "state": {
       "description": "Run algorithm",
       "layout": "IPY_MODEL_4b963ebeda5d4d35845f07e143218183",
       "style": "IPY_MODEL_f4a17c8dddd44b3fb9a620c7082f6159"
      }
     },
     "f8a18fcf151742288816a077142bcb06": {
      "model_module": "@jupyter-widgets/controls",
      "model_module_version": "1.4.0",
      "model_name": "ToggleButtonsStyleModel",
      "state": {
       "button_width": "",
       "description_width": ""
      }
     },
     "f8ac9c4574c84f27a99bfdf74eeca686": {
      "model_module": "@jupyter-widgets/base",
      "model_module_version": "1.1.0",
      "model_name": "LayoutModel",
      "state": {}
     },
     "f8c7ccd451f64619bbd9398af759f4db": {
      "model_module": "@jupyter-widgets/base",
      "model_module_version": "1.1.0",
      "model_name": "LayoutModel",
      "state": {}
     },
     "f8d04adf33bd4419be428201286c2038": {
      "model_module": "@jupyter-widgets/base",
      "model_module_version": "1.1.0",
      "model_name": "LayoutModel",
      "state": {}
     },
     "f8dfe639e0124489982ce356a2d1a933": {
      "model_module": "@jupyter-widgets/controls",
      "model_module_version": "1.4.0",
      "model_name": "FloatTextModel",
      "state": {
       "description": "$A10_{Extem} (mm)$",
       "layout": "IPY_MODEL_76bcc30cd1b0403cb2b21adb11fc2fcf",
       "step": null,
       "style": "IPY_MODEL_3dbe47b4fb9049739a614f1546b18200",
       "value": "nan"
      }
     },
     "f8e0454374124352b93122e9d9d6de9a": {
      "model_module": "@jupyter-widgets/base",
      "model_module_version": "1.1.0",
      "model_name": "LayoutModel",
      "state": {}
     },
     "f8e54083181b4ce1823f83618a92b588": {
      "model_module": "@jupyter-widgets/base",
      "model_module_version": "1.1.0",
      "model_name": "LayoutModel",
      "state": {}
     },
     "f8edb14dcf0846168bd99dc368825806": {
      "model_module": "@jupyter-widgets/controls",
      "model_module_version": "1.4.0",
      "model_name": "VBoxModel",
      "state": {
       "children": [
        "IPY_MODEL_3858063a73e54a17a9183d293d46b8e6",
        "IPY_MODEL_8a22497db4894c05a8094b7cf143a658"
       ],
       "layout": "IPY_MODEL_5958ce1057c5484689fb7199c0a0e3de"
      }
     },
     "f92c59c5a653427a8a58b48b94276138": {
      "model_module": "@jupyter-widgets/controls",
      "model_module_version": "1.4.0",
      "model_name": "VBoxModel",
      "state": {
       "_dom_classes": [
        "widget-interact"
       ],
       "children": [
        "IPY_MODEL_467abf0c84b746629cc02d043f510b3b",
        "IPY_MODEL_f03c702063304900a21b86a1cfc1bc6a",
        "IPY_MODEL_ff2acae77452485ab84e18b41091ce82",
        "IPY_MODEL_85f59b8ac04841dfaa02b062d28f402e",
        "IPY_MODEL_3dc6b39299cb45bd85928756dfe5f459",
        "IPY_MODEL_68d6a562e1904abab58ed04cfe99b19c",
        "IPY_MODEL_8fff40f93750435aa3ec486f0250c736",
        "IPY_MODEL_c1578d17cde34390a10ea30c137e9f27",
        "IPY_MODEL_583c9e86be7d49f3b6ac4cb767e1e688",
        "IPY_MODEL_aa07063666e443dc97ea0bba6dfee03b",
        "IPY_MODEL_d64ebb419a7d4757b8a3499a0e4c07ab",
        "IPY_MODEL_88ba9983c9f2410d9513f064b2bd0a4e",
        "IPY_MODEL_4732a9d1bbf74747993edc5f3be4b325",
        "IPY_MODEL_6a94faccf3c34e84820a75d4ac624fa2",
        "IPY_MODEL_dc8b693a0380475a9521504abae7880f",
        "IPY_MODEL_b4a8c7ebb21e49a9a0f83ca55fe021f1"
       ],
       "layout": "IPY_MODEL_b48970bdff7e477b8112dd5e8daeca19"
      }
     },
     "f934b42896c24807b94af25e4c8e778c": {
      "model_module": "@jupyter-widgets/controls",
      "model_module_version": "1.4.0",
      "model_name": "HBoxModel",
      "state": {
       "children": [
        "IPY_MODEL_dc15247117764fa18e0f32c5e4c77baf",
        "IPY_MODEL_73c21c0d8fa5487c9396ed115367f348"
       ],
       "layout": "IPY_MODEL_9ea31faba1714fa68e9bb3b1c924a719"
      }
     },
     "f94d12995bbc4e83b0c782501dee4eb9": {
      "model_module": "@jupyter-widgets/base",
      "model_module_version": "1.1.0",
      "model_name": "LayoutModel",
      "state": {}
     },
     "f9561ffdc4844f3d98c4e0bb942fb766": {
      "model_module": "@jupyter-widgets/controls",
      "model_module_version": "1.4.0",
      "model_name": "VBoxModel",
      "state": {
       "children": [
        "IPY_MODEL_33afde2c50854147adfb106282c7fe56",
        "IPY_MODEL_a583f025e00947f8a09997ddd396ba45"
       ],
       "layout": "IPY_MODEL_21ac48633dec43ed8a763daca0933dc9"
      }
     },
     "f986195f6b154e87b074596f0f0fc392": {
      "model_module": "@jupyter-widgets/controls",
      "model_module_version": "1.4.0",
      "model_name": "VBoxModel",
      "state": {
       "_dom_classes": [
        "widget-interact"
       ],
       "children": [
        "IPY_MODEL_7cdaba6e204f4851840686529a909bcb",
        "IPY_MODEL_7ef3128732c740489c12676a641771b5",
        "IPY_MODEL_a5dca370b6d74dc68f5841371e0d831f"
       ],
       "layout": "IPY_MODEL_d0fa53f258324e37810556a4f6082812"
      }
     },
     "f9b32471cfba4378a2e08d2338da8890": {
      "model_module": "@jupyter-widgets/controls",
      "model_module_version": "1.4.0",
      "model_name": "ButtonModel",
      "state": {
       "description": "Run algorithm",
       "layout": "IPY_MODEL_38bcbada17ec4c90936a23bc58f5564c",
       "style": "IPY_MODEL_3e3c7fd8c3e44277ab82e309f95dc03c"
      }
     },
     "f9b8c8d7bf9a4d389019a2605830b007": {
      "model_module": "@jupyter-widgets/base",
      "model_module_version": "1.1.0",
      "model_name": "LayoutModel",
      "state": {}
     },
     "f9bcdac7c919454eb83127caf96cf51c": {
      "model_module": "@jupyter-widgets/base",
      "model_module_version": "1.1.0",
      "model_name": "LayoutModel",
      "state": {}
     },
     "f9d5d34d815e4e2c976a353fff41a997": {
      "model_module": "@jupyter-widgets/base",
      "model_module_version": "1.1.0",
      "model_name": "LayoutModel",
      "state": {}
     },
     "f9ef6ae2b71a4a5c890e8244bde3a1ef": {
      "model_module": "@jupyter-widgets/controls",
      "model_module_version": "1.4.0",
      "model_name": "VBoxModel",
      "state": {
       "_dom_classes": [
        "widget-interact"
       ],
       "children": [
        "IPY_MODEL_7cdaba6e204f4851840686529a909bcb",
        "IPY_MODEL_7ef3128732c740489c12676a641771b5",
        "IPY_MODEL_de835ce7a6ce4e9697b2234ab5f61e16"
       ],
       "layout": "IPY_MODEL_fbbb9fd587d9495e9d3df693960fd61f"
      }
     },
     "fa175970ad78460b864c54240b9e0651": {
      "model_module": "@jupyter-widgets/controls",
      "model_module_version": "1.4.0",
      "model_name": "VBoxModel",
      "state": {
       "_dom_classes": [
        "widget-interact"
       ],
       "children": [
        "IPY_MODEL_7cdaba6e204f4851840686529a909bcb",
        "IPY_MODEL_7ef3128732c740489c12676a641771b5",
        "IPY_MODEL_9a9bf6e978174141a6865a3c9e757aab"
       ],
       "layout": "IPY_MODEL_ba79155350f44bb998f66726c734d66c"
      }
     },
     "fa3ec5f57431493995d175899a72523f": {
      "model_module": "@jupyter-widgets/controls",
      "model_module_version": "1.4.0",
      "model_name": "DescriptionStyleModel",
      "state": {
       "description_width": "initial"
      }
     },
     "fa81c1d37de04b5195edb45613f69229": {
      "model_module": "@jupyter-widgets/controls",
      "model_module_version": "1.4.0",
      "model_name": "DescriptionStyleModel",
      "state": {
       "description_width": "initial"
      }
     },
     "fa83d420785c423b9b42672aea0a6415": {
      "model_module": "@jupyter-widgets/controls",
      "model_module_version": "1.4.0",
      "model_name": "HBoxModel",
      "state": {
       "children": [
        "IPY_MODEL_d14344d862e4405f9d54c98d5fbbd07c",
        "IPY_MODEL_81c1ae47e44f4c8e98ebcf74a87cadaf"
       ],
       "layout": "IPY_MODEL_ba9095cb1d194a9c835de948f114c50e"
      }
     },
     "fab07a6360bd414e84af87c98e48f7ba": {
      "model_module": "@jupyter-widgets/base",
      "model_module_version": "1.1.0",
      "model_name": "LayoutModel",
      "state": {}
     },
     "faea179e3ddf49128a5791f0c0e3b741": {
      "model_module": "@jupyter-widgets/controls",
      "model_module_version": "1.4.0",
      "model_name": "HBoxModel",
      "state": {
       "children": [
        "IPY_MODEL_ad89d7f0745047189685622953aa57d9",
        "IPY_MODEL_074b9488368c4ba090735579df08f2d6"
       ],
       "layout": "IPY_MODEL_a8857b337f2542069da975450902b29d"
      }
     },
     "fb00747bf58d4c319e4dcec438519f30": {
      "model_module": "@jupyter-widgets/base",
      "model_module_version": "1.1.0",
      "model_name": "LayoutModel",
      "state": {}
     },
     "fb058af3bc9944168edf5d49ff5d254e": {
      "model_module": "@jupyter-widgets/base",
      "model_module_version": "1.1.0",
      "model_name": "LayoutModel",
      "state": {}
     },
     "fb0ba7a547ae4f6eac2c60ad3ab699f3": {
      "model_module": "@jupyter-widgets/base",
      "model_module_version": "1.1.0",
      "model_name": "LayoutModel",
      "state": {}
     },
     "fb2774efdea74434863e60ad339fbd55": {
      "model_module": "@jupyter-widgets/controls",
      "model_module_version": "1.4.0",
      "model_name": "DescriptionStyleModel",
      "state": {
       "description_width": "initial"
      }
     },
     "fb4be842a35d429bbdc20187508cb8b5": {
      "model_module": "@jupyter-widgets/controls",
      "model_module_version": "1.4.0",
      "model_name": "VBoxModel",
      "state": {
       "children": [
        "IPY_MODEL_c1578d17cde34390a10ea30c137e9f27",
        "IPY_MODEL_583c9e86be7d49f3b6ac4cb767e1e688",
        "IPY_MODEL_aa07063666e443dc97ea0bba6dfee03b",
        "IPY_MODEL_d64ebb419a7d4757b8a3499a0e4c07ab",
        "IPY_MODEL_88ba9983c9f2410d9513f064b2bd0a4e",
        "IPY_MODEL_4732a9d1bbf74747993edc5f3be4b325",
        "IPY_MODEL_6a94faccf3c34e84820a75d4ac624fa2",
        "IPY_MODEL_dc8b693a0380475a9521504abae7880f"
       ],
       "layout": "IPY_MODEL_ef085c391fca4f6aaf4ac3fa3c0c4815"
      }
     },
     "fb8a7e94ab754a7eaefcb69955805cbb": {
      "model_module": "@jupyter-widgets/base",
      "model_module_version": "1.1.0",
      "model_name": "LayoutModel",
      "state": {}
     },
     "fb8a9950c28145c09176c126baf0a808": {
      "model_module": "@jupyter-widgets/controls",
      "model_module_version": "1.4.0",
      "model_name": "HBoxModel",
      "state": {
       "children": [
        "IPY_MODEL_907612bae21045cfa7ae27fdc0978476",
        "IPY_MODEL_158d989f5b3c4a4ab516b083b95efedf"
       ],
       "layout": "IPY_MODEL_14fa0743109244ccbeed833de0791e2b"
      }
     },
     "fb8ac63877104d7c88fa2f5ffdf2fcc2": {
      "model_module": "@jupyter-widgets/base",
      "model_module_version": "1.1.0",
      "model_name": "LayoutModel",
      "state": {}
     },
     "fb90ad9aeaf544b695bab0cd43449888": {
      "model_module": "@jupyter-widgets/controls",
      "model_module_version": "1.4.0",
      "model_name": "DescriptionStyleModel",
      "state": {
       "description_width": "initial"
      }
     },
     "fbbb9fd587d9495e9d3df693960fd61f": {
      "model_module": "@jupyter-widgets/base",
      "model_module_version": "1.1.0",
      "model_name": "LayoutModel",
      "state": {}
     },
     "fbbcbe356e0e4bd0ac651b385c9fd0f1": {
      "model_module": "@jupyter-widgets/base",
      "model_module_version": "1.1.0",
      "model_name": "LayoutModel",
      "state": {}
     },
     "fbc4ba7613e4495f935c278cbc7efeb2": {
      "model_module": "@jupyter-widgets/base",
      "model_module_version": "1.1.0",
      "model_name": "LayoutModel",
      "state": {}
     },
     "fbf15979c7eb402eb541097ac40229ec": {
      "model_module": "@jupyter-widgets/base",
      "model_module_version": "1.1.0",
      "model_name": "LayoutModel",
      "state": {}
     },
     "fbfb3298fbf34637ad51d3a64bd429d4": {
      "model_module": "@jupyter-widgets/base",
      "model_module_version": "1.1.0",
      "model_name": "LayoutModel",
      "state": {}
     },
     "fc5fc00327df431da5dee5ff0486f89c": {
      "model_module": "@jupyter-widgets/base",
      "model_module_version": "1.1.0",
      "model_name": "LayoutModel",
      "state": {}
     },
     "fc8eac7006df4947a79699a0a937b135": {
      "model_module": "@jupyter-widgets/base",
      "model_module_version": "1.1.0",
      "model_name": "LayoutModel",
      "state": {}
     },
     "fccb27892aef4e56a1fa78e779c73547": {
      "model_module": "@jupyter-widgets/base",
      "model_module_version": "1.1.0",
      "model_name": "LayoutModel",
      "state": {}
     },
     "fd1dda8dede54a76b98f40408be07fdc": {
      "model_module": "@jupyter-widgets/controls",
      "model_module_version": "1.4.0",
      "model_name": "VBoxModel",
      "state": {
       "children": [
        "IPY_MODEL_c1578d17cde34390a10ea30c137e9f27",
        "IPY_MODEL_583c9e86be7d49f3b6ac4cb767e1e688",
        "IPY_MODEL_aa07063666e443dc97ea0bba6dfee03b",
        "IPY_MODEL_d64ebb419a7d4757b8a3499a0e4c07ab",
        "IPY_MODEL_88ba9983c9f2410d9513f064b2bd0a4e",
        "IPY_MODEL_4732a9d1bbf74747993edc5f3be4b325",
        "IPY_MODEL_6a94faccf3c34e84820a75d4ac624fa2",
        "IPY_MODEL_dc8b693a0380475a9521504abae7880f"
       ],
       "layout": "IPY_MODEL_7fba697ca65747e5a8abc94ff02f6265"
      }
     },
     "fd30ba8b890b496d9f3c41cf6b7b40d4": {
      "model_module": "@jupyter-widgets/base",
      "model_module_version": "1.1.0",
      "model_name": "LayoutModel",
      "state": {}
     },
     "fd32494339df45a98eeb6ca838b0b437": {
      "model_module": "@jupyter-widgets/base",
      "model_module_version": "1.1.0",
      "model_name": "LayoutModel",
      "state": {}
     },
     "fd4574bda58b487e8d85bcf08ed4d587": {
      "model_module": "@jupyter-widgets/base",
      "model_module_version": "1.1.0",
      "model_name": "LayoutModel",
      "state": {}
     },
     "fd8b15012f9b482aa256d3c9464c3b4a": {
      "model_module": "@jupyter-widgets/base",
      "model_module_version": "1.1.0",
      "model_name": "LayoutModel",
      "state": {}
     },
     "fdc6030091a643ab898ef5fdad6c5aa6": {
      "model_module": "@jupyter-widgets/base",
      "model_module_version": "1.1.0",
      "model_name": "LayoutModel",
      "state": {}
     },
     "fdcca182a4fe48979c3a0cd8a9ce8401": {
      "model_module": "@jupyter-widgets/controls",
      "model_module_version": "1.4.0",
      "model_name": "AccordionModel",
      "state": {
       "_titles": {
        "0": "Procedure",
        "1": "Parameters"
       },
       "children": [
        "IPY_MODEL_db27248ee9fe449da60acf3270bd8ea6",
        "IPY_MODEL_633bccebe68a4c839f25497890521f72"
       ],
       "layout": "IPY_MODEL_7f741616e1994b2680839ce4cf6a1f0a",
       "selected_index": 1
      }
     },
     "fdf014651cba4cc8b5963b3d9812b778": {
      "model_module": "@jupyter-widgets/controls",
      "model_module_version": "1.4.0",
      "model_name": "DescriptionStyleModel",
      "state": {
       "description_width": "initial"
      }
     },
     "fdffbff461ad4a18bb5aecf58db72d9c": {
      "model_module": "@jupyter-widgets/base",
      "model_module_version": "1.1.0",
      "model_name": "LayoutModel",
      "state": {}
     },
     "fe07e9dfebce43248b11613f23c7c01e": {
      "model_module": "@jupyter-widgets/base",
      "model_module_version": "1.1.0",
      "model_name": "LayoutModel",
      "state": {}
     },
     "fe34b3f09f9f4d62aaa8120a13f1491c": {
      "model_module": "@jupyter-widgets/base",
      "model_module_version": "1.1.0",
      "model_name": "LayoutModel",
      "state": {}
     },
     "fe3962db6788445c9108984b38fb62d7": {
      "model_module": "@jupyter-widgets/base",
      "model_module_version": "1.1.0",
      "model_name": "LayoutModel",
      "state": {}
     },
     "fe864dafe63d45a0a239a110bb50aa1c": {
      "model_module": "@jupyter-widgets/controls",
      "model_module_version": "1.4.0",
      "model_name": "VBoxModel",
      "state": {
       "children": [
        "IPY_MODEL_76ef3d46728947aab88c3a5833b14a48",
        "IPY_MODEL_4decc39f61b847de85959682d085f7dc"
       ],
       "layout": "IPY_MODEL_9499f3a57e1b4541bce597150a5f40a7"
      }
     },
     "feb58b58759a4580a9e678c9f7da5b1b": {
      "model_module": "@jupyter-widgets/controls",
      "model_module_version": "1.4.0",
      "model_name": "DescriptionStyleModel",
      "state": {
       "description_width": "initial"
      }
     },
     "fee812f18b0a4eae8d4c667a171a58ab": {
      "model_module": "@jupyter-widgets/controls",
      "model_module_version": "1.4.0",
      "model_name": "VBoxModel",
      "state": {
       "children": [
        "IPY_MODEL_7cdaba6e204f4851840686529a909bcb",
        "IPY_MODEL_7ef3128732c740489c12676a641771b5"
       ],
       "layout": "IPY_MODEL_43947aee668a4f17bf0a2d7f723defea"
      }
     },
     "fef057506db944da84f49535490d1451": {
      "model_module": "@jupyter-widgets/controls",
      "model_module_version": "1.4.0",
      "model_name": "VBoxModel",
      "state": {
       "_dom_classes": [
        "widget-interact"
       ],
       "children": [
        "IPY_MODEL_7cdaba6e204f4851840686529a909bcb",
        "IPY_MODEL_7ef3128732c740489c12676a641771b5",
        "IPY_MODEL_f6ae0d3b8a7448cf9197ff4e4f1683d9"
       ],
       "layout": "IPY_MODEL_97141ca4b2a14e51a3fac5116f8694b6"
      }
     },
     "ff27f623e50d4cb1ba4609a1f71ab20a": {
      "model_module": "@jupyter-widgets/base",
      "model_module_version": "1.1.0",
      "model_name": "LayoutModel",
      "state": {}
     },
     "ff2acae77452485ab84e18b41091ce82": {
      "model_module": "@jupyter-widgets/controls",
      "model_module_version": "1.4.0",
      "model_name": "FloatTextModel",
      "state": {
       "description": "$MEA_{TRAP} (U)$",
       "layout": "IPY_MODEL_c0561350ce134538be6438a0dd204870",
       "step": null,
       "style": "IPY_MODEL_3a853c9d5c9c4174a9e8e331bc15ad13",
       "value": 50
      }
     },
     "ff40768c407a4c2fabb76e709b747646": {
      "model_module": "@jupyter-widgets/controls",
      "model_module_version": "1.4.0",
      "model_name": "ButtonModel",
      "state": {
       "description": "Run algorithm",
       "layout": "IPY_MODEL_905a558dc9ce44da99e1c22e8e20d44a",
       "style": "IPY_MODEL_1a800ee22f1746d8ba120ac2b3ef2cc8"
      }
     },
     "ff729d6e19a64c2d980e93e3d5eff8e0": {
      "model_module": "@jupyter-widgets/base",
      "model_module_version": "1.1.0",
      "model_name": "LayoutModel",
      "state": {}
     },
     "ff8ffed3c2a64f44ba336532d42f7cad": {
      "model_module": "@jupyter-widgets/controls",
      "model_module_version": "1.4.0",
      "model_name": "VBoxModel",
      "state": {
       "children": [
        "IPY_MODEL_7cdaba6e204f4851840686529a909bcb",
        "IPY_MODEL_7ef3128732c740489c12676a641771b5"
       ],
       "layout": "IPY_MODEL_d9e1d3cc42f1437ca28dcda82c075c7d"
      }
     },
     "ff95d2463b3e4bb2aff668c03dd0007b": {
      "model_module": "@jupyter-widgets/controls",
      "model_module_version": "1.4.0",
      "model_name": "FloatTextModel",
      "state": {
       "description": "$A10_{Heptem} (mm)$",
       "layout": "IPY_MODEL_15438d7091a6414b83ad91fb490d6e34",
       "step": null,
       "style": "IPY_MODEL_28c868e5f4dc4a2eb530df745088aa8e",
       "value": "nan"
      }
     },
     "ff9e997e093741ab879ebaf7c8de1ed7": {
      "model_module": "@jupyter-widgets/base",
      "model_module_version": "1.1.0",
      "model_name": "LayoutModel",
      "state": {}
     },
     "ffafe616b549447db46f152935150765": {
      "model_module": "@jupyter-widgets/controls",
      "model_module_version": "1.4.0",
      "model_name": "VBoxModel",
      "state": {
       "_dom_classes": [
        "widget-interact"
       ],
       "children": [
        "IPY_MODEL_467abf0c84b746629cc02d043f510b3b",
        "IPY_MODEL_f03c702063304900a21b86a1cfc1bc6a",
        "IPY_MODEL_ff2acae77452485ab84e18b41091ce82",
        "IPY_MODEL_85f59b8ac04841dfaa02b062d28f402e",
        "IPY_MODEL_3dc6b39299cb45bd85928756dfe5f459",
        "IPY_MODEL_68d6a562e1904abab58ed04cfe99b19c",
        "IPY_MODEL_8fff40f93750435aa3ec486f0250c736",
        "IPY_MODEL_c1578d17cde34390a10ea30c137e9f27",
        "IPY_MODEL_583c9e86be7d49f3b6ac4cb767e1e688",
        "IPY_MODEL_aa07063666e443dc97ea0bba6dfee03b",
        "IPY_MODEL_d64ebb419a7d4757b8a3499a0e4c07ab",
        "IPY_MODEL_88ba9983c9f2410d9513f064b2bd0a4e",
        "IPY_MODEL_4732a9d1bbf74747993edc5f3be4b325",
        "IPY_MODEL_6a94faccf3c34e84820a75d4ac624fa2",
        "IPY_MODEL_dc8b693a0380475a9521504abae7880f",
        "IPY_MODEL_98471796411f4e7992ef14f1b9ab3791"
       ],
       "layout": "IPY_MODEL_f6d2e2b167a64325bc9b7c501c69c0fe"
      }
     },
     "ffbb5014f8d24d959b22aa1fc9860b78": {
      "model_module": "@jupyter-widgets/controls",
      "model_module_version": "1.4.0",
      "model_name": "VBoxModel",
      "state": {
       "_dom_classes": [
        "widget-interact"
       ],
       "children": [
        "IPY_MODEL_913ebadc462449048307c24a469389ca",
        "IPY_MODEL_d5f89cfae2c44d22abeda2a682d0fbe0",
        "IPY_MODEL_c1f3554aa43a4d5d9e3a09c1076fc02b"
       ],
       "layout": "IPY_MODEL_ee87e39d3f8f41ddaa92ea0411c1e615"
      }
     },
     "ffd932e6e4c542a28a993db0972438f1": {
      "model_module": "@jupyter-widgets/controls",
      "model_module_version": "1.4.0",
      "model_name": "VBoxModel",
      "state": {
       "children": [
        "IPY_MODEL_36cc42aea13a4d2a8fea533b05971d3e",
        "IPY_MODEL_bc88a412961d444a94d59d33c5a74dda"
       ],
       "layout": "IPY_MODEL_4d0f2ddde1c742bbb97e2565974625eb"
      }
     }
    },
    "version_major": 2,
    "version_minor": 0
   }
  }
 },
 "nbformat": 4,
 "nbformat_minor": 2
}
